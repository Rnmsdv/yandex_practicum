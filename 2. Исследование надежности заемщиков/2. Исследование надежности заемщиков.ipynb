{
 "cells": [
  {
   "cell_type": "markdown",
   "metadata": {},
   "source": [
    "# Исследование надежности клиентов, подавших заявку на кредит"
   ]
  },
  {
   "cell_type": "markdown",
   "metadata": {},
   "source": [
    "# Описание проекта\n",
    "\n",
    "- Заказчик проекта — отдел банка, отвечающий за выдачу кредитов. \n",
    "\n",
    "- Задача проекта — выяснить, как влияет семейное положение и количество детей заемщика на возврат кредита в установленные сроки. На результатах исследования будет основана модель кредитного скоринга, которая позволит оценить, сможет ли возможный клиент погасить выданный кредит банку."
   ]
  },
  {
   "cell_type": "markdown",
   "metadata": {},
   "source": [
    "# Описание данных\n",
    "\n",
    "Исследование основано на внутренней статистике банка о платежеспособности клиентов. \n",
    "\n",
    "Данные выданы в csv-файле. Датасет включает следующие поля:\n",
    "\n",
    "- children — количество детей\n",
    "- days_employed — суммарный трудовой стаж, в днях\n",
    "- dob_years — возраст заемщмка, в годах\n",
    "- education — образование клиента\n",
    "- education_id — уникальный идентификатор уровня образования\n",
    "- family_status — семейное положение\n",
    "- family_status_id — уникальный идентификатор семейного положения\n",
    "- gender — пол клиента\n",
    "- income_type — тип занятости\n",
    "- debt — наличие задолженности по возврату кредитов\n",
    "- total_income — суммарный ежемесячный доход\n",
    "- purpose — цель получения кредита"
   ]
  },
  {
   "cell_type": "markdown",
   "metadata": {},
   "source": [
    "# Содержание проекта"
   ]
  },
  {
   "cell_type": "markdown",
   "metadata": {},
   "source": [
    "1. [Шаг 1. Загрузка датасета и подготовка его к анализу](#start)\n",
    "    * [Выводы:](#start_total)\n",
    "2. [Шаг 2. Предобработка данных.](#preprocessing)\n",
    "    * [Обработка пропусков](#null)\n",
    "        * [Обработка пропусков. Выводы:](#null_total)\n",
    "    * [Замена типа данных](#float_to_int)\n",
    "        * [Замена типа данных. Выводы:](#float_to_int_total)\n",
    "    * [Обработка дубликатов](#duplicates)\n",
    "        * [Обработка дубликатов. Выводы:](#duplicates_total)\n",
    "    * [Лемматизация](#lemmas)\n",
    "        * [Лемматизация. Выводы:](#lemmas_total)\n",
    "    * [Категоризация данных](#category)\n",
    "        * [Категоризация данных. Выводы:](#category_total)\n",
    "3. [Шаг 3. Ответы на вопросы](#answers)\n",
    "4. [Шаг 4. Общий вывод](#total)"
   ]
  },
  {
   "cell_type": "markdown",
   "metadata": {},
   "source": [
    "### Шаг 1. Загрузка датасета и подготовка его к анализу<a id=\"start\"></a>"
   ]
  },
  {
   "cell_type": "code",
   "execution_count": 1,
   "metadata": {},
   "outputs": [],
   "source": [
    "# <импорт библиотеки pandas>\n",
    "import pandas as pd"
   ]
  },
  {
   "cell_type": "code",
   "execution_count": 2,
   "metadata": {},
   "outputs": [],
   "source": [
    "research = pd.read_csv('...')\n",
    "research.head()"
   ]
  },
  {
   "cell_type": "code",
   "execution_count": 4,
   "metadata": {
    "scrolled": false
   },
   "outputs": [
    {
     "name": "stdout",
     "output_type": "stream",
     "text": [
      "<class 'pandas.core.frame.DataFrame'>\n",
      "RangeIndex: 21525 entries, 0 to 21524\n",
      "Data columns (total 12 columns):\n",
      "children            21525 non-null int64\n",
      "days_employed       19351 non-null float64\n",
      "dob_years           21525 non-null int64\n",
      "education           21525 non-null object\n",
      "education_id        21525 non-null int64\n",
      "family_status       21525 non-null object\n",
      "family_status_id    21525 non-null int64\n",
      "gender              21525 non-null object\n",
      "income_type         21525 non-null object\n",
      "debt                21525 non-null int64\n",
      "total_income        19351 non-null float64\n",
      "purpose             21525 non-null object\n",
      "dtypes: float64(2), int64(5), object(5)\n",
      "memory usage: 2.0+ MB\n"
     ]
    }
   ],
   "source": [
    "# <получение общей информации о данных в таблице>\n",
    "research.info()"
   ]
  },
  {
   "cell_type": "markdown",
   "metadata": {},
   "source": [
    "### Выводы: <a id=\"start_total\"></a>\n",
    "\n",
    "Таблица состоит из 21525 строк с дубликатами. \n",
    "Каждая строка таблицы содержит информацию о клиенте, подающем заявку на кредит. \n",
    "\n",
    "Основные проблемы, которые нужно решать: пропуски в столбцах \"days_employed\" и \"total_income\", отрицательные числа, для которых которые нужно взять модуль, слишком большие показатели в столбце \"days_employed\", дубликаты в столбце education.\n",
    "\n",
    "Для ответов на вопросы необходимы столбцы children, family_status, total_income и purpose - на них будет сделан основной упор в проекте. "
   ]
  },
  {
   "cell_type": "markdown",
   "metadata": {},
   "source": [
    "### Шаг 2. Предобработка данных. <a id=\"preprocessing\"></a>"
   ]
  },
  {
   "cell_type": "markdown",
   "metadata": {},
   "source": [
    "### Обработка пропусков <a id=\"null\"></a>"
   ]
  },
  {
   "cell_type": "markdown",
   "metadata": {},
   "source": [
    "#### Проверка на наличие пробелов в названии столбцов:"
   ]
  },
  {
   "cell_type": "code",
   "execution_count": 5,
   "metadata": {},
   "outputs": [
    {
     "data": {
      "text/plain": [
       "Index(['children', 'days_employed', 'dob_years', 'education', 'education_id',\n",
       "       'family_status', 'family_status_id', 'gender', 'income_type', 'debt',\n",
       "       'total_income', 'purpose'],\n",
       "      dtype='object')"
      ]
     },
     "execution_count": 5,
     "metadata": {},
     "output_type": "execute_result"
    }
   ],
   "source": [
    "# <перечень названий столбцов таблицы df> \n",
    "research.columns"
   ]
  },
  {
   "cell_type": "markdown",
   "metadata": {},
   "source": [
    "Пробелов в названии столбцов не обнаружено"
   ]
  },
  {
   "cell_type": "markdown",
   "metadata": {},
   "source": [
    "#### Проверка на наличие пропусков:"
   ]
  },
  {
   "cell_type": "code",
   "execution_count": 6,
   "metadata": {},
   "outputs": [
    {
     "data": {
      "text/plain": [
       "children               0\n",
       "days_employed       2174\n",
       "dob_years              0\n",
       "education              0\n",
       "education_id           0\n",
       "family_status          0\n",
       "family_status_id       0\n",
       "gender                 0\n",
       "income_type            0\n",
       "debt                   0\n",
       "total_income        2174\n",
       "purpose                0\n",
       "dtype: int64"
      ]
     },
     "execution_count": 6,
     "metadata": {},
     "output_type": "execute_result"
    }
   ],
   "source": [
    "# <суммарное количество пропусков, выявленных методом isnull() в таблице>\n",
    "research.isnull().sum()"
   ]
  },
  {
   "cell_type": "markdown",
   "metadata": {},
   "source": [
    "Обнаружены пропуски (2174 штук) в столбцах days_employed и total_income"
   ]
  },
  {
   "cell_type": "markdown",
   "metadata": {},
   "source": [
    "#### Проверка на наличие аномально больших или отрицательных значений:"
   ]
  },
  {
   "cell_type": "code",
   "execution_count": 7,
   "metadata": {},
   "outputs": [
    {
     "name": "stdout",
     "output_type": "stream",
     "text": [
      "Максимальный общий трудовой стаж:  401755.40047533\n",
      "Минимальный общий трудовой стаж:  -18388.949900568383\n",
      "\n",
      "Максимальный ежемесячный доход:  2265604.028722744\n",
      "Минимальный ежемесячный доход:  20667.26379327158\n"
     ]
    }
   ],
   "source": [
    "# < максимум и минимум столбца \"days_employed\">\n",
    "print('Максимальный общий трудовой стаж: ', research['days_employed'].max())\n",
    "print('Минимальный общий трудовой стаж: ', research['days_employed'].min())\n",
    "print()\n",
    "\n",
    "# < максимум и минимум столбца \"total_income\">\n",
    "print('Максимальный ежемесячный доход: ', research['total_income'].max())\n",
    "print('Минимальный ежемесячный доход: ', research['total_income'].min())"
   ]
  },
  {
   "cell_type": "markdown",
   "metadata": {},
   "source": [
    "Обнаружены следующие проблемы:\n",
    "1. Слишком большой трудовой стаж, который может повлиять на среднее значение столбца, поэтому берем вместо среднего - медиану\n",
    "2. Отрицательный трудовой стаж, для готорого необходимо взять модуль\n",
    "3. Пропуски в столбце total_income зависят от income_type, необходим цикл"
   ]
  },
  {
   "cell_type": "markdown",
   "metadata": {},
   "source": [
    "#### Заполнение пропусков столбца \"days_employed\""
   ]
  },
  {
   "cell_type": "code",
   "execution_count": 8,
   "metadata": {},
   "outputs": [
    {
     "name": "stdout",
     "output_type": "stream",
     "text": [
      "2194.220566878695\n",
      "<class 'pandas.core.frame.DataFrame'>\n",
      "RangeIndex: 21525 entries, 0 to 21524\n",
      "Data columns (total 12 columns):\n",
      "children            21525 non-null int64\n",
      "days_employed       21525 non-null float64\n",
      "dob_years           21525 non-null int64\n",
      "education           21525 non-null object\n",
      "education_id        21525 non-null int64\n",
      "family_status       21525 non-null object\n",
      "family_status_id    21525 non-null int64\n",
      "gender              21525 non-null object\n",
      "income_type         21525 non-null object\n",
      "debt                21525 non-null int64\n",
      "total_income        19351 non-null float64\n",
      "purpose             21525 non-null object\n",
      "dtypes: float64(2), int64(5), object(5)\n",
      "memory usage: 2.0+ MB\n"
     ]
    }
   ],
   "source": [
    "# < Берем значения по модулю, так как отрицательного стажа быть не может >\n",
    "research['days_employed'] = research['days_employed'].abs()\n",
    "\n",
    "# < Заполняем пропущенные значения на медианное значение, так как этот столбец нам не нужен для ответов на вопросы >\n",
    "research['days_employed'] = research['days_employed'].fillna(value = research['days_employed'].median())\n",
    "\n",
    "print(research['days_employed'].median())\n",
    "\n",
    "# Проверка наличия пропусков\n",
    "research.info()\n"
   ]
  },
  {
   "cell_type": "markdown",
   "metadata": {},
   "source": [
    "В столбце days_employed больше нет пропусков.\n",
    "Заполнили пропуски медианным значением, так как этот столбец не нужен для ответов на вопросы."
   ]
  },
  {
   "cell_type": "markdown",
   "metadata": {},
   "source": [
    "#### Заполнение пропусков столбца \"total_income\""
   ]
  },
  {
   "cell_type": "code",
   "execution_count": 9,
   "metadata": {},
   "outputs": [
    {
     "name": "stdout",
     "output_type": "stream",
     "text": [
      "<class 'pandas.core.frame.DataFrame'>\n",
      "RangeIndex: 21525 entries, 0 to 21524\n",
      "Data columns (total 12 columns):\n",
      "children            21525 non-null int64\n",
      "days_employed       21525 non-null float64\n",
      "dob_years           21525 non-null int64\n",
      "education           21525 non-null object\n",
      "education_id        21525 non-null int64\n",
      "family_status       21525 non-null object\n",
      "family_status_id    21525 non-null int64\n",
      "gender              21525 non-null object\n",
      "income_type         21525 non-null object\n",
      "debt                21525 non-null int64\n",
      "total_income        21525 non-null float64\n",
      "purpose             21525 non-null object\n",
      "dtypes: float64(2), int64(5), object(5)\n",
      "memory usage: 2.0+ MB\n"
     ]
    }
   ],
   "source": [
    "# < Группируем клиентов по типу дохода и выводим среднее значение по каждому типу дохода >\n",
    "# < Медиану можем не использовать, так как нет аномально больших значений по данному столбцу >\n",
    "research_groupby_income_type = research.groupby(['income_type'])['total_income'].mean()\n",
    "\n",
    "def income_type_func(row):\n",
    "    income_type = row['income_type']\n",
    "    total_income = row['total_income']\n",
    "    \n",
    "# <Создаем условие: если в столбце total_income будет значение NAN, то в него вводится среднее значение, \n",
    "# которое посчитано для конкретного типа дохода в research_groupby_income_type >\n",
    "    if pd.isna(total_income):\n",
    "        row['total_income'] = research_groupby_income_type.loc[income_type]\n",
    "    return row\n",
    "\n",
    "# < Применение метода apply() и параметра axis: со значением 1, чтобы применить метод ко всем строкам датафрейма >\n",
    "research = research.apply(income_type_func, axis = 1)\n",
    "\n",
    "# Проверка наличия пропусков\n",
    "research.info()\n"
   ]
  },
  {
   "cell_type": "markdown",
   "metadata": {},
   "source": [
    "В столбце \"total_income\" больше нет пропусков"
   ]
  },
  {
   "cell_type": "markdown",
   "metadata": {},
   "source": [
    "#### Итоговая проверка пропусков в таблице"
   ]
  },
  {
   "cell_type": "code",
   "execution_count": 10,
   "metadata": {},
   "outputs": [
    {
     "data": {
      "text/plain": [
       "children            0\n",
       "days_employed       0\n",
       "dob_years           0\n",
       "education           0\n",
       "education_id        0\n",
       "family_status       0\n",
       "family_status_id    0\n",
       "gender              0\n",
       "income_type         0\n",
       "debt                0\n",
       "total_income        0\n",
       "purpose             0\n",
       "dtype: int64"
      ]
     },
     "execution_count": 10,
     "metadata": {},
     "output_type": "execute_result"
    }
   ],
   "source": [
    "# <итоговая проверка наличия пропусков в таблице>\n",
    "research.isnull().sum()"
   ]
  },
  {
   "cell_type": "markdown",
   "metadata": {},
   "source": [
    "### Обработка пропусков. Выводы: <a id=\"null_total\"></a>"
   ]
  },
  {
   "cell_type": "markdown",
   "metadata": {},
   "source": [
    "В этой части проекта выявили пропуски в двух столбцах: days_employed и total_income:\n",
    "\n",
    "1. Пропуски в days_employed заменили на медианное значение столбца.\n",
    "2. Пропуски в total_income зависят от типа дохода income_type, поэтому составили цикл, по которому вместо значения NAN взяли среднее значение каждого из типов дохода.\n",
    "\n",
    "Заключительная проверка показала отсутствие пропусков в таблице research.\n",
    "\n",
    "Причины появления пропусков в этих столбцах:\n",
    "1. Возможной причиной появления пропусков в столбце days_employed является то, что у человека нет стажа работы.\n",
    "2. Возможной причиной появления пропусков в столбце total_income является то, что человек на данный момент не устроен на работу и не получает доход."
   ]
  },
  {
   "cell_type": "markdown",
   "metadata": {},
   "source": [
    "### Замена типа данных <a id=\"float_to_int\"></a>"
   ]
  },
  {
   "cell_type": "code",
   "execution_count": 11,
   "metadata": {
    "scrolled": true
   },
   "outputs": [
    {
     "name": "stdout",
     "output_type": "stream",
     "text": [
      "<class 'pandas.core.frame.DataFrame'>\n",
      "RangeIndex: 21525 entries, 0 to 21524\n",
      "Data columns (total 12 columns):\n",
      "children            21525 non-null int64\n",
      "days_employed       21525 non-null int64\n",
      "dob_years           21525 non-null int64\n",
      "education           21525 non-null object\n",
      "education_id        21525 non-null int64\n",
      "family_status       21525 non-null object\n",
      "family_status_id    21525 non-null int64\n",
      "gender              21525 non-null object\n",
      "income_type         21525 non-null object\n",
      "debt                21525 non-null int64\n",
      "total_income        21525 non-null int64\n",
      "purpose             21525 non-null object\n",
      "dtypes: int64(7), object(5)\n",
      "memory usage: 2.0+ MB\n"
     ]
    }
   ],
   "source": [
    "# < Цикл для перевода в int c помощью метода astype>\n",
    "# < Приводим столбец total_income к целочисленному типу для увеличения точности (копейки будут мешать при подсчете) >\n",
    "# < Поскольку столбец days_employed не нужен для ответов на вопросы, также приводим его к целочисленному значению, а не формату даты >\n",
    "\n",
    "for column in ['children', 'days_employed','dob_years', 'education_id', 'family_status_id', 'debt', 'total_income',]:\n",
    "    research[column] = research[column].astype(int)\n",
    "    \n",
    "research.info()\n"
   ]
  },
  {
   "cell_type": "markdown",
   "metadata": {},
   "source": [
    "### Замена типа данных. Выводы: <a id=\"float_to_int_total\"></a>"
   ]
  },
  {
   "cell_type": "markdown",
   "metadata": {},
   "source": [
    "- Заменили тип данных float на int во всех числовых столбцах с помощью цикла, однако на деле - только в столбцах days_employed и total_income.\n",
    "- Использовали метод astype(int) для перевода значений всего столбца в целочисленный тип данных, не добавляя новый столбец."
   ]
  },
  {
   "cell_type": "markdown",
   "metadata": {},
   "source": [
    "### Обработка дубликатов <a id=\"duplicates\"></a>"
   ]
  },
  {
   "cell_type": "code",
   "execution_count": 12,
   "metadata": {},
   "outputs": [
    {
     "data": {
      "text/plain": [
       "106"
      ]
     },
     "execution_count": 12,
     "metadata": {},
     "output_type": "execute_result"
    }
   ],
   "source": [
    "# <получение суммарного количества дубликатов в таблице >\n",
    "research.duplicated(keep = False).sum()"
   ]
  },
  {
   "cell_type": "code",
   "execution_count": 13,
   "metadata": {},
   "outputs": [],
   "source": [
    "# <удаление всех дубликатов из таблицы >\n",
    "research = research.drop_duplicates().reset_index(drop = True)"
   ]
  },
  {
   "cell_type": "code",
   "execution_count": 14,
   "metadata": {},
   "outputs": [
    {
     "data": {
      "text/plain": [
       "0"
      ]
     },
     "execution_count": 14,
     "metadata": {},
     "output_type": "execute_result"
    }
   ],
   "source": [
    "# <проверка на отсутствие дубликатов>\n",
    "research.duplicated().sum()"
   ]
  },
  {
   "cell_type": "code",
   "execution_count": 15,
   "metadata": {},
   "outputs": [
    {
     "data": {
      "text/plain": [
       " 0     14107\n",
       " 1      4809\n",
       " 2      2052\n",
       " 3       330\n",
       " 20       76\n",
       "-1        47\n",
       " 4        41\n",
       " 5         9\n",
       "Name: children, dtype: int64"
      ]
     },
     "execution_count": 15,
     "metadata": {},
     "output_type": "execute_result"
    }
   ],
   "source": [
    "# < Количество уникальных значений столбца 'children' >\n",
    "research['children'].value_counts()"
   ]
  },
  {
   "cell_type": "markdown",
   "metadata": {},
   "source": [
    "Необходимо взять под модуль отрицательные значения и исправить выброс/техническую ошибку в 20 детей у 76 человек, поскольку этот показатель влияет на ответы на вопросы исследования."
   ]
  },
  {
   "cell_type": "code",
   "execution_count": 16,
   "metadata": {},
   "outputs": [
    {
     "data": {
      "text/plain": [
       "0    14183\n",
       "1     4856\n",
       "2     2052\n",
       "3      330\n",
       "4       41\n",
       "5        9\n",
       "Name: children, dtype: int64"
      ]
     },
     "execution_count": 16,
     "metadata": {},
     "output_type": "execute_result"
    }
   ],
   "source": [
    "# < Количество уникальных значений столбца 'children' без отрицательных значений и без технических ошибок в 20 детей>\n",
    "research['children'] = research['children'].abs()\n",
    "research['children'] = research['children'].replace(20, 0)\n",
    "research['children'].value_counts()"
   ]
  },
  {
   "cell_type": "markdown",
   "metadata": {},
   "source": [
    "Дубликатов строк не обнаружено, исправили техническую ошибку в 20 детей у 76 человек на 0, так как это наиболее часто встречающееся значение и критически это изменение не повлияет на результаты исследования."
   ]
  },
  {
   "cell_type": "code",
   "execution_count": 17,
   "metadata": {},
   "outputs": [
    {
     "data": {
      "text/plain": [
       "2194    2126\n",
       "327       16\n",
       "133       16\n",
       "438       15\n",
       "204       14\n",
       "        ... \n",
       "3256       1\n",
       "5307       1\n",
       "9405       1\n",
       "3272       1\n",
       "2049       1\n",
       "Name: days_employed, Length: 9086, dtype: int64"
      ]
     },
     "execution_count": 17,
     "metadata": {},
     "output_type": "execute_result"
    }
   ],
   "source": [
    "# < Количество уникальных значений столбца 'days_employed' >\n",
    "research['days_employed'].value_counts()"
   ]
  },
  {
   "cell_type": "markdown",
   "metadata": {},
   "source": [
    "Нашли 2126 одинаковых значений \"2194\" - объясняется тем, что мы заполняли пропуски в этом столбце таблицы медианным значением, данные дубликаты не трогаем."
   ]
  },
  {
   "cell_type": "code",
   "execution_count": 18,
   "metadata": {
    "scrolled": true
   },
   "outputs": [
    {
     "data": {
      "text/plain": [
       "35    616\n",
       "40    607\n",
       "41    606\n",
       "34    601\n",
       "38    597\n",
       "42    596\n",
       "33    581\n",
       "39    572\n",
       "31    559\n",
       "36    554\n",
       "44    545\n",
       "29    544\n",
       "30    538\n",
       "48    537\n",
       "37    536\n",
       "50    513\n",
       "43    512\n",
       "32    509\n",
       "49    508\n",
       "28    503\n",
       "45    497\n",
       "27    493\n",
       "56    484\n",
       "52    484\n",
       "47    477\n",
       "54    476\n",
       "46    473\n",
       "53    459\n",
       "57    456\n",
       "58    456\n",
       "51    448\n",
       "55    443\n",
       "59    443\n",
       "26    408\n",
       "60    374\n",
       "25    357\n",
       "61    354\n",
       "62    349\n",
       "63    269\n",
       "24    264\n",
       "64    262\n",
       "23    253\n",
       "65    194\n",
       "22    183\n",
       "66    182\n",
       "67    167\n",
       "21    111\n",
       "0     101\n",
       "68     99\n",
       "69     85\n",
       "70     65\n",
       "71     58\n",
       "20     51\n",
       "72     33\n",
       "19     14\n",
       "73      8\n",
       "74      6\n",
       "75      1\n",
       "Name: dob_years, dtype: int64"
      ]
     },
     "execution_count": 18,
     "metadata": {},
     "output_type": "execute_result"
    }
   ],
   "source": [
    "# < Количество уникальных значений столбца 'dob_years' >\n",
    "research['dob_years'].value_counts()"
   ]
  },
  {
   "cell_type": "markdown",
   "metadata": {},
   "source": [
    "Обнаружено 101 нулевое значение в столбце \"dob_years\". Заменяем на среднее нулевые значения данного столбца."
   ]
  },
  {
   "cell_type": "code",
   "execution_count": 19,
   "metadata": {
    "scrolled": true
   },
   "outputs": [
    {
     "name": "stdout",
     "output_type": "stream",
     "text": [
      "43\n"
     ]
    },
    {
     "data": {
      "text/plain": [
       "35    616\n",
       "43    613\n",
       "40    607\n",
       "41    606\n",
       "34    601\n",
       "38    597\n",
       "42    596\n",
       "33    581\n",
       "39    572\n",
       "31    559\n",
       "36    554\n",
       "44    545\n",
       "29    544\n",
       "30    538\n",
       "48    537\n",
       "37    536\n",
       "50    513\n",
       "32    509\n",
       "49    508\n",
       "28    503\n",
       "45    497\n",
       "27    493\n",
       "52    484\n",
       "56    484\n",
       "47    477\n",
       "54    476\n",
       "46    473\n",
       "53    459\n",
       "57    456\n",
       "58    456\n",
       "51    448\n",
       "55    443\n",
       "59    443\n",
       "26    408\n",
       "60    374\n",
       "25    357\n",
       "61    354\n",
       "62    349\n",
       "63    269\n",
       "24    264\n",
       "64    262\n",
       "23    253\n",
       "65    194\n",
       "22    183\n",
       "66    182\n",
       "67    167\n",
       "21    111\n",
       "68     99\n",
       "69     85\n",
       "70     65\n",
       "71     58\n",
       "20     51\n",
       "72     33\n",
       "19     14\n",
       "73      8\n",
       "74      6\n",
       "75      1\n",
       "Name: dob_years, dtype: int64"
      ]
     },
     "execution_count": 19,
     "metadata": {},
     "output_type": "execute_result"
    }
   ],
   "source": [
    "# < Среднее значение 'dob_years' и замена 0 на него>\n",
    "print(research['dob_years'].mean().astype(int))\n",
    "research['dob_years'] = research['dob_years'].replace(0, 43)\n",
    "research['dob_years'].value_counts()"
   ]
  },
  {
   "cell_type": "markdown",
   "metadata": {},
   "source": [
    "Избавились от нулевых значений в столбце dob_years, приведя их к среднему значению"
   ]
  },
  {
   "cell_type": "code",
   "execution_count": 20,
   "metadata": {},
   "outputs": [
    {
     "data": {
      "text/plain": [
       "среднее                13705\n",
       "высшее                  4710\n",
       "СРЕДНЕЕ                  772\n",
       "Среднее                  711\n",
       "неоконченное высшее      668\n",
       "ВЫСШЕЕ                   273\n",
       "Высшее                   268\n",
       "начальное                250\n",
       "Неоконченное высшее       47\n",
       "НЕОКОНЧЕННОЕ ВЫСШЕЕ       29\n",
       "НАЧАЛЬНОЕ                 17\n",
       "Начальное                 15\n",
       "ученая степень             4\n",
       "УЧЕНАЯ СТЕПЕНЬ             1\n",
       "Ученая степень             1\n",
       "Name: education, dtype: int64"
      ]
     },
     "execution_count": 20,
     "metadata": {},
     "output_type": "execute_result"
    }
   ],
   "source": [
    "# < Количество уникальных значений столбца 'education' >\n",
    "research['education'].value_counts()"
   ]
  },
  {
   "cell_type": "markdown",
   "metadata": {},
   "source": [
    "Найдены дубликаты, выполняем обработку дубликатов вручную - приводим все значения к нижнему регистру"
   ]
  },
  {
   "cell_type": "code",
   "execution_count": 21,
   "metadata": {},
   "outputs": [
    {
     "data": {
      "text/plain": [
       "среднее                15188\n",
       "высшее                  5251\n",
       "неоконченное высшее      744\n",
       "начальное                282\n",
       "ученая степень             6\n",
       "Name: education, dtype: int64"
      ]
     },
     "execution_count": 21,
     "metadata": {},
     "output_type": "execute_result"
    }
   ],
   "source": [
    "# < Приведение значений  столбца 'education' к нижнему регистру >\n",
    "research['education'] = research['education'].str.lower()\n",
    "research['education'].value_counts()"
   ]
  },
  {
   "cell_type": "markdown",
   "metadata": {},
   "source": [
    "Привели значения столбца 'education' к нижнему регистру"
   ]
  },
  {
   "cell_type": "code",
   "execution_count": 22,
   "metadata": {},
   "outputs": [
    {
     "data": {
      "text/plain": [
       "1    15188\n",
       "0     5251\n",
       "2      744\n",
       "3      282\n",
       "4        6\n",
       "Name: education_id, dtype: int64"
      ]
     },
     "execution_count": 22,
     "metadata": {},
     "output_type": "execute_result"
    }
   ],
   "source": [
    "# < Количество уникальных значений столбца 'education_id' >\n",
    "research['education_id'].value_counts()"
   ]
  },
  {
   "cell_type": "markdown",
   "metadata": {},
   "source": [
    "Аномальных значений не обнаружено, ошибок в сопоставлении education и education_id не выявлено"
   ]
  },
  {
   "cell_type": "code",
   "execution_count": 23,
   "metadata": {},
   "outputs": [
    {
     "data": {
      "text/plain": [
       "женат / замужем          12344\n",
       "гражданский брак          4163\n",
       "Не женат / не замужем     2810\n",
       "в разводе                 1195\n",
       "вдовец / вдова             959\n",
       "Name: family_status, dtype: int64"
      ]
     },
     "execution_count": 23,
     "metadata": {},
     "output_type": "execute_result"
    }
   ],
   "source": [
    "# < Количество уникальных значений столбца 'family_status' >\n",
    "research['family_status'].value_counts()"
   ]
  },
  {
   "cell_type": "markdown",
   "metadata": {},
   "source": [
    "Аномальных значений не обнаружено"
   ]
  },
  {
   "cell_type": "code",
   "execution_count": 24,
   "metadata": {},
   "outputs": [
    {
     "data": {
      "text/plain": [
       "0    12344\n",
       "1     4163\n",
       "4     2810\n",
       "3     1195\n",
       "2      959\n",
       "Name: family_status_id, dtype: int64"
      ]
     },
     "execution_count": 24,
     "metadata": {},
     "output_type": "execute_result"
    }
   ],
   "source": [
    "# < Количество уникальных значений столбца 'family_status_id' >\n",
    "research['family_status_id'].value_counts()"
   ]
  },
  {
   "cell_type": "markdown",
   "metadata": {},
   "source": [
    "Аномальных значений не обнаружено, ошибок в сопоставлении family_status и family_status_id не выявлено"
   ]
  },
  {
   "cell_type": "code",
   "execution_count": 25,
   "metadata": {},
   "outputs": [
    {
     "data": {
      "text/plain": [
       "F      14189\n",
       "M       7281\n",
       "XNA        1\n",
       "Name: gender, dtype: int64"
      ]
     },
     "execution_count": 25,
     "metadata": {},
     "output_type": "execute_result"
    }
   ],
   "source": [
    "# < Количество уникальных значений столбца 'gender' >\n",
    "research['gender'].value_counts()"
   ]
  },
  {
   "cell_type": "markdown",
   "metadata": {},
   "source": [
    "Обнаружен выброс в определении пола XNA. Поскольку значение всего одно, заменяем на более часто встречающийся пол F."
   ]
  },
  {
   "cell_type": "code",
   "execution_count": 26,
   "metadata": {
    "scrolled": true
   },
   "outputs": [
    {
     "data": {
      "text/plain": [
       "F    14190\n",
       "M     7281\n",
       "Name: gender, dtype: int64"
      ]
     },
     "execution_count": 26,
     "metadata": {},
     "output_type": "execute_result"
    }
   ],
   "source": [
    "# < Количество уникальных значений столбца 'gender' при замене XNA на F>\n",
    "research['gender'] = research['gender'].replace('XNA', 'F')\n",
    "research['gender'].value_counts()"
   ]
  },
  {
   "cell_type": "markdown",
   "metadata": {},
   "source": [
    "Исправили выброс - больше варианта XNA в столбце нет"
   ]
  },
  {
   "cell_type": "code",
   "execution_count": 27,
   "metadata": {},
   "outputs": [
    {
     "data": {
      "text/plain": [
       "сотрудник          11091\n",
       "компаньон           5080\n",
       "пенсионер           3837\n",
       "госслужащий         1457\n",
       "предприниматель        2\n",
       "безработный            2\n",
       "студент                1\n",
       "в декрете              1\n",
       "Name: income_type, dtype: int64"
      ]
     },
     "execution_count": 27,
     "metadata": {},
     "output_type": "execute_result"
    }
   ],
   "source": [
    "# < Количество уникальных значений столбца 'income_type' >\n",
    "research['income_type'].value_counts()"
   ]
  },
  {
   "cell_type": "markdown",
   "metadata": {},
   "source": [
    "Необычных значений не обнаружено"
   ]
  },
  {
   "cell_type": "code",
   "execution_count": 28,
   "metadata": {},
   "outputs": [
    {
     "data": {
      "text/plain": [
       "0    19730\n",
       "1     1741\n",
       "Name: debt, dtype: int64"
      ]
     },
     "execution_count": 28,
     "metadata": {},
     "output_type": "execute_result"
    }
   ],
   "source": [
    "# < Количество уникальных значений столбца 'debt' >\n",
    "research['debt'].value_counts()"
   ]
  },
  {
   "cell_type": "markdown",
   "metadata": {},
   "source": [
    "Долг либо есть, либо нет - третьего не дано:)"
   ]
  },
  {
   "cell_type": "code",
   "execution_count": 29,
   "metadata": {},
   "outputs": [
    {
     "data": {
      "text/plain": [
       "161380    1078\n",
       "202417     503\n",
       "137127     394\n",
       "170898     145\n",
       "177986       3\n",
       "          ... \n",
       "101387       1\n",
       "138249       1\n",
       "280240       1\n",
       "390148       1\n",
       "264193       1\n",
       "Name: total_income, Length: 18609, dtype: int64"
      ]
     },
     "execution_count": 29,
     "metadata": {},
     "output_type": "execute_result"
    }
   ],
   "source": [
    "# < Количество уникальных значений столбца 'total_income' >\n",
    "research['total_income'].value_counts()"
   ]
  },
  {
   "cell_type": "markdown",
   "metadata": {},
   "source": [
    "Обнаружены 4 часто повторяющихся значения месячного дохода:\n",
    "1. 161380\n",
    "2. 202417\n",
    "3. 137127\n",
    "4. 170898\n",
    "\n",
    "Это связано с тем, что мы заполняли пропуски в столбце таблице средними значениями, соотносящимися с типом дохода. Данные дубликаты не обрабатываем."
   ]
  },
  {
   "cell_type": "code",
   "execution_count": 30,
   "metadata": {
    "scrolled": true
   },
   "outputs": [
    {
     "data": {
      "text/plain": [
       "свадьба                                   793\n",
       "на проведение свадьбы                     773\n",
       "сыграть свадьбу                           769\n",
       "операции с недвижимостью                  675\n",
       "покупка коммерческой недвижимости         662\n",
       "операции с жильем                         652\n",
       "покупка жилья для сдачи                   652\n",
       "операции с коммерческой недвижимостью     650\n",
       "жилье                                     646\n",
       "покупка жилья                             646\n",
       "покупка жилья для семьи                   638\n",
       "строительство собственной недвижимости    635\n",
       "недвижимость                              633\n",
       "операции со своей недвижимостью           627\n",
       "строительство жилой недвижимости          625\n",
       "покупка недвижимости                      621\n",
       "покупка своего жилья                      620\n",
       "строительство недвижимости                619\n",
       "ремонт жилью                              607\n",
       "покупка жилой недвижимости                606\n",
       "на покупку своего автомобиля              505\n",
       "заняться высшим образованием              496\n",
       "автомобиль                                494\n",
       "сделка с подержанным автомобилем          486\n",
       "свой автомобиль                           479\n",
       "на покупку подержанного автомобиля        478\n",
       "автомобили                                478\n",
       "на покупку автомобиля                     472\n",
       "приобретение автомобиля                   461\n",
       "дополнительное образование                460\n",
       "сделка с автомобилем                      455\n",
       "высшее образование                        452\n",
       "образование                               447\n",
       "получение дополнительного образования     447\n",
       "получение образования                     442\n",
       "профильное образование                    436\n",
       "получение высшего образования             426\n",
       "заняться образованием                     408\n",
       "Name: purpose, dtype: int64"
      ]
     },
     "execution_count": 30,
     "metadata": {},
     "output_type": "execute_result"
    }
   ],
   "source": [
    "# < Количество уникальных значений столбца 'purpose' >\n",
    "research['purpose'].value_counts()"
   ]
  },
  {
   "cell_type": "markdown",
   "metadata": {},
   "source": [
    "Обнаружены повторяющиеся значения, для которых необходимо провести лемматизацию"
   ]
  },
  {
   "cell_type": "code",
   "execution_count": 31,
   "metadata": {},
   "outputs": [
    {
     "name": "stdout",
     "output_type": "stream",
     "text": [
      "Уникальные значения children :  [1 0 3 2 4 5]\n",
      "\n",
      "Уникальные значения education :  ['высшее' 'среднее' 'неоконченное высшее' 'начальное' 'ученая степень']\n",
      "\n",
      "Уникальные значения education_id :  [0 1 2 3 4]\n",
      "\n",
      "Уникальные значения family_status :  ['женат / замужем' 'гражданский брак' 'вдовец / вдова' 'в разводе'\n",
      " 'Не женат / не замужем']\n",
      "\n",
      "Уникальные значения family_status_id :  [0 1 2 3 4]\n",
      "\n",
      "Уникальные значения gender :  ['F' 'M']\n",
      "\n",
      "Уникальные значения purpose :  ['покупка жилья' 'приобретение автомобиля' 'дополнительное образование'\n",
      " 'сыграть свадьбу' 'операции с жильем' 'образование'\n",
      " 'на проведение свадьбы' 'покупка жилья для семьи' 'покупка недвижимости'\n",
      " 'покупка коммерческой недвижимости' 'покупка жилой недвижимости'\n",
      " 'строительство собственной недвижимости' 'недвижимость'\n",
      " 'строительство недвижимости' 'на покупку подержанного автомобиля'\n",
      " 'на покупку своего автомобиля' 'операции с коммерческой недвижимостью'\n",
      " 'строительство жилой недвижимости' 'жилье'\n",
      " 'операции со своей недвижимостью' 'автомобили' 'заняться образованием'\n",
      " 'сделка с подержанным автомобилем' 'получение образования' 'автомобиль'\n",
      " 'свадьба' 'получение дополнительного образования' 'покупка своего жилья'\n",
      " 'операции с недвижимостью' 'получение высшего образования'\n",
      " 'свой автомобиль' 'сделка с автомобилем' 'профильное образование'\n",
      " 'высшее образование' 'покупка жилья для сдачи' 'на покупку автомобиля'\n",
      " 'ремонт жилью' 'заняться высшим образованием']\n",
      "\n"
     ]
    }
   ],
   "source": [
    "# < Итоговая проверка уникальных значений в столбцах >\n",
    "for column in ['children', 'education', 'education_id', 'family_status', 'family_status_id', 'gender', 'purpose' ]:\n",
    "    print('Уникальные значения', column, ': ', research[column].unique())\n",
    "    print()"
   ]
  },
  {
   "cell_type": "markdown",
   "metadata": {},
   "source": [
    "### Обработка дубликатов. Выводы: <a id=\"duplicates_total\"></a>"
   ]
  },
  {
   "cell_type": "markdown",
   "metadata": {},
   "source": [
    "Были удалены полностью повторяющиеся строки таблицы. Проверено соответствие education & education_id и family_status & family_status_id.\n",
    "\n",
    "Найдены и исправлены следующие ошибки в данных:\n",
    "\n",
    "1. Отрицательные значения в столбце children\n",
    "2. Техническая ошибка в 20 детей у 76 человек\n",
    "3. 100 нулевых значений в столбце dob_years\n",
    "4. Дубликаты в столбце education\n",
    "5. Выброс XNA в столбце gender\n",
    "\n",
    "Также вывлена необходимость лемматизации в столбце purpose\n",
    "\n",
    "Скорее всего выбросы и дубликаты в столбцах были получены вследствие ручного набора данных сотрудниками, а не выбора значений из выпадающих списков.\n"
   ]
  },
  {
   "cell_type": "markdown",
   "metadata": {},
   "source": [
    "### Лемматизация <a id=\"lemmas\"></a>"
   ]
  },
  {
   "cell_type": "code",
   "execution_count": 32,
   "metadata": {},
   "outputs": [],
   "source": [
    "# <Импотрируем необходимые для лемматизации библиотеки>\n",
    "\n",
    "from pymystem3 import Mystem\n",
    "m = Mystem()"
   ]
  },
  {
   "cell_type": "code",
   "execution_count": 33,
   "metadata": {},
   "outputs": [
    {
     "data": {
      "text/html": [
       "<div>\n",
       "<style scoped>\n",
       "    .dataframe tbody tr th:only-of-type {\n",
       "        vertical-align: middle;\n",
       "    }\n",
       "\n",
       "    .dataframe tbody tr th {\n",
       "        vertical-align: top;\n",
       "    }\n",
       "\n",
       "    .dataframe thead th {\n",
       "        text-align: right;\n",
       "    }\n",
       "</style>\n",
       "<table border=\"1\" class=\"dataframe\">\n",
       "  <thead>\n",
       "    <tr style=\"text-align: right;\">\n",
       "      <th></th>\n",
       "      <th>children</th>\n",
       "      <th>days_employed</th>\n",
       "      <th>dob_years</th>\n",
       "      <th>education</th>\n",
       "      <th>education_id</th>\n",
       "      <th>family_status</th>\n",
       "      <th>family_status_id</th>\n",
       "      <th>gender</th>\n",
       "      <th>income_type</th>\n",
       "      <th>debt</th>\n",
       "      <th>total_income</th>\n",
       "      <th>purpose</th>\n",
       "      <th>purpose_lemma</th>\n",
       "      <th>category</th>\n",
       "    </tr>\n",
       "  </thead>\n",
       "  <tbody>\n",
       "    <tr>\n",
       "      <td>0</td>\n",
       "      <td>1</td>\n",
       "      <td>8437</td>\n",
       "      <td>42</td>\n",
       "      <td>высшее</td>\n",
       "      <td>0</td>\n",
       "      <td>женат / замужем</td>\n",
       "      <td>0</td>\n",
       "      <td>F</td>\n",
       "      <td>сотрудник</td>\n",
       "      <td>0</td>\n",
       "      <td>253875</td>\n",
       "      <td>покупка жилья</td>\n",
       "      <td>[покупка,  , жилье, \\n]</td>\n",
       "      <td>Займ на недвижимость</td>\n",
       "    </tr>\n",
       "    <tr>\n",
       "      <td>1</td>\n",
       "      <td>1</td>\n",
       "      <td>4024</td>\n",
       "      <td>36</td>\n",
       "      <td>среднее</td>\n",
       "      <td>1</td>\n",
       "      <td>женат / замужем</td>\n",
       "      <td>0</td>\n",
       "      <td>F</td>\n",
       "      <td>сотрудник</td>\n",
       "      <td>0</td>\n",
       "      <td>112080</td>\n",
       "      <td>приобретение автомобиля</td>\n",
       "      <td>[приобретение,  , автомобиль, \\n]</td>\n",
       "      <td>Займ на автомобиль</td>\n",
       "    </tr>\n",
       "    <tr>\n",
       "      <td>2</td>\n",
       "      <td>0</td>\n",
       "      <td>5623</td>\n",
       "      <td>33</td>\n",
       "      <td>среднее</td>\n",
       "      <td>1</td>\n",
       "      <td>женат / замужем</td>\n",
       "      <td>0</td>\n",
       "      <td>M</td>\n",
       "      <td>сотрудник</td>\n",
       "      <td>0</td>\n",
       "      <td>145885</td>\n",
       "      <td>покупка жилья</td>\n",
       "      <td>[покупка,  , жилье, \\n]</td>\n",
       "      <td>Займ на недвижимость</td>\n",
       "    </tr>\n",
       "    <tr>\n",
       "      <td>3</td>\n",
       "      <td>3</td>\n",
       "      <td>4124</td>\n",
       "      <td>32</td>\n",
       "      <td>среднее</td>\n",
       "      <td>1</td>\n",
       "      <td>женат / замужем</td>\n",
       "      <td>0</td>\n",
       "      <td>M</td>\n",
       "      <td>сотрудник</td>\n",
       "      <td>0</td>\n",
       "      <td>267628</td>\n",
       "      <td>дополнительное образование</td>\n",
       "      <td>[дополнительный,  , образование, \\n]</td>\n",
       "      <td>Займ на образование</td>\n",
       "    </tr>\n",
       "    <tr>\n",
       "      <td>4</td>\n",
       "      <td>0</td>\n",
       "      <td>340266</td>\n",
       "      <td>53</td>\n",
       "      <td>среднее</td>\n",
       "      <td>1</td>\n",
       "      <td>гражданский брак</td>\n",
       "      <td>1</td>\n",
       "      <td>F</td>\n",
       "      <td>пенсионер</td>\n",
       "      <td>0</td>\n",
       "      <td>158616</td>\n",
       "      <td>сыграть свадьбу</td>\n",
       "      <td>[сыграть,  , свадьба, \\n]</td>\n",
       "      <td>Займ на свадьбу</td>\n",
       "    </tr>\n",
       "    <tr>\n",
       "      <td>5</td>\n",
       "      <td>0</td>\n",
       "      <td>926</td>\n",
       "      <td>27</td>\n",
       "      <td>высшее</td>\n",
       "      <td>0</td>\n",
       "      <td>гражданский брак</td>\n",
       "      <td>1</td>\n",
       "      <td>M</td>\n",
       "      <td>компаньон</td>\n",
       "      <td>0</td>\n",
       "      <td>255763</td>\n",
       "      <td>покупка жилья</td>\n",
       "      <td>[покупка,  , жилье, \\n]</td>\n",
       "      <td>Займ на недвижимость</td>\n",
       "    </tr>\n",
       "    <tr>\n",
       "      <td>6</td>\n",
       "      <td>0</td>\n",
       "      <td>2879</td>\n",
       "      <td>43</td>\n",
       "      <td>высшее</td>\n",
       "      <td>0</td>\n",
       "      <td>женат / замужем</td>\n",
       "      <td>0</td>\n",
       "      <td>F</td>\n",
       "      <td>компаньон</td>\n",
       "      <td>0</td>\n",
       "      <td>240525</td>\n",
       "      <td>операции с жильем</td>\n",
       "      <td>[операция,  , с,  , жилье, \\n]</td>\n",
       "      <td>Займ на недвижимость</td>\n",
       "    </tr>\n",
       "    <tr>\n",
       "      <td>7</td>\n",
       "      <td>0</td>\n",
       "      <td>152</td>\n",
       "      <td>50</td>\n",
       "      <td>среднее</td>\n",
       "      <td>1</td>\n",
       "      <td>женат / замужем</td>\n",
       "      <td>0</td>\n",
       "      <td>M</td>\n",
       "      <td>сотрудник</td>\n",
       "      <td>0</td>\n",
       "      <td>135823</td>\n",
       "      <td>образование</td>\n",
       "      <td>[образование, \\n]</td>\n",
       "      <td>Займ на образование</td>\n",
       "    </tr>\n",
       "    <tr>\n",
       "      <td>8</td>\n",
       "      <td>2</td>\n",
       "      <td>6929</td>\n",
       "      <td>35</td>\n",
       "      <td>высшее</td>\n",
       "      <td>0</td>\n",
       "      <td>гражданский брак</td>\n",
       "      <td>1</td>\n",
       "      <td>F</td>\n",
       "      <td>сотрудник</td>\n",
       "      <td>0</td>\n",
       "      <td>95856</td>\n",
       "      <td>на проведение свадьбы</td>\n",
       "      <td>[на,  , проведение,  , свадьба, \\n]</td>\n",
       "      <td>Займ на свадьбу</td>\n",
       "    </tr>\n",
       "    <tr>\n",
       "      <td>9</td>\n",
       "      <td>0</td>\n",
       "      <td>2188</td>\n",
       "      <td>41</td>\n",
       "      <td>среднее</td>\n",
       "      <td>1</td>\n",
       "      <td>женат / замужем</td>\n",
       "      <td>0</td>\n",
       "      <td>M</td>\n",
       "      <td>сотрудник</td>\n",
       "      <td>0</td>\n",
       "      <td>144425</td>\n",
       "      <td>покупка жилья для семьи</td>\n",
       "      <td>[покупка,  , жилье,  , для,  , семья, \\n]</td>\n",
       "      <td>Займ на недвижимость</td>\n",
       "    </tr>\n",
       "  </tbody>\n",
       "</table>\n",
       "</div>"
      ],
      "text/plain": [
       "   children  days_employed  dob_years education  education_id  \\\n",
       "0         1           8437         42    высшее             0   \n",
       "1         1           4024         36   среднее             1   \n",
       "2         0           5623         33   среднее             1   \n",
       "3         3           4124         32   среднее             1   \n",
       "4         0         340266         53   среднее             1   \n",
       "5         0            926         27    высшее             0   \n",
       "6         0           2879         43    высшее             0   \n",
       "7         0            152         50   среднее             1   \n",
       "8         2           6929         35    высшее             0   \n",
       "9         0           2188         41   среднее             1   \n",
       "\n",
       "      family_status  family_status_id gender income_type  debt  total_income  \\\n",
       "0   женат / замужем                 0      F   сотрудник     0        253875   \n",
       "1   женат / замужем                 0      F   сотрудник     0        112080   \n",
       "2   женат / замужем                 0      M   сотрудник     0        145885   \n",
       "3   женат / замужем                 0      M   сотрудник     0        267628   \n",
       "4  гражданский брак                 1      F   пенсионер     0        158616   \n",
       "5  гражданский брак                 1      M   компаньон     0        255763   \n",
       "6   женат / замужем                 0      F   компаньон     0        240525   \n",
       "7   женат / замужем                 0      M   сотрудник     0        135823   \n",
       "8  гражданский брак                 1      F   сотрудник     0         95856   \n",
       "9   женат / замужем                 0      M   сотрудник     0        144425   \n",
       "\n",
       "                      purpose                              purpose_lemma  \\\n",
       "0               покупка жилья                    [покупка,  , жилье, \\n]   \n",
       "1     приобретение автомобиля          [приобретение,  , автомобиль, \\n]   \n",
       "2               покупка жилья                    [покупка,  , жилье, \\n]   \n",
       "3  дополнительное образование       [дополнительный,  , образование, \\n]   \n",
       "4             сыграть свадьбу                  [сыграть,  , свадьба, \\n]   \n",
       "5               покупка жилья                    [покупка,  , жилье, \\n]   \n",
       "6           операции с жильем             [операция,  , с,  , жилье, \\n]   \n",
       "7                 образование                          [образование, \\n]   \n",
       "8       на проведение свадьбы        [на,  , проведение,  , свадьба, \\n]   \n",
       "9     покупка жилья для семьи  [покупка,  , жилье,  , для,  , семья, \\n]   \n",
       "\n",
       "               category  \n",
       "0  Займ на недвижимость  \n",
       "1    Займ на автомобиль  \n",
       "2  Займ на недвижимость  \n",
       "3   Займ на образование  \n",
       "4       Займ на свадьбу  \n",
       "5  Займ на недвижимость  \n",
       "6  Займ на недвижимость  \n",
       "7   Займ на образование  \n",
       "8       Займ на свадьбу  \n",
       "9  Займ на недвижимость  "
      ]
     },
     "execution_count": 33,
     "metadata": {},
     "output_type": "execute_result"
    }
   ],
   "source": [
    "# < Лемматизируем и добавляем полученные значения в новый столбец таблицы - purpose_lemma >\n",
    "research['purpose_lemma'] = research['purpose'].apply(m.lemmatize)\n",
    "\n",
    "# < Функция, которая проводит категоризацию (не используем цикл для ускорения работы) >\n",
    "def purpose_category(lemmas):\n",
    "    if ('жилье' in lemmas) or ('недвижимость' in lemmas):\n",
    "        return 'Займ на недвижимость'\n",
    "    if 'образование' in lemmas:\n",
    "        return 'Займ на образование'\n",
    "    if 'автомобиль' in lemmas:\n",
    "        return 'Займ на автомобиль'\n",
    "    if 'свадьба' in lemmas:\n",
    "        return 'Займ на свадьбу'\n",
    "\n",
    "# < Добавляем полученные значения в purpose >\n",
    "research['category'] = research['purpose_lemma'].apply(purpose_category)\n",
    "\n",
    "\n",
    "# < Удаляем столбец purpose_lemma > - если не нужен \n",
    "#del research['purpose_lemma']\n",
    "\n",
    "research.head(10)"
   ]
  },
  {
   "cell_type": "code",
   "execution_count": 34,
   "metadata": {},
   "outputs": [
    {
     "data": {
      "text/plain": [
       "Займ на недвижимость    10814\n",
       "Займ на автомобиль       4308\n",
       "Займ на образование      4014\n",
       "Займ на свадьбу          2335\n",
       "Name: category, dtype: int64"
      ]
     },
     "execution_count": 34,
     "metadata": {},
     "output_type": "execute_result"
    }
   ],
   "source": [
    "# < Уникальные значения по целям кредита >\n",
    "research['category'].value_counts()"
   ]
  },
  {
   "cell_type": "markdown",
   "metadata": {},
   "source": [
    "### Лемматизация. Выводы: <a id=\"lemmas_total\"></a>"
   ]
  },
  {
   "cell_type": "markdown",
   "metadata": {},
   "source": [
    "Была выполнена лемматизация по столбцу purpose. \n",
    "\n",
    "Были выделены 4 основные категории по целям кредита: \n",
    "\n",
    "1. Займ на недвижимость  - 10814\n",
    "2. Займ на автомобиль    -  4308\n",
    "3. Займ на образование   -  4014\n",
    "4. Займ на свадьбу       -  2335\n",
    "\n",
    "\n",
    "Наиболее популярной целью кредита является покупка недвижимости, больше половины кредитов берутся для этой цели. Примерно одинаковое количество кредитов берутся на покупку или замену автомобиля и на образование. Меньше всего клиенты берут кредиты на свадьбу.\n"
   ]
  },
  {
   "cell_type": "markdown",
   "metadata": {},
   "source": [
    "### Категоризация данных <a id=\"category\"></a>"
   ]
  },
  {
   "cell_type": "markdown",
   "metadata": {},
   "source": [
    "Для ответов на вопросы необходимы столбцы children, family_status, total_income, purpose и debt, соответственно категоризацию выполняем именно по ним."
   ]
  },
  {
   "cell_type": "markdown",
   "metadata": {},
   "source": [
    "#### Категоризация данных по столбцу children"
   ]
  },
  {
   "cell_type": "code",
   "execution_count": 35,
   "metadata": {},
   "outputs": [
    {
     "data": {
      "text/plain": [
       "нет детей    14183\n",
       "есть дети     7288\n",
       "Name: child_category, dtype: int64"
      ]
     },
     "execution_count": 35,
     "metadata": {},
     "output_type": "execute_result"
    }
   ],
   "source": [
    "# < Создаем таблицу с категоризацией по наличию детей >\n",
    "\n",
    "def children_or_free(children):\n",
    "    if children == 0:\n",
    "        return 'нет детей'\n",
    "    if children >= 1 :\n",
    "        return 'есть дети'\n",
    "\n",
    "research['child_category'] = research['children'].apply(children_or_free)\n",
    "\n",
    "children_dict = research[['children','child_category']]\n",
    "children_dict['child_category'].value_counts()"
   ]
  },
  {
   "cell_type": "markdown",
   "metadata": {},
   "source": [
    "#### Категоризация данных по столбцу family_status"
   ]
  },
  {
   "cell_type": "code",
   "execution_count": 36,
   "metadata": {},
   "outputs": [
    {
     "data": {
      "text/plain": [
       "женат / замужем          12344\n",
       "гражданский брак          4163\n",
       "Не женат / не замужем     2810\n",
       "в разводе                 1195\n",
       "вдовец / вдова             959\n",
       "Name: family_status, dtype: int64"
      ]
     },
     "execution_count": 36,
     "metadata": {},
     "output_type": "execute_result"
    }
   ],
   "source": [
    "# < Создаем таблицу с категоризацией по семейному положению >\n",
    "\n",
    "family_status_dict = research[['family_status_id','family_status']]\n",
    "family_status_dict['family_status'].value_counts()"
   ]
  },
  {
   "cell_type": "markdown",
   "metadata": {},
   "source": [
    "#### Категоризация данных по столбцу total_income"
   ]
  },
  {
   "cell_type": "code",
   "execution_count": 37,
   "metadata": {},
   "outputs": [
    {
     "data": {
      "text/plain": [
       "уровень дохода выше среднего    5825\n",
       "средний уровень дохода          5369\n",
       "низкий уровень дохода           5368\n",
       "высокий уровень дохода          4909\n",
       "Name: total_income_category, dtype: int64"
      ]
     },
     "execution_count": 37,
     "metadata": {},
     "output_type": "execute_result"
    }
   ],
   "source": [
    "# < Создаем таблицу с категоризацией по уровню месячного дохода >\n",
    "\n",
    "research['total_income'].quantile([0.25, 0.5, 0.75])\n",
    "\n",
    "def total_income_count(total_income):\n",
    "    if total_income <= 107654.5:\n",
    "        return 'низкий уровень дохода'\n",
    "    if total_income > 107654.5 and total_income <= 151898.0:\n",
    "        return 'средний уровень дохода'\n",
    "    if total_income > 151898.0 and total_income <= 202417.0:\n",
    "        return 'уровень дохода выше среднего'\n",
    "    else:\n",
    "        return 'высокий уровень дохода'\n",
    "\n",
    "research['total_income_category'] = research['total_income'].apply(total_income_count)\n",
    "total_income_dict = research[['total_income','total_income_category']]\n",
    "total_income_dict['total_income_category'].value_counts()"
   ]
  },
  {
   "cell_type": "markdown",
   "metadata": {},
   "source": [
    "#### Категоризация данных по столбцу purpose выполнена в столбце category"
   ]
  },
  {
   "cell_type": "code",
   "execution_count": 38,
   "metadata": {},
   "outputs": [
    {
     "data": {
      "text/plain": [
       "Займ на недвижимость    10814\n",
       "Займ на автомобиль       4308\n",
       "Займ на образование      4014\n",
       "Займ на свадьбу          2335\n",
       "Name: category, dtype: int64"
      ]
     },
     "execution_count": 38,
     "metadata": {},
     "output_type": "execute_result"
    }
   ],
   "source": [
    "# < Уникальные значения по целям кредита >\n",
    "research['category'].value_counts()"
   ]
  },
  {
   "cell_type": "markdown",
   "metadata": {},
   "source": [
    "### Категоризация данных. Выводы: <a id=\"category_total\"></a>"
   ]
  },
  {
   "cell_type": "markdown",
   "metadata": {},
   "source": [
    "1. 2/3 клиентов, запрашивающих кредит, не имеют детей.\n",
    "2. Больше половины клиентов женаты или замужем.\n",
    "3. По уровню дохода количество клиентов приблизительно одинаковое - кредиты запрашивают как клиенты с низкими доходами, так и клиенты с наиболее высокими доходами.\n",
    "4. Почти половина клиентов запрашивает кредит для покупки недвижимости.\n",
    "5. Приблизительно одинаковое количество клиентов запрашивают кредит для покупки автомобиля или на образование.\n",
    "6. Наименее популярным запросом является кредит на проведение свадьбы."
   ]
  },
  {
   "cell_type": "markdown",
   "metadata": {},
   "source": [
    "### Шаг 3. Ответы на вопросы <a id=\"answers\"></a>"
   ]
  },
  {
   "cell_type": "markdown",
   "metadata": {},
   "source": [
    "- Есть ли зависимость между наличием детей и возвратом кредита в срок?"
   ]
  },
  {
   "cell_type": "code",
   "execution_count": 39,
   "metadata": {},
   "outputs": [
    {
     "data": {
      "text/html": [
       "<div>\n",
       "<style scoped>\n",
       "    .dataframe tbody tr th:only-of-type {\n",
       "        vertical-align: middle;\n",
       "    }\n",
       "\n",
       "    .dataframe tbody tr th {\n",
       "        vertical-align: top;\n",
       "    }\n",
       "\n",
       "    .dataframe thead th {\n",
       "        text-align: right;\n",
       "    }\n",
       "</style>\n",
       "<table border=\"1\" class=\"dataframe\">\n",
       "  <thead>\n",
       "    <tr style=\"text-align: right;\">\n",
       "      <th></th>\n",
       "      <th>Нет долга</th>\n",
       "      <th>Есть долг</th>\n",
       "      <th>Доля должников</th>\n",
       "    </tr>\n",
       "    <tr>\n",
       "      <th>child_category</th>\n",
       "      <th></th>\n",
       "      <th></th>\n",
       "      <th></th>\n",
       "    </tr>\n",
       "  </thead>\n",
       "  <tbody>\n",
       "    <tr>\n",
       "      <td>есть дети</td>\n",
       "      <td>6618</td>\n",
       "      <td>670</td>\n",
       "      <td>9.2%</td>\n",
       "    </tr>\n",
       "    <tr>\n",
       "      <td>нет детей</td>\n",
       "      <td>13112</td>\n",
       "      <td>1071</td>\n",
       "      <td>7.6%</td>\n",
       "    </tr>\n",
       "  </tbody>\n",
       "</table>\n",
       "</div>"
      ],
      "text/plain": [
       "                Нет долга  Есть долг Доля должников\n",
       "child_category                                     \n",
       "есть дети            6618        670           9.2%\n",
       "нет детей           13112       1071           7.6%"
      ]
     },
     "execution_count": 39,
     "metadata": {},
     "output_type": "execute_result"
    }
   ],
   "source": [
    "# <Сводная таблица с долей должников наглядно демонстрирует зависимость возврата кредита от наличия детей>\n",
    "\n",
    "children_debt = research.pivot_table(index = 'child_category', columns = 'debt', values = 'dob_years', aggfunc = 'count')\n",
    "children_debt.columns = ['Нет долга', 'Есть долг']\n",
    "children_debt['Доля должников'] = (children_debt['Есть долг']/\n",
    "                                   (children_debt['Есть долг'] + children_debt['Нет долга'])).map('{:.1%}'.format)\n",
    "children_debt.head()"
   ]
  },
  {
   "cell_type": "markdown",
   "metadata": {},
   "source": [
    "### Выводы "
   ]
  },
  {
   "cell_type": "markdown",
   "metadata": {},
   "source": [
    "Да, есть зависимость между наличием детей у клиентов и возвратом клиентами долга.\n",
    "\n",
    "Доля должников среди клиентов, у которых есть дети, выше на 1.6%, чем у тех, кто не имеет детей. Возможно, это связано с дополнительными тратами на содержание детей."
   ]
  },
  {
   "cell_type": "markdown",
   "metadata": {},
   "source": [
    "- Есть ли зависимость между семейным положением и возвратом кредита в срок?"
   ]
  },
  {
   "cell_type": "code",
   "execution_count": 40,
   "metadata": {},
   "outputs": [
    {
     "data": {
      "text/html": [
       "<div>\n",
       "<style scoped>\n",
       "    .dataframe tbody tr th:only-of-type {\n",
       "        vertical-align: middle;\n",
       "    }\n",
       "\n",
       "    .dataframe tbody tr th {\n",
       "        vertical-align: top;\n",
       "    }\n",
       "\n",
       "    .dataframe thead th {\n",
       "        text-align: right;\n",
       "    }\n",
       "</style>\n",
       "<table border=\"1\" class=\"dataframe\">\n",
       "  <thead>\n",
       "    <tr style=\"text-align: right;\">\n",
       "      <th></th>\n",
       "      <th>Нет долга</th>\n",
       "      <th>Есть долг</th>\n",
       "      <th>Доля должников</th>\n",
       "    </tr>\n",
       "    <tr>\n",
       "      <th>family_status</th>\n",
       "      <th></th>\n",
       "      <th></th>\n",
       "      <th></th>\n",
       "    </tr>\n",
       "  </thead>\n",
       "  <tbody>\n",
       "    <tr>\n",
       "      <td>Не женат / не замужем</td>\n",
       "      <td>2536</td>\n",
       "      <td>274</td>\n",
       "      <td>9.8%</td>\n",
       "    </tr>\n",
       "    <tr>\n",
       "      <td>в разводе</td>\n",
       "      <td>1110</td>\n",
       "      <td>85</td>\n",
       "      <td>7.1%</td>\n",
       "    </tr>\n",
       "    <tr>\n",
       "      <td>вдовец / вдова</td>\n",
       "      <td>896</td>\n",
       "      <td>63</td>\n",
       "      <td>6.6%</td>\n",
       "    </tr>\n",
       "    <tr>\n",
       "      <td>гражданский брак</td>\n",
       "      <td>3775</td>\n",
       "      <td>388</td>\n",
       "      <td>9.3%</td>\n",
       "    </tr>\n",
       "    <tr>\n",
       "      <td>женат / замужем</td>\n",
       "      <td>11413</td>\n",
       "      <td>931</td>\n",
       "      <td>7.5%</td>\n",
       "    </tr>\n",
       "  </tbody>\n",
       "</table>\n",
       "</div>"
      ],
      "text/plain": [
       "                       Нет долга  Есть долг Доля должников\n",
       "family_status                                             \n",
       "Не женат / не замужем       2536        274           9.8%\n",
       "в разводе                   1110         85           7.1%\n",
       "вдовец / вдова               896         63           6.6%\n",
       "гражданский брак            3775        388           9.3%\n",
       "женат / замужем            11413        931           7.5%"
      ]
     },
     "execution_count": 40,
     "metadata": {},
     "output_type": "execute_result"
    }
   ],
   "source": [
    "# <Сводная таблица с долей должников наглядно демонстрирует зависимость возврата кредита от семейного положения>\n",
    "\n",
    "family_status_debt = research.pivot_table(index = 'family_status', columns = 'debt', values = 'dob_years', aggfunc = 'count')\n",
    "family_status_debt.columns = ['Нет долга', 'Есть долг']\n",
    "family_status_debt['Доля должников'] = (family_status_debt['Есть долг']\n",
    "                                        /(family_status_debt['Есть долг'] \n",
    "                                          + family_status_debt['Нет долга'])).map('{:.1%}'.format)\n",
    "family_status_debt.head()"
   ]
  },
  {
   "cell_type": "markdown",
   "metadata": {},
   "source": [
    "### Выводы"
   ]
  },
  {
   "cell_type": "markdown",
   "metadata": {},
   "source": [
    "Да, есть зависимость между семейным положением и возвратом кредита в срок.\n",
    "\n",
    "1. Наиболее подвержены накоплению долгов неженатые/незамужные клиенты - 9,8% из них не уплатили кредит в срок.\n",
    "2. Меньше всего (7,1% и 6,6% и 7,5%) долгов имеют клиенты в разводе, вдовцы/вдовы и женатые/замужние. Возможно, это связано с тем, что данные клиенты уже были женаты/замужем и вели семейный бюджет.\n",
    "3. Показатели клиентов, состоящих в гражданском браке, по невозврату долгов почти такие же высокие, как у незамужних/неженатых (9,3%). Скорее всего это связано с тем, что в официальном браке семейная пара несет равную ответственность перед кредитором, а в гражданском браке каждый выплачивает сам за себя."
   ]
  },
  {
   "cell_type": "markdown",
   "metadata": {},
   "source": [
    "- Есть ли зависимость между уровнем дохода и возвратом кредита в срок?"
   ]
  },
  {
   "cell_type": "code",
   "execution_count": 41,
   "metadata": {},
   "outputs": [
    {
     "data": {
      "text/html": [
       "<div>\n",
       "<style scoped>\n",
       "    .dataframe tbody tr th:only-of-type {\n",
       "        vertical-align: middle;\n",
       "    }\n",
       "\n",
       "    .dataframe tbody tr th {\n",
       "        vertical-align: top;\n",
       "    }\n",
       "\n",
       "    .dataframe thead th {\n",
       "        text-align: right;\n",
       "    }\n",
       "</style>\n",
       "<table border=\"1\" class=\"dataframe\">\n",
       "  <thead>\n",
       "    <tr style=\"text-align: right;\">\n",
       "      <th></th>\n",
       "      <th>Нет долга</th>\n",
       "      <th>Есть долг</th>\n",
       "      <th>Доля должников</th>\n",
       "    </tr>\n",
       "    <tr>\n",
       "      <th>total_income_category</th>\n",
       "      <th></th>\n",
       "      <th></th>\n",
       "      <th></th>\n",
       "    </tr>\n",
       "  </thead>\n",
       "  <tbody>\n",
       "    <tr>\n",
       "      <td>высокий уровень дохода</td>\n",
       "      <td>4564</td>\n",
       "      <td>345</td>\n",
       "      <td>7.0%</td>\n",
       "    </tr>\n",
       "    <tr>\n",
       "      <td>низкий уровень дохода</td>\n",
       "      <td>4941</td>\n",
       "      <td>427</td>\n",
       "      <td>8.0%</td>\n",
       "    </tr>\n",
       "    <tr>\n",
       "      <td>средний уровень дохода</td>\n",
       "      <td>4894</td>\n",
       "      <td>475</td>\n",
       "      <td>8.8%</td>\n",
       "    </tr>\n",
       "    <tr>\n",
       "      <td>уровень дохода выше среднего</td>\n",
       "      <td>5331</td>\n",
       "      <td>494</td>\n",
       "      <td>8.5%</td>\n",
       "    </tr>\n",
       "  </tbody>\n",
       "</table>\n",
       "</div>"
      ],
      "text/plain": [
       "                              Нет долга  Есть долг Доля должников\n",
       "total_income_category                                            \n",
       "высокий уровень дохода             4564        345           7.0%\n",
       "низкий уровень дохода              4941        427           8.0%\n",
       "средний уровень дохода             4894        475           8.8%\n",
       "уровень дохода выше среднего       5331        494           8.5%"
      ]
     },
     "execution_count": 41,
     "metadata": {},
     "output_type": "execute_result"
    }
   ],
   "source": [
    "# <Сводная таблица с долей должников наглядно демонстрирует зависимость возврата кредита от уровня дохода клиента>\n",
    "\n",
    "total_income_debt = research.pivot_table(index = 'total_income_category', columns = 'debt', values = 'dob_years', aggfunc = 'count')\n",
    "total_income_debt.columns = ['Нет долга', 'Есть долг']\n",
    "total_income_debt['Доля должников'] = (total_income_debt['Есть долг']\n",
    "                                        /(total_income_debt['Есть долг'] \n",
    "                                          + total_income_debt['Нет долга'])).map('{:.1%}'.format)\n",
    "total_income_debt.head()"
   ]
  },
  {
   "cell_type": "markdown",
   "metadata": {},
   "source": [
    "### Выводы"
   ]
  },
  {
   "cell_type": "markdown",
   "metadata": {},
   "source": [
    "Да, есть зависимость между уровнем дохода и возвратом кредита в срок.\n",
    "\n",
    "1. Наименее подвержены накоплению долгов клиенты с высоким уровнем дохода (7,0%). Сокрее всего это связано с наличием средств для выплаты кредита в срок)\n",
    "2. Больше всего должников среди клиентов со средним уровнем дохода и уровнем дохода выше среднего - (8,8% и 8,5%). Возможно, это связано с тем, что за последние 15 лет зафиксировано сокращение среднего класса до минимума. То есть те, кто ранее мог себе позволить больше, берут кредиты для больших покупок и не могут их вернуть в срок. (https://www.rbc.ru/economics/24/06/2019/5d10b2d29a79474be6a808ad)\n",
    "3. Клиенты с низким уровнем дохода (8,0%) ближе всего к среднему значению по доле должников по уровню дохода (8,075). Они обладают средней приверженностью к накоплению долгов."
   ]
  },
  {
   "cell_type": "markdown",
   "metadata": {},
   "source": [
    "- Как разные цели кредита влияют на его возврат в срок?"
   ]
  },
  {
   "cell_type": "code",
   "execution_count": 42,
   "metadata": {},
   "outputs": [
    {
     "data": {
      "text/plain": [
       "уровень дохода выше среднего    5825\n",
       "средний уровень дохода          5369\n",
       "низкий уровень дохода           5368\n",
       "высокий уровень дохода          4909\n",
       "Name: total_income_category, dtype: int64"
      ]
     },
     "execution_count": 42,
     "metadata": {},
     "output_type": "execute_result"
    }
   ],
   "source": [
    "# <Сводная таблица с долей должников наглядно демонстрирует зависимость возврата кредита от цели кредита>\n",
    "\n",
    "research['total_income_category'] = research['total_income'].apply(total_income_count)\n",
    "total_income_dict = research[['total_income','total_income_category']]\n",
    "total_income_dict['total_income_category'].value_counts()\n"
   ]
  },
  {
   "cell_type": "code",
   "execution_count": 43,
   "metadata": {},
   "outputs": [
    {
     "data": {
      "text/html": [
       "<div>\n",
       "<style scoped>\n",
       "    .dataframe tbody tr th:only-of-type {\n",
       "        vertical-align: middle;\n",
       "    }\n",
       "\n",
       "    .dataframe tbody tr th {\n",
       "        vertical-align: top;\n",
       "    }\n",
       "\n",
       "    .dataframe thead th {\n",
       "        text-align: right;\n",
       "    }\n",
       "</style>\n",
       "<table border=\"1\" class=\"dataframe\">\n",
       "  <thead>\n",
       "    <tr style=\"text-align: right;\">\n",
       "      <th></th>\n",
       "      <th>Нет долга</th>\n",
       "      <th>Есть долг</th>\n",
       "      <th>Доля должников</th>\n",
       "    </tr>\n",
       "    <tr>\n",
       "      <th>category</th>\n",
       "      <th></th>\n",
       "      <th></th>\n",
       "      <th></th>\n",
       "    </tr>\n",
       "  </thead>\n",
       "  <tbody>\n",
       "    <tr>\n",
       "      <td>Займ на автомобиль</td>\n",
       "      <td>3905</td>\n",
       "      <td>403</td>\n",
       "      <td>9.4%</td>\n",
       "    </tr>\n",
       "    <tr>\n",
       "      <td>Займ на недвижимость</td>\n",
       "      <td>10032</td>\n",
       "      <td>782</td>\n",
       "      <td>7.2%</td>\n",
       "    </tr>\n",
       "    <tr>\n",
       "      <td>Займ на образование</td>\n",
       "      <td>3644</td>\n",
       "      <td>370</td>\n",
       "      <td>9.2%</td>\n",
       "    </tr>\n",
       "    <tr>\n",
       "      <td>Займ на свадьбу</td>\n",
       "      <td>2149</td>\n",
       "      <td>186</td>\n",
       "      <td>8.0%</td>\n",
       "    </tr>\n",
       "  </tbody>\n",
       "</table>\n",
       "</div>"
      ],
      "text/plain": [
       "                      Нет долга  Есть долг Доля должников\n",
       "category                                                 \n",
       "Займ на автомобиль         3905        403           9.4%\n",
       "Займ на недвижимость      10032        782           7.2%\n",
       "Займ на образование        3644        370           9.2%\n",
       "Займ на свадьбу            2149        186           8.0%"
      ]
     },
     "execution_count": 43,
     "metadata": {},
     "output_type": "execute_result"
    }
   ],
   "source": [
    "purpose_debt = research.pivot_table(index = 'category', columns = 'debt', values = 'dob_years', aggfunc = 'count')\n",
    "purpose_debt.columns = ['Нет долга', 'Есть долг']\n",
    "purpose_debt['Доля должников'] = (purpose_debt['Есть долг']\n",
    "                                        /(purpose_debt['Есть долг'] \n",
    "                                          + purpose_debt['Нет долга'])).map('{:.1%}'.format)\n",
    "purpose_debt.head()"
   ]
  },
  {
   "cell_type": "markdown",
   "metadata": {},
   "source": [
    "### Выводы"
   ]
  },
  {
   "cell_type": "markdown",
   "metadata": {},
   "source": [
    "Да, цель кредита влияет на его возврат клиентом в срок.\n",
    "\n",
    "1. Наиболее рискованными для банка целями кредитов являются займ на автомобиль и займ на образование. Возможно, это связано с тем, что кредиты на данные цели легче получить и суммы кредита ниже, чем на покупку недвижимости. \n",
    "2. Наименее рискованной целью кредита для банка является займ на недвижимость. Покупка квартиры - более серьезный шаг и кредиты на него составляют большие суммы, чем на покупку автомобиля или образование. Возможно, такое низкое значение долга является следствием того, что для кредита на покупку квартиры клиент проходит более сложный процесс получения кредита.\n",
    "3. Наиболее близким к среднему значению в 8,45% является займ на свадьбу (8,0%). Этих займов меньше всего и риски для банка - ниже среднего значения по запросам на кредит."
   ]
  },
  {
   "cell_type": "markdown",
   "metadata": {},
   "source": [
    "### Шаг 4. Общий вывод <a id=\"total\"></a>"
   ]
  },
  {
   "cell_type": "markdown",
   "metadata": {},
   "source": [
    "Рискованнее выдавать кредиты тем клиентам, у которых есть дети.\n",
    "\n",
    "Наиболее подвержены накоплению долгов неженатые/незамужные клиенты - почти 10% из них имеют долги. Также при выдаче кредита стоит обратить внимание на тех клиентов, которые состоят в гражданском браке - они недалеко ушли от неженатых/незамужных (9,5% долгов).\n",
    "\n",
    "Больше всего должников среди клиентов со средним уровнем дохода и уровнем дохода выше среднего - (8,8% и 8,5%).\n",
    "\n",
    "Наиболее рискованными для банка целями кредитов являются займ на автомобиль и займ на образование."
   ]
  }
 ],
 "metadata": {
  "ExecuteTimeLog": [
   {
    "duration": 530,
    "start_time": "2022-03-15T13:20:16.799Z"
   },
   {
    "duration": 46,
    "start_time": "2022-03-15T13:20:17.331Z"
   },
   {
    "duration": 21,
    "start_time": "2022-03-15T13:20:17.379Z"
   },
   {
    "duration": 11,
    "start_time": "2022-03-15T13:20:17.402Z"
   },
   {
    "duration": 24,
    "start_time": "2022-03-15T13:20:17.414Z"
   },
   {
    "duration": 9,
    "start_time": "2022-03-15T13:20:17.440Z"
   },
   {
    "duration": 8,
    "start_time": "2022-03-15T13:20:17.451Z"
   },
   {
    "duration": 14,
    "start_time": "2022-03-15T13:20:17.461Z"
   },
   {
    "duration": 2326,
    "start_time": "2022-03-15T13:20:17.477Z"
   },
   {
    "duration": 9,
    "start_time": "2022-03-15T13:20:19.804Z"
   },
   {
    "duration": 25,
    "start_time": "2022-03-15T13:20:19.815Z"
   },
   {
    "duration": 16,
    "start_time": "2022-03-15T13:20:19.841Z"
   },
   {
    "duration": 16,
    "start_time": "2022-03-15T13:20:19.858Z"
   },
   {
    "duration": 15,
    "start_time": "2022-03-15T13:20:19.876Z"
   },
   {
    "duration": 5,
    "start_time": "2022-03-15T13:20:19.892Z"
   },
   {
    "duration": 40,
    "start_time": "2022-03-15T13:20:19.898Z"
   },
   {
    "duration": 6,
    "start_time": "2022-03-15T13:20:19.940Z"
   },
   {
    "duration": 6,
    "start_time": "2022-03-15T13:20:19.947Z"
   },
   {
    "duration": 9,
    "start_time": "2022-03-15T13:20:19.955Z"
   },
   {
    "duration": 9,
    "start_time": "2022-03-15T13:20:19.966Z"
   },
   {
    "duration": 17,
    "start_time": "2022-03-15T13:20:19.977Z"
   },
   {
    "duration": 43,
    "start_time": "2022-03-15T13:20:19.996Z"
   },
   {
    "duration": 7,
    "start_time": "2022-03-15T13:20:20.043Z"
   },
   {
    "duration": 9,
    "start_time": "2022-03-15T13:20:20.052Z"
   },
   {
    "duration": 8,
    "start_time": "2022-03-15T13:20:20.062Z"
   },
   {
    "duration": 19,
    "start_time": "2022-03-15T13:20:20.072Z"
   },
   {
    "duration": 9,
    "start_time": "2022-03-15T13:20:20.092Z"
   },
   {
    "duration": 10,
    "start_time": "2022-03-15T13:20:20.103Z"
   },
   {
    "duration": 28,
    "start_time": "2022-03-15T13:20:20.115Z"
   },
   {
    "duration": 11,
    "start_time": "2022-03-15T13:20:20.145Z"
   },
   {
    "duration": 17,
    "start_time": "2022-03-15T13:20:20.157Z"
   },
   {
    "duration": 8,
    "start_time": "2022-03-15T13:20:20.176Z"
   },
   {
    "duration": 3463,
    "start_time": "2022-03-15T13:20:20.185Z"
   },
   {
    "duration": 7,
    "start_time": "2022-03-15T13:20:23.650Z"
   },
   {
    "duration": 40,
    "start_time": "2022-03-15T13:20:23.659Z"
   },
   {
    "duration": 28,
    "start_time": "2022-03-15T13:20:23.701Z"
   },
   {
    "duration": 28,
    "start_time": "2022-03-15T13:20:23.731Z"
   },
   {
    "duration": 6,
    "start_time": "2022-03-15T13:20:23.761Z"
   },
   {
    "duration": 22,
    "start_time": "2022-03-15T13:20:23.769Z"
   },
   {
    "duration": 18,
    "start_time": "2022-03-15T13:20:23.793Z"
   },
   {
    "duration": 41,
    "start_time": "2022-03-15T13:20:23.812Z"
   },
   {
    "duration": 14,
    "start_time": "2022-03-15T13:20:23.855Z"
   },
   {
    "duration": 29,
    "start_time": "2022-03-15T13:20:23.871Z"
   },
   {
    "duration": 611,
    "start_time": "2022-03-15T13:20:59.029Z"
   },
   {
    "duration": 46,
    "start_time": "2022-03-15T13:20:59.643Z"
   },
   {
    "duration": 22,
    "start_time": "2022-03-15T13:20:59.691Z"
   },
   {
    "duration": 28,
    "start_time": "2022-03-15T13:20:59.715Z"
   },
   {
    "duration": 4,
    "start_time": "2022-03-15T13:20:59.745Z"
   },
   {
    "duration": 13,
    "start_time": "2022-03-15T13:20:59.751Z"
   },
   {
    "duration": 7,
    "start_time": "2022-03-15T13:20:59.765Z"
   },
   {
    "duration": 15,
    "start_time": "2022-03-15T13:20:59.774Z"
   },
   {
    "duration": 2395,
    "start_time": "2022-03-15T13:20:59.792Z"
   },
   {
    "duration": 9,
    "start_time": "2022-03-15T13:21:02.189Z"
   },
   {
    "duration": 22,
    "start_time": "2022-03-15T13:21:02.199Z"
   },
   {
    "duration": 35,
    "start_time": "2022-03-15T13:21:02.223Z"
   },
   {
    "duration": 29,
    "start_time": "2022-03-15T13:21:02.260Z"
   },
   {
    "duration": 19,
    "start_time": "2022-03-15T13:21:02.291Z"
   },
   {
    "duration": 15,
    "start_time": "2022-03-15T13:21:02.312Z"
   },
   {
    "duration": 12,
    "start_time": "2022-03-15T13:21:02.328Z"
   },
   {
    "duration": 10,
    "start_time": "2022-03-15T13:21:02.342Z"
   },
   {
    "duration": 16,
    "start_time": "2022-03-15T13:21:02.354Z"
   },
   {
    "duration": 17,
    "start_time": "2022-03-15T13:21:02.371Z"
   },
   {
    "duration": 28,
    "start_time": "2022-03-15T13:21:02.389Z"
   },
   {
    "duration": 28,
    "start_time": "2022-03-15T13:21:02.419Z"
   },
   {
    "duration": 17,
    "start_time": "2022-03-15T13:21:02.449Z"
   },
   {
    "duration": 31,
    "start_time": "2022-03-15T13:21:02.469Z"
   },
   {
    "duration": 13,
    "start_time": "2022-03-15T13:21:02.502Z"
   },
   {
    "duration": 16,
    "start_time": "2022-03-15T13:21:02.517Z"
   },
   {
    "duration": 22,
    "start_time": "2022-03-15T13:21:02.534Z"
   },
   {
    "duration": 22,
    "start_time": "2022-03-15T13:21:02.558Z"
   },
   {
    "duration": 35,
    "start_time": "2022-03-15T13:21:02.582Z"
   },
   {
    "duration": 30,
    "start_time": "2022-03-15T13:21:02.619Z"
   },
   {
    "duration": 41,
    "start_time": "2022-03-15T13:21:02.650Z"
   },
   {
    "duration": 35,
    "start_time": "2022-03-15T13:21:02.693Z"
   },
   {
    "duration": 24,
    "start_time": "2022-03-15T13:21:02.730Z"
   },
   {
    "duration": 3491,
    "start_time": "2022-03-15T13:21:02.756Z"
   },
   {
    "duration": 7,
    "start_time": "2022-03-15T13:21:06.248Z"
   },
   {
    "duration": 20,
    "start_time": "2022-03-15T13:21:06.257Z"
   },
   {
    "duration": 8,
    "start_time": "2022-03-15T13:21:06.278Z"
   },
   {
    "duration": 24,
    "start_time": "2022-03-15T13:21:06.288Z"
   },
   {
    "duration": 8,
    "start_time": "2022-03-15T13:21:06.338Z"
   },
   {
    "duration": 31,
    "start_time": "2022-03-15T13:21:06.347Z"
   },
   {
    "duration": 21,
    "start_time": "2022-03-15T13:21:06.379Z"
   },
   {
    "duration": 45,
    "start_time": "2022-03-15T13:21:06.402Z"
   },
   {
    "duration": 16,
    "start_time": "2022-03-15T13:21:06.449Z"
   },
   {
    "duration": 19,
    "start_time": "2022-03-15T13:21:06.467Z"
   }
  ],
  "kernelspec": {
   "display_name": "Python 3",
   "language": "python",
   "name": "python3"
  },
  "language_info": {
   "codemirror_mode": {
    "name": "ipython",
    "version": 3
   },
   "file_extension": ".py",
   "mimetype": "text/x-python",
   "name": "python",
   "nbconvert_exporter": "python",
   "pygments_lexer": "ipython3",
   "version": "3.7.6"
  },
  "toc": {
   "base_numbering": 1,
   "nav_menu": {},
   "number_sections": true,
   "sideBar": true,
   "skip_h1_title": false,
   "title_cell": "Table of Contents",
   "title_sidebar": "Contents",
   "toc_cell": false,
   "toc_position": {},
   "toc_section_display": true,
   "toc_window_display": false
  }
 },
 "nbformat": 4,
 "nbformat_minor": 2
}
