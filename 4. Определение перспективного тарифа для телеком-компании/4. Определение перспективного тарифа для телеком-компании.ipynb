{
 "cells": [
  {
   "cell_type": "markdown",
   "metadata": {},
   "source": [
    "# Определение наиболее выгодного тарифа для оператора сотовой связи"
   ]
  },
  {
   "cell_type": "markdown",
   "metadata": {},
   "source": [
    "# Описание проекта\n",
    "\n",
    "- Заказчик проекта — коммерческий департамент оператора сотовой связи.\n",
    "- Задача проекта — проанализировать поведение клиентов двух тарифных планов (\"Смарт\" и \"Ультра\") и определить, какой из тарифов лучше. Это необходимо для внесения изменений в распределение рекламного бюджета."
   ]
  },
  {
   "cell_type": "markdown",
   "metadata": {},
   "source": [
    "# Описание данных\n",
    "\n",
    "Исследование основано на внутренних данных о 500 пользователях сотового оператора\n",
    "\n",
    "Данные выданы в нескольких csv-файлах. \n",
    "\n",
    "Таблица users (информация о пользователях) включает следующие поля:\n",
    "- user_id — уникальный идентификатор клиента\n",
    "- first_name — имя клиента\n",
    "- last_name — фамилия клиента\n",
    "- age — возраст клиента (в годах)\n",
    "- reg_date — дата подключения тарифа (день, месяц, год)\n",
    "- churn_date — дата прекращения пользования тарифом (если значение пропущено, то тариф ещё действовал на момент выгрузки данных)\n",
    "- city — город проживания клиента\n",
    "- tariff — название тарифного плана\n",
    "\n",
    "\n",
    "Таблица calls (информация о звонках) включает следующие поля:\n",
    "- id — уникальный номер звонка\n",
    "- call_date — дата звонка\n",
    "- duration — длительность звонка в минутах\n",
    "- user_id — идентификатор клиента, сделавшего звонок\n",
    "\n",
    "\n",
    "Таблица messages (информация о сообщениях) включает следующие поля:\n",
    "- id — уникальный номер сообщения\n",
    "- message_date — дата сообщения\n",
    "- user_id — идентификатор клиента, отправившего сообщение\n",
    "\n",
    "\n",
    "Таблица internet (информация об интернет-сессиях) включает следующие поля:\n",
    "- id — уникальный номер сессии\n",
    "- mb_used — объём потраченного за сессию интернет-трафика (в мегабайтах)\n",
    "- session_date — дата интернет-сессии\n",
    "- user_id — идентификатор клиента\n",
    "\n",
    "\n",
    "Таблица tariffs (информация о тарифах) включает следующие поля:\n",
    "- tariff_name — название тарифа\n",
    "- rub_monthly_fee — ежемесячная абонентская плата (в рублях)\n",
    "- minutes_included — количество минут в месяц, доступных по абонентской плате\n",
    "- messages_included — количество сообщений в месяц, доступных по абонентской плате\n",
    "- mb_per_month_included — объём интернет-трафика, доступного по абонентской плате (в мегабайтах)\n",
    "- rub_per_minute — стоимость минуты разговора сверх тарифного пакета\n",
    "- rub_per_message — стоимость отправки сообщения сверх тарифного пакета\n",
    "- rub_per_gb — стоимость дополнительного гигабайта интернет-трафика сверх тарифного пакета (1 гигабайт = 1024 мегабайта)"
   ]
  },
  {
   "cell_type": "markdown",
   "metadata": {},
   "source": [
    "# Описание тарифов:\n",
    "\n",
    "**Тариф «Смарт»**\n",
    "\n",
    "\n",
    "- Ежемесячная плата: 550 рублей\n",
    "- Включено 500 минут разговора, 50 сообщений и 15 Гб интернет-трафика\n",
    "\n",
    "Стоимость услуг помимо тарифного пакета: \n",
    "1. минута разговора: 3 рубля (округление вверх значений минут и мегабайтов. Если пользователь проговорил всего 1 секунду, в тарифе засчитывается целая минута); \n",
    "2. сообщение: 3 рубля; \n",
    "3. 1 Гб интернет-трафика: 200 рублей.\n",
    "\n",
    "\n",
    "**Тариф «Ультра»**\n",
    "\n",
    "\n",
    "- Ежемесячная плата: 1950 рублей\n",
    "- Включено 3000 минут разговора, 1000 сообщений и 30 Гб интернет-трафика\n",
    "\n",
    "Стоимость услуг помимо тарифного пакета: \n",
    "1. минута разговора: 1 рубль; \n",
    "2. сообщение: 1 рубль; \n",
    "3. 1 Гб интернет-трафика: 150 рублей.\n",
    "\n",
    "**Примечание:**\n",
    "\n",
    "Сотовый оператор всегда округляет секунды до минут, а мегабайты — до гигабайт. Каждый звонок округляется отдельно: даже если он длился всего 1 секунду, будет засчитан как 1 минута.\n",
    "\n",
    "Для веб-трафика отдельные сессии не считаются. Вместо этого общая сумма за месяц округляется в бо́льшую сторону. Если абонент использует 1025 мегабайт в этом месяце, с него возьмут плату за 2 гигабайта."
   ]
  },
  {
   "cell_type": "markdown",
   "metadata": {},
   "source": [
    "# Содержание\n",
    "\n",
    "1. [Шаг 1. Загрузка датасета и подготовка его к анализу](#start)\n",
    "    * [Вывод:](#start_total)\n",
    "2. [Шаг 2. Предобработка данных](#preprocessing)\n",
    "    * [Приведение данных к нужным типам](#float_to_int)\n",
    "    * [Исправление ошибок в данных](#mistakes)\n",
    "    * [Подсчет требуемых параметров](#users_add)\n",
    "    * [Вывод](#preprocessing_total)\n",
    "3. [Шаг 3. Анализ поведения клиентов оператора](#analysis)\n",
    "    * [Вывод](#analisis_total)\n",
    "4. [Шаг 4. Проверка гипотез](#hypotesis)\n",
    "    * [Вывод](#hypotesis_total) \n",
    "5. [Шаг 5. Общий вывод](#total)"
   ]
  },
  {
   "cell_type": "markdown",
   "metadata": {},
   "source": [
    "## Шаг 1. Загрузка датасета и подготовка его к анализу <a id=\"start\"></a>"
   ]
  },
  {
   "cell_type": "code",
   "execution_count": 1,
   "metadata": {},
   "outputs": [],
   "source": [
    "import pandas as pd\n",
    "import matplotlib.pyplot as plt\n",
    "import seaborn as sns\n",
    "import numpy as np\n",
    "import math\n",
    "from scipy import stats as st\n",
    "from functools import reduce\n",
    "\n",
    "data_calls = pd.read_csv('.../4_mobile_calls.csv', sep = ',')\n",
    "data_internet = pd.read_csv('.../4_mobile_internet.csv', sep = ',')\n",
    "data_messages = pd.read_csv('.../4_mobile_messages.csv', sep = ',')\n",
    "data_tariffs = pd.read_csv('.../4_mobile_tariffs.csv', sep = ',')\n",
    "data_users = pd.read_csv('.../4_mobile_users.csv', sep = ',')"
   ]
  },
  {
   "cell_type": "code",
   "execution_count": 2,
   "metadata": {},
   "outputs": [
    {
     "data": {
      "text/html": [
       "<div>\n",
       "<style scoped>\n",
       "    .dataframe tbody tr th:only-of-type {\n",
       "        vertical-align: middle;\n",
       "    }\n",
       "\n",
       "    .dataframe tbody tr th {\n",
       "        vertical-align: top;\n",
       "    }\n",
       "\n",
       "    .dataframe thead th {\n",
       "        text-align: right;\n",
       "    }\n",
       "</style>\n",
       "<table border=\"1\" class=\"dataframe\">\n",
       "  <thead>\n",
       "    <tr style=\"text-align: right;\">\n",
       "      <th></th>\n",
       "      <th>user_id</th>\n",
       "      <th>month</th>\n",
       "      <th>duration_sum</th>\n",
       "      <th>duration_count</th>\n",
       "    </tr>\n",
       "  </thead>\n",
       "  <tbody>\n",
       "    <tr>\n",
       "      <th>0</th>\n",
       "      <td>1000</td>\n",
       "      <td>5</td>\n",
       "      <td>159.0</td>\n",
       "      <td>22</td>\n",
       "    </tr>\n",
       "    <tr>\n",
       "      <th>1</th>\n",
       "      <td>1000</td>\n",
       "      <td>6</td>\n",
       "      <td>172.0</td>\n",
       "      <td>43</td>\n",
       "    </tr>\n",
       "    <tr>\n",
       "      <th>2</th>\n",
       "      <td>1000</td>\n",
       "      <td>7</td>\n",
       "      <td>340.0</td>\n",
       "      <td>47</td>\n",
       "    </tr>\n",
       "    <tr>\n",
       "      <th>3</th>\n",
       "      <td>1000</td>\n",
       "      <td>8</td>\n",
       "      <td>408.0</td>\n",
       "      <td>52</td>\n",
       "    </tr>\n",
       "    <tr>\n",
       "      <th>4</th>\n",
       "      <td>1000</td>\n",
       "      <td>9</td>\n",
       "      <td>466.0</td>\n",
       "      <td>58</td>\n",
       "    </tr>\n",
       "    <tr>\n",
       "      <th>5</th>\n",
       "      <td>1000</td>\n",
       "      <td>10</td>\n",
       "      <td>350.0</td>\n",
       "      <td>57</td>\n",
       "    </tr>\n",
       "    <tr>\n",
       "      <th>6</th>\n",
       "      <td>1000</td>\n",
       "      <td>11</td>\n",
       "      <td>338.0</td>\n",
       "      <td>43</td>\n",
       "    </tr>\n",
       "    <tr>\n",
       "      <th>7</th>\n",
       "      <td>1000</td>\n",
       "      <td>12</td>\n",
       "      <td>333.0</td>\n",
       "      <td>46</td>\n",
       "    </tr>\n",
       "    <tr>\n",
       "      <th>8</th>\n",
       "      <td>1001</td>\n",
       "      <td>11</td>\n",
       "      <td>430.0</td>\n",
       "      <td>59</td>\n",
       "    </tr>\n",
       "    <tr>\n",
       "      <th>9</th>\n",
       "      <td>1001</td>\n",
       "      <td>12</td>\n",
       "      <td>414.0</td>\n",
       "      <td>63</td>\n",
       "    </tr>\n",
       "    <tr>\n",
       "      <th>10</th>\n",
       "      <td>1002</td>\n",
       "      <td>6</td>\n",
       "      <td>117.0</td>\n",
       "      <td>15</td>\n",
       "    </tr>\n",
       "    <tr>\n",
       "      <th>11</th>\n",
       "      <td>1002</td>\n",
       "      <td>7</td>\n",
       "      <td>214.0</td>\n",
       "      <td>26</td>\n",
       "    </tr>\n",
       "    <tr>\n",
       "      <th>12</th>\n",
       "      <td>1002</td>\n",
       "      <td>8</td>\n",
       "      <td>289.0</td>\n",
       "      <td>42</td>\n",
       "    </tr>\n",
       "    <tr>\n",
       "      <th>13</th>\n",
       "      <td>1002</td>\n",
       "      <td>9</td>\n",
       "      <td>206.0</td>\n",
       "      <td>36</td>\n",
       "    </tr>\n",
       "    <tr>\n",
       "      <th>14</th>\n",
       "      <td>1002</td>\n",
       "      <td>10</td>\n",
       "      <td>212.0</td>\n",
       "      <td>33</td>\n",
       "    </tr>\n",
       "    <tr>\n",
       "      <th>15</th>\n",
       "      <td>1002</td>\n",
       "      <td>11</td>\n",
       "      <td>243.0</td>\n",
       "      <td>32</td>\n",
       "    </tr>\n",
       "    <tr>\n",
       "      <th>16</th>\n",
       "      <td>1002</td>\n",
       "      <td>12</td>\n",
       "      <td>236.0</td>\n",
       "      <td>33</td>\n",
       "    </tr>\n",
       "    <tr>\n",
       "      <th>17</th>\n",
       "      <td>1003</td>\n",
       "      <td>8</td>\n",
       "      <td>380.0</td>\n",
       "      <td>55</td>\n",
       "    </tr>\n",
       "    <tr>\n",
       "      <th>18</th>\n",
       "      <td>1003</td>\n",
       "      <td>9</td>\n",
       "      <td>961.0</td>\n",
       "      <td>134</td>\n",
       "    </tr>\n",
       "    <tr>\n",
       "      <th>19</th>\n",
       "      <td>1003</td>\n",
       "      <td>10</td>\n",
       "      <td>855.0</td>\n",
       "      <td>108</td>\n",
       "    </tr>\n",
       "  </tbody>\n",
       "</table>\n",
       "</div>"
      ],
      "text/plain": [
       "    user_id  month  duration_sum  duration_count\n",
       "0      1000      5         159.0              22\n",
       "1      1000      6         172.0              43\n",
       "2      1000      7         340.0              47\n",
       "3      1000      8         408.0              52\n",
       "4      1000      9         466.0              58\n",
       "5      1000     10         350.0              57\n",
       "6      1000     11         338.0              43\n",
       "7      1000     12         333.0              46\n",
       "8      1001     11         430.0              59\n",
       "9      1001     12         414.0              63\n",
       "10     1002      6         117.0              15\n",
       "11     1002      7         214.0              26\n",
       "12     1002      8         289.0              42\n",
       "13     1002      9         206.0              36\n",
       "14     1002     10         212.0              33\n",
       "15     1002     11         243.0              32\n",
       "16     1002     12         236.0              33\n",
       "17     1003      8         380.0              55\n",
       "18     1003      9         961.0             134\n",
       "19     1003     10         855.0             108"
      ]
     },
     "execution_count": 2,
     "metadata": {},
     "output_type": "execute_result"
    }
   ],
   "source": [
    "# <получение первых строк таблицы>\n",
    "# <Используем метод to_datetime() для перевода строк в даты>\n",
    "# <Добавляем в датафрейм столбец с месяцем>\n",
    "# <Удаляем из датафрейма столбец с ненужной нам полной датой>\n",
    "\n",
    "data_calls['call_date'] = pd.to_datetime(data_calls['call_date'], format='%Y-%m-%dT%H:%M:%S')\n",
    "data_calls['month'] = data_calls['call_date'].dt.month\n",
    "\n",
    "# <Округляем продолжительность звонка вверх в соответствии с тарифом>\n",
    "data_calls['duration'] = np.ceil(data_calls['duration'])\n",
    "\n",
    "\n",
    "# < Создаем сводную таблицу, в которой считаем количество звонков по месяцам>\n",
    "data_calls_count_duration = data_calls.pivot_table(index = ['user_id','month'], \n",
    "                                      values = 'duration',\n",
    "                                      aggfunc = 'count').reset_index()\n",
    "\n",
    "# < Создаем сводную таблицу, в которой суммируем продолжительность разговоров по месяцам>\n",
    "data_calls_sum_duration = data_calls.pivot_table(index = ['user_id','month'], \n",
    "                                      values = 'duration',\n",
    "                                      aggfunc = 'sum').reset_index()\n",
    "\n",
    "# < Соединяем в одну сводную таблицу и переименовываем названия столбцов >\n",
    "data_calls = data_calls_sum_duration.merge(data_calls_count_duration, on=['user_id','month'], how='outer')\n",
    "\n",
    "# <Переименовывание названия столбца duration_x в duration_sum>\n",
    "data_calls.rename(columns={'duration_x': 'duration_sum'}, inplace=True)\n",
    "\n",
    "# <Переименовывание названия столбца duration_y в duration_count>\n",
    "data_calls.rename(columns={'duration_y': 'duration_count'}, inplace=True)\n",
    "\n",
    "data_calls.head(20)"
   ]
  },
  {
   "cell_type": "code",
   "execution_count": 3,
   "metadata": {},
   "outputs": [
    {
     "data": {
      "text/html": [
       "<div>\n",
       "<style scoped>\n",
       "    .dataframe tbody tr th:only-of-type {\n",
       "        vertical-align: middle;\n",
       "    }\n",
       "\n",
       "    .dataframe tbody tr th {\n",
       "        vertical-align: top;\n",
       "    }\n",
       "\n",
       "    .dataframe thead th {\n",
       "        text-align: right;\n",
       "    }\n",
       "</style>\n",
       "<table border=\"1\" class=\"dataframe\">\n",
       "  <thead>\n",
       "    <tr style=\"text-align: right;\">\n",
       "      <th></th>\n",
       "      <th>user_id</th>\n",
       "      <th>month</th>\n",
       "      <th>mb_used</th>\n",
       "    </tr>\n",
       "  </thead>\n",
       "  <tbody>\n",
       "    <tr>\n",
       "      <th>0</th>\n",
       "      <td>1000</td>\n",
       "      <td>5</td>\n",
       "      <td>2254.0</td>\n",
       "    </tr>\n",
       "    <tr>\n",
       "      <th>1</th>\n",
       "      <td>1000</td>\n",
       "      <td>6</td>\n",
       "      <td>23234.0</td>\n",
       "    </tr>\n",
       "    <tr>\n",
       "      <th>2</th>\n",
       "      <td>1000</td>\n",
       "      <td>7</td>\n",
       "      <td>14004.0</td>\n",
       "    </tr>\n",
       "    <tr>\n",
       "      <th>3</th>\n",
       "      <td>1000</td>\n",
       "      <td>8</td>\n",
       "      <td>14056.0</td>\n",
       "    </tr>\n",
       "    <tr>\n",
       "      <th>4</th>\n",
       "      <td>1000</td>\n",
       "      <td>9</td>\n",
       "      <td>14569.0</td>\n",
       "    </tr>\n",
       "    <tr>\n",
       "      <th>5</th>\n",
       "      <td>1000</td>\n",
       "      <td>10</td>\n",
       "      <td>14703.0</td>\n",
       "    </tr>\n",
       "    <tr>\n",
       "      <th>6</th>\n",
       "      <td>1000</td>\n",
       "      <td>11</td>\n",
       "      <td>14757.0</td>\n",
       "    </tr>\n",
       "    <tr>\n",
       "      <th>7</th>\n",
       "      <td>1000</td>\n",
       "      <td>12</td>\n",
       "      <td>9818.0</td>\n",
       "    </tr>\n",
       "    <tr>\n",
       "      <th>8</th>\n",
       "      <td>1001</td>\n",
       "      <td>11</td>\n",
       "      <td>18430.0</td>\n",
       "    </tr>\n",
       "    <tr>\n",
       "      <th>9</th>\n",
       "      <td>1001</td>\n",
       "      <td>12</td>\n",
       "      <td>14037.0</td>\n",
       "    </tr>\n",
       "  </tbody>\n",
       "</table>\n",
       "</div>"
      ],
      "text/plain": [
       "   user_id  month  mb_used\n",
       "0     1000      5   2254.0\n",
       "1     1000      6  23234.0\n",
       "2     1000      7  14004.0\n",
       "3     1000      8  14056.0\n",
       "4     1000      9  14569.0\n",
       "5     1000     10  14703.0\n",
       "6     1000     11  14757.0\n",
       "7     1000     12   9818.0\n",
       "8     1001     11  18430.0\n",
       "9     1001     12  14037.0"
      ]
     },
     "execution_count": 3,
     "metadata": {},
     "output_type": "execute_result"
    }
   ],
   "source": [
    "# <Используем метод to_datetime() для перевода строк в даты>\n",
    "# <Добавляем в датафрейм столбец с месяцем>\n",
    "# <Удаляем из датафрейма столбец с ненужной нам полной датой>\n",
    "\n",
    "data_internet['session_date'] = pd.to_datetime(data_internet['session_date'], format='%Y-%m-%dT%H:%M:%S')\n",
    "data_internet['month'] = data_internet['session_date'].dt.month\n",
    "\n",
    "# < Создаем сводную таблицу, в которой суммируем количество мб по месяцам>\n",
    "data_internet = data_internet.pivot_table(index = ['user_id','month'], \n",
    "                                      values = 'mb_used',\n",
    "                                      aggfunc = 'sum').reset_index()\n",
    "\n",
    "# <Округляем количество мегабайт вверх в соответствии с тарифом>\n",
    "data_internet['mb_used'] = np.ceil(data_internet['mb_used'])\n",
    "\n",
    "data_internet.head(10)"
   ]
  },
  {
   "cell_type": "code",
   "execution_count": 4,
   "metadata": {},
   "outputs": [
    {
     "data": {
      "text/html": [
       "<div>\n",
       "<style scoped>\n",
       "    .dataframe tbody tr th:only-of-type {\n",
       "        vertical-align: middle;\n",
       "    }\n",
       "\n",
       "    .dataframe tbody tr th {\n",
       "        vertical-align: top;\n",
       "    }\n",
       "\n",
       "    .dataframe thead th {\n",
       "        text-align: right;\n",
       "    }\n",
       "</style>\n",
       "<table border=\"1\" class=\"dataframe\">\n",
       "  <thead>\n",
       "    <tr style=\"text-align: right;\">\n",
       "      <th></th>\n",
       "      <th>user_id</th>\n",
       "      <th>month</th>\n",
       "      <th>messages_total</th>\n",
       "    </tr>\n",
       "  </thead>\n",
       "  <tbody>\n",
       "    <tr>\n",
       "      <th>0</th>\n",
       "      <td>1000</td>\n",
       "      <td>5</td>\n",
       "      <td>22</td>\n",
       "    </tr>\n",
       "    <tr>\n",
       "      <th>1</th>\n",
       "      <td>1000</td>\n",
       "      <td>6</td>\n",
       "      <td>60</td>\n",
       "    </tr>\n",
       "    <tr>\n",
       "      <th>2</th>\n",
       "      <td>1000</td>\n",
       "      <td>7</td>\n",
       "      <td>75</td>\n",
       "    </tr>\n",
       "    <tr>\n",
       "      <th>3</th>\n",
       "      <td>1000</td>\n",
       "      <td>8</td>\n",
       "      <td>81</td>\n",
       "    </tr>\n",
       "    <tr>\n",
       "      <th>4</th>\n",
       "      <td>1000</td>\n",
       "      <td>9</td>\n",
       "      <td>57</td>\n",
       "    </tr>\n",
       "    <tr>\n",
       "      <th>5</th>\n",
       "      <td>1000</td>\n",
       "      <td>10</td>\n",
       "      <td>73</td>\n",
       "    </tr>\n",
       "    <tr>\n",
       "      <th>6</th>\n",
       "      <td>1000</td>\n",
       "      <td>11</td>\n",
       "      <td>58</td>\n",
       "    </tr>\n",
       "    <tr>\n",
       "      <th>7</th>\n",
       "      <td>1000</td>\n",
       "      <td>12</td>\n",
       "      <td>70</td>\n",
       "    </tr>\n",
       "    <tr>\n",
       "      <th>8</th>\n",
       "      <td>1002</td>\n",
       "      <td>6</td>\n",
       "      <td>4</td>\n",
       "    </tr>\n",
       "    <tr>\n",
       "      <th>9</th>\n",
       "      <td>1002</td>\n",
       "      <td>7</td>\n",
       "      <td>11</td>\n",
       "    </tr>\n",
       "  </tbody>\n",
       "</table>\n",
       "</div>"
      ],
      "text/plain": [
       "   user_id  month  messages_total\n",
       "0     1000      5              22\n",
       "1     1000      6              60\n",
       "2     1000      7              75\n",
       "3     1000      8              81\n",
       "4     1000      9              57\n",
       "5     1000     10              73\n",
       "6     1000     11              58\n",
       "7     1000     12              70\n",
       "8     1002      6               4\n",
       "9     1002      7              11"
      ]
     },
     "execution_count": 4,
     "metadata": {},
     "output_type": "execute_result"
    }
   ],
   "source": [
    "# <получение первых строк таблицы>\n",
    "# <Используем метод to_datetime() для перевода строк в даты>\n",
    "# <Добавляем в датафрейм столбец с месяцем>\n",
    "# <Удаляем из датафрейма столбец с ненужной нам полной датой>\n",
    "\n",
    "data_messages['message_date'] = pd.to_datetime(data_messages['message_date'], format='%Y-%m-%dT%H:%M:%S')\n",
    "data_messages['month'] = data_messages['message_date'].dt.month\n",
    "del data_messages['message_date']\n",
    "\n",
    "# < Создаем сводную таблицу, в которой суммируем количество смс по месяцам>\n",
    "data_messages = data_messages.pivot_table(index = ['user_id','month'], \n",
    "                                      values = 'id',\n",
    "                                      aggfunc = 'count').reset_index()\n",
    "\n",
    "# <Переименовывание названия столбца id в messages_total>\n",
    "data_messages.rename(columns={'id': 'messages_total'}, inplace=True)\n",
    "\n",
    "data_messages.head(10)"
   ]
  },
  {
   "cell_type": "code",
   "execution_count": 5,
   "metadata": {},
   "outputs": [
    {
     "data": {
      "text/html": [
       "<div>\n",
       "<style scoped>\n",
       "    .dataframe tbody tr th:only-of-type {\n",
       "        vertical-align: middle;\n",
       "    }\n",
       "\n",
       "    .dataframe tbody tr th {\n",
       "        vertical-align: top;\n",
       "    }\n",
       "\n",
       "    .dataframe thead th {\n",
       "        text-align: right;\n",
       "    }\n",
       "</style>\n",
       "<table border=\"1\" class=\"dataframe\">\n",
       "  <thead>\n",
       "    <tr style=\"text-align: right;\">\n",
       "      <th></th>\n",
       "      <th>messages_included</th>\n",
       "      <th>mb_per_month_included</th>\n",
       "      <th>minutes_included</th>\n",
       "      <th>rub_monthly_fee</th>\n",
       "      <th>rub_per_gb</th>\n",
       "      <th>rub_per_message</th>\n",
       "      <th>rub_per_minute</th>\n",
       "      <th>tariff</th>\n",
       "    </tr>\n",
       "  </thead>\n",
       "  <tbody>\n",
       "    <tr>\n",
       "      <th>0</th>\n",
       "      <td>50</td>\n",
       "      <td>15360</td>\n",
       "      <td>500</td>\n",
       "      <td>550</td>\n",
       "      <td>200</td>\n",
       "      <td>3</td>\n",
       "      <td>3</td>\n",
       "      <td>smart</td>\n",
       "    </tr>\n",
       "    <tr>\n",
       "      <th>1</th>\n",
       "      <td>1000</td>\n",
       "      <td>30720</td>\n",
       "      <td>3000</td>\n",
       "      <td>1950</td>\n",
       "      <td>150</td>\n",
       "      <td>1</td>\n",
       "      <td>1</td>\n",
       "      <td>ultra</td>\n",
       "    </tr>\n",
       "  </tbody>\n",
       "</table>\n",
       "</div>"
      ],
      "text/plain": [
       "   messages_included  mb_per_month_included  minutes_included  \\\n",
       "0                 50                  15360               500   \n",
       "1               1000                  30720              3000   \n",
       "\n",
       "   rub_monthly_fee  rub_per_gb  rub_per_message  rub_per_minute tariff  \n",
       "0              550         200                3               3  smart  \n",
       "1             1950         150                1               1  ultra  "
      ]
     },
     "execution_count": 5,
     "metadata": {},
     "output_type": "execute_result"
    }
   ],
   "source": [
    "# <Переименовываем название столбца tariff_name в tariff, чтобы использовать его как ключ>\n",
    "data_tariffs.rename(columns={'tariff_name': 'tariff'}, inplace=True)\n",
    "\n",
    "# <получение первых строк таблицы>\n",
    "data_tariffs.head()"
   ]
  },
  {
   "cell_type": "code",
   "execution_count": 6,
   "metadata": {},
   "outputs": [
    {
     "data": {
      "text/html": [
       "<div>\n",
       "<style scoped>\n",
       "    .dataframe tbody tr th:only-of-type {\n",
       "        vertical-align: middle;\n",
       "    }\n",
       "\n",
       "    .dataframe tbody tr th {\n",
       "        vertical-align: top;\n",
       "    }\n",
       "\n",
       "    .dataframe thead th {\n",
       "        text-align: right;\n",
       "    }\n",
       "</style>\n",
       "<table border=\"1\" class=\"dataframe\">\n",
       "  <thead>\n",
       "    <tr style=\"text-align: right;\">\n",
       "      <th></th>\n",
       "      <th>user_id</th>\n",
       "      <th>age</th>\n",
       "      <th>churn_date</th>\n",
       "      <th>city</th>\n",
       "      <th>first_name</th>\n",
       "      <th>last_name</th>\n",
       "      <th>reg_date</th>\n",
       "      <th>tariff</th>\n",
       "    </tr>\n",
       "  </thead>\n",
       "  <tbody>\n",
       "    <tr>\n",
       "      <th>0</th>\n",
       "      <td>1000</td>\n",
       "      <td>52</td>\n",
       "      <td>NaN</td>\n",
       "      <td>Краснодар</td>\n",
       "      <td>Рафаил</td>\n",
       "      <td>Верещагин</td>\n",
       "      <td>2018-05-25</td>\n",
       "      <td>ultra</td>\n",
       "    </tr>\n",
       "    <tr>\n",
       "      <th>1</th>\n",
       "      <td>1001</td>\n",
       "      <td>41</td>\n",
       "      <td>NaN</td>\n",
       "      <td>Москва</td>\n",
       "      <td>Иван</td>\n",
       "      <td>Ежов</td>\n",
       "      <td>2018-11-01</td>\n",
       "      <td>smart</td>\n",
       "    </tr>\n",
       "    <tr>\n",
       "      <th>2</th>\n",
       "      <td>1002</td>\n",
       "      <td>59</td>\n",
       "      <td>NaN</td>\n",
       "      <td>Стерлитамак</td>\n",
       "      <td>Евгений</td>\n",
       "      <td>Абрамович</td>\n",
       "      <td>2018-06-17</td>\n",
       "      <td>smart</td>\n",
       "    </tr>\n",
       "    <tr>\n",
       "      <th>3</th>\n",
       "      <td>1003</td>\n",
       "      <td>23</td>\n",
       "      <td>NaN</td>\n",
       "      <td>Москва</td>\n",
       "      <td>Белла</td>\n",
       "      <td>Белякова</td>\n",
       "      <td>2018-08-17</td>\n",
       "      <td>ultra</td>\n",
       "    </tr>\n",
       "    <tr>\n",
       "      <th>4</th>\n",
       "      <td>1004</td>\n",
       "      <td>68</td>\n",
       "      <td>NaN</td>\n",
       "      <td>Новокузнецк</td>\n",
       "      <td>Татьяна</td>\n",
       "      <td>Авдеенко</td>\n",
       "      <td>2018-05-14</td>\n",
       "      <td>ultra</td>\n",
       "    </tr>\n",
       "  </tbody>\n",
       "</table>\n",
       "</div>"
      ],
      "text/plain": [
       "   user_id  age churn_date         city first_name  last_name    reg_date  \\\n",
       "0     1000   52        NaN    Краснодар     Рафаил  Верещагин  2018-05-25   \n",
       "1     1001   41        NaN       Москва       Иван       Ежов  2018-11-01   \n",
       "2     1002   59        NaN  Стерлитамак    Евгений  Абрамович  2018-06-17   \n",
       "3     1003   23        NaN       Москва      Белла   Белякова  2018-08-17   \n",
       "4     1004   68        NaN  Новокузнецк    Татьяна   Авдеенко  2018-05-14   \n",
       "\n",
       "  tariff  \n",
       "0  ultra  \n",
       "1  smart  \n",
       "2  smart  \n",
       "3  ultra  \n",
       "4  ultra  "
      ]
     },
     "execution_count": 6,
     "metadata": {},
     "output_type": "execute_result"
    }
   ],
   "source": [
    "# <получение первых строк таблицы>\n",
    "data_users.head()"
   ]
  },
  {
   "cell_type": "code",
   "execution_count": 7,
   "metadata": {},
   "outputs": [
    {
     "data": {
      "text/html": [
       "<div>\n",
       "<style scoped>\n",
       "    .dataframe tbody tr th:only-of-type {\n",
       "        vertical-align: middle;\n",
       "    }\n",
       "\n",
       "    .dataframe tbody tr th {\n",
       "        vertical-align: top;\n",
       "    }\n",
       "\n",
       "    .dataframe thead th {\n",
       "        text-align: right;\n",
       "    }\n",
       "</style>\n",
       "<table border=\"1\" class=\"dataframe\">\n",
       "  <thead>\n",
       "    <tr style=\"text-align: right;\">\n",
       "      <th></th>\n",
       "      <th>user_id</th>\n",
       "      <th>month</th>\n",
       "      <th>duration_sum</th>\n",
       "      <th>duration_count</th>\n",
       "      <th>messages_total</th>\n",
       "      <th>mb_used</th>\n",
       "      <th>age</th>\n",
       "      <th>churn_date</th>\n",
       "      <th>city</th>\n",
       "      <th>first_name</th>\n",
       "      <th>last_name</th>\n",
       "      <th>reg_date</th>\n",
       "      <th>tariff</th>\n",
       "      <th>messages_included</th>\n",
       "      <th>mb_per_month_included</th>\n",
       "      <th>minutes_included</th>\n",
       "      <th>rub_monthly_fee</th>\n",
       "      <th>rub_per_gb</th>\n",
       "      <th>rub_per_message</th>\n",
       "      <th>rub_per_minute</th>\n",
       "    </tr>\n",
       "  </thead>\n",
       "  <tbody>\n",
       "    <tr>\n",
       "      <th>0</th>\n",
       "      <td>1000</td>\n",
       "      <td>5</td>\n",
       "      <td>159.0</td>\n",
       "      <td>22.0</td>\n",
       "      <td>22.0</td>\n",
       "      <td>2254.0</td>\n",
       "      <td>52</td>\n",
       "      <td>NaN</td>\n",
       "      <td>Краснодар</td>\n",
       "      <td>Рафаил</td>\n",
       "      <td>Верещагин</td>\n",
       "      <td>2018-05-25</td>\n",
       "      <td>ultra</td>\n",
       "      <td>1000</td>\n",
       "      <td>30720</td>\n",
       "      <td>3000</td>\n",
       "      <td>1950</td>\n",
       "      <td>150</td>\n",
       "      <td>1</td>\n",
       "      <td>1</td>\n",
       "    </tr>\n",
       "    <tr>\n",
       "      <th>1</th>\n",
       "      <td>1000</td>\n",
       "      <td>6</td>\n",
       "      <td>172.0</td>\n",
       "      <td>43.0</td>\n",
       "      <td>60.0</td>\n",
       "      <td>23234.0</td>\n",
       "      <td>52</td>\n",
       "      <td>NaN</td>\n",
       "      <td>Краснодар</td>\n",
       "      <td>Рафаил</td>\n",
       "      <td>Верещагин</td>\n",
       "      <td>2018-05-25</td>\n",
       "      <td>ultra</td>\n",
       "      <td>1000</td>\n",
       "      <td>30720</td>\n",
       "      <td>3000</td>\n",
       "      <td>1950</td>\n",
       "      <td>150</td>\n",
       "      <td>1</td>\n",
       "      <td>1</td>\n",
       "    </tr>\n",
       "    <tr>\n",
       "      <th>2</th>\n",
       "      <td>1000</td>\n",
       "      <td>7</td>\n",
       "      <td>340.0</td>\n",
       "      <td>47.0</td>\n",
       "      <td>75.0</td>\n",
       "      <td>14004.0</td>\n",
       "      <td>52</td>\n",
       "      <td>NaN</td>\n",
       "      <td>Краснодар</td>\n",
       "      <td>Рафаил</td>\n",
       "      <td>Верещагин</td>\n",
       "      <td>2018-05-25</td>\n",
       "      <td>ultra</td>\n",
       "      <td>1000</td>\n",
       "      <td>30720</td>\n",
       "      <td>3000</td>\n",
       "      <td>1950</td>\n",
       "      <td>150</td>\n",
       "      <td>1</td>\n",
       "      <td>1</td>\n",
       "    </tr>\n",
       "    <tr>\n",
       "      <th>3</th>\n",
       "      <td>1000</td>\n",
       "      <td>8</td>\n",
       "      <td>408.0</td>\n",
       "      <td>52.0</td>\n",
       "      <td>81.0</td>\n",
       "      <td>14056.0</td>\n",
       "      <td>52</td>\n",
       "      <td>NaN</td>\n",
       "      <td>Краснодар</td>\n",
       "      <td>Рафаил</td>\n",
       "      <td>Верещагин</td>\n",
       "      <td>2018-05-25</td>\n",
       "      <td>ultra</td>\n",
       "      <td>1000</td>\n",
       "      <td>30720</td>\n",
       "      <td>3000</td>\n",
       "      <td>1950</td>\n",
       "      <td>150</td>\n",
       "      <td>1</td>\n",
       "      <td>1</td>\n",
       "    </tr>\n",
       "    <tr>\n",
       "      <th>4</th>\n",
       "      <td>1000</td>\n",
       "      <td>9</td>\n",
       "      <td>466.0</td>\n",
       "      <td>58.0</td>\n",
       "      <td>57.0</td>\n",
       "      <td>14569.0</td>\n",
       "      <td>52</td>\n",
       "      <td>NaN</td>\n",
       "      <td>Краснодар</td>\n",
       "      <td>Рафаил</td>\n",
       "      <td>Верещагин</td>\n",
       "      <td>2018-05-25</td>\n",
       "      <td>ultra</td>\n",
       "      <td>1000</td>\n",
       "      <td>30720</td>\n",
       "      <td>3000</td>\n",
       "      <td>1950</td>\n",
       "      <td>150</td>\n",
       "      <td>1</td>\n",
       "      <td>1</td>\n",
       "    </tr>\n",
       "  </tbody>\n",
       "</table>\n",
       "</div>"
      ],
      "text/plain": [
       "   user_id  month  duration_sum  duration_count  messages_total  mb_used  age  \\\n",
       "0     1000      5         159.0            22.0            22.0   2254.0   52   \n",
       "1     1000      6         172.0            43.0            60.0  23234.0   52   \n",
       "2     1000      7         340.0            47.0            75.0  14004.0   52   \n",
       "3     1000      8         408.0            52.0            81.0  14056.0   52   \n",
       "4     1000      9         466.0            58.0            57.0  14569.0   52   \n",
       "\n",
       "  churn_date       city first_name  last_name    reg_date tariff  \\\n",
       "0        NaN  Краснодар     Рафаил  Верещагин  2018-05-25  ultra   \n",
       "1        NaN  Краснодар     Рафаил  Верещагин  2018-05-25  ultra   \n",
       "2        NaN  Краснодар     Рафаил  Верещагин  2018-05-25  ultra   \n",
       "3        NaN  Краснодар     Рафаил  Верещагин  2018-05-25  ultra   \n",
       "4        NaN  Краснодар     Рафаил  Верещагин  2018-05-25  ultra   \n",
       "\n",
       "   messages_included  mb_per_month_included  minutes_included  \\\n",
       "0               1000                  30720              3000   \n",
       "1               1000                  30720              3000   \n",
       "2               1000                  30720              3000   \n",
       "3               1000                  30720              3000   \n",
       "4               1000                  30720              3000   \n",
       "\n",
       "   rub_monthly_fee  rub_per_gb  rub_per_message  rub_per_minute  \n",
       "0             1950         150                1               1  \n",
       "1             1950         150                1               1  \n",
       "2             1950         150                1               1  \n",
       "3             1950         150                1               1  \n",
       "4             1950         150                1               1  "
      ]
     },
     "execution_count": 7,
     "metadata": {},
     "output_type": "execute_result"
    }
   ],
   "source": [
    "# < Соединение трех датафреймов с помощью reduce>\n",
    "data_frames = [data_calls, data_messages, data_internet]\n",
    "data_merged = reduce(lambda  left,right: pd.merge(left,right,on=['user_id','month'],\n",
    "                                            how='outer'), data_frames)\n",
    "\n",
    "# <Соединение оставшихся датафреймов (data_users и data_tariffs)>\n",
    "data = data_merged.merge(data_users, on='user_id', how='left').merge( data_tariffs, on='tariff', how='left')\n",
    "data.head()"
   ]
  },
  {
   "cell_type": "code",
   "execution_count": 8,
   "metadata": {},
   "outputs": [
    {
     "data": {
      "text/plain": [
       "user_id                     0\n",
       "month                       0\n",
       "duration_sum               40\n",
       "duration_count             40\n",
       "messages_total            497\n",
       "mb_used                    11\n",
       "age                         0\n",
       "churn_date               3027\n",
       "city                        0\n",
       "first_name                  0\n",
       "last_name                   0\n",
       "reg_date                    0\n",
       "tariff                      0\n",
       "messages_included           0\n",
       "mb_per_month_included       0\n",
       "minutes_included            0\n",
       "rub_monthly_fee             0\n",
       "rub_per_gb                  0\n",
       "rub_per_message             0\n",
       "rub_per_minute              0\n",
       "dtype: int64"
      ]
     },
     "execution_count": 8,
     "metadata": {},
     "output_type": "execute_result"
    }
   ],
   "source": [
    "# <получение информации о пропусках в таблице>\n",
    "data.isnull().sum()"
   ]
  },
  {
   "cell_type": "markdown",
   "metadata": {},
   "source": [
    "Из-за того, что мерджили таблицы, появились пропуски в столбцах duration_sum, duration_count, messages_total, mb_used и churn_date.\n",
    "\n",
    "Churn_date - дата прекращения пользования тарифом, соответственно, пользователи с пропущенной Churn_date еще пользуются тарифом, эти пропуски не удаляются\n",
    "\n",
    "Остальные пропуски (duration_sum, duration_count, messages_total, mb_used) заполняем нулями (не было звонков и смс, не использовались мбайты)"
   ]
  },
  {
   "cell_type": "code",
   "execution_count": 9,
   "metadata": {},
   "outputs": [],
   "source": [
    "data['duration_sum'] = data['duration_sum'].fillna(0)\n",
    "data['duration_count'] = data['duration_count'].fillna(0)\n",
    "data['messages_total'] = data['messages_total'].fillna(0)\n",
    "data['mb_used'] = data['mb_used'].fillna(0)"
   ]
  },
  {
   "cell_type": "code",
   "execution_count": 10,
   "metadata": {},
   "outputs": [
    {
     "data": {
      "text/plain": [
       "user_id                     0\n",
       "month                       0\n",
       "duration_sum                0\n",
       "duration_count              0\n",
       "messages_total              0\n",
       "mb_used                     0\n",
       "age                         0\n",
       "churn_date               3027\n",
       "city                        0\n",
       "first_name                  0\n",
       "last_name                   0\n",
       "reg_date                    0\n",
       "tariff                      0\n",
       "messages_included           0\n",
       "mb_per_month_included       0\n",
       "minutes_included            0\n",
       "rub_monthly_fee             0\n",
       "rub_per_gb                  0\n",
       "rub_per_message             0\n",
       "rub_per_minute              0\n",
       "dtype: int64"
      ]
     },
     "execution_count": 10,
     "metadata": {},
     "output_type": "execute_result"
    }
   ],
   "source": [
    "# <получение информации о пропусках в таблице>\n",
    "data.isnull().sum()"
   ]
  },
  {
   "cell_type": "code",
   "execution_count": 11,
   "metadata": {},
   "outputs": [
    {
     "data": {
      "text/html": [
       "<div>\n",
       "<style scoped>\n",
       "    .dataframe tbody tr th:only-of-type {\n",
       "        vertical-align: middle;\n",
       "    }\n",
       "\n",
       "    .dataframe tbody tr th {\n",
       "        vertical-align: top;\n",
       "    }\n",
       "\n",
       "    .dataframe thead th {\n",
       "        text-align: right;\n",
       "    }\n",
       "</style>\n",
       "<table border=\"1\" class=\"dataframe\">\n",
       "  <thead>\n",
       "    <tr style=\"text-align: right;\">\n",
       "      <th></th>\n",
       "      <th>user_id</th>\n",
       "      <th>month</th>\n",
       "      <th>duration_sum</th>\n",
       "      <th>duration_count</th>\n",
       "      <th>messages_total</th>\n",
       "      <th>mb_used</th>\n",
       "      <th>age</th>\n",
       "      <th>messages_included</th>\n",
       "      <th>mb_per_month_included</th>\n",
       "      <th>minutes_included</th>\n",
       "      <th>rub_monthly_fee</th>\n",
       "      <th>rub_per_gb</th>\n",
       "      <th>rub_per_message</th>\n",
       "      <th>rub_per_minute</th>\n",
       "    </tr>\n",
       "  </thead>\n",
       "  <tbody>\n",
       "    <tr>\n",
       "      <th>count</th>\n",
       "      <td>3214.000000</td>\n",
       "      <td>3214.000000</td>\n",
       "      <td>3214.000000</td>\n",
       "      <td>3214.000000</td>\n",
       "      <td>3214.000000</td>\n",
       "      <td>3214.000000</td>\n",
       "      <td>3214.000000</td>\n",
       "      <td>3214.000000</td>\n",
       "      <td>3214.000000</td>\n",
       "      <td>3214.000000</td>\n",
       "      <td>3214.000000</td>\n",
       "      <td>3214.000000</td>\n",
       "      <td>3214.000000</td>\n",
       "      <td>3214.000000</td>\n",
       "    </tr>\n",
       "    <tr>\n",
       "      <th>mean</th>\n",
       "      <td>1251.590230</td>\n",
       "      <td>8.317362</td>\n",
       "      <td>451.244866</td>\n",
       "      <td>63.038892</td>\n",
       "      <td>38.281269</td>\n",
       "      <td>17208.104543</td>\n",
       "      <td>46.641568</td>\n",
       "      <td>341.148102</td>\n",
       "      <td>20067.405103</td>\n",
       "      <td>1266.179216</td>\n",
       "      <td>979.060361</td>\n",
       "      <td>184.676416</td>\n",
       "      <td>2.387057</td>\n",
       "      <td>2.387057</td>\n",
       "    </tr>\n",
       "    <tr>\n",
       "      <th>std</th>\n",
       "      <td>144.659172</td>\n",
       "      <td>2.905413</td>\n",
       "      <td>241.909978</td>\n",
       "      <td>33.236368</td>\n",
       "      <td>36.148326</td>\n",
       "      <td>7570.974366</td>\n",
       "      <td>16.586109</td>\n",
       "      <td>438.044726</td>\n",
       "      <td>7082.491569</td>\n",
       "      <td>1152.749279</td>\n",
       "      <td>645.539596</td>\n",
       "      <td>23.054986</td>\n",
       "      <td>0.922199</td>\n",
       "      <td>0.922199</td>\n",
       "    </tr>\n",
       "    <tr>\n",
       "      <th>min</th>\n",
       "      <td>1000.000000</td>\n",
       "      <td>1.000000</td>\n",
       "      <td>0.000000</td>\n",
       "      <td>0.000000</td>\n",
       "      <td>0.000000</td>\n",
       "      <td>0.000000</td>\n",
       "      <td>18.000000</td>\n",
       "      <td>50.000000</td>\n",
       "      <td>15360.000000</td>\n",
       "      <td>500.000000</td>\n",
       "      <td>550.000000</td>\n",
       "      <td>150.000000</td>\n",
       "      <td>1.000000</td>\n",
       "      <td>1.000000</td>\n",
       "    </tr>\n",
       "    <tr>\n",
       "      <th>25%</th>\n",
       "      <td>1125.000000</td>\n",
       "      <td>6.000000</td>\n",
       "      <td>282.000000</td>\n",
       "      <td>40.000000</td>\n",
       "      <td>9.000000</td>\n",
       "      <td>12492.250000</td>\n",
       "      <td>32.000000</td>\n",
       "      <td>50.000000</td>\n",
       "      <td>15360.000000</td>\n",
       "      <td>500.000000</td>\n",
       "      <td>550.000000</td>\n",
       "      <td>150.000000</td>\n",
       "      <td>1.000000</td>\n",
       "      <td>1.000000</td>\n",
       "    </tr>\n",
       "    <tr>\n",
       "      <th>50%</th>\n",
       "      <td>1253.000000</td>\n",
       "      <td>9.000000</td>\n",
       "      <td>443.000000</td>\n",
       "      <td>62.000000</td>\n",
       "      <td>30.000000</td>\n",
       "      <td>16943.500000</td>\n",
       "      <td>46.000000</td>\n",
       "      <td>50.000000</td>\n",
       "      <td>15360.000000</td>\n",
       "      <td>500.000000</td>\n",
       "      <td>550.000000</td>\n",
       "      <td>200.000000</td>\n",
       "      <td>3.000000</td>\n",
       "      <td>3.000000</td>\n",
       "    </tr>\n",
       "    <tr>\n",
       "      <th>75%</th>\n",
       "      <td>1378.750000</td>\n",
       "      <td>11.000000</td>\n",
       "      <td>589.000000</td>\n",
       "      <td>82.000000</td>\n",
       "      <td>57.000000</td>\n",
       "      <td>21425.000000</td>\n",
       "      <td>62.000000</td>\n",
       "      <td>1000.000000</td>\n",
       "      <td>30720.000000</td>\n",
       "      <td>3000.000000</td>\n",
       "      <td>1950.000000</td>\n",
       "      <td>200.000000</td>\n",
       "      <td>3.000000</td>\n",
       "      <td>3.000000</td>\n",
       "    </tr>\n",
       "    <tr>\n",
       "      <th>max</th>\n",
       "      <td>1499.000000</td>\n",
       "      <td>12.000000</td>\n",
       "      <td>1673.000000</td>\n",
       "      <td>244.000000</td>\n",
       "      <td>224.000000</td>\n",
       "      <td>49746.000000</td>\n",
       "      <td>75.000000</td>\n",
       "      <td>1000.000000</td>\n",
       "      <td>30720.000000</td>\n",
       "      <td>3000.000000</td>\n",
       "      <td>1950.000000</td>\n",
       "      <td>200.000000</td>\n",
       "      <td>3.000000</td>\n",
       "      <td>3.000000</td>\n",
       "    </tr>\n",
       "  </tbody>\n",
       "</table>\n",
       "</div>"
      ],
      "text/plain": [
       "           user_id        month  duration_sum  duration_count  messages_total  \\\n",
       "count  3214.000000  3214.000000   3214.000000     3214.000000     3214.000000   \n",
       "mean   1251.590230     8.317362    451.244866       63.038892       38.281269   \n",
       "std     144.659172     2.905413    241.909978       33.236368       36.148326   \n",
       "min    1000.000000     1.000000      0.000000        0.000000        0.000000   \n",
       "25%    1125.000000     6.000000    282.000000       40.000000        9.000000   \n",
       "50%    1253.000000     9.000000    443.000000       62.000000       30.000000   \n",
       "75%    1378.750000    11.000000    589.000000       82.000000       57.000000   \n",
       "max    1499.000000    12.000000   1673.000000      244.000000      224.000000   \n",
       "\n",
       "            mb_used          age  messages_included  mb_per_month_included  \\\n",
       "count   3214.000000  3214.000000        3214.000000            3214.000000   \n",
       "mean   17208.104543    46.641568         341.148102           20067.405103   \n",
       "std     7570.974366    16.586109         438.044726            7082.491569   \n",
       "min        0.000000    18.000000          50.000000           15360.000000   \n",
       "25%    12492.250000    32.000000          50.000000           15360.000000   \n",
       "50%    16943.500000    46.000000          50.000000           15360.000000   \n",
       "75%    21425.000000    62.000000        1000.000000           30720.000000   \n",
       "max    49746.000000    75.000000        1000.000000           30720.000000   \n",
       "\n",
       "       minutes_included  rub_monthly_fee   rub_per_gb  rub_per_message  \\\n",
       "count       3214.000000      3214.000000  3214.000000      3214.000000   \n",
       "mean        1266.179216       979.060361   184.676416         2.387057   \n",
       "std         1152.749279       645.539596    23.054986         0.922199   \n",
       "min          500.000000       550.000000   150.000000         1.000000   \n",
       "25%          500.000000       550.000000   150.000000         1.000000   \n",
       "50%          500.000000       550.000000   200.000000         3.000000   \n",
       "75%         3000.000000      1950.000000   200.000000         3.000000   \n",
       "max         3000.000000      1950.000000   200.000000         3.000000   \n",
       "\n",
       "       rub_per_minute  \n",
       "count     3214.000000  \n",
       "mean         2.387057  \n",
       "std          0.922199  \n",
       "min          1.000000  \n",
       "25%          1.000000  \n",
       "50%          3.000000  \n",
       "75%          3.000000  \n",
       "max          3.000000  "
      ]
     },
     "execution_count": 11,
     "metadata": {},
     "output_type": "execute_result"
    }
   ],
   "source": [
    "# <Использование метода describe() для столбцов таблицы>\n",
    "data.describe()"
   ]
  },
  {
   "cell_type": "markdown",
   "metadata": {},
   "source": [
    "### Вывод <a id=\"start_total\"></a>"
   ]
  },
  {
   "cell_type": "markdown",
   "metadata": {},
   "source": [
    "Прочитали 5 разных таблиц в формате csv.\n",
    "\n",
    "Применили методы pd.to_datetime и dt.month, чтобы получить количество произведенных пользователями действий (смс, звонков, мб интернета) и округлили продолжительность звонков  в соответствии с политикой \"Мегалайна\" - вверх.\n",
    "\n",
    "Соединили данные из 5 таблиц в одну с помощью метода merge и выявили пропуски в столбцах (duration_sum, duration_count, messages_total, mb_used), появившиеся из-за соединения разных таблиц. Заменили пропуски в столбцах duration_sum, duration_count, messages_total, mb_used на 0.\n",
    "\n",
    "В итоговой таблице 3214 строк."
   ]
  },
  {
   "cell_type": "markdown",
   "metadata": {},
   "source": [
    "## Шаг 2. Предобработка данных<a id=\"preprocessing\"></a>"
   ]
  },
  {
   "cell_type": "markdown",
   "metadata": {},
   "source": [
    "### Приведение данных к нужным типам<a id=\"float_to_int\"></a>"
   ]
  },
  {
   "cell_type": "code",
   "execution_count": 12,
   "metadata": {},
   "outputs": [
    {
     "name": "stdout",
     "output_type": "stream",
     "text": [
      "<class 'pandas.core.frame.DataFrame'>\n",
      "Int64Index: 3214 entries, 0 to 3213\n",
      "Data columns (total 20 columns):\n",
      " #   Column                 Non-Null Count  Dtype  \n",
      "---  ------                 --------------  -----  \n",
      " 0   user_id                3214 non-null   int64  \n",
      " 1   month                  3214 non-null   int64  \n",
      " 2   duration_sum           3214 non-null   float64\n",
      " 3   duration_count         3214 non-null   float64\n",
      " 4   messages_total         3214 non-null   float64\n",
      " 5   mb_used                3214 non-null   float64\n",
      " 6   age                    3214 non-null   int64  \n",
      " 7   churn_date             187 non-null    object \n",
      " 8   city                   3214 non-null   object \n",
      " 9   first_name             3214 non-null   object \n",
      " 10  last_name              3214 non-null   object \n",
      " 11  reg_date               3214 non-null   object \n",
      " 12  tariff                 3214 non-null   object \n",
      " 13  messages_included      3214 non-null   int64  \n",
      " 14  mb_per_month_included  3214 non-null   int64  \n",
      " 15  minutes_included       3214 non-null   int64  \n",
      " 16  rub_monthly_fee        3214 non-null   int64  \n",
      " 17  rub_per_gb             3214 non-null   int64  \n",
      " 18  rub_per_message        3214 non-null   int64  \n",
      " 19  rub_per_minute         3214 non-null   int64  \n",
      "dtypes: float64(4), int64(10), object(6)\n",
      "memory usage: 527.3+ KB\n"
     ]
    }
   ],
   "source": [
    "data.info()"
   ]
  },
  {
   "cell_type": "markdown",
   "metadata": {},
   "source": [
    "С учетом того, что уже было проведено округление в большую сторону, можно воспрользоваться методом .astype('int64') (чтобы обработать эти столбцы, несмотря на пропуски в данных)\n",
    "\n",
    "Следует заменить тип float64 на тип int в трех столбцах: duration, messages_total, mb_used "
   ]
  },
  {
   "cell_type": "code",
   "execution_count": 13,
   "metadata": {},
   "outputs": [
    {
     "name": "stdout",
     "output_type": "stream",
     "text": [
      "<class 'pandas.core.frame.DataFrame'>\n",
      "Int64Index: 3214 entries, 0 to 3213\n",
      "Data columns (total 20 columns):\n",
      " #   Column                 Non-Null Count  Dtype \n",
      "---  ------                 --------------  ----- \n",
      " 0   user_id                3214 non-null   int64 \n",
      " 1   month                  3214 non-null   int64 \n",
      " 2   duration_sum           3214 non-null   Int64 \n",
      " 3   duration_count         3214 non-null   Int64 \n",
      " 4   messages_total         3214 non-null   Int64 \n",
      " 5   mb_used                3214 non-null   Int64 \n",
      " 6   age                    3214 non-null   int64 \n",
      " 7   churn_date             187 non-null    object\n",
      " 8   city                   3214 non-null   object\n",
      " 9   first_name             3214 non-null   object\n",
      " 10  last_name              3214 non-null   object\n",
      " 11  reg_date               3214 non-null   object\n",
      " 12  tariff                 3214 non-null   object\n",
      " 13  messages_included      3214 non-null   int64 \n",
      " 14  mb_per_month_included  3214 non-null   int64 \n",
      " 15  minutes_included       3214 non-null   int64 \n",
      " 16  rub_monthly_fee        3214 non-null   int64 \n",
      " 17  rub_per_gb             3214 non-null   int64 \n",
      " 18  rub_per_message        3214 non-null   int64 \n",
      " 19  rub_per_minute         3214 non-null   int64 \n",
      "dtypes: Int64(4), int64(10), object(6)\n",
      "memory usage: 539.9+ KB\n"
     ]
    }
   ],
   "source": [
    "# < Цикл для перевода в int64 c помощью метода astype>\n",
    "list_of_columns = ['duration_sum', 'duration_count', 'messages_total', 'mb_used']\n",
    "for column in list_of_columns:\n",
    "    data[column] = data[column].astype('Int64')\n",
    "\n",
    "data.info()\n",
    "\n",
    "# <Изменили тип данных в выбранных столбцах>"
   ]
  },
  {
   "cell_type": "markdown",
   "metadata": {},
   "source": [
    "С помощью метода .astype('Int64') поменяли тип данных с float64 на Int64 у четырех столбцов с пропусками: duration_sum, duration_count, messages_total, mb_used"
   ]
  },
  {
   "cell_type": "markdown",
   "metadata": {},
   "source": [
    "### Исправление ошибок в данных<a id=\"mistakes\"></a>\n",
    "Поясните, какие ошибки вы нашли и как их исправили. \n",
    "\n",
    "В данных вы найдёте звонки с нулевой продолжительностью. Это не ошибка: нулями обозначены пропущенные звонки, поэтому их не нужно удалять."
   ]
  },
  {
   "cell_type": "code",
   "execution_count": 14,
   "metadata": {},
   "outputs": [
    {
     "data": {
      "text/plain": [
       "0"
      ]
     },
     "execution_count": 14,
     "metadata": {},
     "output_type": "execute_result"
    }
   ],
   "source": [
    "# <получение суммарного количества дубликатов в таблице >\n",
    "data.duplicated(keep = False).sum()\n",
    "\n",
    "# <Автоматическая обработка дубликатов не выявила>"
   ]
  },
  {
   "cell_type": "code",
   "execution_count": 15,
   "metadata": {},
   "outputs": [
    {
     "data": {
      "image/png": "[encoded data removed]",
      "text/plain": [
       "<Figure size 864x576 with 1 Axes>"
      ]
     },
     "metadata": {
      "needs_background": "light"
     },
     "output_type": "display_data"
    },
    {
     "data": {
      "image/png": "[encoded data removed]",
      "text/plain": [
       "<Figure size 864x576 with 1 Axes>"
      ]
     },
     "metadata": {
      "needs_background": "light"
     },
     "output_type": "display_data"
    },
    {
     "data": {
      "image/png": "[encoded data removed]",
      "text/plain": [
       "<Figure size 864x576 with 1 Axes>"
      ]
     },
     "metadata": {
      "needs_background": "light"
     },
     "output_type": "display_data"
    }
   ],
   "source": [
    "# <Выводим гистограммы 0-значений в столбцах: duration_sum, messages_total, mb_used >\n",
    "list_of_columns = ['duration_sum', 'messages_total', 'mb_used']\n",
    "for column in list_of_columns:\n",
    "    plt.figure(figsize=(12, 8))\n",
    "    data[column].hist(bins = 100)\n",
    "    plt.title(column)\n",
    "    plt.ylabel('Frequency')\n",
    "    plt.xlabel(column)\n",
    "    plt.show()"
   ]
  },
  {
   "cell_type": "markdown",
   "metadata": {},
   "source": [
    "Считаем пользователей, которые использовали 0 минут, 0 смс и 0 мб, не пользующимися тарифом, удаляем их"
   ]
  },
  {
   "cell_type": "code",
   "execution_count": 16,
   "metadata": {},
   "outputs": [
    {
     "data": {
      "text/html": [
       "<div>\n",
       "<style scoped>\n",
       "    .dataframe tbody tr th:only-of-type {\n",
       "        vertical-align: middle;\n",
       "    }\n",
       "\n",
       "    .dataframe tbody tr th {\n",
       "        vertical-align: top;\n",
       "    }\n",
       "\n",
       "    .dataframe thead th {\n",
       "        text-align: right;\n",
       "    }\n",
       "</style>\n",
       "<table border=\"1\" class=\"dataframe\">\n",
       "  <thead>\n",
       "    <tr style=\"text-align: right;\">\n",
       "      <th></th>\n",
       "      <th>user_id</th>\n",
       "      <th>month</th>\n",
       "      <th>duration_sum</th>\n",
       "      <th>duration_count</th>\n",
       "      <th>messages_total</th>\n",
       "      <th>mb_used</th>\n",
       "      <th>age</th>\n",
       "      <th>churn_date</th>\n",
       "      <th>city</th>\n",
       "      <th>first_name</th>\n",
       "      <th>last_name</th>\n",
       "      <th>reg_date</th>\n",
       "      <th>tariff</th>\n",
       "      <th>messages_included</th>\n",
       "      <th>mb_per_month_included</th>\n",
       "      <th>minutes_included</th>\n",
       "      <th>rub_monthly_fee</th>\n",
       "      <th>rub_per_gb</th>\n",
       "      <th>rub_per_message</th>\n",
       "      <th>rub_per_minute</th>\n",
       "    </tr>\n",
       "  </thead>\n",
       "  <tbody>\n",
       "    <tr>\n",
       "      <th>0</th>\n",
       "      <td>1000</td>\n",
       "      <td>5</td>\n",
       "      <td>159</td>\n",
       "      <td>22</td>\n",
       "      <td>22</td>\n",
       "      <td>2254</td>\n",
       "      <td>52</td>\n",
       "      <td>NaN</td>\n",
       "      <td>Краснодар</td>\n",
       "      <td>Рафаил</td>\n",
       "      <td>Верещагин</td>\n",
       "      <td>2018-05-25</td>\n",
       "      <td>ultra</td>\n",
       "      <td>1000</td>\n",
       "      <td>30720</td>\n",
       "      <td>3000</td>\n",
       "      <td>1950</td>\n",
       "      <td>150</td>\n",
       "      <td>1</td>\n",
       "      <td>1</td>\n",
       "    </tr>\n",
       "    <tr>\n",
       "      <th>1</th>\n",
       "      <td>1000</td>\n",
       "      <td>6</td>\n",
       "      <td>172</td>\n",
       "      <td>43</td>\n",
       "      <td>60</td>\n",
       "      <td>23234</td>\n",
       "      <td>52</td>\n",
       "      <td>NaN</td>\n",
       "      <td>Краснодар</td>\n",
       "      <td>Рафаил</td>\n",
       "      <td>Верещагин</td>\n",
       "      <td>2018-05-25</td>\n",
       "      <td>ultra</td>\n",
       "      <td>1000</td>\n",
       "      <td>30720</td>\n",
       "      <td>3000</td>\n",
       "      <td>1950</td>\n",
       "      <td>150</td>\n",
       "      <td>1</td>\n",
       "      <td>1</td>\n",
       "    </tr>\n",
       "    <tr>\n",
       "      <th>2</th>\n",
       "      <td>1000</td>\n",
       "      <td>7</td>\n",
       "      <td>340</td>\n",
       "      <td>47</td>\n",
       "      <td>75</td>\n",
       "      <td>14004</td>\n",
       "      <td>52</td>\n",
       "      <td>NaN</td>\n",
       "      <td>Краснодар</td>\n",
       "      <td>Рафаил</td>\n",
       "      <td>Верещагин</td>\n",
       "      <td>2018-05-25</td>\n",
       "      <td>ultra</td>\n",
       "      <td>1000</td>\n",
       "      <td>30720</td>\n",
       "      <td>3000</td>\n",
       "      <td>1950</td>\n",
       "      <td>150</td>\n",
       "      <td>1</td>\n",
       "      <td>1</td>\n",
       "    </tr>\n",
       "    <tr>\n",
       "      <th>3</th>\n",
       "      <td>1000</td>\n",
       "      <td>8</td>\n",
       "      <td>408</td>\n",
       "      <td>52</td>\n",
       "      <td>81</td>\n",
       "      <td>14056</td>\n",
       "      <td>52</td>\n",
       "      <td>NaN</td>\n",
       "      <td>Краснодар</td>\n",
       "      <td>Рафаил</td>\n",
       "      <td>Верещагин</td>\n",
       "      <td>2018-05-25</td>\n",
       "      <td>ultra</td>\n",
       "      <td>1000</td>\n",
       "      <td>30720</td>\n",
       "      <td>3000</td>\n",
       "      <td>1950</td>\n",
       "      <td>150</td>\n",
       "      <td>1</td>\n",
       "      <td>1</td>\n",
       "    </tr>\n",
       "    <tr>\n",
       "      <th>4</th>\n",
       "      <td>1000</td>\n",
       "      <td>9</td>\n",
       "      <td>466</td>\n",
       "      <td>58</td>\n",
       "      <td>57</td>\n",
       "      <td>14569</td>\n",
       "      <td>52</td>\n",
       "      <td>NaN</td>\n",
       "      <td>Краснодар</td>\n",
       "      <td>Рафаил</td>\n",
       "      <td>Верещагин</td>\n",
       "      <td>2018-05-25</td>\n",
       "      <td>ultra</td>\n",
       "      <td>1000</td>\n",
       "      <td>30720</td>\n",
       "      <td>3000</td>\n",
       "      <td>1950</td>\n",
       "      <td>150</td>\n",
       "      <td>1</td>\n",
       "      <td>1</td>\n",
       "    </tr>\n",
       "  </tbody>\n",
       "</table>\n",
       "</div>"
      ],
      "text/plain": [
       "   user_id  month  duration_sum  duration_count  messages_total  mb_used  age  \\\n",
       "0     1000      5           159              22              22     2254   52   \n",
       "1     1000      6           172              43              60    23234   52   \n",
       "2     1000      7           340              47              75    14004   52   \n",
       "3     1000      8           408              52              81    14056   52   \n",
       "4     1000      9           466              58              57    14569   52   \n",
       "\n",
       "  churn_date       city first_name  last_name    reg_date tariff  \\\n",
       "0        NaN  Краснодар     Рафаил  Верещагин  2018-05-25  ultra   \n",
       "1        NaN  Краснодар     Рафаил  Верещагин  2018-05-25  ultra   \n",
       "2        NaN  Краснодар     Рафаил  Верещагин  2018-05-25  ultra   \n",
       "3        NaN  Краснодар     Рафаил  Верещагин  2018-05-25  ultra   \n",
       "4        NaN  Краснодар     Рафаил  Верещагин  2018-05-25  ultra   \n",
       "\n",
       "   messages_included  mb_per_month_included  minutes_included  \\\n",
       "0               1000                  30720              3000   \n",
       "1               1000                  30720              3000   \n",
       "2               1000                  30720              3000   \n",
       "3               1000                  30720              3000   \n",
       "4               1000                  30720              3000   \n",
       "\n",
       "   rub_monthly_fee  rub_per_gb  rub_per_message  rub_per_minute  \n",
       "0             1950         150                1               1  \n",
       "1             1950         150                1               1  \n",
       "2             1950         150                1               1  \n",
       "3             1950         150                1               1  \n",
       "4             1950         150                1               1  "
      ]
     },
     "execution_count": 16,
     "metadata": {},
     "output_type": "execute_result"
    }
   ],
   "source": [
    "data = data[data['duration_sum'] != 0]\n",
    "data = data[data['messages_total'] != 0]\n",
    "data = data[data['mb_used'] != 0]\n",
    "data.head()"
   ]
  },
  {
   "cell_type": "code",
   "execution_count": 17,
   "metadata": {},
   "outputs": [],
   "source": [
    "# <Приводим к нижнему регистру столбцы city, first_name и last_name>\n",
    "\n",
    "list_of_columns = ['city', 'first_name', 'last_name']\n",
    "for column in list_of_columns:\n",
    "    data[column] = data[column].str.lower()\n",
    "    data[column] = data[column].replace(regex= 'ё', value='е')"
   ]
  },
  {
   "cell_type": "code",
   "execution_count": 18,
   "metadata": {},
   "outputs": [
    {
     "data": {
      "text/html": [
       "<div>\n",
       "<style scoped>\n",
       "    .dataframe tbody tr th:only-of-type {\n",
       "        vertical-align: middle;\n",
       "    }\n",
       "\n",
       "    .dataframe tbody tr th {\n",
       "        vertical-align: top;\n",
       "    }\n",
       "\n",
       "    .dataframe thead th {\n",
       "        text-align: right;\n",
       "    }\n",
       "</style>\n",
       "<table border=\"1\" class=\"dataframe\">\n",
       "  <thead>\n",
       "    <tr style=\"text-align: right;\">\n",
       "      <th></th>\n",
       "      <th>user_id</th>\n",
       "      <th>month</th>\n",
       "      <th>duration_sum</th>\n",
       "      <th>duration_count</th>\n",
       "      <th>messages_total</th>\n",
       "      <th>mb_used</th>\n",
       "      <th>age</th>\n",
       "      <th>messages_included</th>\n",
       "      <th>mb_per_month_included</th>\n",
       "      <th>minutes_included</th>\n",
       "      <th>rub_monthly_fee</th>\n",
       "      <th>rub_per_gb</th>\n",
       "      <th>rub_per_message</th>\n",
       "      <th>rub_per_minute</th>\n",
       "    </tr>\n",
       "  </thead>\n",
       "  <tbody>\n",
       "    <tr>\n",
       "      <th>count</th>\n",
       "      <td>2660.000000</td>\n",
       "      <td>2660.000000</td>\n",
       "      <td>2660.000000</td>\n",
       "      <td>2660.000000</td>\n",
       "      <td>2660.000000</td>\n",
       "      <td>2660.000000</td>\n",
       "      <td>2660.000000</td>\n",
       "      <td>2660.000000</td>\n",
       "      <td>2660.000000</td>\n",
       "      <td>2660.000000</td>\n",
       "      <td>2660.000000</td>\n",
       "      <td>2660.000000</td>\n",
       "      <td>2660.000000</td>\n",
       "      <td>2660.000000</td>\n",
       "    </tr>\n",
       "    <tr>\n",
       "      <th>mean</th>\n",
       "      <td>1255.446992</td>\n",
       "      <td>8.346992</td>\n",
       "      <td>460.484586</td>\n",
       "      <td>64.331579</td>\n",
       "      <td>45.134211</td>\n",
       "      <td>17199.101504</td>\n",
       "      <td>46.660526</td>\n",
       "      <td>317.142857</td>\n",
       "      <td>19679.278195</td>\n",
       "      <td>1203.007519</td>\n",
       "      <td>943.684211</td>\n",
       "      <td>185.939850</td>\n",
       "      <td>2.437594</td>\n",
       "      <td>2.437594</td>\n",
       "    </tr>\n",
       "    <tr>\n",
       "      <th>std</th>\n",
       "      <td>146.381540</td>\n",
       "      <td>2.895752</td>\n",
       "      <td>236.789477</td>\n",
       "      <td>32.516802</td>\n",
       "      <td>34.300604</td>\n",
       "      <td>7234.364638</td>\n",
       "      <td>16.463465</td>\n",
       "      <td>427.187328</td>\n",
       "      <td>6906.944585</td>\n",
       "      <td>1124.177178</td>\n",
       "      <td>629.539220</td>\n",
       "      <td>22.483544</td>\n",
       "      <td>0.899342</td>\n",
       "      <td>0.899342</td>\n",
       "    </tr>\n",
       "    <tr>\n",
       "      <th>min</th>\n",
       "      <td>1000.000000</td>\n",
       "      <td>1.000000</td>\n",
       "      <td>1.000000</td>\n",
       "      <td>1.000000</td>\n",
       "      <td>1.000000</td>\n",
       "      <td>202.000000</td>\n",
       "      <td>18.000000</td>\n",
       "      <td>50.000000</td>\n",
       "      <td>15360.000000</td>\n",
       "      <td>500.000000</td>\n",
       "      <td>550.000000</td>\n",
       "      <td>150.000000</td>\n",
       "      <td>1.000000</td>\n",
       "      <td>1.000000</td>\n",
       "    </tr>\n",
       "    <tr>\n",
       "      <th>25%</th>\n",
       "      <td>1127.000000</td>\n",
       "      <td>6.000000</td>\n",
       "      <td>297.000000</td>\n",
       "      <td>42.000000</td>\n",
       "      <td>19.000000</td>\n",
       "      <td>12565.250000</td>\n",
       "      <td>32.000000</td>\n",
       "      <td>50.000000</td>\n",
       "      <td>15360.000000</td>\n",
       "      <td>500.000000</td>\n",
       "      <td>550.000000</td>\n",
       "      <td>150.000000</td>\n",
       "      <td>1.000000</td>\n",
       "      <td>1.000000</td>\n",
       "    </tr>\n",
       "    <tr>\n",
       "      <th>50%</th>\n",
       "      <td>1266.000000</td>\n",
       "      <td>9.000000</td>\n",
       "      <td>451.000000</td>\n",
       "      <td>63.000000</td>\n",
       "      <td>38.000000</td>\n",
       "      <td>16901.500000</td>\n",
       "      <td>47.000000</td>\n",
       "      <td>50.000000</td>\n",
       "      <td>15360.000000</td>\n",
       "      <td>500.000000</td>\n",
       "      <td>550.000000</td>\n",
       "      <td>200.000000</td>\n",
       "      <td>3.000000</td>\n",
       "      <td>3.000000</td>\n",
       "    </tr>\n",
       "    <tr>\n",
       "      <th>75%</th>\n",
       "      <td>1385.000000</td>\n",
       "      <td>11.000000</td>\n",
       "      <td>592.250000</td>\n",
       "      <td>83.000000</td>\n",
       "      <td>63.000000</td>\n",
       "      <td>21338.000000</td>\n",
       "      <td>61.000000</td>\n",
       "      <td>1000.000000</td>\n",
       "      <td>30720.000000</td>\n",
       "      <td>3000.000000</td>\n",
       "      <td>1950.000000</td>\n",
       "      <td>200.000000</td>\n",
       "      <td>3.000000</td>\n",
       "      <td>3.000000</td>\n",
       "    </tr>\n",
       "    <tr>\n",
       "      <th>max</th>\n",
       "      <td>1499.000000</td>\n",
       "      <td>12.000000</td>\n",
       "      <td>1673.000000</td>\n",
       "      <td>244.000000</td>\n",
       "      <td>224.000000</td>\n",
       "      <td>49746.000000</td>\n",
       "      <td>75.000000</td>\n",
       "      <td>1000.000000</td>\n",
       "      <td>30720.000000</td>\n",
       "      <td>3000.000000</td>\n",
       "      <td>1950.000000</td>\n",
       "      <td>200.000000</td>\n",
       "      <td>3.000000</td>\n",
       "      <td>3.000000</td>\n",
       "    </tr>\n",
       "  </tbody>\n",
       "</table>\n",
       "</div>"
      ],
      "text/plain": [
       "           user_id        month  duration_sum  duration_count  messages_total  \\\n",
       "count  2660.000000  2660.000000   2660.000000     2660.000000     2660.000000   \n",
       "mean   1255.446992     8.346992    460.484586       64.331579       45.134211   \n",
       "std     146.381540     2.895752    236.789477       32.516802       34.300604   \n",
       "min    1000.000000     1.000000      1.000000        1.000000        1.000000   \n",
       "25%    1127.000000     6.000000    297.000000       42.000000       19.000000   \n",
       "50%    1266.000000     9.000000    451.000000       63.000000       38.000000   \n",
       "75%    1385.000000    11.000000    592.250000       83.000000       63.000000   \n",
       "max    1499.000000    12.000000   1673.000000      244.000000      224.000000   \n",
       "\n",
       "            mb_used          age  messages_included  mb_per_month_included  \\\n",
       "count   2660.000000  2660.000000        2660.000000            2660.000000   \n",
       "mean   17199.101504    46.660526         317.142857           19679.278195   \n",
       "std     7234.364638    16.463465         427.187328            6906.944585   \n",
       "min      202.000000    18.000000          50.000000           15360.000000   \n",
       "25%    12565.250000    32.000000          50.000000           15360.000000   \n",
       "50%    16901.500000    47.000000          50.000000           15360.000000   \n",
       "75%    21338.000000    61.000000        1000.000000           30720.000000   \n",
       "max    49746.000000    75.000000        1000.000000           30720.000000   \n",
       "\n",
       "       minutes_included  rub_monthly_fee   rub_per_gb  rub_per_message  \\\n",
       "count       2660.000000      2660.000000  2660.000000      2660.000000   \n",
       "mean        1203.007519       943.684211   185.939850         2.437594   \n",
       "std         1124.177178       629.539220    22.483544         0.899342   \n",
       "min          500.000000       550.000000   150.000000         1.000000   \n",
       "25%          500.000000       550.000000   150.000000         1.000000   \n",
       "50%          500.000000       550.000000   200.000000         3.000000   \n",
       "75%         3000.000000      1950.000000   200.000000         3.000000   \n",
       "max         3000.000000      1950.000000   200.000000         3.000000   \n",
       "\n",
       "       rub_per_minute  \n",
       "count     2660.000000  \n",
       "mean         2.437594  \n",
       "std          0.899342  \n",
       "min          1.000000  \n",
       "25%          1.000000  \n",
       "50%          3.000000  \n",
       "75%          3.000000  \n",
       "max          3.000000  "
      ]
     },
     "execution_count": 18,
     "metadata": {},
     "output_type": "execute_result"
    }
   ],
   "source": [
    "data.describe()"
   ]
  },
  {
   "cell_type": "code",
   "execution_count": 19,
   "metadata": {},
   "outputs": [
    {
     "data": {
      "image/png": "[encoded data removed]",
      "text/plain": [
       "<Figure size 1080x504 with 1 Axes>"
      ]
     },
     "metadata": {
      "needs_background": "light"
     },
     "output_type": "display_data"
    },
    {
     "data": {
      "image/png": "[encoded data removed]",
      "text/plain": [
       "<Figure size 1080x504 with 1 Axes>"
      ]
     },
     "metadata": {
      "needs_background": "light"
     },
     "output_type": "display_data"
    },
    {
     "data": {
      "image/png": "[encoded data removed]",
      "text/plain": [
       "<Figure size 1080x504 with 1 Axes>"
      ]
     },
     "metadata": {
      "needs_background": "light"
     },
     "output_type": "display_data"
    },
    {
     "data": {
      "image/png": "[encoded data removed]",
      "text/plain": [
       "<Figure size 1080x504 with 1 Axes>"
      ]
     },
     "metadata": {
      "needs_background": "light"
     },
     "output_type": "display_data"
    }
   ],
   "source": [
    "# <Используем boxplot для создания диаграмм размаха следующих столбцов и поиска в них выбросов>\n",
    "list_of_columns = ['duration_sum', 'duration_count', 'messages_total','mb_used']\n",
    "for column in list_of_columns:\n",
    "    plt.figure(figsize = (15,7))\n",
    "    data.boxplot(column)\n",
    "    plt.title(column)\n",
    "    plt.ylabel('Frequency')\n",
    "    plt.show()"
   ]
  },
  {
   "cell_type": "markdown",
   "metadata": {},
   "source": [
    "С учетом того, что всего строк в датафрейме 3214, необходимо удалить выбросов не больше, чем на 10% (321 выброс)"
   ]
  },
  {
   "cell_type": "code",
   "execution_count": 20,
   "metadata": {},
   "outputs": [],
   "source": [
    "# <Удаляем выбросы в выбранных числовых столбцах>\n",
    "\n",
    "#'duration_sum' - есть выбросы, приблизительно больше 1100, удаляем\n",
    "# поскольку по диаграмме размаха снижается количество точек именно с 1100 минут\n",
    "data = data[data['duration_sum'] <= 1100]\n",
    "\n",
    "#'duration_count' - есть выбросы, приблизительно больше 150, удаляем\n",
    "data = data[data['duration_count'] <= 150]\n",
    "\n",
    "#'messages_total' - есть выбросы, удаляем выбросы больше 130 смс\n",
    "data = data[data['messages_total'] <= 130]\n",
    "\n",
    "#'mb_used' - есть выбросы, удаляем больше 35000 МБайт\n",
    "data = data[data['mb_used'] <= 35000]"
   ]
  },
  {
   "cell_type": "code",
   "execution_count": 21,
   "metadata": {
    "scrolled": true
   },
   "outputs": [
    {
     "data": {
      "text/html": [
       "<div>\n",
       "<style scoped>\n",
       "    .dataframe tbody tr th:only-of-type {\n",
       "        vertical-align: middle;\n",
       "    }\n",
       "\n",
       "    .dataframe tbody tr th {\n",
       "        vertical-align: top;\n",
       "    }\n",
       "\n",
       "    .dataframe thead th {\n",
       "        text-align: right;\n",
       "    }\n",
       "</style>\n",
       "<table border=\"1\" class=\"dataframe\">\n",
       "  <thead>\n",
       "    <tr style=\"text-align: right;\">\n",
       "      <th></th>\n",
       "      <th>user_id</th>\n",
       "      <th>month</th>\n",
       "      <th>duration_sum</th>\n",
       "      <th>duration_count</th>\n",
       "      <th>messages_total</th>\n",
       "      <th>mb_used</th>\n",
       "      <th>age</th>\n",
       "      <th>messages_included</th>\n",
       "      <th>mb_per_month_included</th>\n",
       "      <th>minutes_included</th>\n",
       "      <th>rub_monthly_fee</th>\n",
       "      <th>rub_per_gb</th>\n",
       "      <th>rub_per_message</th>\n",
       "      <th>rub_per_minute</th>\n",
       "    </tr>\n",
       "  </thead>\n",
       "  <tbody>\n",
       "    <tr>\n",
       "      <th>count</th>\n",
       "      <td>2503.000000</td>\n",
       "      <td>2503.000000</td>\n",
       "      <td>2503.000000</td>\n",
       "      <td>2503.000000</td>\n",
       "      <td>2503.000000</td>\n",
       "      <td>2503.000000</td>\n",
       "      <td>2503.000000</td>\n",
       "      <td>2503.000000</td>\n",
       "      <td>2503.000000</td>\n",
       "      <td>2503.00000</td>\n",
       "      <td>2503.000000</td>\n",
       "      <td>2503.000000</td>\n",
       "      <td>2503.00000</td>\n",
       "      <td>2503.00000</td>\n",
       "    </tr>\n",
       "    <tr>\n",
       "      <th>mean</th>\n",
       "      <td>1255.504994</td>\n",
       "      <td>8.286456</td>\n",
       "      <td>439.474630</td>\n",
       "      <td>61.393927</td>\n",
       "      <td>41.425889</td>\n",
       "      <td>16628.909309</td>\n",
       "      <td>46.898921</td>\n",
       "      <td>279.624451</td>\n",
       "      <td>19072.664802</td>\n",
       "      <td>1104.27487</td>\n",
       "      <td>888.393927</td>\n",
       "      <td>187.914503</td>\n",
       "      <td>2.51658</td>\n",
       "      <td>2.51658</td>\n",
       "    </tr>\n",
       "    <tr>\n",
       "      <th>std</th>\n",
       "      <td>147.064171</td>\n",
       "      <td>2.910853</td>\n",
       "      <td>205.478584</td>\n",
       "      <td>28.097720</td>\n",
       "      <td>28.806960</td>\n",
       "      <td>6544.757361</td>\n",
       "      <td>16.294372</td>\n",
       "      <td>406.794731</td>\n",
       "      <td>6577.228494</td>\n",
       "      <td>1070.51245</td>\n",
       "      <td>599.486972</td>\n",
       "      <td>21.410249</td>\n",
       "      <td>0.85641</td>\n",
       "      <td>0.85641</td>\n",
       "    </tr>\n",
       "    <tr>\n",
       "      <th>min</th>\n",
       "      <td>1000.000000</td>\n",
       "      <td>1.000000</td>\n",
       "      <td>1.000000</td>\n",
       "      <td>1.000000</td>\n",
       "      <td>1.000000</td>\n",
       "      <td>202.000000</td>\n",
       "      <td>18.000000</td>\n",
       "      <td>50.000000</td>\n",
       "      <td>15360.000000</td>\n",
       "      <td>500.00000</td>\n",
       "      <td>550.000000</td>\n",
       "      <td>150.000000</td>\n",
       "      <td>1.00000</td>\n",
       "      <td>1.00000</td>\n",
       "    </tr>\n",
       "    <tr>\n",
       "      <th>25%</th>\n",
       "      <td>1126.000000</td>\n",
       "      <td>6.000000</td>\n",
       "      <td>291.500000</td>\n",
       "      <td>41.000000</td>\n",
       "      <td>18.000000</td>\n",
       "      <td>12413.500000</td>\n",
       "      <td>33.000000</td>\n",
       "      <td>50.000000</td>\n",
       "      <td>15360.000000</td>\n",
       "      <td>500.00000</td>\n",
       "      <td>550.000000</td>\n",
       "      <td>200.000000</td>\n",
       "      <td>3.00000</td>\n",
       "      <td>3.00000</td>\n",
       "    </tr>\n",
       "    <tr>\n",
       "      <th>50%</th>\n",
       "      <td>1264.000000</td>\n",
       "      <td>9.000000</td>\n",
       "      <td>443.000000</td>\n",
       "      <td>62.000000</td>\n",
       "      <td>36.000000</td>\n",
       "      <td>16663.000000</td>\n",
       "      <td>47.000000</td>\n",
       "      <td>50.000000</td>\n",
       "      <td>15360.000000</td>\n",
       "      <td>500.00000</td>\n",
       "      <td>550.000000</td>\n",
       "      <td>200.000000</td>\n",
       "      <td>3.00000</td>\n",
       "      <td>3.00000</td>\n",
       "    </tr>\n",
       "    <tr>\n",
       "      <th>75%</th>\n",
       "      <td>1389.000000</td>\n",
       "      <td>11.000000</td>\n",
       "      <td>570.000000</td>\n",
       "      <td>80.000000</td>\n",
       "      <td>60.000000</td>\n",
       "      <td>20821.000000</td>\n",
       "      <td>62.000000</td>\n",
       "      <td>50.000000</td>\n",
       "      <td>15360.000000</td>\n",
       "      <td>500.00000</td>\n",
       "      <td>550.000000</td>\n",
       "      <td>200.000000</td>\n",
       "      <td>3.00000</td>\n",
       "      <td>3.00000</td>\n",
       "    </tr>\n",
       "    <tr>\n",
       "      <th>max</th>\n",
       "      <td>1499.000000</td>\n",
       "      <td>12.000000</td>\n",
       "      <td>1074.000000</td>\n",
       "      <td>146.000000</td>\n",
       "      <td>130.000000</td>\n",
       "      <td>34889.000000</td>\n",
       "      <td>75.000000</td>\n",
       "      <td>1000.000000</td>\n",
       "      <td>30720.000000</td>\n",
       "      <td>3000.00000</td>\n",
       "      <td>1950.000000</td>\n",
       "      <td>200.000000</td>\n",
       "      <td>3.00000</td>\n",
       "      <td>3.00000</td>\n",
       "    </tr>\n",
       "  </tbody>\n",
       "</table>\n",
       "</div>"
      ],
      "text/plain": [
       "           user_id        month  duration_sum  duration_count  messages_total  \\\n",
       "count  2503.000000  2503.000000   2503.000000     2503.000000     2503.000000   \n",
       "mean   1255.504994     8.286456    439.474630       61.393927       41.425889   \n",
       "std     147.064171     2.910853    205.478584       28.097720       28.806960   \n",
       "min    1000.000000     1.000000      1.000000        1.000000        1.000000   \n",
       "25%    1126.000000     6.000000    291.500000       41.000000       18.000000   \n",
       "50%    1264.000000     9.000000    443.000000       62.000000       36.000000   \n",
       "75%    1389.000000    11.000000    570.000000       80.000000       60.000000   \n",
       "max    1499.000000    12.000000   1074.000000      146.000000      130.000000   \n",
       "\n",
       "            mb_used          age  messages_included  mb_per_month_included  \\\n",
       "count   2503.000000  2503.000000        2503.000000            2503.000000   \n",
       "mean   16628.909309    46.898921         279.624451           19072.664802   \n",
       "std     6544.757361    16.294372         406.794731            6577.228494   \n",
       "min      202.000000    18.000000          50.000000           15360.000000   \n",
       "25%    12413.500000    33.000000          50.000000           15360.000000   \n",
       "50%    16663.000000    47.000000          50.000000           15360.000000   \n",
       "75%    20821.000000    62.000000          50.000000           15360.000000   \n",
       "max    34889.000000    75.000000        1000.000000           30720.000000   \n",
       "\n",
       "       minutes_included  rub_monthly_fee   rub_per_gb  rub_per_message  \\\n",
       "count        2503.00000      2503.000000  2503.000000       2503.00000   \n",
       "mean         1104.27487       888.393927   187.914503          2.51658   \n",
       "std          1070.51245       599.486972    21.410249          0.85641   \n",
       "min           500.00000       550.000000   150.000000          1.00000   \n",
       "25%           500.00000       550.000000   200.000000          3.00000   \n",
       "50%           500.00000       550.000000   200.000000          3.00000   \n",
       "75%           500.00000       550.000000   200.000000          3.00000   \n",
       "max          3000.00000      1950.000000   200.000000          3.00000   \n",
       "\n",
       "       rub_per_minute  \n",
       "count      2503.00000  \n",
       "mean          2.51658  \n",
       "std           0.85641  \n",
       "min           1.00000  \n",
       "25%           3.00000  \n",
       "50%           3.00000  \n",
       "75%           3.00000  \n",
       "max           3.00000  "
      ]
     },
     "execution_count": 21,
     "metadata": {},
     "output_type": "execute_result"
    }
   ],
   "source": [
    "data.describe()"
   ]
  },
  {
   "cell_type": "code",
   "execution_count": 22,
   "metadata": {},
   "outputs": [
    {
     "name": "stdout",
     "output_type": "stream",
     "text": [
      "<class 'pandas.core.frame.DataFrame'>\n",
      "Int64Index: 2503 entries, 0 to 3173\n",
      "Data columns (total 20 columns):\n",
      " #   Column                 Non-Null Count  Dtype \n",
      "---  ------                 --------------  ----- \n",
      " 0   user_id                2503 non-null   int64 \n",
      " 1   month                  2503 non-null   int64 \n",
      " 2   duration_sum           2503 non-null   Int64 \n",
      " 3   duration_count         2503 non-null   Int64 \n",
      " 4   messages_total         2503 non-null   Int64 \n",
      " 5   mb_used                2503 non-null   Int64 \n",
      " 6   age                    2503 non-null   int64 \n",
      " 7   churn_date             134 non-null    object\n",
      " 8   city                   2503 non-null   object\n",
      " 9   first_name             2503 non-null   object\n",
      " 10  last_name              2503 non-null   object\n",
      " 11  reg_date               2503 non-null   object\n",
      " 12  tariff                 2503 non-null   object\n",
      " 13  messages_included      2503 non-null   int64 \n",
      " 14  mb_per_month_included  2503 non-null   int64 \n",
      " 15  minutes_included       2503 non-null   int64 \n",
      " 16  rub_monthly_fee        2503 non-null   int64 \n",
      " 17  rub_per_gb             2503 non-null   int64 \n",
      " 18  rub_per_message        2503 non-null   int64 \n",
      " 19  rub_per_minute         2503 non-null   int64 \n",
      "dtypes: Int64(4), int64(10), object(6)\n",
      "memory usage: 420.4+ KB\n"
     ]
    }
   ],
   "source": [
    "data.info()"
   ]
  },
  {
   "cell_type": "markdown",
   "metadata": {},
   "source": [
    "### Подсчет требуемых параметров<a id=\"users_add\"></a>\n",
    "- количество сделанных звонков и израсходованных минут разговора по месяцам;\n"
   ]
  },
  {
   "cell_type": "code",
   "execution_count": 23,
   "metadata": {},
   "outputs": [
    {
     "data": {
      "text/html": [
       "<div>\n",
       "<style scoped>\n",
       "    .dataframe tbody tr th:only-of-type {\n",
       "        vertical-align: middle;\n",
       "    }\n",
       "\n",
       "    .dataframe tbody tr th {\n",
       "        vertical-align: top;\n",
       "    }\n",
       "\n",
       "    .dataframe thead th {\n",
       "        text-align: right;\n",
       "    }\n",
       "</style>\n",
       "<table border=\"1\" class=\"dataframe\">\n",
       "  <thead>\n",
       "    <tr style=\"text-align: right;\">\n",
       "      <th></th>\n",
       "      <th>duration_count</th>\n",
       "      <th>duration_sum</th>\n",
       "    </tr>\n",
       "  </thead>\n",
       "  <tbody>\n",
       "    <tr>\n",
       "      <th>0</th>\n",
       "      <td>22</td>\n",
       "      <td>159</td>\n",
       "    </tr>\n",
       "    <tr>\n",
       "      <th>1</th>\n",
       "      <td>43</td>\n",
       "      <td>172</td>\n",
       "    </tr>\n",
       "    <tr>\n",
       "      <th>2</th>\n",
       "      <td>47</td>\n",
       "      <td>340</td>\n",
       "    </tr>\n",
       "    <tr>\n",
       "      <th>3</th>\n",
       "      <td>52</td>\n",
       "      <td>408</td>\n",
       "    </tr>\n",
       "    <tr>\n",
       "      <th>4</th>\n",
       "      <td>58</td>\n",
       "      <td>466</td>\n",
       "    </tr>\n",
       "    <tr>\n",
       "      <th>5</th>\n",
       "      <td>57</td>\n",
       "      <td>350</td>\n",
       "    </tr>\n",
       "    <tr>\n",
       "      <th>6</th>\n",
       "      <td>43</td>\n",
       "      <td>338</td>\n",
       "    </tr>\n",
       "    <tr>\n",
       "      <th>7</th>\n",
       "      <td>46</td>\n",
       "      <td>333</td>\n",
       "    </tr>\n",
       "    <tr>\n",
       "      <th>10</th>\n",
       "      <td>15</td>\n",
       "      <td>117</td>\n",
       "    </tr>\n",
       "    <tr>\n",
       "      <th>11</th>\n",
       "      <td>26</td>\n",
       "      <td>214</td>\n",
       "    </tr>\n",
       "  </tbody>\n",
       "</table>\n",
       "</div>"
      ],
      "text/plain": [
       "    duration_count  duration_sum\n",
       "0               22           159\n",
       "1               43           172\n",
       "2               47           340\n",
       "3               52           408\n",
       "4               58           466\n",
       "5               57           350\n",
       "6               43           338\n",
       "7               46           333\n",
       "10              15           117\n",
       "11              26           214"
      ]
     },
     "execution_count": 23,
     "metadata": {},
     "output_type": "execute_result"
    }
   ],
   "source": [
    "# <Количество сделанных звонков и израсходованных минут разговора по месяцам было посчитано при объединении таблиц \n",
    "# и находятся в столбцах  duration_count и duration_sum>\n",
    "\n",
    "data[['duration_count', 'duration_sum']].head(10)"
   ]
  },
  {
   "cell_type": "markdown",
   "metadata": {},
   "source": [
    "- количество отправленных сообщений по месяцам;"
   ]
  },
  {
   "cell_type": "code",
   "execution_count": 24,
   "metadata": {},
   "outputs": [
    {
     "data": {
      "text/plain": [
       "0     22\n",
       "1     60\n",
       "2     75\n",
       "3     81\n",
       "4     57\n",
       "5     73\n",
       "6     58\n",
       "7     70\n",
       "10     4\n",
       "11    11\n",
       "Name: messages_total, dtype: Int64"
      ]
     },
     "execution_count": 24,
     "metadata": {},
     "output_type": "execute_result"
    }
   ],
   "source": [
    "# <Количество отправленных сообщений по месяцам было посчитано при объединении таблиц и находится в столбце messages_total>\n",
    "\n",
    "data['messages_total'].head(10)"
   ]
  },
  {
   "cell_type": "markdown",
   "metadata": {},
   "source": [
    "- объем израсходованного интернет-трафика по месяцам;"
   ]
  },
  {
   "cell_type": "code",
   "execution_count": 25,
   "metadata": {},
   "outputs": [
    {
     "data": {
      "text/plain": [
       "0      2254\n",
       "1     23234\n",
       "2     14004\n",
       "3     14056\n",
       "4     14569\n",
       "5     14703\n",
       "6     14757\n",
       "7      9818\n",
       "10    10857\n",
       "11    17581\n",
       "Name: mb_used, dtype: Int64"
      ]
     },
     "execution_count": 25,
     "metadata": {},
     "output_type": "execute_result"
    }
   ],
   "source": [
    "# < Объем израсходованного интернет-трафика по месяцам был посчитан при объединении таблиц и находится в столбце mb_used>\n",
    "\n",
    "data['mb_used'].head(10)"
   ]
  },
  {
   "cell_type": "code",
   "execution_count": 26,
   "metadata": {},
   "outputs": [
    {
     "data": {
      "text/html": [
       "<div>\n",
       "<style scoped>\n",
       "    .dataframe tbody tr th:only-of-type {\n",
       "        vertical-align: middle;\n",
       "    }\n",
       "\n",
       "    .dataframe tbody tr th {\n",
       "        vertical-align: top;\n",
       "    }\n",
       "\n",
       "    .dataframe thead th {\n",
       "        text-align: right;\n",
       "    }\n",
       "</style>\n",
       "<table border=\"1\" class=\"dataframe\">\n",
       "  <thead>\n",
       "    <tr style=\"text-align: right;\">\n",
       "      <th></th>\n",
       "      <th>user_id</th>\n",
       "      <th>month</th>\n",
       "      <th>duration_sum</th>\n",
       "      <th>duration_count</th>\n",
       "      <th>messages_total</th>\n",
       "      <th>mb_used</th>\n",
       "      <th>age</th>\n",
       "      <th>churn_date</th>\n",
       "      <th>city</th>\n",
       "      <th>first_name</th>\n",
       "      <th>last_name</th>\n",
       "      <th>reg_date</th>\n",
       "      <th>tariff</th>\n",
       "      <th>messages_included</th>\n",
       "      <th>mb_per_month_included</th>\n",
       "      <th>minutes_included</th>\n",
       "      <th>rub_monthly_fee</th>\n",
       "      <th>rub_per_gb</th>\n",
       "      <th>rub_per_message</th>\n",
       "      <th>rub_per_minute</th>\n",
       "    </tr>\n",
       "  </thead>\n",
       "  <tbody>\n",
       "    <tr>\n",
       "      <th>0</th>\n",
       "      <td>1000</td>\n",
       "      <td>5</td>\n",
       "      <td>159</td>\n",
       "      <td>22</td>\n",
       "      <td>22</td>\n",
       "      <td>2254</td>\n",
       "      <td>52</td>\n",
       "      <td>NaN</td>\n",
       "      <td>краснодар</td>\n",
       "      <td>рафаил</td>\n",
       "      <td>верещагин</td>\n",
       "      <td>2018-05-25</td>\n",
       "      <td>ultra</td>\n",
       "      <td>1000</td>\n",
       "      <td>30720</td>\n",
       "      <td>3000</td>\n",
       "      <td>1950</td>\n",
       "      <td>150</td>\n",
       "      <td>1</td>\n",
       "      <td>1</td>\n",
       "    </tr>\n",
       "    <tr>\n",
       "      <th>1</th>\n",
       "      <td>1000</td>\n",
       "      <td>6</td>\n",
       "      <td>172</td>\n",
       "      <td>43</td>\n",
       "      <td>60</td>\n",
       "      <td>23234</td>\n",
       "      <td>52</td>\n",
       "      <td>NaN</td>\n",
       "      <td>краснодар</td>\n",
       "      <td>рафаил</td>\n",
       "      <td>верещагин</td>\n",
       "      <td>2018-05-25</td>\n",
       "      <td>ultra</td>\n",
       "      <td>1000</td>\n",
       "      <td>30720</td>\n",
       "      <td>3000</td>\n",
       "      <td>1950</td>\n",
       "      <td>150</td>\n",
       "      <td>1</td>\n",
       "      <td>1</td>\n",
       "    </tr>\n",
       "    <tr>\n",
       "      <th>2</th>\n",
       "      <td>1000</td>\n",
       "      <td>7</td>\n",
       "      <td>340</td>\n",
       "      <td>47</td>\n",
       "      <td>75</td>\n",
       "      <td>14004</td>\n",
       "      <td>52</td>\n",
       "      <td>NaN</td>\n",
       "      <td>краснодар</td>\n",
       "      <td>рафаил</td>\n",
       "      <td>верещагин</td>\n",
       "      <td>2018-05-25</td>\n",
       "      <td>ultra</td>\n",
       "      <td>1000</td>\n",
       "      <td>30720</td>\n",
       "      <td>3000</td>\n",
       "      <td>1950</td>\n",
       "      <td>150</td>\n",
       "      <td>1</td>\n",
       "      <td>1</td>\n",
       "    </tr>\n",
       "    <tr>\n",
       "      <th>3</th>\n",
       "      <td>1000</td>\n",
       "      <td>8</td>\n",
       "      <td>408</td>\n",
       "      <td>52</td>\n",
       "      <td>81</td>\n",
       "      <td>14056</td>\n",
       "      <td>52</td>\n",
       "      <td>NaN</td>\n",
       "      <td>краснодар</td>\n",
       "      <td>рафаил</td>\n",
       "      <td>верещагин</td>\n",
       "      <td>2018-05-25</td>\n",
       "      <td>ultra</td>\n",
       "      <td>1000</td>\n",
       "      <td>30720</td>\n",
       "      <td>3000</td>\n",
       "      <td>1950</td>\n",
       "      <td>150</td>\n",
       "      <td>1</td>\n",
       "      <td>1</td>\n",
       "    </tr>\n",
       "    <tr>\n",
       "      <th>4</th>\n",
       "      <td>1000</td>\n",
       "      <td>9</td>\n",
       "      <td>466</td>\n",
       "      <td>58</td>\n",
       "      <td>57</td>\n",
       "      <td>14569</td>\n",
       "      <td>52</td>\n",
       "      <td>NaN</td>\n",
       "      <td>краснодар</td>\n",
       "      <td>рафаил</td>\n",
       "      <td>верещагин</td>\n",
       "      <td>2018-05-25</td>\n",
       "      <td>ultra</td>\n",
       "      <td>1000</td>\n",
       "      <td>30720</td>\n",
       "      <td>3000</td>\n",
       "      <td>1950</td>\n",
       "      <td>150</td>\n",
       "      <td>1</td>\n",
       "      <td>1</td>\n",
       "    </tr>\n",
       "  </tbody>\n",
       "</table>\n",
       "</div>"
      ],
      "text/plain": [
       "   user_id  month  duration_sum  duration_count  messages_total  mb_used  age  \\\n",
       "0     1000      5           159              22              22     2254   52   \n",
       "1     1000      6           172              43              60    23234   52   \n",
       "2     1000      7           340              47              75    14004   52   \n",
       "3     1000      8           408              52              81    14056   52   \n",
       "4     1000      9           466              58              57    14569   52   \n",
       "\n",
       "  churn_date       city first_name  last_name    reg_date tariff  \\\n",
       "0        NaN  краснодар     рафаил  верещагин  2018-05-25  ultra   \n",
       "1        NaN  краснодар     рафаил  верещагин  2018-05-25  ultra   \n",
       "2        NaN  краснодар     рафаил  верещагин  2018-05-25  ultra   \n",
       "3        NaN  краснодар     рафаил  верещагин  2018-05-25  ultra   \n",
       "4        NaN  краснодар     рафаил  верещагин  2018-05-25  ultra   \n",
       "\n",
       "   messages_included  mb_per_month_included  minutes_included  \\\n",
       "0               1000                  30720              3000   \n",
       "1               1000                  30720              3000   \n",
       "2               1000                  30720              3000   \n",
       "3               1000                  30720              3000   \n",
       "4               1000                  30720              3000   \n",
       "\n",
       "   rub_monthly_fee  rub_per_gb  rub_per_message  rub_per_minute  \n",
       "0             1950         150                1               1  \n",
       "1             1950         150                1               1  \n",
       "2             1950         150                1               1  \n",
       "3             1950         150                1               1  \n",
       "4             1950         150                1               1  "
      ]
     },
     "execution_count": 26,
     "metadata": {},
     "output_type": "execute_result"
    }
   ],
   "source": [
    "data.head(5)"
   ]
  },
  {
   "cell_type": "markdown",
   "metadata": {},
   "source": [
    "- помесячную выручку с каждого пользователя (вычтите бесплатный лимит из суммарного количества звонков, сообщений и интернет-трафика; остаток умножьте на значение из тарифного плана; прибавьте абонентскую плату, соответствующую тарифному плану)."
   ]
  },
  {
   "cell_type": "code",
   "execution_count": 27,
   "metadata": {},
   "outputs": [
    {
     "data": {
      "text/html": [
       "<div>\n",
       "<style scoped>\n",
       "    .dataframe tbody tr th:only-of-type {\n",
       "        vertical-align: middle;\n",
       "    }\n",
       "\n",
       "    .dataframe tbody tr th {\n",
       "        vertical-align: top;\n",
       "    }\n",
       "\n",
       "    .dataframe thead th {\n",
       "        text-align: right;\n",
       "    }\n",
       "</style>\n",
       "<table border=\"1\" class=\"dataframe\">\n",
       "  <thead>\n",
       "    <tr style=\"text-align: right;\">\n",
       "      <th></th>\n",
       "      <th>user_id</th>\n",
       "      <th>month</th>\n",
       "      <th>duration_sum</th>\n",
       "      <th>duration_count</th>\n",
       "      <th>messages_total</th>\n",
       "      <th>mb_used</th>\n",
       "      <th>age</th>\n",
       "      <th>churn_date</th>\n",
       "      <th>city</th>\n",
       "      <th>first_name</th>\n",
       "      <th>...</th>\n",
       "      <th>messages_included</th>\n",
       "      <th>mb_per_month_included</th>\n",
       "      <th>minutes_included</th>\n",
       "      <th>rub_monthly_fee</th>\n",
       "      <th>rub_per_gb</th>\n",
       "      <th>rub_per_message</th>\n",
       "      <th>rub_per_minute</th>\n",
       "      <th>calls_over</th>\n",
       "      <th>messages_over</th>\n",
       "      <th>internet_over</th>\n",
       "    </tr>\n",
       "  </thead>\n",
       "  <tbody>\n",
       "    <tr>\n",
       "      <th>0</th>\n",
       "      <td>1000</td>\n",
       "      <td>5</td>\n",
       "      <td>159</td>\n",
       "      <td>22</td>\n",
       "      <td>22</td>\n",
       "      <td>2254</td>\n",
       "      <td>52</td>\n",
       "      <td>NaN</td>\n",
       "      <td>краснодар</td>\n",
       "      <td>рафаил</td>\n",
       "      <td>...</td>\n",
       "      <td>1000</td>\n",
       "      <td>30720</td>\n",
       "      <td>3000</td>\n",
       "      <td>1950</td>\n",
       "      <td>150</td>\n",
       "      <td>1</td>\n",
       "      <td>1</td>\n",
       "      <td>-2841</td>\n",
       "      <td>-978</td>\n",
       "      <td>-27.0</td>\n",
       "    </tr>\n",
       "    <tr>\n",
       "      <th>1</th>\n",
       "      <td>1000</td>\n",
       "      <td>6</td>\n",
       "      <td>172</td>\n",
       "      <td>43</td>\n",
       "      <td>60</td>\n",
       "      <td>23234</td>\n",
       "      <td>52</td>\n",
       "      <td>NaN</td>\n",
       "      <td>краснодар</td>\n",
       "      <td>рафаил</td>\n",
       "      <td>...</td>\n",
       "      <td>1000</td>\n",
       "      <td>30720</td>\n",
       "      <td>3000</td>\n",
       "      <td>1950</td>\n",
       "      <td>150</td>\n",
       "      <td>1</td>\n",
       "      <td>1</td>\n",
       "      <td>-2828</td>\n",
       "      <td>-940</td>\n",
       "      <td>-7.0</td>\n",
       "    </tr>\n",
       "    <tr>\n",
       "      <th>2</th>\n",
       "      <td>1000</td>\n",
       "      <td>7</td>\n",
       "      <td>340</td>\n",
       "      <td>47</td>\n",
       "      <td>75</td>\n",
       "      <td>14004</td>\n",
       "      <td>52</td>\n",
       "      <td>NaN</td>\n",
       "      <td>краснодар</td>\n",
       "      <td>рафаил</td>\n",
       "      <td>...</td>\n",
       "      <td>1000</td>\n",
       "      <td>30720</td>\n",
       "      <td>3000</td>\n",
       "      <td>1950</td>\n",
       "      <td>150</td>\n",
       "      <td>1</td>\n",
       "      <td>1</td>\n",
       "      <td>-2660</td>\n",
       "      <td>-925</td>\n",
       "      <td>-16.0</td>\n",
       "    </tr>\n",
       "    <tr>\n",
       "      <th>3</th>\n",
       "      <td>1000</td>\n",
       "      <td>8</td>\n",
       "      <td>408</td>\n",
       "      <td>52</td>\n",
       "      <td>81</td>\n",
       "      <td>14056</td>\n",
       "      <td>52</td>\n",
       "      <td>NaN</td>\n",
       "      <td>краснодар</td>\n",
       "      <td>рафаил</td>\n",
       "      <td>...</td>\n",
       "      <td>1000</td>\n",
       "      <td>30720</td>\n",
       "      <td>3000</td>\n",
       "      <td>1950</td>\n",
       "      <td>150</td>\n",
       "      <td>1</td>\n",
       "      <td>1</td>\n",
       "      <td>-2592</td>\n",
       "      <td>-919</td>\n",
       "      <td>-16.0</td>\n",
       "    </tr>\n",
       "    <tr>\n",
       "      <th>4</th>\n",
       "      <td>1000</td>\n",
       "      <td>9</td>\n",
       "      <td>466</td>\n",
       "      <td>58</td>\n",
       "      <td>57</td>\n",
       "      <td>14569</td>\n",
       "      <td>52</td>\n",
       "      <td>NaN</td>\n",
       "      <td>краснодар</td>\n",
       "      <td>рафаил</td>\n",
       "      <td>...</td>\n",
       "      <td>1000</td>\n",
       "      <td>30720</td>\n",
       "      <td>3000</td>\n",
       "      <td>1950</td>\n",
       "      <td>150</td>\n",
       "      <td>1</td>\n",
       "      <td>1</td>\n",
       "      <td>-2534</td>\n",
       "      <td>-943</td>\n",
       "      <td>-15.0</td>\n",
       "    </tr>\n",
       "    <tr>\n",
       "      <th>...</th>\n",
       "      <td>...</td>\n",
       "      <td>...</td>\n",
       "      <td>...</td>\n",
       "      <td>...</td>\n",
       "      <td>...</td>\n",
       "      <td>...</td>\n",
       "      <td>...</td>\n",
       "      <td>...</td>\n",
       "      <td>...</td>\n",
       "      <td>...</td>\n",
       "      <td>...</td>\n",
       "      <td>...</td>\n",
       "      <td>...</td>\n",
       "      <td>...</td>\n",
       "      <td>...</td>\n",
       "      <td>...</td>\n",
       "      <td>...</td>\n",
       "      <td>...</td>\n",
       "      <td>...</td>\n",
       "      <td>...</td>\n",
       "      <td>...</td>\n",
       "    </tr>\n",
       "    <tr>\n",
       "      <th>3169</th>\n",
       "      <td>1498</td>\n",
       "      <td>10</td>\n",
       "      <td>247</td>\n",
       "      <td>41</td>\n",
       "      <td>42</td>\n",
       "      <td>20580</td>\n",
       "      <td>68</td>\n",
       "      <td>2018-10-25</td>\n",
       "      <td>владикавказ</td>\n",
       "      <td>всеволод</td>\n",
       "      <td>...</td>\n",
       "      <td>50</td>\n",
       "      <td>15360</td>\n",
       "      <td>500</td>\n",
       "      <td>550</td>\n",
       "      <td>200</td>\n",
       "      <td>3</td>\n",
       "      <td>3</td>\n",
       "      <td>-253</td>\n",
       "      <td>-8</td>\n",
       "      <td>6.0</td>\n",
       "    </tr>\n",
       "    <tr>\n",
       "      <th>3170</th>\n",
       "      <td>1499</td>\n",
       "      <td>9</td>\n",
       "      <td>70</td>\n",
       "      <td>9</td>\n",
       "      <td>11</td>\n",
       "      <td>1846</td>\n",
       "      <td>35</td>\n",
       "      <td>NaN</td>\n",
       "      <td>пермь</td>\n",
       "      <td>гектор</td>\n",
       "      <td>...</td>\n",
       "      <td>50</td>\n",
       "      <td>15360</td>\n",
       "      <td>500</td>\n",
       "      <td>550</td>\n",
       "      <td>200</td>\n",
       "      <td>3</td>\n",
       "      <td>3</td>\n",
       "      <td>-430</td>\n",
       "      <td>-39</td>\n",
       "      <td>-13.0</td>\n",
       "    </tr>\n",
       "    <tr>\n",
       "      <th>3171</th>\n",
       "      <td>1499</td>\n",
       "      <td>10</td>\n",
       "      <td>449</td>\n",
       "      <td>68</td>\n",
       "      <td>48</td>\n",
       "      <td>17789</td>\n",
       "      <td>35</td>\n",
       "      <td>NaN</td>\n",
       "      <td>пермь</td>\n",
       "      <td>гектор</td>\n",
       "      <td>...</td>\n",
       "      <td>50</td>\n",
       "      <td>15360</td>\n",
       "      <td>500</td>\n",
       "      <td>550</td>\n",
       "      <td>200</td>\n",
       "      <td>3</td>\n",
       "      <td>3</td>\n",
       "      <td>-51</td>\n",
       "      <td>-2</td>\n",
       "      <td>3.0</td>\n",
       "    </tr>\n",
       "    <tr>\n",
       "      <th>3172</th>\n",
       "      <td>1499</td>\n",
       "      <td>11</td>\n",
       "      <td>612</td>\n",
       "      <td>74</td>\n",
       "      <td>59</td>\n",
       "      <td>17964</td>\n",
       "      <td>35</td>\n",
       "      <td>NaN</td>\n",
       "      <td>пермь</td>\n",
       "      <td>гектор</td>\n",
       "      <td>...</td>\n",
       "      <td>50</td>\n",
       "      <td>15360</td>\n",
       "      <td>500</td>\n",
       "      <td>550</td>\n",
       "      <td>200</td>\n",
       "      <td>3</td>\n",
       "      <td>3</td>\n",
       "      <td>112</td>\n",
       "      <td>9</td>\n",
       "      <td>3.0</td>\n",
       "    </tr>\n",
       "    <tr>\n",
       "      <th>3173</th>\n",
       "      <td>1499</td>\n",
       "      <td>12</td>\n",
       "      <td>492</td>\n",
       "      <td>69</td>\n",
       "      <td>66</td>\n",
       "      <td>13056</td>\n",
       "      <td>35</td>\n",
       "      <td>NaN</td>\n",
       "      <td>пермь</td>\n",
       "      <td>гектор</td>\n",
       "      <td>...</td>\n",
       "      <td>50</td>\n",
       "      <td>15360</td>\n",
       "      <td>500</td>\n",
       "      <td>550</td>\n",
       "      <td>200</td>\n",
       "      <td>3</td>\n",
       "      <td>3</td>\n",
       "      <td>-8</td>\n",
       "      <td>16</td>\n",
       "      <td>-2.0</td>\n",
       "    </tr>\n",
       "  </tbody>\n",
       "</table>\n",
       "<p>2503 rows × 23 columns</p>\n",
       "</div>"
      ],
      "text/plain": [
       "      user_id  month  duration_sum  duration_count  messages_total  mb_used  \\\n",
       "0        1000      5           159              22              22     2254   \n",
       "1        1000      6           172              43              60    23234   \n",
       "2        1000      7           340              47              75    14004   \n",
       "3        1000      8           408              52              81    14056   \n",
       "4        1000      9           466              58              57    14569   \n",
       "...       ...    ...           ...             ...             ...      ...   \n",
       "3169     1498     10           247              41              42    20580   \n",
       "3170     1499      9            70               9              11     1846   \n",
       "3171     1499     10           449              68              48    17789   \n",
       "3172     1499     11           612              74              59    17964   \n",
       "3173     1499     12           492              69              66    13056   \n",
       "\n",
       "      age  churn_date         city first_name  ... messages_included  \\\n",
       "0      52         NaN    краснодар     рафаил  ...              1000   \n",
       "1      52         NaN    краснодар     рафаил  ...              1000   \n",
       "2      52         NaN    краснодар     рафаил  ...              1000   \n",
       "3      52         NaN    краснодар     рафаил  ...              1000   \n",
       "4      52         NaN    краснодар     рафаил  ...              1000   \n",
       "...   ...         ...          ...        ...  ...               ...   \n",
       "3169   68  2018-10-25  владикавказ   всеволод  ...                50   \n",
       "3170   35         NaN        пермь     гектор  ...                50   \n",
       "3171   35         NaN        пермь     гектор  ...                50   \n",
       "3172   35         NaN        пермь     гектор  ...                50   \n",
       "3173   35         NaN        пермь     гектор  ...                50   \n",
       "\n",
       "     mb_per_month_included minutes_included  rub_monthly_fee  rub_per_gb  \\\n",
       "0                    30720             3000             1950         150   \n",
       "1                    30720             3000             1950         150   \n",
       "2                    30720             3000             1950         150   \n",
       "3                    30720             3000             1950         150   \n",
       "4                    30720             3000             1950         150   \n",
       "...                    ...              ...              ...         ...   \n",
       "3169                 15360              500              550         200   \n",
       "3170                 15360              500              550         200   \n",
       "3171                 15360              500              550         200   \n",
       "3172                 15360              500              550         200   \n",
       "3173                 15360              500              550         200   \n",
       "\n",
       "      rub_per_message  rub_per_minute  calls_over  messages_over  \\\n",
       "0                   1               1       -2841           -978   \n",
       "1                   1               1       -2828           -940   \n",
       "2                   1               1       -2660           -925   \n",
       "3                   1               1       -2592           -919   \n",
       "4                   1               1       -2534           -943   \n",
       "...               ...             ...         ...            ...   \n",
       "3169                3               3        -253             -8   \n",
       "3170                3               3        -430            -39   \n",
       "3171                3               3         -51             -2   \n",
       "3172                3               3         112              9   \n",
       "3173                3               3          -8             16   \n",
       "\n",
       "      internet_over  \n",
       "0             -27.0  \n",
       "1              -7.0  \n",
       "2             -16.0  \n",
       "3             -16.0  \n",
       "4             -15.0  \n",
       "...             ...  \n",
       "3169            6.0  \n",
       "3170          -13.0  \n",
       "3171            3.0  \n",
       "3172            3.0  \n",
       "3173           -2.0  \n",
       "\n",
       "[2503 rows x 23 columns]"
      ]
     },
     "execution_count": 27,
     "metadata": {},
     "output_type": "execute_result"
    }
   ],
   "source": [
    "# < Добавляем в таблицу столбцы, показывающие превышения над выбранным пользователем тарифом>\n",
    "data['calls_over'] = data['duration_sum'] - data['minutes_included']\n",
    "data['messages_over'] = data['messages_total'] - data['messages_included']\n",
    "data['internet_over'] = np.ceil((data['mb_used'] - data['mb_per_month_included'])/1024)\n",
    "data"
   ]
  },
  {
   "cell_type": "code",
   "execution_count": 28,
   "metadata": {},
   "outputs": [
    {
     "data": {
      "text/html": [
       "<div>\n",
       "<style scoped>\n",
       "    .dataframe tbody tr th:only-of-type {\n",
       "        vertical-align: middle;\n",
       "    }\n",
       "\n",
       "    .dataframe tbody tr th {\n",
       "        vertical-align: top;\n",
       "    }\n",
       "\n",
       "    .dataframe thead th {\n",
       "        text-align: right;\n",
       "    }\n",
       "</style>\n",
       "<table border=\"1\" class=\"dataframe\">\n",
       "  <thead>\n",
       "    <tr style=\"text-align: right;\">\n",
       "      <th></th>\n",
       "      <th>user_id</th>\n",
       "      <th>month</th>\n",
       "      <th>duration_sum</th>\n",
       "      <th>duration_count</th>\n",
       "      <th>messages_total</th>\n",
       "      <th>mb_used</th>\n",
       "      <th>age</th>\n",
       "      <th>churn_date</th>\n",
       "      <th>city</th>\n",
       "      <th>first_name</th>\n",
       "      <th>last_name</th>\n",
       "      <th>reg_date</th>\n",
       "      <th>tariff</th>\n",
       "      <th>messages_included</th>\n",
       "      <th>mb_per_month_included</th>\n",
       "      <th>minutes_included</th>\n",
       "      <th>rub_monthly_fee</th>\n",
       "      <th>rub_per_gb</th>\n",
       "      <th>rub_per_message</th>\n",
       "      <th>rub_per_minute</th>\n",
       "      <th>calls_over</th>\n",
       "      <th>messages_over</th>\n",
       "      <th>internet_over</th>\n",
       "      <th>revenue</th>\n",
       "    </tr>\n",
       "  </thead>\n",
       "  <tbody>\n",
       "    <tr>\n",
       "      <th>0</th>\n",
       "      <td>1000</td>\n",
       "      <td>5</td>\n",
       "      <td>159</td>\n",
       "      <td>22</td>\n",
       "      <td>22</td>\n",
       "      <td>2254</td>\n",
       "      <td>52</td>\n",
       "      <td>NaN</td>\n",
       "      <td>краснодар</td>\n",
       "      <td>рафаил</td>\n",
       "      <td>верещагин</td>\n",
       "      <td>2018-05-25</td>\n",
       "      <td>ultra</td>\n",
       "      <td>1000</td>\n",
       "      <td>30720</td>\n",
       "      <td>3000</td>\n",
       "      <td>1950</td>\n",
       "      <td>150</td>\n",
       "      <td>1</td>\n",
       "      <td>1</td>\n",
       "      <td>-2841</td>\n",
       "      <td>-978</td>\n",
       "      <td>-27.0</td>\n",
       "      <td>1950.0</td>\n",
       "    </tr>\n",
       "    <tr>\n",
       "      <th>1</th>\n",
       "      <td>1000</td>\n",
       "      <td>6</td>\n",
       "      <td>172</td>\n",
       "      <td>43</td>\n",
       "      <td>60</td>\n",
       "      <td>23234</td>\n",
       "      <td>52</td>\n",
       "      <td>NaN</td>\n",
       "      <td>краснодар</td>\n",
       "      <td>рафаил</td>\n",
       "      <td>верещагин</td>\n",
       "      <td>2018-05-25</td>\n",
       "      <td>ultra</td>\n",
       "      <td>1000</td>\n",
       "      <td>30720</td>\n",
       "      <td>3000</td>\n",
       "      <td>1950</td>\n",
       "      <td>150</td>\n",
       "      <td>1</td>\n",
       "      <td>1</td>\n",
       "      <td>-2828</td>\n",
       "      <td>-940</td>\n",
       "      <td>-7.0</td>\n",
       "      <td>1950.0</td>\n",
       "    </tr>\n",
       "    <tr>\n",
       "      <th>2</th>\n",
       "      <td>1000</td>\n",
       "      <td>7</td>\n",
       "      <td>340</td>\n",
       "      <td>47</td>\n",
       "      <td>75</td>\n",
       "      <td>14004</td>\n",
       "      <td>52</td>\n",
       "      <td>NaN</td>\n",
       "      <td>краснодар</td>\n",
       "      <td>рафаил</td>\n",
       "      <td>верещагин</td>\n",
       "      <td>2018-05-25</td>\n",
       "      <td>ultra</td>\n",
       "      <td>1000</td>\n",
       "      <td>30720</td>\n",
       "      <td>3000</td>\n",
       "      <td>1950</td>\n",
       "      <td>150</td>\n",
       "      <td>1</td>\n",
       "      <td>1</td>\n",
       "      <td>-2660</td>\n",
       "      <td>-925</td>\n",
       "      <td>-16.0</td>\n",
       "      <td>1950.0</td>\n",
       "    </tr>\n",
       "    <tr>\n",
       "      <th>3</th>\n",
       "      <td>1000</td>\n",
       "      <td>8</td>\n",
       "      <td>408</td>\n",
       "      <td>52</td>\n",
       "      <td>81</td>\n",
       "      <td>14056</td>\n",
       "      <td>52</td>\n",
       "      <td>NaN</td>\n",
       "      <td>краснодар</td>\n",
       "      <td>рафаил</td>\n",
       "      <td>верещагин</td>\n",
       "      <td>2018-05-25</td>\n",
       "      <td>ultra</td>\n",
       "      <td>1000</td>\n",
       "      <td>30720</td>\n",
       "      <td>3000</td>\n",
       "      <td>1950</td>\n",
       "      <td>150</td>\n",
       "      <td>1</td>\n",
       "      <td>1</td>\n",
       "      <td>-2592</td>\n",
       "      <td>-919</td>\n",
       "      <td>-16.0</td>\n",
       "      <td>1950.0</td>\n",
       "    </tr>\n",
       "    <tr>\n",
       "      <th>4</th>\n",
       "      <td>1000</td>\n",
       "      <td>9</td>\n",
       "      <td>466</td>\n",
       "      <td>58</td>\n",
       "      <td>57</td>\n",
       "      <td>14569</td>\n",
       "      <td>52</td>\n",
       "      <td>NaN</td>\n",
       "      <td>краснодар</td>\n",
       "      <td>рафаил</td>\n",
       "      <td>верещагин</td>\n",
       "      <td>2018-05-25</td>\n",
       "      <td>ultra</td>\n",
       "      <td>1000</td>\n",
       "      <td>30720</td>\n",
       "      <td>3000</td>\n",
       "      <td>1950</td>\n",
       "      <td>150</td>\n",
       "      <td>1</td>\n",
       "      <td>1</td>\n",
       "      <td>-2534</td>\n",
       "      <td>-943</td>\n",
       "      <td>-15.0</td>\n",
       "      <td>1950.0</td>\n",
       "    </tr>\n",
       "  </tbody>\n",
       "</table>\n",
       "</div>"
      ],
      "text/plain": [
       "   user_id  month  duration_sum  duration_count  messages_total  mb_used  age  \\\n",
       "0     1000      5           159              22              22     2254   52   \n",
       "1     1000      6           172              43              60    23234   52   \n",
       "2     1000      7           340              47              75    14004   52   \n",
       "3     1000      8           408              52              81    14056   52   \n",
       "4     1000      9           466              58              57    14569   52   \n",
       "\n",
       "  churn_date       city first_name  last_name    reg_date tariff  \\\n",
       "0        NaN  краснодар     рафаил  верещагин  2018-05-25  ultra   \n",
       "1        NaN  краснодар     рафаил  верещагин  2018-05-25  ultra   \n",
       "2        NaN  краснодар     рафаил  верещагин  2018-05-25  ultra   \n",
       "3        NaN  краснодар     рафаил  верещагин  2018-05-25  ultra   \n",
       "4        NaN  краснодар     рафаил  верещагин  2018-05-25  ultra   \n",
       "\n",
       "   messages_included  mb_per_month_included  minutes_included  \\\n",
       "0               1000                  30720              3000   \n",
       "1               1000                  30720              3000   \n",
       "2               1000                  30720              3000   \n",
       "3               1000                  30720              3000   \n",
       "4               1000                  30720              3000   \n",
       "\n",
       "   rub_monthly_fee  rub_per_gb  rub_per_message  rub_per_minute  calls_over  \\\n",
       "0             1950         150                1               1       -2841   \n",
       "1             1950         150                1               1       -2828   \n",
       "2             1950         150                1               1       -2660   \n",
       "3             1950         150                1               1       -2592   \n",
       "4             1950         150                1               1       -2534   \n",
       "\n",
       "   messages_over  internet_over  revenue  \n",
       "0           -978          -27.0   1950.0  \n",
       "1           -940           -7.0   1950.0  \n",
       "2           -925          -16.0   1950.0  \n",
       "3           -919          -16.0   1950.0  \n",
       "4           -943          -15.0   1950.0  "
      ]
     },
     "execution_count": 28,
     "metadata": {},
     "output_type": "execute_result"
    }
   ],
   "source": [
    "# <Считаем помесячную выручку с каждого пользователя (вычли бесплатный лимит из суммарного количества звонков, сообщений \n",
    "# и интернет-трафика;  остаток умножили на значение из тарифного плана и прибавили абонентскую плату) >\n",
    "\n",
    "def revenue_func(row):\n",
    "    calls_over = row['calls_over']\n",
    "    messages_over = row['messages_over']\n",
    "    internet_over = row['internet_over']\n",
    "    rub_per_minute = row['rub_per_minute']\n",
    "    rub_per_message = row['rub_per_message']\n",
    "    rub_per_gb = row['rub_per_gb']\n",
    "    \n",
    "    if calls_over > 0:\n",
    "        calls = abs(calls_over*rub_per_minute)\n",
    "    else:\n",
    "        calls = 0\n",
    "        \n",
    "    if messages_over > 0:\n",
    "        messages = abs(messages_over*rub_per_message)\n",
    "    else: \n",
    "        messages = 0\n",
    "        \n",
    "    if internet_over > 0:\n",
    "        internet = abs(internet_over*rub_per_gb)\n",
    "    else:\n",
    "        internet = 0\n",
    "    return calls + messages + internet\n",
    "\n",
    "data['revenue'] = data.apply(revenue_func,  axis = 1)\n",
    "data['revenue'] = data['revenue'] + data['rub_monthly_fee']\n",
    "\n",
    "pd.set_option('display.max_columns', None)\n",
    "data.head()"
   ]
  },
  {
   "cell_type": "markdown",
   "metadata": {},
   "source": [
    "#### Вывод <a id=\"preprocessing_total\"></a>"
   ]
  },
  {
   "cell_type": "markdown",
   "metadata": {},
   "source": [
    "Добавили столбцы с информацией по превышению лимита звонков (calls_over), лимита сообщений (messages_over) и лимита интернета в гб (internet_over).\n",
    "\n",
    "Посчитали с помощью функции помесячную выручку с каждого пользователя (вычли бесплатный лимит из суммарного количества звонков, сообщений и интернет-трафика; остаток умножили на значение из тарифного плана и прибавили абонентскую плату, соответствующую тарифному плану)"
   ]
  },
  {
   "cell_type": "markdown",
   "metadata": {},
   "source": [
    "## Шаг 3. Анализ поведения клиентов оператора <a id=\"analysis\"></a>\n"
   ]
  },
  {
   "cell_type": "markdown",
   "metadata": {},
   "source": [
    "- Сколько минут разговора, сколько сообщений и какой объём интернет-трафика требуется пользователям каждого тарифа в месяц? "
   ]
  },
  {
   "cell_type": "code",
   "execution_count": 29,
   "metadata": {},
   "outputs": [
    {
     "data": {
      "text/html": [
       "<div>\n",
       "<style scoped>\n",
       "    .dataframe tbody tr th:only-of-type {\n",
       "        vertical-align: middle;\n",
       "    }\n",
       "\n",
       "    .dataframe tbody tr th {\n",
       "        vertical-align: top;\n",
       "    }\n",
       "\n",
       "    .dataframe thead th {\n",
       "        text-align: right;\n",
       "    }\n",
       "</style>\n",
       "<table border=\"1\" class=\"dataframe\">\n",
       "  <thead>\n",
       "    <tr style=\"text-align: right;\">\n",
       "      <th></th>\n",
       "      <th>user_id</th>\n",
       "      <th>month</th>\n",
       "      <th>duration_sum</th>\n",
       "      <th>duration_count</th>\n",
       "      <th>messages_total</th>\n",
       "      <th>mb_used</th>\n",
       "      <th>age</th>\n",
       "      <th>churn_date</th>\n",
       "      <th>city</th>\n",
       "      <th>first_name</th>\n",
       "      <th>last_name</th>\n",
       "      <th>reg_date</th>\n",
       "      <th>tariff</th>\n",
       "      <th>messages_included</th>\n",
       "      <th>mb_per_month_included</th>\n",
       "      <th>minutes_included</th>\n",
       "      <th>rub_monthly_fee</th>\n",
       "      <th>rub_per_gb</th>\n",
       "      <th>rub_per_message</th>\n",
       "      <th>rub_per_minute</th>\n",
       "      <th>calls_over</th>\n",
       "      <th>messages_over</th>\n",
       "      <th>internet_over</th>\n",
       "      <th>revenue</th>\n",
       "    </tr>\n",
       "  </thead>\n",
       "  <tbody>\n",
       "    <tr>\n",
       "      <th>0</th>\n",
       "      <td>1000</td>\n",
       "      <td>5</td>\n",
       "      <td>159</td>\n",
       "      <td>22</td>\n",
       "      <td>22</td>\n",
       "      <td>2254</td>\n",
       "      <td>52</td>\n",
       "      <td>NaN</td>\n",
       "      <td>краснодар</td>\n",
       "      <td>рафаил</td>\n",
       "      <td>верещагин</td>\n",
       "      <td>2018-05-25</td>\n",
       "      <td>ultra</td>\n",
       "      <td>1000</td>\n",
       "      <td>30720</td>\n",
       "      <td>3000</td>\n",
       "      <td>1950</td>\n",
       "      <td>150</td>\n",
       "      <td>1</td>\n",
       "      <td>1</td>\n",
       "      <td>-2841</td>\n",
       "      <td>-978</td>\n",
       "      <td>-27.0</td>\n",
       "      <td>1950.0</td>\n",
       "    </tr>\n",
       "    <tr>\n",
       "      <th>1</th>\n",
       "      <td>1000</td>\n",
       "      <td>6</td>\n",
       "      <td>172</td>\n",
       "      <td>43</td>\n",
       "      <td>60</td>\n",
       "      <td>23234</td>\n",
       "      <td>52</td>\n",
       "      <td>NaN</td>\n",
       "      <td>краснодар</td>\n",
       "      <td>рафаил</td>\n",
       "      <td>верещагин</td>\n",
       "      <td>2018-05-25</td>\n",
       "      <td>ultra</td>\n",
       "      <td>1000</td>\n",
       "      <td>30720</td>\n",
       "      <td>3000</td>\n",
       "      <td>1950</td>\n",
       "      <td>150</td>\n",
       "      <td>1</td>\n",
       "      <td>1</td>\n",
       "      <td>-2828</td>\n",
       "      <td>-940</td>\n",
       "      <td>-7.0</td>\n",
       "      <td>1950.0</td>\n",
       "    </tr>\n",
       "    <tr>\n",
       "      <th>2</th>\n",
       "      <td>1000</td>\n",
       "      <td>7</td>\n",
       "      <td>340</td>\n",
       "      <td>47</td>\n",
       "      <td>75</td>\n",
       "      <td>14004</td>\n",
       "      <td>52</td>\n",
       "      <td>NaN</td>\n",
       "      <td>краснодар</td>\n",
       "      <td>рафаил</td>\n",
       "      <td>верещагин</td>\n",
       "      <td>2018-05-25</td>\n",
       "      <td>ultra</td>\n",
       "      <td>1000</td>\n",
       "      <td>30720</td>\n",
       "      <td>3000</td>\n",
       "      <td>1950</td>\n",
       "      <td>150</td>\n",
       "      <td>1</td>\n",
       "      <td>1</td>\n",
       "      <td>-2660</td>\n",
       "      <td>-925</td>\n",
       "      <td>-16.0</td>\n",
       "      <td>1950.0</td>\n",
       "    </tr>\n",
       "    <tr>\n",
       "      <th>3</th>\n",
       "      <td>1000</td>\n",
       "      <td>8</td>\n",
       "      <td>408</td>\n",
       "      <td>52</td>\n",
       "      <td>81</td>\n",
       "      <td>14056</td>\n",
       "      <td>52</td>\n",
       "      <td>NaN</td>\n",
       "      <td>краснодар</td>\n",
       "      <td>рафаил</td>\n",
       "      <td>верещагин</td>\n",
       "      <td>2018-05-25</td>\n",
       "      <td>ultra</td>\n",
       "      <td>1000</td>\n",
       "      <td>30720</td>\n",
       "      <td>3000</td>\n",
       "      <td>1950</td>\n",
       "      <td>150</td>\n",
       "      <td>1</td>\n",
       "      <td>1</td>\n",
       "      <td>-2592</td>\n",
       "      <td>-919</td>\n",
       "      <td>-16.0</td>\n",
       "      <td>1950.0</td>\n",
       "    </tr>\n",
       "    <tr>\n",
       "      <th>4</th>\n",
       "      <td>1000</td>\n",
       "      <td>9</td>\n",
       "      <td>466</td>\n",
       "      <td>58</td>\n",
       "      <td>57</td>\n",
       "      <td>14569</td>\n",
       "      <td>52</td>\n",
       "      <td>NaN</td>\n",
       "      <td>краснодар</td>\n",
       "      <td>рафаил</td>\n",
       "      <td>верещагин</td>\n",
       "      <td>2018-05-25</td>\n",
       "      <td>ultra</td>\n",
       "      <td>1000</td>\n",
       "      <td>30720</td>\n",
       "      <td>3000</td>\n",
       "      <td>1950</td>\n",
       "      <td>150</td>\n",
       "      <td>1</td>\n",
       "      <td>1</td>\n",
       "      <td>-2534</td>\n",
       "      <td>-943</td>\n",
       "      <td>-15.0</td>\n",
       "      <td>1950.0</td>\n",
       "    </tr>\n",
       "    <tr>\n",
       "      <th>...</th>\n",
       "      <td>...</td>\n",
       "      <td>...</td>\n",
       "      <td>...</td>\n",
       "      <td>...</td>\n",
       "      <td>...</td>\n",
       "      <td>...</td>\n",
       "      <td>...</td>\n",
       "      <td>...</td>\n",
       "      <td>...</td>\n",
       "      <td>...</td>\n",
       "      <td>...</td>\n",
       "      <td>...</td>\n",
       "      <td>...</td>\n",
       "      <td>...</td>\n",
       "      <td>...</td>\n",
       "      <td>...</td>\n",
       "      <td>...</td>\n",
       "      <td>...</td>\n",
       "      <td>...</td>\n",
       "      <td>...</td>\n",
       "      <td>...</td>\n",
       "      <td>...</td>\n",
       "      <td>...</td>\n",
       "      <td>...</td>\n",
       "    </tr>\n",
       "    <tr>\n",
       "      <th>3130</th>\n",
       "      <td>1491</td>\n",
       "      <td>11</td>\n",
       "      <td>518</td>\n",
       "      <td>71</td>\n",
       "      <td>40</td>\n",
       "      <td>17829</td>\n",
       "      <td>56</td>\n",
       "      <td>NaN</td>\n",
       "      <td>челябинск</td>\n",
       "      <td>радислав</td>\n",
       "      <td>андрейкин</td>\n",
       "      <td>2018-04-25</td>\n",
       "      <td>ultra</td>\n",
       "      <td>1000</td>\n",
       "      <td>30720</td>\n",
       "      <td>3000</td>\n",
       "      <td>1950</td>\n",
       "      <td>150</td>\n",
       "      <td>1</td>\n",
       "      <td>1</td>\n",
       "      <td>-2482</td>\n",
       "      <td>-960</td>\n",
       "      <td>-12.0</td>\n",
       "      <td>1950.0</td>\n",
       "    </tr>\n",
       "    <tr>\n",
       "      <th>3131</th>\n",
       "      <td>1491</td>\n",
       "      <td>12</td>\n",
       "      <td>674</td>\n",
       "      <td>90</td>\n",
       "      <td>51</td>\n",
       "      <td>22062</td>\n",
       "      <td>56</td>\n",
       "      <td>NaN</td>\n",
       "      <td>челябинск</td>\n",
       "      <td>радислав</td>\n",
       "      <td>андрейкин</td>\n",
       "      <td>2018-04-25</td>\n",
       "      <td>ultra</td>\n",
       "      <td>1000</td>\n",
       "      <td>30720</td>\n",
       "      <td>3000</td>\n",
       "      <td>1950</td>\n",
       "      <td>150</td>\n",
       "      <td>1</td>\n",
       "      <td>1</td>\n",
       "      <td>-2326</td>\n",
       "      <td>-949</td>\n",
       "      <td>-8.0</td>\n",
       "      <td>1950.0</td>\n",
       "    </tr>\n",
       "    <tr>\n",
       "      <th>3139</th>\n",
       "      <td>1493</td>\n",
       "      <td>11</td>\n",
       "      <td>173</td>\n",
       "      <td>26</td>\n",
       "      <td>16</td>\n",
       "      <td>11685</td>\n",
       "      <td>71</td>\n",
       "      <td>NaN</td>\n",
       "      <td>красноярск</td>\n",
       "      <td>таисия</td>\n",
       "      <td>ахматулина</td>\n",
       "      <td>2018-11-24</td>\n",
       "      <td>ultra</td>\n",
       "      <td>1000</td>\n",
       "      <td>30720</td>\n",
       "      <td>3000</td>\n",
       "      <td>1950</td>\n",
       "      <td>150</td>\n",
       "      <td>1</td>\n",
       "      <td>1</td>\n",
       "      <td>-2827</td>\n",
       "      <td>-984</td>\n",
       "      <td>-18.0</td>\n",
       "      <td>1950.0</td>\n",
       "    </tr>\n",
       "    <tr>\n",
       "      <th>3146</th>\n",
       "      <td>1495</td>\n",
       "      <td>8</td>\n",
       "      <td>92</td>\n",
       "      <td>17</td>\n",
       "      <td>13</td>\n",
       "      <td>2615</td>\n",
       "      <td>65</td>\n",
       "      <td>NaN</td>\n",
       "      <td>иркутск</td>\n",
       "      <td>авксентий</td>\n",
       "      <td>фокин</td>\n",
       "      <td>2018-08-28</td>\n",
       "      <td>ultra</td>\n",
       "      <td>1000</td>\n",
       "      <td>30720</td>\n",
       "      <td>3000</td>\n",
       "      <td>1950</td>\n",
       "      <td>150</td>\n",
       "      <td>1</td>\n",
       "      <td>1</td>\n",
       "      <td>-2908</td>\n",
       "      <td>-987</td>\n",
       "      <td>-27.0</td>\n",
       "      <td>1950.0</td>\n",
       "    </tr>\n",
       "    <tr>\n",
       "      <th>3147</th>\n",
       "      <td>1495</td>\n",
       "      <td>9</td>\n",
       "      <td>813</td>\n",
       "      <td>112</td>\n",
       "      <td>82</td>\n",
       "      <td>33068</td>\n",
       "      <td>65</td>\n",
       "      <td>NaN</td>\n",
       "      <td>иркутск</td>\n",
       "      <td>авксентий</td>\n",
       "      <td>фокин</td>\n",
       "      <td>2018-08-28</td>\n",
       "      <td>ultra</td>\n",
       "      <td>1000</td>\n",
       "      <td>30720</td>\n",
       "      <td>3000</td>\n",
       "      <td>1950</td>\n",
       "      <td>150</td>\n",
       "      <td>1</td>\n",
       "      <td>1</td>\n",
       "      <td>-2187</td>\n",
       "      <td>-918</td>\n",
       "      <td>3.0</td>\n",
       "      <td>2400.0</td>\n",
       "    </tr>\n",
       "  </tbody>\n",
       "</table>\n",
       "<p>605 rows × 24 columns</p>\n",
       "</div>"
      ],
      "text/plain": [
       "      user_id  month  duration_sum  duration_count  messages_total  mb_used  \\\n",
       "0        1000      5           159              22              22     2254   \n",
       "1        1000      6           172              43              60    23234   \n",
       "2        1000      7           340              47              75    14004   \n",
       "3        1000      8           408              52              81    14056   \n",
       "4        1000      9           466              58              57    14569   \n",
       "...       ...    ...           ...             ...             ...      ...   \n",
       "3130     1491     11           518              71              40    17829   \n",
       "3131     1491     12           674              90              51    22062   \n",
       "3139     1493     11           173              26              16    11685   \n",
       "3146     1495      8            92              17              13     2615   \n",
       "3147     1495      9           813             112              82    33068   \n",
       "\n",
       "      age churn_date        city first_name   last_name    reg_date tariff  \\\n",
       "0      52        NaN   краснодар     рафаил   верещагин  2018-05-25  ultra   \n",
       "1      52        NaN   краснодар     рафаил   верещагин  2018-05-25  ultra   \n",
       "2      52        NaN   краснодар     рафаил   верещагин  2018-05-25  ultra   \n",
       "3      52        NaN   краснодар     рафаил   верещагин  2018-05-25  ultra   \n",
       "4      52        NaN   краснодар     рафаил   верещагин  2018-05-25  ultra   \n",
       "...   ...        ...         ...        ...         ...         ...    ...   \n",
       "3130   56        NaN   челябинск   радислав   андрейкин  2018-04-25  ultra   \n",
       "3131   56        NaN   челябинск   радислав   андрейкин  2018-04-25  ultra   \n",
       "3139   71        NaN  красноярск     таисия  ахматулина  2018-11-24  ultra   \n",
       "3146   65        NaN     иркутск  авксентий       фокин  2018-08-28  ultra   \n",
       "3147   65        NaN     иркутск  авксентий       фокин  2018-08-28  ultra   \n",
       "\n",
       "      messages_included  mb_per_month_included  minutes_included  \\\n",
       "0                  1000                  30720              3000   \n",
       "1                  1000                  30720              3000   \n",
       "2                  1000                  30720              3000   \n",
       "3                  1000                  30720              3000   \n",
       "4                  1000                  30720              3000   \n",
       "...                 ...                    ...               ...   \n",
       "3130               1000                  30720              3000   \n",
       "3131               1000                  30720              3000   \n",
       "3139               1000                  30720              3000   \n",
       "3146               1000                  30720              3000   \n",
       "3147               1000                  30720              3000   \n",
       "\n",
       "      rub_monthly_fee  rub_per_gb  rub_per_message  rub_per_minute  \\\n",
       "0                1950         150                1               1   \n",
       "1                1950         150                1               1   \n",
       "2                1950         150                1               1   \n",
       "3                1950         150                1               1   \n",
       "4                1950         150                1               1   \n",
       "...               ...         ...              ...             ...   \n",
       "3130             1950         150                1               1   \n",
       "3131             1950         150                1               1   \n",
       "3139             1950         150                1               1   \n",
       "3146             1950         150                1               1   \n",
       "3147             1950         150                1               1   \n",
       "\n",
       "      calls_over  messages_over  internet_over  revenue  \n",
       "0          -2841           -978          -27.0   1950.0  \n",
       "1          -2828           -940           -7.0   1950.0  \n",
       "2          -2660           -925          -16.0   1950.0  \n",
       "3          -2592           -919          -16.0   1950.0  \n",
       "4          -2534           -943          -15.0   1950.0  \n",
       "...          ...            ...            ...      ...  \n",
       "3130       -2482           -960          -12.0   1950.0  \n",
       "3131       -2326           -949           -8.0   1950.0  \n",
       "3139       -2827           -984          -18.0   1950.0  \n",
       "3146       -2908           -987          -27.0   1950.0  \n",
       "3147       -2187           -918            3.0   2400.0  \n",
       "\n",
       "[605 rows x 24 columns]"
      ]
     },
     "execution_count": 29,
     "metadata": {},
     "output_type": "execute_result"
    }
   ],
   "source": [
    "data_ultra = data.query('tariff == \"ultra\"')\n",
    "data_ultra"
   ]
  },
  {
   "cell_type": "code",
   "execution_count": 30,
   "metadata": {},
   "outputs": [
    {
     "data": {
      "text/html": [
       "<div>\n",
       "<style scoped>\n",
       "    .dataframe tbody tr th:only-of-type {\n",
       "        vertical-align: middle;\n",
       "    }\n",
       "\n",
       "    .dataframe tbody tr th {\n",
       "        vertical-align: top;\n",
       "    }\n",
       "\n",
       "    .dataframe thead th {\n",
       "        text-align: right;\n",
       "    }\n",
       "</style>\n",
       "<table border=\"1\" class=\"dataframe\">\n",
       "  <thead>\n",
       "    <tr style=\"text-align: right;\">\n",
       "      <th></th>\n",
       "      <th>user_id</th>\n",
       "      <th>month</th>\n",
       "      <th>duration_sum</th>\n",
       "      <th>duration_count</th>\n",
       "      <th>messages_total</th>\n",
       "      <th>mb_used</th>\n",
       "      <th>age</th>\n",
       "      <th>churn_date</th>\n",
       "      <th>city</th>\n",
       "      <th>first_name</th>\n",
       "      <th>last_name</th>\n",
       "      <th>reg_date</th>\n",
       "      <th>tariff</th>\n",
       "      <th>messages_included</th>\n",
       "      <th>mb_per_month_included</th>\n",
       "      <th>minutes_included</th>\n",
       "      <th>rub_monthly_fee</th>\n",
       "      <th>rub_per_gb</th>\n",
       "      <th>rub_per_message</th>\n",
       "      <th>rub_per_minute</th>\n",
       "      <th>calls_over</th>\n",
       "      <th>messages_over</th>\n",
       "      <th>internet_over</th>\n",
       "      <th>revenue</th>\n",
       "    </tr>\n",
       "  </thead>\n",
       "  <tbody>\n",
       "    <tr>\n",
       "      <th>10</th>\n",
       "      <td>1002</td>\n",
       "      <td>6</td>\n",
       "      <td>117</td>\n",
       "      <td>15</td>\n",
       "      <td>4</td>\n",
       "      <td>10857</td>\n",
       "      <td>59</td>\n",
       "      <td>NaN</td>\n",
       "      <td>стерлитамак</td>\n",
       "      <td>евгений</td>\n",
       "      <td>абрамович</td>\n",
       "      <td>2018-06-17</td>\n",
       "      <td>smart</td>\n",
       "      <td>50</td>\n",
       "      <td>15360</td>\n",
       "      <td>500</td>\n",
       "      <td>550</td>\n",
       "      <td>200</td>\n",
       "      <td>3</td>\n",
       "      <td>3</td>\n",
       "      <td>-383</td>\n",
       "      <td>-46</td>\n",
       "      <td>-4.0</td>\n",
       "      <td>550.0</td>\n",
       "    </tr>\n",
       "    <tr>\n",
       "      <th>11</th>\n",
       "      <td>1002</td>\n",
       "      <td>7</td>\n",
       "      <td>214</td>\n",
       "      <td>26</td>\n",
       "      <td>11</td>\n",
       "      <td>17581</td>\n",
       "      <td>59</td>\n",
       "      <td>NaN</td>\n",
       "      <td>стерлитамак</td>\n",
       "      <td>евгений</td>\n",
       "      <td>абрамович</td>\n",
       "      <td>2018-06-17</td>\n",
       "      <td>smart</td>\n",
       "      <td>50</td>\n",
       "      <td>15360</td>\n",
       "      <td>500</td>\n",
       "      <td>550</td>\n",
       "      <td>200</td>\n",
       "      <td>3</td>\n",
       "      <td>3</td>\n",
       "      <td>-286</td>\n",
       "      <td>-39</td>\n",
       "      <td>3.0</td>\n",
       "      <td>1150.0</td>\n",
       "    </tr>\n",
       "    <tr>\n",
       "      <th>12</th>\n",
       "      <td>1002</td>\n",
       "      <td>8</td>\n",
       "      <td>289</td>\n",
       "      <td>42</td>\n",
       "      <td>13</td>\n",
       "      <td>20320</td>\n",
       "      <td>59</td>\n",
       "      <td>NaN</td>\n",
       "      <td>стерлитамак</td>\n",
       "      <td>евгений</td>\n",
       "      <td>абрамович</td>\n",
       "      <td>2018-06-17</td>\n",
       "      <td>smart</td>\n",
       "      <td>50</td>\n",
       "      <td>15360</td>\n",
       "      <td>500</td>\n",
       "      <td>550</td>\n",
       "      <td>200</td>\n",
       "      <td>3</td>\n",
       "      <td>3</td>\n",
       "      <td>-211</td>\n",
       "      <td>-37</td>\n",
       "      <td>5.0</td>\n",
       "      <td>1550.0</td>\n",
       "    </tr>\n",
       "    <tr>\n",
       "      <th>13</th>\n",
       "      <td>1002</td>\n",
       "      <td>9</td>\n",
       "      <td>206</td>\n",
       "      <td>36</td>\n",
       "      <td>4</td>\n",
       "      <td>16692</td>\n",
       "      <td>59</td>\n",
       "      <td>NaN</td>\n",
       "      <td>стерлитамак</td>\n",
       "      <td>евгений</td>\n",
       "      <td>абрамович</td>\n",
       "      <td>2018-06-17</td>\n",
       "      <td>smart</td>\n",
       "      <td>50</td>\n",
       "      <td>15360</td>\n",
       "      <td>500</td>\n",
       "      <td>550</td>\n",
       "      <td>200</td>\n",
       "      <td>3</td>\n",
       "      <td>3</td>\n",
       "      <td>-294</td>\n",
       "      <td>-46</td>\n",
       "      <td>2.0</td>\n",
       "      <td>950.0</td>\n",
       "    </tr>\n",
       "    <tr>\n",
       "      <th>14</th>\n",
       "      <td>1002</td>\n",
       "      <td>10</td>\n",
       "      <td>212</td>\n",
       "      <td>33</td>\n",
       "      <td>10</td>\n",
       "      <td>13889</td>\n",
       "      <td>59</td>\n",
       "      <td>NaN</td>\n",
       "      <td>стерлитамак</td>\n",
       "      <td>евгений</td>\n",
       "      <td>абрамович</td>\n",
       "      <td>2018-06-17</td>\n",
       "      <td>smart</td>\n",
       "      <td>50</td>\n",
       "      <td>15360</td>\n",
       "      <td>500</td>\n",
       "      <td>550</td>\n",
       "      <td>200</td>\n",
       "      <td>3</td>\n",
       "      <td>3</td>\n",
       "      <td>-288</td>\n",
       "      <td>-40</td>\n",
       "      <td>-1.0</td>\n",
       "      <td>550.0</td>\n",
       "    </tr>\n",
       "    <tr>\n",
       "      <th>...</th>\n",
       "      <td>...</td>\n",
       "      <td>...</td>\n",
       "      <td>...</td>\n",
       "      <td>...</td>\n",
       "      <td>...</td>\n",
       "      <td>...</td>\n",
       "      <td>...</td>\n",
       "      <td>...</td>\n",
       "      <td>...</td>\n",
       "      <td>...</td>\n",
       "      <td>...</td>\n",
       "      <td>...</td>\n",
       "      <td>...</td>\n",
       "      <td>...</td>\n",
       "      <td>...</td>\n",
       "      <td>...</td>\n",
       "      <td>...</td>\n",
       "      <td>...</td>\n",
       "      <td>...</td>\n",
       "      <td>...</td>\n",
       "      <td>...</td>\n",
       "      <td>...</td>\n",
       "      <td>...</td>\n",
       "      <td>...</td>\n",
       "    </tr>\n",
       "    <tr>\n",
       "      <th>3169</th>\n",
       "      <td>1498</td>\n",
       "      <td>10</td>\n",
       "      <td>247</td>\n",
       "      <td>41</td>\n",
       "      <td>42</td>\n",
       "      <td>20580</td>\n",
       "      <td>68</td>\n",
       "      <td>2018-10-25</td>\n",
       "      <td>владикавказ</td>\n",
       "      <td>всеволод</td>\n",
       "      <td>акимчин</td>\n",
       "      <td>2018-07-19</td>\n",
       "      <td>smart</td>\n",
       "      <td>50</td>\n",
       "      <td>15360</td>\n",
       "      <td>500</td>\n",
       "      <td>550</td>\n",
       "      <td>200</td>\n",
       "      <td>3</td>\n",
       "      <td>3</td>\n",
       "      <td>-253</td>\n",
       "      <td>-8</td>\n",
       "      <td>6.0</td>\n",
       "      <td>1750.0</td>\n",
       "    </tr>\n",
       "    <tr>\n",
       "      <th>3170</th>\n",
       "      <td>1499</td>\n",
       "      <td>9</td>\n",
       "      <td>70</td>\n",
       "      <td>9</td>\n",
       "      <td>11</td>\n",
       "      <td>1846</td>\n",
       "      <td>35</td>\n",
       "      <td>NaN</td>\n",
       "      <td>пермь</td>\n",
       "      <td>гектор</td>\n",
       "      <td>корнилов</td>\n",
       "      <td>2018-09-27</td>\n",
       "      <td>smart</td>\n",
       "      <td>50</td>\n",
       "      <td>15360</td>\n",
       "      <td>500</td>\n",
       "      <td>550</td>\n",
       "      <td>200</td>\n",
       "      <td>3</td>\n",
       "      <td>3</td>\n",
       "      <td>-430</td>\n",
       "      <td>-39</td>\n",
       "      <td>-13.0</td>\n",
       "      <td>550.0</td>\n",
       "    </tr>\n",
       "    <tr>\n",
       "      <th>3171</th>\n",
       "      <td>1499</td>\n",
       "      <td>10</td>\n",
       "      <td>449</td>\n",
       "      <td>68</td>\n",
       "      <td>48</td>\n",
       "      <td>17789</td>\n",
       "      <td>35</td>\n",
       "      <td>NaN</td>\n",
       "      <td>пермь</td>\n",
       "      <td>гектор</td>\n",
       "      <td>корнилов</td>\n",
       "      <td>2018-09-27</td>\n",
       "      <td>smart</td>\n",
       "      <td>50</td>\n",
       "      <td>15360</td>\n",
       "      <td>500</td>\n",
       "      <td>550</td>\n",
       "      <td>200</td>\n",
       "      <td>3</td>\n",
       "      <td>3</td>\n",
       "      <td>-51</td>\n",
       "      <td>-2</td>\n",
       "      <td>3.0</td>\n",
       "      <td>1150.0</td>\n",
       "    </tr>\n",
       "    <tr>\n",
       "      <th>3172</th>\n",
       "      <td>1499</td>\n",
       "      <td>11</td>\n",
       "      <td>612</td>\n",
       "      <td>74</td>\n",
       "      <td>59</td>\n",
       "      <td>17964</td>\n",
       "      <td>35</td>\n",
       "      <td>NaN</td>\n",
       "      <td>пермь</td>\n",
       "      <td>гектор</td>\n",
       "      <td>корнилов</td>\n",
       "      <td>2018-09-27</td>\n",
       "      <td>smart</td>\n",
       "      <td>50</td>\n",
       "      <td>15360</td>\n",
       "      <td>500</td>\n",
       "      <td>550</td>\n",
       "      <td>200</td>\n",
       "      <td>3</td>\n",
       "      <td>3</td>\n",
       "      <td>112</td>\n",
       "      <td>9</td>\n",
       "      <td>3.0</td>\n",
       "      <td>1513.0</td>\n",
       "    </tr>\n",
       "    <tr>\n",
       "      <th>3173</th>\n",
       "      <td>1499</td>\n",
       "      <td>12</td>\n",
       "      <td>492</td>\n",
       "      <td>69</td>\n",
       "      <td>66</td>\n",
       "      <td>13056</td>\n",
       "      <td>35</td>\n",
       "      <td>NaN</td>\n",
       "      <td>пермь</td>\n",
       "      <td>гектор</td>\n",
       "      <td>корнилов</td>\n",
       "      <td>2018-09-27</td>\n",
       "      <td>smart</td>\n",
       "      <td>50</td>\n",
       "      <td>15360</td>\n",
       "      <td>500</td>\n",
       "      <td>550</td>\n",
       "      <td>200</td>\n",
       "      <td>3</td>\n",
       "      <td>3</td>\n",
       "      <td>-8</td>\n",
       "      <td>16</td>\n",
       "      <td>-2.0</td>\n",
       "      <td>598.0</td>\n",
       "    </tr>\n",
       "  </tbody>\n",
       "</table>\n",
       "<p>1898 rows × 24 columns</p>\n",
       "</div>"
      ],
      "text/plain": [
       "      user_id  month  duration_sum  duration_count  messages_total  mb_used  \\\n",
       "10       1002      6           117              15               4    10857   \n",
       "11       1002      7           214              26              11    17581   \n",
       "12       1002      8           289              42              13    20320   \n",
       "13       1002      9           206              36               4    16692   \n",
       "14       1002     10           212              33              10    13889   \n",
       "...       ...    ...           ...             ...             ...      ...   \n",
       "3169     1498     10           247              41              42    20580   \n",
       "3170     1499      9            70               9              11     1846   \n",
       "3171     1499     10           449              68              48    17789   \n",
       "3172     1499     11           612              74              59    17964   \n",
       "3173     1499     12           492              69              66    13056   \n",
       "\n",
       "      age  churn_date         city first_name  last_name    reg_date tariff  \\\n",
       "10     59         NaN  стерлитамак    евгений  абрамович  2018-06-17  smart   \n",
       "11     59         NaN  стерлитамак    евгений  абрамович  2018-06-17  smart   \n",
       "12     59         NaN  стерлитамак    евгений  абрамович  2018-06-17  smart   \n",
       "13     59         NaN  стерлитамак    евгений  абрамович  2018-06-17  smart   \n",
       "14     59         NaN  стерлитамак    евгений  абрамович  2018-06-17  smart   \n",
       "...   ...         ...          ...        ...        ...         ...    ...   \n",
       "3169   68  2018-10-25  владикавказ   всеволод    акимчин  2018-07-19  smart   \n",
       "3170   35         NaN        пермь     гектор   корнилов  2018-09-27  smart   \n",
       "3171   35         NaN        пермь     гектор   корнилов  2018-09-27  smart   \n",
       "3172   35         NaN        пермь     гектор   корнилов  2018-09-27  smart   \n",
       "3173   35         NaN        пермь     гектор   корнилов  2018-09-27  smart   \n",
       "\n",
       "      messages_included  mb_per_month_included  minutes_included  \\\n",
       "10                   50                  15360               500   \n",
       "11                   50                  15360               500   \n",
       "12                   50                  15360               500   \n",
       "13                   50                  15360               500   \n",
       "14                   50                  15360               500   \n",
       "...                 ...                    ...               ...   \n",
       "3169                 50                  15360               500   \n",
       "3170                 50                  15360               500   \n",
       "3171                 50                  15360               500   \n",
       "3172                 50                  15360               500   \n",
       "3173                 50                  15360               500   \n",
       "\n",
       "      rub_monthly_fee  rub_per_gb  rub_per_message  rub_per_minute  \\\n",
       "10                550         200                3               3   \n",
       "11                550         200                3               3   \n",
       "12                550         200                3               3   \n",
       "13                550         200                3               3   \n",
       "14                550         200                3               3   \n",
       "...               ...         ...              ...             ...   \n",
       "3169              550         200                3               3   \n",
       "3170              550         200                3               3   \n",
       "3171              550         200                3               3   \n",
       "3172              550         200                3               3   \n",
       "3173              550         200                3               3   \n",
       "\n",
       "      calls_over  messages_over  internet_over  revenue  \n",
       "10          -383            -46           -4.0    550.0  \n",
       "11          -286            -39            3.0   1150.0  \n",
       "12          -211            -37            5.0   1550.0  \n",
       "13          -294            -46            2.0    950.0  \n",
       "14          -288            -40           -1.0    550.0  \n",
       "...          ...            ...            ...      ...  \n",
       "3169        -253             -8            6.0   1750.0  \n",
       "3170        -430            -39          -13.0    550.0  \n",
       "3171         -51             -2            3.0   1150.0  \n",
       "3172         112              9            3.0   1513.0  \n",
       "3173          -8             16           -2.0    598.0  \n",
       "\n",
       "[1898 rows x 24 columns]"
      ]
     },
     "execution_count": 30,
     "metadata": {},
     "output_type": "execute_result"
    }
   ],
   "source": [
    "data_smart = data.query('tariff == \"smart\"')\n",
    "data_smart"
   ]
  },
  {
   "cell_type": "markdown",
   "metadata": {},
   "source": [
    "- Посчитайте среднее количество, дисперсию и стандартное отклонение. "
   ]
  },
  {
   "cell_type": "code",
   "execution_count": 31,
   "metadata": {},
   "outputs": [
    {
     "name": "stdout",
     "output_type": "stream",
     "text": [
      "<class 'pandas.core.frame.DataFrame'>\n",
      "Int64Index: 605 entries, 0 to 3147\n",
      "Data columns (total 24 columns):\n",
      " #   Column                 Non-Null Count  Dtype  \n",
      "---  ------                 --------------  -----  \n",
      " 0   user_id                605 non-null    int64  \n",
      " 1   month                  605 non-null    int64  \n",
      " 2   duration_sum           605 non-null    Int64  \n",
      " 3   duration_count         605 non-null    Int64  \n",
      " 4   messages_total         605 non-null    Int64  \n",
      " 5   mb_used                605 non-null    Int64  \n",
      " 6   age                    605 non-null    int64  \n",
      " 7   churn_date             36 non-null     object \n",
      " 8   city                   605 non-null    object \n",
      " 9   first_name             605 non-null    object \n",
      " 10  last_name              605 non-null    object \n",
      " 11  reg_date               605 non-null    object \n",
      " 12  tariff                 605 non-null    object \n",
      " 13  messages_included      605 non-null    int64  \n",
      " 14  mb_per_month_included  605 non-null    int64  \n",
      " 15  minutes_included       605 non-null    int64  \n",
      " 16  rub_monthly_fee        605 non-null    int64  \n",
      " 17  rub_per_gb             605 non-null    int64  \n",
      " 18  rub_per_message        605 non-null    int64  \n",
      " 19  rub_per_minute         605 non-null    int64  \n",
      " 20  calls_over             605 non-null    Int64  \n",
      " 21  messages_over          605 non-null    Int64  \n",
      " 22  internet_over          605 non-null    float64\n",
      " 23  revenue                605 non-null    float64\n",
      "dtypes: Int64(6), float64(2), int64(10), object(6)\n",
      "memory usage: 121.7+ KB\n"
     ]
    }
   ],
   "source": [
    "data_ultra.info()"
   ]
  },
  {
   "cell_type": "code",
   "execution_count": 32,
   "metadata": {},
   "outputs": [
    {
     "data": {
      "text/html": [
       "<div>\n",
       "<style scoped>\n",
       "    .dataframe tbody tr th:only-of-type {\n",
       "        vertical-align: middle;\n",
       "    }\n",
       "\n",
       "    .dataframe tbody tr th {\n",
       "        vertical-align: top;\n",
       "    }\n",
       "\n",
       "    .dataframe thead tr th {\n",
       "        text-align: left;\n",
       "    }\n",
       "</style>\n",
       "<table border=\"1\" class=\"dataframe\">\n",
       "  <thead>\n",
       "    <tr>\n",
       "      <th></th>\n",
       "      <th>tariff</th>\n",
       "      <th colspan=\"3\" halign=\"left\">duration_sum</th>\n",
       "      <th colspan=\"3\" halign=\"left\">messages_total</th>\n",
       "      <th colspan=\"3\" halign=\"left\">mb_used</th>\n",
       "    </tr>\n",
       "    <tr>\n",
       "      <th></th>\n",
       "      <th></th>\n",
       "      <th>mean</th>\n",
       "      <th>std</th>\n",
       "      <th>var</th>\n",
       "      <th>mean</th>\n",
       "      <th>std</th>\n",
       "      <th>var</th>\n",
       "      <th>mean</th>\n",
       "      <th>std</th>\n",
       "      <th>var</th>\n",
       "    </tr>\n",
       "  </thead>\n",
       "  <tbody>\n",
       "    <tr>\n",
       "      <th>0</th>\n",
       "      <td>smart</td>\n",
       "      <td>418.727608</td>\n",
       "      <td>183.669115</td>\n",
       "      <td>33734.343792</td>\n",
       "      <td>38.402002</td>\n",
       "      <td>26.234700</td>\n",
       "      <td>688.259500</td>\n",
       "      <td>16166.253952</td>\n",
       "      <td>5673.197863</td>\n",
       "      <td>3.218517e+07</td>\n",
       "    </tr>\n",
       "    <tr>\n",
       "      <th>1</th>\n",
       "      <td>ultra</td>\n",
       "      <td>504.561983</td>\n",
       "      <td>251.696367</td>\n",
       "      <td>63351.061135</td>\n",
       "      <td>50.912397</td>\n",
       "      <td>34.014809</td>\n",
       "      <td>1157.007214</td>\n",
       "      <td>18080.347107</td>\n",
       "      <td>8577.095990</td>\n",
       "      <td>7.356658e+07</td>\n",
       "    </tr>\n",
       "  </tbody>\n",
       "</table>\n",
       "</div>"
      ],
      "text/plain": [
       "  tariff duration_sum                           messages_total             \\\n",
       "                 mean         std           var           mean        std   \n",
       "0  smart   418.727608  183.669115  33734.343792      38.402002  26.234700   \n",
       "1  ultra   504.561983  251.696367  63351.061135      50.912397  34.014809   \n",
       "\n",
       "                     mb_used                             \n",
       "           var          mean          std           var  \n",
       "0   688.259500  16166.253952  5673.197863  3.218517e+07  \n",
       "1  1157.007214  18080.347107  8577.095990  7.356658e+07  "
      ]
     },
     "execution_count": 32,
     "metadata": {},
     "output_type": "execute_result"
    }
   ],
   "source": [
    "data.groupby('tariff').agg({'duration_sum': ['mean', 'std', 'var'], \n",
    "                            'messages_total': ['mean', 'std', 'var'],\n",
    "                            'mb_used': ['mean', 'std', 'var']}).reset_index()"
   ]
  },
  {
   "cell_type": "markdown",
   "metadata": {},
   "source": [
    "- Постройте гистограммы."
   ]
  },
  {
   "cell_type": "code",
   "execution_count": 33,
   "metadata": {},
   "outputs": [
    {
     "data": {
      "image/png": "[encoded data removed]",
      "text/plain": [
       "<Figure size 1440x576 with 1 Axes>"
      ]
     },
     "metadata": {
      "needs_background": "light"
     },
     "output_type": "display_data"
    },
    {
     "data": {
      "image/png": "[encoded data removed]",
      "text/plain": [
       "<Figure size 1440x576 with 1 Axes>"
      ]
     },
     "metadata": {
      "needs_background": "light"
     },
     "output_type": "display_data"
    },
    {
     "data": {
      "image/png": "[encoded data removed]",
      "text/plain": [
       "<Figure size 1440x576 with 1 Axes>"
      ]
     },
     "metadata": {
      "needs_background": "light"
     },
     "output_type": "display_data"
    }
   ],
   "source": [
    "# <Строим диаграммы плотности для data_smart и data_ultra>\n",
    "def distplot(column):\n",
    "    plt.figure(figsize=(20, 8))\n",
    "    plt.title('data_smart/data ultra')\n",
    "    plt.ylabel('Frequency')\n",
    "    sns.distplot(data_smart[column], kde = False, bins = 30)\n",
    "    sns.distplot(data_ultra[column], kde = False, bins = 30)\n",
    "    \n",
    "\n",
    "distplot_columns = ['duration_sum', 'messages_total', 'mb_used'] \n",
    "for column in distplot_columns:\n",
    "    distplot(column)"
   ]
  },
  {
   "cell_type": "markdown",
   "metadata": {},
   "source": [
    "### Вывод <a id=\"analisis_total\"></a>"
   ]
  },
  {
   "cell_type": "markdown",
   "metadata": {},
   "source": [
    "Средние значения по столбцам duration_sum, messages_total, mb_used больше у тарифа ультра:\n",
    "- Средняя продолжительность всех разговоров больше у тарифа ultra на 86 минут (505 против 419 у smart).\n",
    "- Среднее количество использованного интернета также больше у тарифа ultra на 1914 мб (18080 против 16166 у smart).\n",
    "- Среднее количество использованных смс все еще больше у тарифа ultra на 14 смс (51 против 38 у smart).\n",
    "\n",
    "Стандартное отклонение (соответственно и дисперсия) также больше у всех показателей тарифа ультра, что означает больший разброс использования минут, смс и гб у пользователей тарифа ультра\n",
    "\n",
    "На гистограмме duration_sum можно отметить, что суммарная продолжительность звонков тарифа смарт стремится к нормальному распределению, а суммарная продолжительность звонков тарифа ультра распределена широко.\n",
    "\n",
    "На гистограмме messages_total видно, что на тарифе смарт почти нет больше 120 смс у пользователей, в то время как у тарифа ультра опять же более пологий график и есть пользователя с больше 120 смс\n",
    "\n",
    "На гистограмме mb_used видно, что клиенты тарифа ультра используют от 0 до 35 гб, в то время как пользователи тарифа ультра - в среднем не более 33"
   ]
  },
  {
   "cell_type": "markdown",
   "metadata": {},
   "source": [
    "## Шаг 4. Проверка гипотез<a id=\"hypotesis\"></a>"
   ]
  },
  {
   "cell_type": "markdown",
   "metadata": {},
   "source": [
    "- средняя выручка пользователей тарифов «Ультра» и «Смарт» различаются;"
   ]
  },
  {
   "cell_type": "markdown",
   "metadata": {},
   "source": [
    "Гипотеза H₀: \"средняя выручка одной генеральной совокупности (тарифа \"Ультра\") равна средней выручке другой генеральной совокупности (тарифа \"Смарт\")\".\n",
    "\n",
    "Гипотеза H₁: \"средняя выручка одной генеральной совокупности (тарифа \"Ультра\") не равна средней выручке другой генеральной совокупности (тарифа \"Смарт\")\"."
   ]
  },
  {
   "cell_type": "code",
   "execution_count": 34,
   "metadata": {},
   "outputs": [
    {
     "name": "stdout",
     "output_type": "stream",
     "text": [
      "p-значение: 3.545549128284855e-246\n",
      "Отвергаем нулевую гипотезу\n"
     ]
    }
   ],
   "source": [
    "alpha = 0.05  # критический уровень статистической значимости\n",
    "# если p-value окажется меньше него - отвергнем гипотезу\n",
    "\n",
    "results = st.ttest_ind(data_smart['revenue'], data_ultra['revenue'], equal_var=False)\n",
    "\n",
    "print('p-значение:', results.pvalue)\n",
    "\n",
    "if results.pvalue < alpha:\n",
    "    print('Отвергаем нулевую гипотезу')\n",
    "else:\n",
    "    print('Не получилось отвергнуть нулевую гипотезу') "
   ]
  },
  {
   "cell_type": "markdown",
   "metadata": {},
   "source": [
    "- средняя выручка пользователи из Москвы отличается от выручки пользователей из других регионов.\n"
   ]
  },
  {
   "cell_type": "markdown",
   "metadata": {},
   "source": [
    "Гипотеза H₀: \"средняя выручка одной генеральной совокупности (пользователи из Москвы) равна средней выручке другой генеральной совокупности (пользователи не из Москвы)\".\n",
    "\n",
    "Гипотеза H₁: \"средняя выручка одной генеральной совокупности (пользователи из Москвы) не равна средней выручке другой генеральной совокупности (пользователи не из Москвы)\"."
   ]
  },
  {
   "cell_type": "code",
   "execution_count": 35,
   "metadata": {},
   "outputs": [
    {
     "name": "stdout",
     "output_type": "stream",
     "text": [
      "p-значение: 0.33566437132162696\n",
      "Не получилось отвергнуть нулевую гипотезу\n"
     ]
    }
   ],
   "source": [
    "alpha = 0.05  # критический уровень статистической значимости\n",
    "# если p-value окажется меньше него - отвергнем гипотезу\n",
    "\n",
    "data_moscow = data.query('city == \"москва\"')\n",
    "data_other_cities = data.query('city != \"москва\"')\n",
    "results = st.ttest_ind(data_moscow['revenue'], data_other_cities['revenue'], equal_var=False)\n",
    "\n",
    "print('p-значение:', results.pvalue)\n",
    "\n",
    "if results.pvalue < alpha:\n",
    "    print('Отвергаем нулевую гипотезу')\n",
    "else:\n",
    "    print('Не получилось отвергнуть нулевую гипотезу') "
   ]
  },
  {
   "cell_type": "markdown",
   "metadata": {},
   "source": [
    "- Поясните, какой критерий использовали для проверки гипотез и почему.\n"
   ]
  },
  {
   "cell_type": "markdown",
   "metadata": {},
   "source": [
    "На всякий случай (если дисперсии выборок различаются), был использован тест Уэлча, что незначительно повысило точность."
   ]
  },
  {
   "cell_type": "markdown",
   "metadata": {},
   "source": [
    "### Вывод <a id=\"hypotesis_total\"></a>"
   ]
  },
  {
   "cell_type": "markdown",
   "metadata": {},
   "source": [
    "Проверены 2 гипотезы (4, если считать H0 и H1 у каждой) с помощью теста Уэлча.\n",
    "\n",
    "Нулевая гипотеза, что средняя выручка одной генеральной совокупности (тарифа \"Ультра\") равна средней выручке другой генеральной совокупности (тарифа \"Смарт\"), была отвергнута.\n",
    "\n",
    "Нулевую гипотезу, что средняя выручка одной генеральной совокупности (пользователи из Москвы) равна средней выручке другой генеральной совокупности (пользователи не из Москвы), не получилось отвергнуть.\n",
    "\n",
    "Таким образом, можно сделать предположение, что средняя выручка генеральной совокупности зависит от того, каким тарифом пользуется пользователь, однако предположительно не зависит от города (Москвы), в котором пользователь проживает."
   ]
  },
  {
   "cell_type": "markdown",
   "metadata": {},
   "source": [
    "## Шаг 5. Общий вывод<a id=\"total\"></a>\n"
   ]
  },
  {
   "cell_type": "code",
   "execution_count": 36,
   "metadata": {},
   "outputs": [
    {
     "data": {
      "text/html": [
       "<div>\n",
       "<style scoped>\n",
       "    .dataframe tbody tr th:only-of-type {\n",
       "        vertical-align: middle;\n",
       "    }\n",
       "\n",
       "    .dataframe tbody tr th {\n",
       "        vertical-align: top;\n",
       "    }\n",
       "\n",
       "    .dataframe thead tr th {\n",
       "        text-align: left;\n",
       "    }\n",
       "</style>\n",
       "<table border=\"1\" class=\"dataframe\">\n",
       "  <thead>\n",
       "    <tr>\n",
       "      <th></th>\n",
       "      <th>tariff</th>\n",
       "      <th>mean</th>\n",
       "      <th>std</th>\n",
       "      <th>var</th>\n",
       "    </tr>\n",
       "    <tr>\n",
       "      <th></th>\n",
       "      <th></th>\n",
       "      <th>revenue</th>\n",
       "      <th>revenue</th>\n",
       "      <th>revenue</th>\n",
       "    </tr>\n",
       "  </thead>\n",
       "  <tbody>\n",
       "    <tr>\n",
       "      <th>0</th>\n",
       "      <td>smart</td>\n",
       "      <td>1269.040569</td>\n",
       "      <td>775.866793</td>\n",
       "      <td>601969.280905</td>\n",
       "    </tr>\n",
       "    <tr>\n",
       "      <th>1</th>\n",
       "      <td>ultra</td>\n",
       "      <td>1973.801653</td>\n",
       "      <td>99.687062</td>\n",
       "      <td>9937.510262</td>\n",
       "    </tr>\n",
       "  </tbody>\n",
       "</table>\n",
       "</div>"
      ],
      "text/plain": [
       "  tariff         mean         std            var\n",
       "              revenue     revenue        revenue\n",
       "0  smart  1269.040569  775.866793  601969.280905\n",
       "1  ultra  1973.801653   99.687062    9937.510262"
      ]
     },
     "execution_count": 36,
     "metadata": {},
     "output_type": "execute_result"
    }
   ],
   "source": [
    "# <Информация о том, какой тариф приносит больше выручки в большем объеме>\n",
    "\n",
    "data.pivot_table(index = 'tariff', values = ['revenue'], aggfunc = ['mean', 'std', 'var']).reset_index()"
   ]
  },
  {
   "cell_type": "code",
   "execution_count": 37,
   "metadata": {},
   "outputs": [
    {
     "data": {
      "text/html": [
       "<div>\n",
       "<style scoped>\n",
       "    .dataframe tbody tr th:only-of-type {\n",
       "        vertical-align: middle;\n",
       "    }\n",
       "\n",
       "    .dataframe tbody tr th {\n",
       "        vertical-align: top;\n",
       "    }\n",
       "\n",
       "    .dataframe thead tr th {\n",
       "        text-align: left;\n",
       "    }\n",
       "</style>\n",
       "<table border=\"1\" class=\"dataframe\">\n",
       "  <thead>\n",
       "    <tr>\n",
       "      <th></th>\n",
       "      <th>tariff</th>\n",
       "      <th>mean</th>\n",
       "      <th>std</th>\n",
       "      <th>var</th>\n",
       "    </tr>\n",
       "    <tr>\n",
       "      <th></th>\n",
       "      <th></th>\n",
       "      <th>revenue_dop</th>\n",
       "      <th>revenue_dop</th>\n",
       "      <th>revenue_dop</th>\n",
       "    </tr>\n",
       "  </thead>\n",
       "  <tbody>\n",
       "    <tr>\n",
       "      <th>0</th>\n",
       "      <td>smart</td>\n",
       "      <td>719.040569</td>\n",
       "      <td>775.866793</td>\n",
       "      <td>601969.280905</td>\n",
       "    </tr>\n",
       "    <tr>\n",
       "      <th>1</th>\n",
       "      <td>ultra</td>\n",
       "      <td>23.801653</td>\n",
       "      <td>99.687062</td>\n",
       "      <td>9937.510262</td>\n",
       "    </tr>\n",
       "  </tbody>\n",
       "</table>\n",
       "</div>"
      ],
      "text/plain": [
       "  tariff        mean         std            var\n",
       "         revenue_dop revenue_dop    revenue_dop\n",
       "0  smart  719.040569  775.866793  601969.280905\n",
       "1  ultra   23.801653   99.687062    9937.510262"
      ]
     },
     "execution_count": 37,
     "metadata": {},
     "output_type": "execute_result"
    }
   ],
   "source": [
    "# <Информация о том, какой тариф приносит больше дополнительной выручки>\n",
    "\n",
    "data['revenue_dop'] = data['revenue'] - data['rub_monthly_fee']\n",
    "data.pivot_table(index = 'tariff', values = ['revenue_dop'], aggfunc = ['mean', 'std', 'var']).reset_index()"
   ]
  },
  {
   "cell_type": "code",
   "execution_count": 38,
   "metadata": {},
   "outputs": [
    {
     "data": {
      "text/html": [
       "<div>\n",
       "<style scoped>\n",
       "    .dataframe tbody tr th:only-of-type {\n",
       "        vertical-align: middle;\n",
       "    }\n",
       "\n",
       "    .dataframe tbody tr th {\n",
       "        vertical-align: top;\n",
       "    }\n",
       "\n",
       "    .dataframe thead tr th {\n",
       "        text-align: left;\n",
       "    }\n",
       "</style>\n",
       "<table border=\"1\" class=\"dataframe\">\n",
       "  <thead>\n",
       "    <tr>\n",
       "      <th></th>\n",
       "      <th>tariff</th>\n",
       "      <th colspan=\"3\" halign=\"left\">duration_sum</th>\n",
       "      <th colspan=\"3\" halign=\"left\">messages_total</th>\n",
       "      <th colspan=\"3\" halign=\"left\">mb_used</th>\n",
       "    </tr>\n",
       "    <tr>\n",
       "      <th></th>\n",
       "      <th></th>\n",
       "      <th>mean</th>\n",
       "      <th>std</th>\n",
       "      <th>var</th>\n",
       "      <th>mean</th>\n",
       "      <th>std</th>\n",
       "      <th>var</th>\n",
       "      <th>mean</th>\n",
       "      <th>std</th>\n",
       "      <th>var</th>\n",
       "    </tr>\n",
       "  </thead>\n",
       "  <tbody>\n",
       "    <tr>\n",
       "      <th>0</th>\n",
       "      <td>smart</td>\n",
       "      <td>418.727608</td>\n",
       "      <td>183.669115</td>\n",
       "      <td>33734.343792</td>\n",
       "      <td>38.402002</td>\n",
       "      <td>26.234700</td>\n",
       "      <td>688.259500</td>\n",
       "      <td>16166.253952</td>\n",
       "      <td>5673.197863</td>\n",
       "      <td>3.218517e+07</td>\n",
       "    </tr>\n",
       "    <tr>\n",
       "      <th>1</th>\n",
       "      <td>ultra</td>\n",
       "      <td>504.561983</td>\n",
       "      <td>251.696367</td>\n",
       "      <td>63351.061135</td>\n",
       "      <td>50.912397</td>\n",
       "      <td>34.014809</td>\n",
       "      <td>1157.007214</td>\n",
       "      <td>18080.347107</td>\n",
       "      <td>8577.095990</td>\n",
       "      <td>7.356658e+07</td>\n",
       "    </tr>\n",
       "  </tbody>\n",
       "</table>\n",
       "</div>"
      ],
      "text/plain": [
       "  tariff duration_sum                           messages_total             \\\n",
       "                 mean         std           var           mean        std   \n",
       "0  smart   418.727608  183.669115  33734.343792      38.402002  26.234700   \n",
       "1  ultra   504.561983  251.696367  63351.061135      50.912397  34.014809   \n",
       "\n",
       "                     mb_used                             \n",
       "           var          mean          std           var  \n",
       "0   688.259500  16166.253952  5673.197863  3.218517e+07  \n",
       "1  1157.007214  18080.347107  8577.095990  7.356658e+07  "
      ]
     },
     "execution_count": 38,
     "metadata": {},
     "output_type": "execute_result"
    }
   ],
   "source": [
    "data.groupby('tariff').agg({'duration_sum': ['mean', 'std', 'var'], \n",
    "                            'messages_total': ['mean', 'std', 'var'],\n",
    "                            'mb_used': ['mean', 'std', 'var']}).reset_index()"
   ]
  },
  {
   "cell_type": "markdown",
   "metadata": {},
   "source": [
    "Выяснили следующие значения продолжительности звонков, количества отправленных сообщений и использованных мегабайт:\n",
    "\n",
    "Средняя продолжительность всех разговоров пользователя за месяц:\n",
    "- Тариф ultra - 505 минут\n",
    "- Тариф smart - 419 минут\n",
    "\n",
    "Среднее количество использованного пользователем интернета за месяц: \n",
    "- Тариф ultra - 18080 мб\n",
    "- Тариф smart - 16166 мб\n",
    "\n",
    "Среднее количество использованных пользователем смс за месяц:\n",
    "- Тариф ultra - 51 смс\n",
    "- Тариф smart - 38 смс\n",
    "\n",
    "Выяснили, что есть неактивные пользователи, которые не используют ни минуты разговора, ни смс, ни гб интернета.\n",
    "\n",
    "Общая месячная выручка с пользователя:\n",
    "- Тариф ultra - 1974 руб.\n",
    "- Тариф smart - 1269 руб.\n",
    "\n",
    "Дополнительная месячная выручка с пользователя:\n",
    "- Тариф ultra - 24 руб.\n",
    "- Тариф smart - 719 руб.\n",
    "\n",
    "Итоговый вывод: \n",
    "\n",
    "Можно сделать предположение, что средняя выручка генеральной совокупности зависит от того, каким тарифом пользуется пользователь, однако предположительно не зависит от города (Москвы), в котором пользователь проживает.\n",
    "\n",
    "Даже с учетом того, что у тарифа \"Смарт\" в разы больше значения дополнительной месячной выручки, выгоднее для компании будет тариф \"Ультра\"."
   ]
  }
 ],
 "metadata": {
  "ExecuteTimeLog": [
   {
    "duration": 89,
    "start_time": "2021-08-12T13:16:25.321Z"
   },
   {
    "duration": 95,
    "start_time": "2021-08-12T13:16:36.843Z"
   },
   {
    "duration": 1245,
    "start_time": "2021-08-12T13:19:05.684Z"
   },
   {
    "duration": 143,
    "start_time": "2021-08-12T13:19:17.177Z"
   },
   {
    "duration": 137,
    "start_time": "2021-08-12T13:23:40.284Z"
   },
   {
    "duration": 2253,
    "start_time": "2021-08-12T13:56:36.080Z"
   },
   {
    "duration": 2191,
    "start_time": "2021-08-12T13:56:55.520Z"
   },
   {
    "duration": 368,
    "start_time": "2021-08-12T13:57:13.655Z"
   },
   {
    "duration": 11,
    "start_time": "2021-08-12T13:57:34.513Z"
   },
   {
    "duration": 375,
    "start_time": "2021-08-12T13:57:41.035Z"
   },
   {
    "duration": 7,
    "start_time": "2021-08-12T13:57:58.723Z"
   },
   {
    "duration": 7,
    "start_time": "2021-08-12T13:58:23.700Z"
   },
   {
    "duration": 7,
    "start_time": "2021-08-12T13:58:35.283Z"
   },
   {
    "duration": 9,
    "start_time": "2021-08-12T13:59:02.239Z"
   },
   {
    "duration": 391,
    "start_time": "2021-08-12T13:59:51.654Z"
   },
   {
    "duration": 392,
    "start_time": "2021-08-12T14:00:15.374Z"
   },
   {
    "duration": 386,
    "start_time": "2021-08-12T14:00:22.288Z"
   },
   {
    "duration": 71,
    "start_time": "2021-08-13T09:23:23.674Z"
   },
   {
    "duration": 1617,
    "start_time": "2021-08-13T09:23:59.896Z"
   },
   {
    "duration": 271,
    "start_time": "2021-08-13T09:51:46.988Z"
   },
   {
    "duration": 224,
    "start_time": "2021-08-13T09:53:03.678Z"
   },
   {
    "duration": 63,
    "start_time": "2021-08-13T09:54:51.310Z"
   },
   {
    "duration": 3,
    "start_time": "2021-08-13T10:57:41.621Z"
   },
   {
    "duration": 2,
    "start_time": "2021-08-13T10:57:45.313Z"
   },
   {
    "duration": 212,
    "start_time": "2021-08-13T11:41:29.675Z"
   },
   {
    "duration": 1578,
    "start_time": "2021-08-13T11:42:13.185Z"
   },
   {
    "duration": 9,
    "start_time": "2021-08-13T11:42:14.765Z"
   },
   {
    "duration": 7,
    "start_time": "2021-08-13T11:42:14.778Z"
   },
   {
    "duration": 10,
    "start_time": "2021-08-13T11:42:14.786Z"
   },
   {
    "duration": 10,
    "start_time": "2021-08-13T11:42:14.798Z"
   },
   {
    "duration": 216,
    "start_time": "2021-08-13T11:42:14.810Z"
   },
   {
    "duration": 276,
    "start_time": "2021-08-13T11:42:15.028Z"
   },
   {
    "duration": -38,
    "start_time": "2021-08-13T11:42:15.344Z"
   },
   {
    "duration": -42,
    "start_time": "2021-08-13T11:42:15.349Z"
   },
   {
    "duration": -43,
    "start_time": "2021-08-13T11:42:15.351Z"
   },
   {
    "duration": -49,
    "start_time": "2021-08-13T11:42:15.358Z"
   },
   {
    "duration": -55,
    "start_time": "2021-08-13T11:42:15.365Z"
   },
   {
    "duration": -56,
    "start_time": "2021-08-13T11:42:15.367Z"
   },
   {
    "duration": -57,
    "start_time": "2021-08-13T11:42:15.369Z"
   },
   {
    "duration": -57,
    "start_time": "2021-08-13T11:42:15.370Z"
   },
   {
    "duration": -62,
    "start_time": "2021-08-13T11:42:15.375Z"
   },
   {
    "duration": -66,
    "start_time": "2021-08-13T11:42:15.380Z"
   },
   {
    "duration": -67,
    "start_time": "2021-08-13T11:42:15.382Z"
   },
   {
    "duration": -68,
    "start_time": "2021-08-13T11:42:15.384Z"
   },
   {
    "duration": -69,
    "start_time": "2021-08-13T11:42:15.386Z"
   },
   {
    "duration": -77,
    "start_time": "2021-08-13T11:42:15.394Z"
   },
   {
    "duration": -81,
    "start_time": "2021-08-13T11:42:15.399Z"
   },
   {
    "duration": -81,
    "start_time": "2021-08-13T11:42:15.400Z"
   },
   {
    "duration": -81,
    "start_time": "2021-08-13T11:42:15.402Z"
   },
   {
    "duration": 222,
    "start_time": "2021-08-13T11:43:14.689Z"
   },
   {
    "duration": 181,
    "start_time": "2021-08-13T11:43:39.577Z"
   },
   {
    "duration": 5,
    "start_time": "2021-08-13T11:43:43.016Z"
   },
   {
    "duration": 215,
    "start_time": "2021-08-13T11:44:46.307Z"
   },
   {
    "duration": 432,
    "start_time": "2021-08-13T11:45:56.448Z"
   },
   {
    "duration": 264,
    "start_time": "2021-08-13T11:46:26.703Z"
   },
   {
    "duration": 1404,
    "start_time": "2021-08-14T10:33:32.537Z"
   },
   {
    "duration": 11,
    "start_time": "2021-08-14T10:35:33.248Z"
   },
   {
    "duration": 9,
    "start_time": "2021-08-14T10:36:46.259Z"
   },
   {
    "duration": 326,
    "start_time": "2021-08-14T11:07:27.407Z"
   },
   {
    "duration": 258,
    "start_time": "2021-08-14T11:13:15.680Z"
   },
   {
    "duration": 20,
    "start_time": "2021-08-14T11:16:16.341Z"
   },
   {
    "duration": 38,
    "start_time": "2021-08-14T11:17:13.388Z"
   },
   {
    "duration": 34,
    "start_time": "2021-08-14T11:17:31.127Z"
   },
   {
    "duration": 32,
    "start_time": "2021-08-14T11:20:31.265Z"
   },
   {
    "duration": 8,
    "start_time": "2021-08-14T11:21:54.380Z"
   },
   {
    "duration": 42,
    "start_time": "2021-08-14T11:24:57.781Z"
   },
   {
    "duration": 27,
    "start_time": "2021-08-14T11:25:05.053Z"
   },
   {
    "duration": 36,
    "start_time": "2021-08-14T11:26:48.379Z"
   },
   {
    "duration": -232,
    "start_time": "2021-08-14T11:27:32.863Z"
   },
   {
    "duration": 1543,
    "start_time": "2021-08-14T11:27:47.121Z"
   },
   {
    "duration": 60,
    "start_time": "2021-08-14T11:27:48.666Z"
   },
   {
    "duration": 42,
    "start_time": "2021-08-14T11:27:48.729Z"
   },
   {
    "duration": 36,
    "start_time": "2021-08-14T11:27:48.773Z"
   },
   {
    "duration": 8,
    "start_time": "2021-08-14T11:27:48.811Z"
   },
   {
    "duration": 30,
    "start_time": "2021-08-14T11:27:48.820Z"
   },
   {
    "duration": 390,
    "start_time": "2021-08-14T11:28:58.423Z"
   },
   {
    "duration": 1494,
    "start_time": "2021-08-14T11:29:29.965Z"
   },
   {
    "duration": 60,
    "start_time": "2021-08-14T11:29:31.460Z"
   },
   {
    "duration": 42,
    "start_time": "2021-08-14T11:29:31.522Z"
   },
   {
    "duration": 6596,
    "start_time": "2021-08-14T11:29:31.566Z"
   },
   {
    "duration": -160,
    "start_time": "2021-08-14T11:29:38.325Z"
   },
   {
    "duration": -161,
    "start_time": "2021-08-14T11:29:38.327Z"
   },
   {
    "duration": -162,
    "start_time": "2021-08-14T11:29:38.329Z"
   },
   {
    "duration": -166,
    "start_time": "2021-08-14T11:29:38.334Z"
   },
   {
    "duration": -169,
    "start_time": "2021-08-14T11:29:38.337Z"
   },
   {
    "duration": -170,
    "start_time": "2021-08-14T11:29:38.339Z"
   },
   {
    "duration": -169,
    "start_time": "2021-08-14T11:29:38.340Z"
   },
   {
    "duration": -170,
    "start_time": "2021-08-14T11:29:38.342Z"
   },
   {
    "duration": -173,
    "start_time": "2021-08-14T11:29:38.346Z"
   },
   {
    "duration": -174,
    "start_time": "2021-08-14T11:29:38.348Z"
   },
   {
    "duration": -177,
    "start_time": "2021-08-14T11:29:38.351Z"
   },
   {
    "duration": -179,
    "start_time": "2021-08-14T11:29:38.354Z"
   },
   {
    "duration": -180,
    "start_time": "2021-08-14T11:29:38.356Z"
   },
   {
    "duration": -184,
    "start_time": "2021-08-14T11:29:38.361Z"
   },
   {
    "duration": -186,
    "start_time": "2021-08-14T11:29:38.364Z"
   },
   {
    "duration": -188,
    "start_time": "2021-08-14T11:29:38.367Z"
   },
   {
    "duration": -189,
    "start_time": "2021-08-14T11:29:38.369Z"
   },
   {
    "duration": -190,
    "start_time": "2021-08-14T11:29:38.371Z"
   },
   {
    "duration": -195,
    "start_time": "2021-08-14T11:29:38.377Z"
   },
   {
    "duration": -196,
    "start_time": "2021-08-14T11:29:38.379Z"
   },
   {
    "duration": -196,
    "start_time": "2021-08-14T11:29:38.380Z"
   },
   {
    "duration": -198,
    "start_time": "2021-08-14T11:29:38.382Z"
   },
   {
    "duration": 4,
    "start_time": "2021-08-14T11:30:17.386Z"
   },
   {
    "duration": 37,
    "start_time": "2021-08-14T11:30:41.425Z"
   },
   {
    "duration": 16,
    "start_time": "2021-08-14T11:31:06.119Z"
   },
   {
    "duration": 17,
    "start_time": "2021-08-14T11:31:39.097Z"
   },
   {
    "duration": 18,
    "start_time": "2021-08-14T11:31:48.650Z"
   },
   {
    "duration": 18,
    "start_time": "2021-08-14T11:31:57.044Z"
   },
   {
    "duration": 6376,
    "start_time": "2021-08-14T11:32:01.488Z"
   },
   {
    "duration": 7039,
    "start_time": "2021-08-14T11:32:29.988Z"
   },
   {
    "duration": 7,
    "start_time": "2021-08-14T11:32:51.159Z"
   },
   {
    "duration": 1543,
    "start_time": "2021-08-14T11:33:10.825Z"
   },
   {
    "duration": 59,
    "start_time": "2021-08-14T11:33:12.369Z"
   },
   {
    "duration": 40,
    "start_time": "2021-08-14T11:33:12.430Z"
   },
   {
    "duration": 6,
    "start_time": "2021-08-14T11:33:12.472Z"
   },
   {
    "duration": 12,
    "start_time": "2021-08-14T11:33:12.479Z"
   },
   {
    "duration": 10,
    "start_time": "2021-08-14T11:33:12.493Z"
   },
   {
    "duration": 333,
    "start_time": "2021-08-14T11:33:12.505Z"
   },
   {
    "duration": -107,
    "start_time": "2021-08-14T11:33:12.947Z"
   },
   {
    "duration": -108,
    "start_time": "2021-08-14T11:33:12.949Z"
   },
   {
    "duration": -108,
    "start_time": "2021-08-14T11:33:12.950Z"
   },
   {
    "duration": -108,
    "start_time": "2021-08-14T11:33:12.952Z"
   },
   {
    "duration": -108,
    "start_time": "2021-08-14T11:33:12.953Z"
   },
   {
    "duration": -110,
    "start_time": "2021-08-14T11:33:12.956Z"
   },
   {
    "duration": -112,
    "start_time": "2021-08-14T11:33:12.960Z"
   },
   {
    "duration": -112,
    "start_time": "2021-08-14T11:33:12.961Z"
   },
   {
    "duration": -112,
    "start_time": "2021-08-14T11:33:12.963Z"
   },
   {
    "duration": -186,
    "start_time": "2021-08-14T11:33:13.038Z"
   },
   {
    "duration": -191,
    "start_time": "2021-08-14T11:33:13.044Z"
   },
   {
    "duration": -192,
    "start_time": "2021-08-14T11:33:13.047Z"
   },
   {
    "duration": -198,
    "start_time": "2021-08-14T11:33:13.054Z"
   },
   {
    "duration": -200,
    "start_time": "2021-08-14T11:33:13.057Z"
   },
   {
    "duration": -202,
    "start_time": "2021-08-14T11:33:13.061Z"
   },
   {
    "duration": -204,
    "start_time": "2021-08-14T11:33:13.064Z"
   },
   {
    "duration": -212,
    "start_time": "2021-08-14T11:33:13.073Z"
   },
   {
    "duration": -214,
    "start_time": "2021-08-14T11:33:13.077Z"
   },
   {
    "duration": 23,
    "start_time": "2021-08-14T11:36:14.899Z"
   },
   {
    "duration": 23,
    "start_time": "2021-08-14T11:36:29.400Z"
   },
   {
    "duration": 23,
    "start_time": "2021-08-14T11:36:36.516Z"
   },
   {
    "duration": 7,
    "start_time": "2021-08-14T11:36:56.244Z"
   },
   {
    "duration": 1490,
    "start_time": "2021-08-14T11:37:04.760Z"
   },
   {
    "duration": 118,
    "start_time": "2021-08-14T11:37:06.252Z"
   },
   {
    "duration": 77,
    "start_time": "2021-08-14T11:37:06.373Z"
   },
   {
    "duration": 16,
    "start_time": "2021-08-14T11:37:06.458Z"
   },
   {
    "duration": 22,
    "start_time": "2021-08-14T11:37:06.477Z"
   },
   {
    "duration": 18,
    "start_time": "2021-08-14T11:37:06.501Z"
   },
   {
    "duration": 357,
    "start_time": "2021-08-14T11:37:06.521Z"
   },
   {
    "duration": -134,
    "start_time": "2021-08-14T11:37:07.014Z"
   },
   {
    "duration": -135,
    "start_time": "2021-08-14T11:37:07.016Z"
   },
   {
    "duration": -135,
    "start_time": "2021-08-14T11:37:07.018Z"
   },
   {
    "duration": -136,
    "start_time": "2021-08-14T11:37:07.020Z"
   },
   {
    "duration": -137,
    "start_time": "2021-08-14T11:37:07.022Z"
   },
   {
    "duration": -138,
    "start_time": "2021-08-14T11:37:07.024Z"
   },
   {
    "duration": -138,
    "start_time": "2021-08-14T11:37:07.025Z"
   },
   {
    "duration": -175,
    "start_time": "2021-08-14T11:37:07.063Z"
   },
   {
    "duration": -175,
    "start_time": "2021-08-14T11:37:07.064Z"
   },
   {
    "duration": -176,
    "start_time": "2021-08-14T11:37:07.066Z"
   },
   {
    "duration": -175,
    "start_time": "2021-08-14T11:37:07.067Z"
   },
   {
    "duration": -176,
    "start_time": "2021-08-14T11:37:07.069Z"
   },
   {
    "duration": -176,
    "start_time": "2021-08-14T11:37:07.070Z"
   },
   {
    "duration": -177,
    "start_time": "2021-08-14T11:37:07.072Z"
   },
   {
    "duration": -178,
    "start_time": "2021-08-14T11:37:07.074Z"
   },
   {
    "duration": -178,
    "start_time": "2021-08-14T11:37:07.075Z"
   },
   {
    "duration": -179,
    "start_time": "2021-08-14T11:37:07.077Z"
   },
   {
    "duration": -179,
    "start_time": "2021-08-14T11:37:07.078Z"
   },
   {
    "duration": 33,
    "start_time": "2021-08-14T11:38:26.173Z"
   },
   {
    "duration": 1440,
    "start_time": "2021-08-14T11:41:15.996Z"
   },
   {
    "duration": 58,
    "start_time": "2021-08-14T11:41:17.438Z"
   },
   {
    "duration": 43,
    "start_time": "2021-08-14T11:41:17.498Z"
   },
   {
    "duration": 33,
    "start_time": "2021-08-14T11:41:17.543Z"
   },
   {
    "duration": 6,
    "start_time": "2021-08-14T11:41:17.578Z"
   },
   {
    "duration": 11,
    "start_time": "2021-08-14T11:41:17.585Z"
   },
   {
    "duration": 277,
    "start_time": "2021-08-14T11:42:42.834Z"
   },
   {
    "duration": 1513,
    "start_time": "2021-08-14T11:42:52.037Z"
   },
   {
    "duration": 58,
    "start_time": "2021-08-14T11:42:53.552Z"
   },
   {
    "duration": 40,
    "start_time": "2021-08-14T11:42:53.611Z"
   },
   {
    "duration": 34,
    "start_time": "2021-08-14T11:42:53.652Z"
   },
   {
    "duration": 7,
    "start_time": "2021-08-14T11:42:53.687Z"
   },
   {
    "duration": 11,
    "start_time": "2021-08-14T11:42:53.695Z"
   },
   {
    "duration": 909,
    "start_time": "2021-08-14T11:42:53.707Z"
   },
   {
    "duration": -84,
    "start_time": "2021-08-14T11:42:54.702Z"
   },
   {
    "duration": -90,
    "start_time": "2021-08-14T11:42:54.709Z"
   },
   {
    "duration": -101,
    "start_time": "2021-08-14T11:42:54.721Z"
   },
   {
    "duration": -106,
    "start_time": "2021-08-14T11:42:54.727Z"
   },
   {
    "duration": -163,
    "start_time": "2021-08-14T11:42:54.785Z"
   },
   {
    "duration": -168,
    "start_time": "2021-08-14T11:42:54.791Z"
   },
   {
    "duration": -170,
    "start_time": "2021-08-14T11:42:54.794Z"
   },
   {
    "duration": -171,
    "start_time": "2021-08-14T11:42:54.796Z"
   },
   {
    "duration": -174,
    "start_time": "2021-08-14T11:42:54.800Z"
   },
   {
    "duration": -174,
    "start_time": "2021-08-14T11:42:54.801Z"
   },
   {
    "duration": -176,
    "start_time": "2021-08-14T11:42:54.803Z"
   },
   {
    "duration": -182,
    "start_time": "2021-08-14T11:42:54.810Z"
   },
   {
    "duration": -184,
    "start_time": "2021-08-14T11:42:54.813Z"
   },
   {
    "duration": -187,
    "start_time": "2021-08-14T11:42:54.817Z"
   },
   {
    "duration": -188,
    "start_time": "2021-08-14T11:42:54.819Z"
   },
   {
    "duration": -194,
    "start_time": "2021-08-14T11:42:54.826Z"
   },
   {
    "duration": -195,
    "start_time": "2021-08-14T11:42:54.828Z"
   },
   {
    "duration": -200,
    "start_time": "2021-08-14T11:42:54.834Z"
   },
   {
    "duration": 4,
    "start_time": "2021-08-14T11:48:27.171Z"
   },
   {
    "duration": 9,
    "start_time": "2021-08-14T11:48:39.427Z"
   },
   {
    "duration": 9,
    "start_time": "2021-08-14T11:48:49.511Z"
   },
   {
    "duration": 8,
    "start_time": "2021-08-14T11:48:57.720Z"
   },
   {
    "duration": 1443,
    "start_time": "2021-08-14T11:49:10.204Z"
   },
   {
    "duration": 57,
    "start_time": "2021-08-14T11:49:11.649Z"
   },
   {
    "duration": 48,
    "start_time": "2021-08-14T11:49:11.708Z"
   },
   {
    "duration": 33,
    "start_time": "2021-08-14T11:49:11.757Z"
   },
   {
    "duration": 8,
    "start_time": "2021-08-14T11:49:11.791Z"
   },
   {
    "duration": 15,
    "start_time": "2021-08-14T11:49:11.800Z"
   },
   {
    "duration": 684,
    "start_time": "2021-08-14T11:49:11.817Z"
   },
   {
    "duration": 214,
    "start_time": "2021-08-14T11:49:12.503Z"
   },
   {
    "duration": 110,
    "start_time": "2021-08-14T11:49:12.719Z"
   },
   {
    "duration": 438,
    "start_time": "2021-08-14T11:49:12.831Z"
   },
   {
    "duration": -53,
    "start_time": "2021-08-14T11:49:13.324Z"
   },
   {
    "duration": -54,
    "start_time": "2021-08-14T11:49:13.326Z"
   },
   {
    "duration": -80,
    "start_time": "2021-08-14T11:49:13.354Z"
   },
   {
    "duration": -82,
    "start_time": "2021-08-14T11:49:13.357Z"
   },
   {
    "duration": -84,
    "start_time": "2021-08-14T11:49:13.360Z"
   },
   {
    "duration": -85,
    "start_time": "2021-08-14T11:49:13.362Z"
   },
   {
    "duration": -89,
    "start_time": "2021-08-14T11:49:13.367Z"
   },
   {
    "duration": -94,
    "start_time": "2021-08-14T11:49:13.373Z"
   },
   {
    "duration": -95,
    "start_time": "2021-08-14T11:49:13.375Z"
   },
   {
    "duration": -96,
    "start_time": "2021-08-14T11:49:13.377Z"
   },
   {
    "duration": -97,
    "start_time": "2021-08-14T11:49:13.379Z"
   },
   {
    "duration": -101,
    "start_time": "2021-08-14T11:49:13.383Z"
   },
   {
    "duration": -107,
    "start_time": "2021-08-14T11:49:13.390Z"
   },
   {
    "duration": -108,
    "start_time": "2021-08-14T11:49:13.392Z"
   },
   {
    "duration": -109,
    "start_time": "2021-08-14T11:49:13.394Z"
   },
   {
    "duration": 685,
    "start_time": "2021-08-14T11:49:30.657Z"
   },
   {
    "duration": 6620,
    "start_time": "2021-08-14T11:54:39.222Z"
   },
   {
    "duration": 1516,
    "start_time": "2021-08-14T11:55:03.630Z"
   },
   {
    "duration": 380,
    "start_time": "2021-08-14T11:55:05.148Z"
   },
   {
    "duration": -181,
    "start_time": "2021-08-14T11:55:05.712Z"
   },
   {
    "duration": -270,
    "start_time": "2021-08-14T11:55:05.802Z"
   },
   {
    "duration": -271,
    "start_time": "2021-08-14T11:55:05.804Z"
   },
   {
    "duration": -272,
    "start_time": "2021-08-14T11:55:05.806Z"
   },
   {
    "duration": -273,
    "start_time": "2021-08-14T11:55:05.807Z"
   },
   {
    "duration": -274,
    "start_time": "2021-08-14T11:55:05.809Z"
   },
   {
    "duration": -277,
    "start_time": "2021-08-14T11:55:05.813Z"
   },
   {
    "duration": -279,
    "start_time": "2021-08-14T11:55:05.816Z"
   },
   {
    "duration": -279,
    "start_time": "2021-08-14T11:55:05.817Z"
   },
   {
    "duration": -280,
    "start_time": "2021-08-14T11:55:05.819Z"
   },
   {
    "duration": -280,
    "start_time": "2021-08-14T11:55:05.820Z"
   },
   {
    "duration": -281,
    "start_time": "2021-08-14T11:55:05.822Z"
   },
   {
    "duration": -282,
    "start_time": "2021-08-14T11:55:05.824Z"
   },
   {
    "duration": -281,
    "start_time": "2021-08-14T11:55:05.825Z"
   },
   {
    "duration": -282,
    "start_time": "2021-08-14T11:55:05.826Z"
   },
   {
    "duration": -282,
    "start_time": "2021-08-14T11:55:05.828Z"
   },
   {
    "duration": -291,
    "start_time": "2021-08-14T11:55:05.837Z"
   },
   {
    "duration": -292,
    "start_time": "2021-08-14T11:55:05.839Z"
   },
   {
    "duration": -292,
    "start_time": "2021-08-14T11:55:05.840Z"
   },
   {
    "duration": -293,
    "start_time": "2021-08-14T11:55:05.842Z"
   },
   {
    "duration": -295,
    "start_time": "2021-08-14T11:55:05.845Z"
   },
   {
    "duration": -296,
    "start_time": "2021-08-14T11:55:05.847Z"
   },
   {
    "duration": -354,
    "start_time": "2021-08-14T11:55:05.905Z"
   },
   {
    "duration": 6259,
    "start_time": "2021-08-14T11:55:30.882Z"
   },
   {
    "duration": 1445,
    "start_time": "2021-08-14T11:56:08.099Z"
   },
   {
    "duration": 72,
    "start_time": "2021-08-14T11:56:09.546Z"
   },
   {
    "duration": 46,
    "start_time": "2021-08-14T11:56:09.620Z"
   },
   {
    "duration": 32,
    "start_time": "2021-08-14T11:56:09.667Z"
   },
   {
    "duration": 9,
    "start_time": "2021-08-14T11:56:09.701Z"
   },
   {
    "duration": 24,
    "start_time": "2021-08-14T11:56:09.711Z"
   },
   {
    "duration": 696,
    "start_time": "2021-08-14T11:56:09.741Z"
   },
   {
    "duration": 212,
    "start_time": "2021-08-14T11:56:10.442Z"
   },
   {
    "duration": 96,
    "start_time": "2021-08-14T11:56:10.656Z"
   },
   {
    "duration": 325,
    "start_time": "2021-08-14T11:56:10.754Z"
   },
   {
    "duration": -62,
    "start_time": "2021-08-14T11:56:11.143Z"
   },
   {
    "duration": -65,
    "start_time": "2021-08-14T11:56:11.147Z"
   },
   {
    "duration": -66,
    "start_time": "2021-08-14T11:56:11.149Z"
   },
   {
    "duration": -66,
    "start_time": "2021-08-14T11:56:11.150Z"
   },
   {
    "duration": -67,
    "start_time": "2021-08-14T11:56:11.152Z"
   },
   {
    "duration": -67,
    "start_time": "2021-08-14T11:56:11.153Z"
   },
   {
    "duration": -68,
    "start_time": "2021-08-14T11:56:11.155Z"
   },
   {
    "duration": -68,
    "start_time": "2021-08-14T11:56:11.156Z"
   },
   {
    "duration": -147,
    "start_time": "2021-08-14T11:56:11.236Z"
   },
   {
    "duration": -148,
    "start_time": "2021-08-14T11:56:11.237Z"
   },
   {
    "duration": -149,
    "start_time": "2021-08-14T11:56:11.239Z"
   },
   {
    "duration": -149,
    "start_time": "2021-08-14T11:56:11.240Z"
   },
   {
    "duration": -150,
    "start_time": "2021-08-14T11:56:11.242Z"
   },
   {
    "duration": -150,
    "start_time": "2021-08-14T11:56:11.243Z"
   },
   {
    "duration": -150,
    "start_time": "2021-08-14T11:56:11.244Z"
   },
   {
    "duration": 6267,
    "start_time": "2021-08-14T11:56:43.270Z"
   },
   {
    "duration": 7106,
    "start_time": "2021-08-14T11:56:58.402Z"
   },
   {
    "duration": 6168,
    "start_time": "2021-08-14T11:58:23.625Z"
   },
   {
    "duration": 1468,
    "start_time": "2021-08-14T11:58:32.078Z"
   },
   {
    "duration": 84,
    "start_time": "2021-08-14T11:58:33.549Z"
   },
   {
    "duration": 42,
    "start_time": "2021-08-14T11:58:33.635Z"
   },
   {
    "duration": 32,
    "start_time": "2021-08-14T11:58:33.678Z"
   },
   {
    "duration": 9,
    "start_time": "2021-08-14T11:58:33.711Z"
   },
   {
    "duration": 9,
    "start_time": "2021-08-14T11:58:33.741Z"
   },
   {
    "duration": 732,
    "start_time": "2021-08-14T11:58:33.752Z"
   },
   {
    "duration": 229,
    "start_time": "2021-08-14T11:58:34.486Z"
   },
   {
    "duration": 106,
    "start_time": "2021-08-14T11:58:34.716Z"
   },
   {
    "duration": 322,
    "start_time": "2021-08-14T11:58:34.823Z"
   },
   {
    "duration": -64,
    "start_time": "2021-08-14T11:58:35.210Z"
   },
   {
    "duration": -80,
    "start_time": "2021-08-14T11:58:35.227Z"
   },
   {
    "duration": -92,
    "start_time": "2021-08-14T11:58:35.240Z"
   },
   {
    "duration": -107,
    "start_time": "2021-08-14T11:58:35.257Z"
   },
   {
    "duration": -117,
    "start_time": "2021-08-14T11:58:35.268Z"
   },
   {
    "duration": -122,
    "start_time": "2021-08-14T11:58:35.274Z"
   },
   {
    "duration": -123,
    "start_time": "2021-08-14T11:58:35.276Z"
   },
   {
    "duration": -123,
    "start_time": "2021-08-14T11:58:35.277Z"
   },
   {
    "duration": -133,
    "start_time": "2021-08-14T11:58:35.288Z"
   },
   {
    "duration": -148,
    "start_time": "2021-08-14T11:58:35.304Z"
   },
   {
    "duration": -151,
    "start_time": "2021-08-14T11:58:35.307Z"
   },
   {
    "duration": -159,
    "start_time": "2021-08-14T11:58:35.316Z"
   },
   {
    "duration": -165,
    "start_time": "2021-08-14T11:58:35.323Z"
   },
   {
    "duration": -166,
    "start_time": "2021-08-14T11:58:35.325Z"
   },
   {
    "duration": -167,
    "start_time": "2021-08-14T11:58:35.327Z"
   },
   {
    "duration": 5896,
    "start_time": "2021-08-14T11:59:41.575Z"
   },
   {
    "duration": 1514,
    "start_time": "2021-08-14T12:00:03.201Z"
   },
   {
    "duration": 99,
    "start_time": "2021-08-14T12:00:04.717Z"
   },
   {
    "duration": 40,
    "start_time": "2021-08-14T12:00:04.818Z"
   },
   {
    "duration": 33,
    "start_time": "2021-08-14T12:00:04.860Z"
   },
   {
    "duration": 8,
    "start_time": "2021-08-14T12:00:04.894Z"
   },
   {
    "duration": 15,
    "start_time": "2021-08-14T12:00:04.903Z"
   },
   {
    "duration": 756,
    "start_time": "2021-08-14T12:00:04.920Z"
   },
   {
    "duration": 205,
    "start_time": "2021-08-14T12:00:05.678Z"
   },
   {
    "duration": 102,
    "start_time": "2021-08-14T12:00:05.886Z"
   },
   {
    "duration": 478,
    "start_time": "2021-08-14T12:00:05.990Z"
   },
   {
    "duration": -37,
    "start_time": "2021-08-14T12:00:06.507Z"
   },
   {
    "duration": -38,
    "start_time": "2021-08-14T12:00:06.509Z"
   },
   {
    "duration": -39,
    "start_time": "2021-08-14T12:00:06.511Z"
   },
   {
    "duration": -71,
    "start_time": "2021-08-14T12:00:06.544Z"
   },
   {
    "duration": -86,
    "start_time": "2021-08-14T12:00:06.560Z"
   },
   {
    "duration": -87,
    "start_time": "2021-08-14T12:00:06.562Z"
   },
   {
    "duration": -94,
    "start_time": "2021-08-14T12:00:06.570Z"
   },
   {
    "duration": -97,
    "start_time": "2021-08-14T12:00:06.574Z"
   },
   {
    "duration": -99,
    "start_time": "2021-08-14T12:00:06.577Z"
   },
   {
    "duration": -101,
    "start_time": "2021-08-14T12:00:06.580Z"
   },
   {
    "duration": -107,
    "start_time": "2021-08-14T12:00:06.586Z"
   },
   {
    "duration": -109,
    "start_time": "2021-08-14T12:00:06.589Z"
   },
   {
    "duration": -109,
    "start_time": "2021-08-14T12:00:06.590Z"
   },
   {
    "duration": -110,
    "start_time": "2021-08-14T12:00:06.592Z"
   },
   {
    "duration": -110,
    "start_time": "2021-08-14T12:00:06.593Z"
   },
   {
    "duration": 6853,
    "start_time": "2021-08-14T12:00:41.506Z"
   },
   {
    "duration": 1458,
    "start_time": "2021-08-14T12:00:50.604Z"
   },
   {
    "duration": 387,
    "start_time": "2021-08-14T12:00:52.064Z"
   },
   {
    "duration": 40,
    "start_time": "2021-08-14T12:00:52.453Z"
   },
   {
    "duration": 47,
    "start_time": "2021-08-14T12:00:52.495Z"
   },
   {
    "duration": 8,
    "start_time": "2021-08-14T12:00:52.543Z"
   },
   {
    "duration": 35,
    "start_time": "2021-08-14T12:00:52.553Z"
   },
   {
    "duration": 732,
    "start_time": "2021-08-14T12:00:52.590Z"
   },
   {
    "duration": 204,
    "start_time": "2021-08-14T12:00:53.323Z"
   },
   {
    "duration": 105,
    "start_time": "2021-08-14T12:00:53.529Z"
   },
   {
    "duration": 343,
    "start_time": "2021-08-14T12:00:53.640Z"
   },
   {
    "duration": -45,
    "start_time": "2021-08-14T12:00:54.030Z"
   },
   {
    "duration": -48,
    "start_time": "2021-08-14T12:00:54.034Z"
   },
   {
    "duration": -57,
    "start_time": "2021-08-14T12:00:54.044Z"
   },
   {
    "duration": -58,
    "start_time": "2021-08-14T12:00:54.046Z"
   },
   {
    "duration": -63,
    "start_time": "2021-08-14T12:00:54.051Z"
   },
   {
    "duration": -69,
    "start_time": "2021-08-14T12:00:54.058Z"
   },
   {
    "duration": -70,
    "start_time": "2021-08-14T12:00:54.060Z"
   },
   {
    "duration": -71,
    "start_time": "2021-08-14T12:00:54.061Z"
   },
   {
    "duration": -72,
    "start_time": "2021-08-14T12:00:54.063Z"
   },
   {
    "duration": -74,
    "start_time": "2021-08-14T12:00:54.066Z"
   },
   {
    "duration": -82,
    "start_time": "2021-08-14T12:00:54.075Z"
   },
   {
    "duration": -83,
    "start_time": "2021-08-14T12:00:54.077Z"
   },
   {
    "duration": -85,
    "start_time": "2021-08-14T12:00:54.079Z"
   },
   {
    "duration": -85,
    "start_time": "2021-08-14T12:00:54.080Z"
   },
   {
    "duration": -87,
    "start_time": "2021-08-14T12:00:54.083Z"
   },
   {
    "duration": 1462,
    "start_time": "2021-08-14T12:01:49.203Z"
   },
   {
    "duration": 13,
    "start_time": "2021-08-14T12:01:50.667Z"
   },
   {
    "duration": 45,
    "start_time": "2021-08-14T12:01:50.682Z"
   },
   {
    "duration": 36,
    "start_time": "2021-08-14T12:01:50.730Z"
   },
   {
    "duration": 9,
    "start_time": "2021-08-14T12:01:50.768Z"
   },
   {
    "duration": 26,
    "start_time": "2021-08-14T12:01:50.779Z"
   },
   {
    "duration": 989,
    "start_time": "2021-08-14T12:01:50.807Z"
   },
   {
    "duration": -132,
    "start_time": "2021-08-14T12:01:51.931Z"
   },
   {
    "duration": -132,
    "start_time": "2021-08-14T12:01:51.932Z"
   },
   {
    "duration": -132,
    "start_time": "2021-08-14T12:01:51.934Z"
   },
   {
    "duration": -133,
    "start_time": "2021-08-14T12:01:51.936Z"
   },
   {
    "duration": -136,
    "start_time": "2021-08-14T12:01:51.941Z"
   },
   {
    "duration": -141,
    "start_time": "2021-08-14T12:01:51.947Z"
   },
   {
    "duration": -143,
    "start_time": "2021-08-14T12:01:51.950Z"
   },
   {
    "duration": -143,
    "start_time": "2021-08-14T12:01:51.952Z"
   },
   {
    "duration": -146,
    "start_time": "2021-08-14T12:01:51.956Z"
   },
   {
    "duration": -154,
    "start_time": "2021-08-14T12:01:51.965Z"
   },
   {
    "duration": -154,
    "start_time": "2021-08-14T12:01:51.967Z"
   },
   {
    "duration": -157,
    "start_time": "2021-08-14T12:01:51.971Z"
   },
   {
    "duration": -164,
    "start_time": "2021-08-14T12:01:51.979Z"
   },
   {
    "duration": -165,
    "start_time": "2021-08-14T12:01:51.981Z"
   },
   {
    "duration": -165,
    "start_time": "2021-08-14T12:01:51.983Z"
   },
   {
    "duration": -166,
    "start_time": "2021-08-14T12:01:51.985Z"
   },
   {
    "duration": -168,
    "start_time": "2021-08-14T12:01:51.988Z"
   },
   {
    "duration": -174,
    "start_time": "2021-08-14T12:01:51.996Z"
   },
   {
    "duration": 57,
    "start_time": "2021-08-14T12:02:58.712Z"
   },
   {
    "duration": 6639,
    "start_time": "2021-08-14T12:06:41.192Z"
   },
   {
    "duration": 1446,
    "start_time": "2021-08-14T12:06:56.616Z"
   },
   {
    "duration": 365,
    "start_time": "2021-08-14T12:06:58.064Z"
   },
   {
    "duration": -56,
    "start_time": "2021-08-14T12:06:58.487Z"
   },
   {
    "duration": -97,
    "start_time": "2021-08-14T12:06:58.529Z"
   },
   {
    "duration": -97,
    "start_time": "2021-08-14T12:06:58.530Z"
   },
   {
    "duration": -98,
    "start_time": "2021-08-14T12:06:58.532Z"
   },
   {
    "duration": -99,
    "start_time": "2021-08-14T12:06:58.534Z"
   },
   {
    "duration": -100,
    "start_time": "2021-08-14T12:06:58.536Z"
   },
   {
    "duration": -100,
    "start_time": "2021-08-14T12:06:58.537Z"
   },
   {
    "duration": -101,
    "start_time": "2021-08-14T12:06:58.539Z"
   },
   {
    "duration": -101,
    "start_time": "2021-08-14T12:06:58.540Z"
   },
   {
    "duration": -102,
    "start_time": "2021-08-14T12:06:58.542Z"
   },
   {
    "duration": -102,
    "start_time": "2021-08-14T12:06:58.543Z"
   },
   {
    "duration": -103,
    "start_time": "2021-08-14T12:06:58.545Z"
   },
   {
    "duration": -103,
    "start_time": "2021-08-14T12:06:58.546Z"
   },
   {
    "duration": -104,
    "start_time": "2021-08-14T12:06:58.548Z"
   },
   {
    "duration": -110,
    "start_time": "2021-08-14T12:06:58.554Z"
   },
   {
    "duration": -111,
    "start_time": "2021-08-14T12:06:58.556Z"
   },
   {
    "duration": -111,
    "start_time": "2021-08-14T12:06:58.557Z"
   },
   {
    "duration": -111,
    "start_time": "2021-08-14T12:06:58.558Z"
   },
   {
    "duration": -112,
    "start_time": "2021-08-14T12:06:58.560Z"
   },
   {
    "duration": -113,
    "start_time": "2021-08-14T12:06:58.562Z"
   },
   {
    "duration": -113,
    "start_time": "2021-08-14T12:06:58.563Z"
   },
   {
    "duration": -114,
    "start_time": "2021-08-14T12:06:58.565Z"
   },
   {
    "duration": -114,
    "start_time": "2021-08-14T12:06:58.566Z"
   },
   {
    "duration": 1559,
    "start_time": "2021-08-14T12:10:02.972Z"
   },
   {
    "duration": 65,
    "start_time": "2021-08-14T12:10:04.533Z"
   },
   {
    "duration": 53,
    "start_time": "2021-08-14T12:10:04.600Z"
   },
   {
    "duration": 39,
    "start_time": "2021-08-14T12:10:04.655Z"
   },
   {
    "duration": 10,
    "start_time": "2021-08-14T12:10:04.695Z"
   },
   {
    "duration": 35,
    "start_time": "2021-08-14T12:10:04.707Z"
   },
   {
    "duration": 785,
    "start_time": "2021-08-14T12:10:04.744Z"
   },
   {
    "duration": 231,
    "start_time": "2021-08-14T12:10:05.532Z"
   },
   {
    "duration": 112,
    "start_time": "2021-08-14T12:10:05.765Z"
   },
   {
    "duration": 350,
    "start_time": "2021-08-14T12:10:05.879Z"
   },
   {
    "duration": -52,
    "start_time": "2021-08-14T12:10:06.283Z"
   },
   {
    "duration": -56,
    "start_time": "2021-08-14T12:10:06.288Z"
   },
   {
    "duration": -88,
    "start_time": "2021-08-14T12:10:06.321Z"
   },
   {
    "duration": -90,
    "start_time": "2021-08-14T12:10:06.324Z"
   },
   {
    "duration": -92,
    "start_time": "2021-08-14T12:10:06.327Z"
   },
   {
    "duration": -97,
    "start_time": "2021-08-14T12:10:06.333Z"
   },
   {
    "duration": -104,
    "start_time": "2021-08-14T12:10:06.341Z"
   },
   {
    "duration": -110,
    "start_time": "2021-08-14T12:10:06.348Z"
   },
   {
    "duration": -112,
    "start_time": "2021-08-14T12:10:06.351Z"
   },
   {
    "duration": -113,
    "start_time": "2021-08-14T12:10:06.352Z"
   },
   {
    "duration": -114,
    "start_time": "2021-08-14T12:10:06.354Z"
   },
   {
    "duration": -114,
    "start_time": "2021-08-14T12:10:06.355Z"
   },
   {
    "duration": -115,
    "start_time": "2021-08-14T12:10:06.357Z"
   },
   {
    "duration": -115,
    "start_time": "2021-08-14T12:10:06.358Z"
   },
   {
    "duration": -120,
    "start_time": "2021-08-14T12:10:06.364Z"
   },
   {
    "duration": 1447,
    "start_time": "2021-08-14T12:12:44.959Z"
   },
   {
    "duration": 70,
    "start_time": "2021-08-14T12:12:46.408Z"
   },
   {
    "duration": 48,
    "start_time": "2021-08-14T12:12:46.483Z"
   },
   {
    "duration": 42,
    "start_time": "2021-08-14T12:12:46.533Z"
   },
   {
    "duration": 8,
    "start_time": "2021-08-14T12:12:46.577Z"
   },
   {
    "duration": 12,
    "start_time": "2021-08-14T12:12:46.587Z"
   },
   {
    "duration": 782,
    "start_time": "2021-08-14T12:12:46.600Z"
   },
   {
    "duration": 229,
    "start_time": "2021-08-14T12:12:47.384Z"
   },
   {
    "duration": 105,
    "start_time": "2021-08-14T12:12:47.615Z"
   },
   {
    "duration": 339,
    "start_time": "2021-08-14T12:12:47.722Z"
   },
   {
    "duration": -49,
    "start_time": "2021-08-14T12:12:48.112Z"
   },
   {
    "duration": -51,
    "start_time": "2021-08-14T12:12:48.116Z"
   },
   {
    "duration": -94,
    "start_time": "2021-08-14T12:12:48.160Z"
   },
   {
    "duration": -143,
    "start_time": "2021-08-14T12:12:48.211Z"
   },
   {
    "duration": -144,
    "start_time": "2021-08-14T12:12:48.213Z"
   },
   {
    "duration": -144,
    "start_time": "2021-08-14T12:12:48.214Z"
   },
   {
    "duration": -145,
    "start_time": "2021-08-14T12:12:48.216Z"
   },
   {
    "duration": -144,
    "start_time": "2021-08-14T12:12:48.217Z"
   },
   {
    "duration": -144,
    "start_time": "2021-08-14T12:12:48.218Z"
   },
   {
    "duration": -144,
    "start_time": "2021-08-14T12:12:48.220Z"
   },
   {
    "duration": -145,
    "start_time": "2021-08-14T12:12:48.222Z"
   },
   {
    "duration": -146,
    "start_time": "2021-08-14T12:12:48.224Z"
   },
   {
    "duration": -146,
    "start_time": "2021-08-14T12:12:48.226Z"
   },
   {
    "duration": -146,
    "start_time": "2021-08-14T12:12:48.227Z"
   },
   {
    "duration": -146,
    "start_time": "2021-08-14T12:12:48.228Z"
   },
   {
    "duration": 6266,
    "start_time": "2021-08-14T12:12:55.096Z"
   },
   {
    "duration": 1402,
    "start_time": "2021-08-14T12:13:09.940Z"
   },
   {
    "duration": 61,
    "start_time": "2021-08-14T12:13:11.344Z"
   },
   {
    "duration": 42,
    "start_time": "2021-08-14T12:13:11.407Z"
   },
   {
    "duration": 33,
    "start_time": "2021-08-14T12:13:11.451Z"
   },
   {
    "duration": 7,
    "start_time": "2021-08-14T12:13:11.486Z"
   },
   {
    "duration": 12,
    "start_time": "2021-08-14T12:13:11.494Z"
   },
   {
    "duration": 748,
    "start_time": "2021-08-14T12:13:11.507Z"
   },
   {
    "duration": 292,
    "start_time": "2021-08-14T12:13:12.258Z"
   },
   {
    "duration": 108,
    "start_time": "2021-08-14T12:13:12.553Z"
   },
   {
    "duration": 405,
    "start_time": "2021-08-14T12:13:12.662Z"
   },
   {
    "duration": -56,
    "start_time": "2021-08-14T12:13:13.124Z"
   },
   {
    "duration": -57,
    "start_time": "2021-08-14T12:13:13.126Z"
   },
   {
    "duration": -61,
    "start_time": "2021-08-14T12:13:13.131Z"
   },
   {
    "duration": -81,
    "start_time": "2021-08-14T12:13:13.152Z"
   },
   {
    "duration": -82,
    "start_time": "2021-08-14T12:13:13.154Z"
   },
   {
    "duration": -83,
    "start_time": "2021-08-14T12:13:13.156Z"
   },
   {
    "duration": -84,
    "start_time": "2021-08-14T12:13:13.157Z"
   },
   {
    "duration": -85,
    "start_time": "2021-08-14T12:13:13.159Z"
   },
   {
    "duration": -86,
    "start_time": "2021-08-14T12:13:13.161Z"
   },
   {
    "duration": -87,
    "start_time": "2021-08-14T12:13:13.163Z"
   },
   {
    "duration": -95,
    "start_time": "2021-08-14T12:13:13.172Z"
   },
   {
    "duration": -101,
    "start_time": "2021-08-14T12:13:13.178Z"
   },
   {
    "duration": -103,
    "start_time": "2021-08-14T12:13:13.181Z"
   },
   {
    "duration": -108,
    "start_time": "2021-08-14T12:13:13.187Z"
   },
   {
    "duration": -110,
    "start_time": "2021-08-14T12:13:13.190Z"
   },
   {
    "duration": 1418,
    "start_time": "2021-08-14T12:14:09.341Z"
   },
   {
    "duration": 6825,
    "start_time": "2021-08-14T12:14:10.761Z"
   },
   {
    "duration": -379,
    "start_time": "2021-08-14T12:14:17.968Z"
   },
   {
    "duration": -380,
    "start_time": "2021-08-14T12:14:17.970Z"
   },
   {
    "duration": -381,
    "start_time": "2021-08-14T12:14:17.972Z"
   },
   {
    "duration": -382,
    "start_time": "2021-08-14T12:14:17.974Z"
   },
   {
    "duration": -382,
    "start_time": "2021-08-14T12:14:17.975Z"
   },
   {
    "duration": -384,
    "start_time": "2021-08-14T12:14:17.977Z"
   },
   {
    "duration": -384,
    "start_time": "2021-08-14T12:14:17.978Z"
   },
   {
    "duration": -397,
    "start_time": "2021-08-14T12:14:17.992Z"
   },
   {
    "duration": -398,
    "start_time": "2021-08-14T12:14:17.994Z"
   },
   {
    "duration": -399,
    "start_time": "2021-08-14T12:14:17.996Z"
   },
   {
    "duration": -400,
    "start_time": "2021-08-14T12:14:17.998Z"
   },
   {
    "duration": -401,
    "start_time": "2021-08-14T12:14:17.999Z"
   },
   {
    "duration": -401,
    "start_time": "2021-08-14T12:14:18.000Z"
   },
   {
    "duration": -402,
    "start_time": "2021-08-14T12:14:18.002Z"
   },
   {
    "duration": -402,
    "start_time": "2021-08-14T12:14:18.003Z"
   },
   {
    "duration": -404,
    "start_time": "2021-08-14T12:14:18.005Z"
   },
   {
    "duration": -407,
    "start_time": "2021-08-14T12:14:18.009Z"
   },
   {
    "duration": -408,
    "start_time": "2021-08-14T12:14:18.011Z"
   },
   {
    "duration": -409,
    "start_time": "2021-08-14T12:14:18.013Z"
   },
   {
    "duration": -410,
    "start_time": "2021-08-14T12:14:18.015Z"
   },
   {
    "duration": -411,
    "start_time": "2021-08-14T12:14:18.017Z"
   },
   {
    "duration": -418,
    "start_time": "2021-08-14T12:14:18.024Z"
   },
   {
    "duration": -418,
    "start_time": "2021-08-14T12:14:18.025Z"
   },
   {
    "duration": 1475,
    "start_time": "2021-08-14T12:14:41.695Z"
   },
   {
    "duration": 90,
    "start_time": "2021-08-14T12:14:43.171Z"
   },
   {
    "duration": 41,
    "start_time": "2021-08-14T12:14:43.264Z"
   },
   {
    "duration": 43,
    "start_time": "2021-08-14T12:14:43.307Z"
   },
   {
    "duration": 9,
    "start_time": "2021-08-14T12:14:43.351Z"
   },
   {
    "duration": 10,
    "start_time": "2021-08-14T12:14:43.362Z"
   },
   {
    "duration": 352,
    "start_time": "2021-08-14T12:14:43.374Z"
   },
   {
    "duration": -98,
    "start_time": "2021-08-14T12:14:43.828Z"
   },
   {
    "duration": -99,
    "start_time": "2021-08-14T12:14:43.830Z"
   },
   {
    "duration": -100,
    "start_time": "2021-08-14T12:14:43.832Z"
   },
   {
    "duration": -101,
    "start_time": "2021-08-14T12:14:43.834Z"
   },
   {
    "duration": -103,
    "start_time": "2021-08-14T12:14:43.837Z"
   },
   {
    "duration": -104,
    "start_time": "2021-08-14T12:14:43.839Z"
   },
   {
    "duration": -105,
    "start_time": "2021-08-14T12:14:43.841Z"
   },
   {
    "duration": -105,
    "start_time": "2021-08-14T12:14:43.842Z"
   },
   {
    "duration": -105,
    "start_time": "2021-08-14T12:14:43.843Z"
   },
   {
    "duration": -106,
    "start_time": "2021-08-14T12:14:43.845Z"
   },
   {
    "duration": -106,
    "start_time": "2021-08-14T12:14:43.846Z"
   },
   {
    "duration": -176,
    "start_time": "2021-08-14T12:14:43.917Z"
   },
   {
    "duration": -177,
    "start_time": "2021-08-14T12:14:43.919Z"
   },
   {
    "duration": -177,
    "start_time": "2021-08-14T12:14:43.920Z"
   },
   {
    "duration": -178,
    "start_time": "2021-08-14T12:14:43.922Z"
   },
   {
    "duration": -178,
    "start_time": "2021-08-14T12:14:43.923Z"
   },
   {
    "duration": -179,
    "start_time": "2021-08-14T12:14:43.925Z"
   },
   {
    "duration": -179,
    "start_time": "2021-08-14T12:14:43.926Z"
   },
   {
    "duration": 1604,
    "start_time": "2021-08-14T12:15:37.517Z"
   },
   {
    "duration": 87,
    "start_time": "2021-08-14T12:15:39.123Z"
   },
   {
    "duration": 47,
    "start_time": "2021-08-14T12:15:39.212Z"
   },
   {
    "duration": 33,
    "start_time": "2021-08-14T12:15:39.261Z"
   },
   {
    "duration": 8,
    "start_time": "2021-08-14T12:15:39.295Z"
   },
   {
    "duration": 11,
    "start_time": "2021-08-14T12:15:39.305Z"
   },
   {
    "duration": 353,
    "start_time": "2021-08-14T12:15:39.318Z"
   },
   {
    "duration": -63,
    "start_time": "2021-08-14T12:15:39.738Z"
   },
   {
    "duration": -66,
    "start_time": "2021-08-14T12:15:39.742Z"
   },
   {
    "duration": -67,
    "start_time": "2021-08-14T12:15:39.744Z"
   },
   {
    "duration": -67,
    "start_time": "2021-08-14T12:15:39.745Z"
   },
   {
    "duration": -93,
    "start_time": "2021-08-14T12:15:39.772Z"
   },
   {
    "duration": -94,
    "start_time": "2021-08-14T12:15:39.774Z"
   },
   {
    "duration": -113,
    "start_time": "2021-08-14T12:15:39.794Z"
   },
   {
    "duration": -115,
    "start_time": "2021-08-14T12:15:39.796Z"
   },
   {
    "duration": -115,
    "start_time": "2021-08-14T12:15:39.797Z"
   },
   {
    "duration": -116,
    "start_time": "2021-08-14T12:15:39.799Z"
   },
   {
    "duration": -116,
    "start_time": "2021-08-14T12:15:39.800Z"
   },
   {
    "duration": -116,
    "start_time": "2021-08-14T12:15:39.801Z"
   },
   {
    "duration": -118,
    "start_time": "2021-08-14T12:15:39.803Z"
   },
   {
    "duration": -118,
    "start_time": "2021-08-14T12:15:39.804Z"
   },
   {
    "duration": -120,
    "start_time": "2021-08-14T12:15:39.807Z"
   },
   {
    "duration": -121,
    "start_time": "2021-08-14T12:15:39.808Z"
   },
   {
    "duration": -122,
    "start_time": "2021-08-14T12:15:39.810Z"
   },
   {
    "duration": -123,
    "start_time": "2021-08-14T12:15:39.812Z"
   },
   {
    "duration": 6607,
    "start_time": "2021-08-14T12:22:26.166Z"
   },
   {
    "duration": 1489,
    "start_time": "2021-08-14T12:22:58.438Z"
   },
   {
    "duration": 469,
    "start_time": "2021-08-14T12:22:59.928Z"
   },
   {
    "duration": -59,
    "start_time": "2021-08-14T12:23:00.459Z"
   },
   {
    "duration": -61,
    "start_time": "2021-08-14T12:23:00.462Z"
   },
   {
    "duration": -163,
    "start_time": "2021-08-14T12:23:00.566Z"
   },
   {
    "duration": -167,
    "start_time": "2021-08-14T12:23:00.571Z"
   },
   {
    "duration": -167,
    "start_time": "2021-08-14T12:23:00.572Z"
   },
   {
    "duration": -167,
    "start_time": "2021-08-14T12:23:00.574Z"
   },
   {
    "duration": -167,
    "start_time": "2021-08-14T12:23:00.575Z"
   },
   {
    "duration": -168,
    "start_time": "2021-08-14T12:23:00.577Z"
   },
   {
    "duration": -168,
    "start_time": "2021-08-14T12:23:00.578Z"
   },
   {
    "duration": -168,
    "start_time": "2021-08-14T12:23:00.579Z"
   },
   {
    "duration": -168,
    "start_time": "2021-08-14T12:23:00.581Z"
   },
   {
    "duration": -169,
    "start_time": "2021-08-14T12:23:00.583Z"
   },
   {
    "duration": -169,
    "start_time": "2021-08-14T12:23:00.585Z"
   },
   {
    "duration": -169,
    "start_time": "2021-08-14T12:23:00.586Z"
   },
   {
    "duration": -174,
    "start_time": "2021-08-14T12:23:00.592Z"
   },
   {
    "duration": -174,
    "start_time": "2021-08-14T12:23:00.594Z"
   },
   {
    "duration": -200,
    "start_time": "2021-08-14T12:23:00.621Z"
   },
   {
    "duration": -203,
    "start_time": "2021-08-14T12:23:00.625Z"
   },
   {
    "duration": -204,
    "start_time": "2021-08-14T12:23:00.627Z"
   },
   {
    "duration": -204,
    "start_time": "2021-08-14T12:23:00.628Z"
   },
   {
    "duration": -206,
    "start_time": "2021-08-14T12:23:00.630Z"
   },
   {
    "duration": -206,
    "start_time": "2021-08-14T12:23:00.631Z"
   },
   {
    "duration": -207,
    "start_time": "2021-08-14T12:23:00.633Z"
   },
   {
    "duration": 1392,
    "start_time": "2021-08-14T12:23:33.661Z"
   },
   {
    "duration": 79,
    "start_time": "2021-08-14T12:23:35.055Z"
   },
   {
    "duration": 41,
    "start_time": "2021-08-14T12:23:35.136Z"
   },
   {
    "duration": 32,
    "start_time": "2021-08-14T12:23:35.178Z"
   },
   {
    "duration": 7,
    "start_time": "2021-08-14T12:23:35.212Z"
   },
   {
    "duration": 27,
    "start_time": "2021-08-14T12:23:35.220Z"
   },
   {
    "duration": 337,
    "start_time": "2021-08-14T12:23:35.249Z"
   },
   {
    "duration": -112,
    "start_time": "2021-08-14T12:23:35.701Z"
   },
   {
    "duration": -115,
    "start_time": "2021-08-14T12:23:35.705Z"
   },
   {
    "duration": -115,
    "start_time": "2021-08-14T12:23:35.706Z"
   },
   {
    "duration": -116,
    "start_time": "2021-08-14T12:23:35.708Z"
   },
   {
    "duration": -116,
    "start_time": "2021-08-14T12:23:35.709Z"
   },
   {
    "duration": -117,
    "start_time": "2021-08-14T12:23:35.711Z"
   },
   {
    "duration": -118,
    "start_time": "2021-08-14T12:23:35.713Z"
   },
   {
    "duration": -118,
    "start_time": "2021-08-14T12:23:35.714Z"
   },
   {
    "duration": -119,
    "start_time": "2021-08-14T12:23:35.715Z"
   },
   {
    "duration": -120,
    "start_time": "2021-08-14T12:23:35.717Z"
   },
   {
    "duration": -121,
    "start_time": "2021-08-14T12:23:35.719Z"
   },
   {
    "duration": -122,
    "start_time": "2021-08-14T12:23:35.721Z"
   },
   {
    "duration": -122,
    "start_time": "2021-08-14T12:23:35.722Z"
   },
   {
    "duration": -127,
    "start_time": "2021-08-14T12:23:35.728Z"
   },
   {
    "duration": -129,
    "start_time": "2021-08-14T12:23:35.731Z"
   },
   {
    "duration": -187,
    "start_time": "2021-08-14T12:23:35.790Z"
   },
   {
    "duration": -191,
    "start_time": "2021-08-14T12:23:35.795Z"
   },
   {
    "duration": -192,
    "start_time": "2021-08-14T12:23:35.797Z"
   },
   {
    "duration": 1354,
    "start_time": "2021-08-14T12:23:56.490Z"
   },
   {
    "duration": 97,
    "start_time": "2021-08-14T12:23:57.847Z"
   },
   {
    "duration": 40,
    "start_time": "2021-08-14T12:23:57.945Z"
   },
   {
    "duration": 35,
    "start_time": "2021-08-14T12:23:57.987Z"
   },
   {
    "duration": 25,
    "start_time": "2021-08-14T12:23:58.023Z"
   },
   {
    "duration": 11,
    "start_time": "2021-08-14T12:23:58.049Z"
   },
   {
    "duration": 328,
    "start_time": "2021-08-14T12:23:58.062Z"
   },
   {
    "duration": -143,
    "start_time": "2021-08-14T12:23:58.535Z"
   },
   {
    "duration": -144,
    "start_time": "2021-08-14T12:23:58.537Z"
   },
   {
    "duration": -144,
    "start_time": "2021-08-14T12:23:58.538Z"
   },
   {
    "duration": -144,
    "start_time": "2021-08-14T12:23:58.539Z"
   },
   {
    "duration": -145,
    "start_time": "2021-08-14T12:23:58.541Z"
   },
   {
    "duration": -145,
    "start_time": "2021-08-14T12:23:58.542Z"
   },
   {
    "duration": -152,
    "start_time": "2021-08-14T12:23:58.550Z"
   },
   {
    "duration": -153,
    "start_time": "2021-08-14T12:23:58.551Z"
   },
   {
    "duration": -154,
    "start_time": "2021-08-14T12:23:58.553Z"
   },
   {
    "duration": -154,
    "start_time": "2021-08-14T12:23:58.554Z"
   },
   {
    "duration": -155,
    "start_time": "2021-08-14T12:23:58.556Z"
   },
   {
    "duration": -155,
    "start_time": "2021-08-14T12:23:58.557Z"
   },
   {
    "duration": -155,
    "start_time": "2021-08-14T12:23:58.558Z"
   },
   {
    "duration": -162,
    "start_time": "2021-08-14T12:23:58.566Z"
   },
   {
    "duration": -214,
    "start_time": "2021-08-14T12:23:58.619Z"
   },
   {
    "duration": -216,
    "start_time": "2021-08-14T12:23:58.621Z"
   },
   {
    "duration": -215,
    "start_time": "2021-08-14T12:23:58.622Z"
   },
   {
    "duration": -218,
    "start_time": "2021-08-14T12:23:58.625Z"
   },
   {
    "duration": 1478,
    "start_time": "2021-08-14T12:24:25.271Z"
   },
   {
    "duration": 93,
    "start_time": "2021-08-14T12:24:26.751Z"
   },
   {
    "duration": 40,
    "start_time": "2021-08-14T12:24:26.846Z"
   },
   {
    "duration": 35,
    "start_time": "2021-08-14T12:24:26.888Z"
   },
   {
    "duration": 23,
    "start_time": "2021-08-14T12:24:26.925Z"
   },
   {
    "duration": 12,
    "start_time": "2021-08-14T12:24:26.949Z"
   },
   {
    "duration": 369,
    "start_time": "2021-08-14T12:24:26.962Z"
   },
   {
    "duration": -63,
    "start_time": "2021-08-14T12:24:27.400Z"
   },
   {
    "duration": -64,
    "start_time": "2021-08-14T12:24:27.402Z"
   },
   {
    "duration": -64,
    "start_time": "2021-08-14T12:24:27.403Z"
   },
   {
    "duration": -77,
    "start_time": "2021-08-14T12:24:27.417Z"
   },
   {
    "duration": -158,
    "start_time": "2021-08-14T12:24:27.500Z"
   },
   {
    "duration": -164,
    "start_time": "2021-08-14T12:24:27.507Z"
   },
   {
    "duration": -164,
    "start_time": "2021-08-14T12:24:27.509Z"
   },
   {
    "duration": -165,
    "start_time": "2021-08-14T12:24:27.511Z"
   },
   {
    "duration": -165,
    "start_time": "2021-08-14T12:24:27.512Z"
   },
   {
    "duration": -166,
    "start_time": "2021-08-14T12:24:27.514Z"
   },
   {
    "duration": -166,
    "start_time": "2021-08-14T12:24:27.515Z"
   },
   {
    "duration": -166,
    "start_time": "2021-08-14T12:24:27.516Z"
   },
   {
    "duration": -168,
    "start_time": "2021-08-14T12:24:27.518Z"
   },
   {
    "duration": -168,
    "start_time": "2021-08-14T12:24:27.519Z"
   },
   {
    "duration": -170,
    "start_time": "2021-08-14T12:24:27.522Z"
   },
   {
    "duration": -171,
    "start_time": "2021-08-14T12:24:27.524Z"
   },
   {
    "duration": -172,
    "start_time": "2021-08-14T12:24:27.526Z"
   },
   {
    "duration": -172,
    "start_time": "2021-08-14T12:24:27.527Z"
   },
   {
    "duration": 1479,
    "start_time": "2021-08-14T12:24:54.567Z"
   },
   {
    "duration": 89,
    "start_time": "2021-08-14T12:24:56.048Z"
   },
   {
    "duration": 40,
    "start_time": "2021-08-14T12:24:56.141Z"
   },
   {
    "duration": 34,
    "start_time": "2021-08-14T12:24:56.183Z"
   },
   {
    "duration": 25,
    "start_time": "2021-08-14T12:24:56.218Z"
   },
   {
    "duration": 15,
    "start_time": "2021-08-14T12:24:56.244Z"
   },
   {
    "duration": 329,
    "start_time": "2021-08-14T12:24:56.260Z"
   },
   {
    "duration": -67,
    "start_time": "2021-08-14T12:24:56.660Z"
   },
   {
    "duration": -68,
    "start_time": "2021-08-14T12:24:56.662Z"
   },
   {
    "duration": -86,
    "start_time": "2021-08-14T12:24:56.681Z"
   },
   {
    "duration": -89,
    "start_time": "2021-08-14T12:24:56.685Z"
   },
   {
    "duration": -90,
    "start_time": "2021-08-14T12:24:56.687Z"
   },
   {
    "duration": -90,
    "start_time": "2021-08-14T12:24:56.688Z"
   },
   {
    "duration": -91,
    "start_time": "2021-08-14T12:24:56.690Z"
   },
   {
    "duration": -91,
    "start_time": "2021-08-14T12:24:56.692Z"
   },
   {
    "duration": -91,
    "start_time": "2021-08-14T12:24:56.693Z"
   },
   {
    "duration": -92,
    "start_time": "2021-08-14T12:24:56.695Z"
   },
   {
    "duration": -92,
    "start_time": "2021-08-14T12:24:56.696Z"
   },
   {
    "duration": -93,
    "start_time": "2021-08-14T12:24:56.698Z"
   },
   {
    "duration": -94,
    "start_time": "2021-08-14T12:24:56.700Z"
   },
   {
    "duration": -95,
    "start_time": "2021-08-14T12:24:56.701Z"
   },
   {
    "duration": -96,
    "start_time": "2021-08-14T12:24:56.703Z"
   },
   {
    "duration": -103,
    "start_time": "2021-08-14T12:24:56.711Z"
   },
   {
    "duration": -103,
    "start_time": "2021-08-14T12:24:56.712Z"
   },
   {
    "duration": -104,
    "start_time": "2021-08-14T12:24:56.714Z"
   },
   {
    "duration": 1438,
    "start_time": "2021-08-14T12:28:39.924Z"
   },
   {
    "duration": 88,
    "start_time": "2021-08-14T12:28:41.364Z"
   },
   {
    "duration": 40,
    "start_time": "2021-08-14T12:28:41.454Z"
   },
   {
    "duration": 45,
    "start_time": "2021-08-14T12:28:41.496Z"
   },
   {
    "duration": 8,
    "start_time": "2021-08-14T12:28:41.543Z"
   },
   {
    "duration": 10,
    "start_time": "2021-08-14T12:28:41.553Z"
   },
   {
    "duration": 338,
    "start_time": "2021-08-14T12:28:41.565Z"
   },
   {
    "duration": -91,
    "start_time": "2021-08-14T12:28:41.998Z"
   },
   {
    "duration": -91,
    "start_time": "2021-08-14T12:28:42.000Z"
   },
   {
    "duration": -113,
    "start_time": "2021-08-14T12:28:42.023Z"
   },
   {
    "duration": -115,
    "start_time": "2021-08-14T12:28:42.026Z"
   },
   {
    "duration": -120,
    "start_time": "2021-08-14T12:28:42.031Z"
   },
   {
    "duration": -120,
    "start_time": "2021-08-14T12:28:42.033Z"
   },
   {
    "duration": -126,
    "start_time": "2021-08-14T12:28:42.040Z"
   },
   {
    "duration": -128,
    "start_time": "2021-08-14T12:28:42.043Z"
   },
   {
    "duration": -137,
    "start_time": "2021-08-14T12:28:42.053Z"
   },
   {
    "duration": -147,
    "start_time": "2021-08-14T12:28:42.064Z"
   },
   {
    "duration": -153,
    "start_time": "2021-08-14T12:28:42.071Z"
   },
   {
    "duration": -158,
    "start_time": "2021-08-14T12:28:42.077Z"
   },
   {
    "duration": -160,
    "start_time": "2021-08-14T12:28:42.080Z"
   },
   {
    "duration": -161,
    "start_time": "2021-08-14T12:28:42.082Z"
   },
   {
    "duration": -166,
    "start_time": "2021-08-14T12:28:42.088Z"
   },
   {
    "duration": -171,
    "start_time": "2021-08-14T12:28:42.095Z"
   },
   {
    "duration": -174,
    "start_time": "2021-08-14T12:28:42.098Z"
   },
   {
    "duration": -179,
    "start_time": "2021-08-14T12:28:42.104Z"
   },
   {
    "duration": 1522,
    "start_time": "2021-08-14T12:30:21.126Z"
   },
   {
    "duration": 89,
    "start_time": "2021-08-14T12:30:22.649Z"
   },
   {
    "duration": 69,
    "start_time": "2021-08-14T12:30:22.739Z"
   },
   {
    "duration": 44,
    "start_time": "2021-08-14T12:30:22.810Z"
   },
   {
    "duration": 8,
    "start_time": "2021-08-14T12:30:22.856Z"
   },
   {
    "duration": 24,
    "start_time": "2021-08-14T12:30:22.866Z"
   },
   {
    "duration": 358,
    "start_time": "2021-08-14T12:30:22.891Z"
   },
   {
    "duration": -97,
    "start_time": "2021-08-14T12:30:23.350Z"
   },
   {
    "duration": -100,
    "start_time": "2021-08-14T12:30:23.354Z"
   },
   {
    "duration": -187,
    "start_time": "2021-08-14T12:30:23.441Z"
   },
   {
    "duration": -188,
    "start_time": "2021-08-14T12:30:23.443Z"
   },
   {
    "duration": -189,
    "start_time": "2021-08-14T12:30:23.445Z"
   },
   {
    "duration": -189,
    "start_time": "2021-08-14T12:30:23.446Z"
   },
   {
    "duration": -189,
    "start_time": "2021-08-14T12:30:23.447Z"
   },
   {
    "duration": -190,
    "start_time": "2021-08-14T12:30:23.449Z"
   },
   {
    "duration": -190,
    "start_time": "2021-08-14T12:30:23.450Z"
   },
   {
    "duration": -190,
    "start_time": "2021-08-14T12:30:23.451Z"
   },
   {
    "duration": -191,
    "start_time": "2021-08-14T12:30:23.453Z"
   },
   {
    "duration": -191,
    "start_time": "2021-08-14T12:30:23.454Z"
   },
   {
    "duration": -193,
    "start_time": "2021-08-14T12:30:23.457Z"
   },
   {
    "duration": -194,
    "start_time": "2021-08-14T12:30:23.459Z"
   },
   {
    "duration": -201,
    "start_time": "2021-08-14T12:30:23.467Z"
   },
   {
    "duration": -202,
    "start_time": "2021-08-14T12:30:23.469Z"
   },
   {
    "duration": -203,
    "start_time": "2021-08-14T12:30:23.471Z"
   },
   {
    "duration": -203,
    "start_time": "2021-08-14T12:30:23.472Z"
   },
   {
    "duration": 1548,
    "start_time": "2021-08-14T12:31:36.991Z"
   },
   {
    "duration": 92,
    "start_time": "2021-08-14T12:31:38.541Z"
   },
   {
    "duration": 71,
    "start_time": "2021-08-14T12:31:38.634Z"
   },
   {
    "duration": 51,
    "start_time": "2021-08-14T12:31:38.707Z"
   },
   {
    "duration": 9,
    "start_time": "2021-08-14T12:31:38.759Z"
   },
   {
    "duration": 27,
    "start_time": "2021-08-14T12:31:38.769Z"
   },
   {
    "duration": 132,
    "start_time": "2021-08-14T12:31:38.797Z"
   },
   {
    "duration": 75,
    "start_time": "2021-08-14T12:31:38.930Z"
   },
   {
    "duration": 50,
    "start_time": "2021-08-14T12:31:39.008Z"
   },
   {
    "duration": 411,
    "start_time": "2021-08-14T12:31:39.060Z"
   },
   {
    "duration": -74,
    "start_time": "2021-08-14T12:31:39.546Z"
   },
   {
    "duration": -92,
    "start_time": "2021-08-14T12:31:39.565Z"
   },
   {
    "duration": -93,
    "start_time": "2021-08-14T12:31:39.567Z"
   },
   {
    "duration": -101,
    "start_time": "2021-08-14T12:31:39.576Z"
   },
   {
    "duration": -103,
    "start_time": "2021-08-14T12:31:39.578Z"
   },
   {
    "duration": -104,
    "start_time": "2021-08-14T12:31:39.580Z"
   },
   {
    "duration": -118,
    "start_time": "2021-08-14T12:31:39.595Z"
   },
   {
    "duration": -119,
    "start_time": "2021-08-14T12:31:39.597Z"
   },
   {
    "duration": -120,
    "start_time": "2021-08-14T12:31:39.599Z"
   },
   {
    "duration": -130,
    "start_time": "2021-08-14T12:31:39.610Z"
   },
   {
    "duration": -131,
    "start_time": "2021-08-14T12:31:39.612Z"
   },
   {
    "duration": -132,
    "start_time": "2021-08-14T12:31:39.614Z"
   },
   {
    "duration": -133,
    "start_time": "2021-08-14T12:31:39.616Z"
   },
   {
    "duration": -133,
    "start_time": "2021-08-14T12:31:39.617Z"
   },
   {
    "duration": -137,
    "start_time": "2021-08-14T12:31:39.622Z"
   },
   {
    "duration": 118,
    "start_time": "2021-08-14T12:32:51.194Z"
   },
   {
    "duration": 117,
    "start_time": "2021-08-14T12:33:30.106Z"
   },
   {
    "duration": 1519,
    "start_time": "2021-08-14T12:34:47.224Z"
   },
   {
    "duration": 97,
    "start_time": "2021-08-14T12:34:48.745Z"
   },
   {
    "duration": 67,
    "start_time": "2021-08-14T12:34:48.844Z"
   },
   {
    "duration": 46,
    "start_time": "2021-08-14T12:34:48.912Z"
   },
   {
    "duration": 8,
    "start_time": "2021-08-14T12:34:48.960Z"
   },
   {
    "duration": 10,
    "start_time": "2021-08-14T12:34:48.970Z"
   },
   {
    "duration": 132,
    "start_time": "2021-08-14T12:34:48.982Z"
   },
   {
    "duration": 80,
    "start_time": "2021-08-14T12:34:49.116Z"
   },
   {
    "duration": 44,
    "start_time": "2021-08-14T12:34:49.198Z"
   },
   {
    "duration": 335,
    "start_time": "2021-08-14T12:34:49.243Z"
   },
   {
    "duration": -73,
    "start_time": "2021-08-14T12:34:49.653Z"
   },
   {
    "duration": -76,
    "start_time": "2021-08-14T12:34:49.657Z"
   },
   {
    "duration": -198,
    "start_time": "2021-08-14T12:34:49.780Z"
   },
   {
    "duration": -203,
    "start_time": "2021-08-14T12:34:49.786Z"
   },
   {
    "duration": -205,
    "start_time": "2021-08-14T12:34:49.788Z"
   },
   {
    "duration": -205,
    "start_time": "2021-08-14T12:34:49.789Z"
   },
   {
    "duration": -206,
    "start_time": "2021-08-14T12:34:49.791Z"
   },
   {
    "duration": -208,
    "start_time": "2021-08-14T12:34:49.794Z"
   },
   {
    "duration": -208,
    "start_time": "2021-08-14T12:34:49.795Z"
   },
   {
    "duration": -209,
    "start_time": "2021-08-14T12:34:49.797Z"
   },
   {
    "duration": -209,
    "start_time": "2021-08-14T12:34:49.798Z"
   },
   {
    "duration": -208,
    "start_time": "2021-08-14T12:34:49.799Z"
   },
   {
    "duration": -209,
    "start_time": "2021-08-14T12:34:49.801Z"
   },
   {
    "duration": -209,
    "start_time": "2021-08-14T12:34:49.802Z"
   },
   {
    "duration": -209,
    "start_time": "2021-08-14T12:34:49.803Z"
   },
   {
    "duration": 1448,
    "start_time": "2021-08-14T12:38:19.118Z"
   },
   {
    "duration": 95,
    "start_time": "2021-08-14T12:38:20.568Z"
   },
   {
    "duration": 82,
    "start_time": "2021-08-14T12:38:20.665Z"
   },
   {
    "duration": 52,
    "start_time": "2021-08-14T12:38:20.749Z"
   },
   {
    "duration": 8,
    "start_time": "2021-08-14T12:38:20.802Z"
   },
   {
    "duration": 30,
    "start_time": "2021-08-14T12:38:20.812Z"
   },
   {
    "duration": 33,
    "start_time": "2021-08-14T12:38:20.843Z"
   },
   {
    "duration": 7,
    "start_time": "2021-08-14T12:38:20.879Z"
   },
   {
    "duration": 6,
    "start_time": "2021-08-14T12:38:20.888Z"
   },
   {
    "duration": 332,
    "start_time": "2021-08-14T12:38:20.895Z"
   },
   {
    "duration": -128,
    "start_time": "2021-08-14T12:38:21.357Z"
   },
   {
    "duration": -136,
    "start_time": "2021-08-14T12:38:21.365Z"
   },
   {
    "duration": -137,
    "start_time": "2021-08-14T12:38:21.367Z"
   },
   {
    "duration": -137,
    "start_time": "2021-08-14T12:38:21.368Z"
   },
   {
    "duration": -137,
    "start_time": "2021-08-14T12:38:21.369Z"
   },
   {
    "duration": -138,
    "start_time": "2021-08-14T12:38:21.371Z"
   },
   {
    "duration": -142,
    "start_time": "2021-08-14T12:38:21.376Z"
   },
   {
    "duration": -148,
    "start_time": "2021-08-14T12:38:21.383Z"
   },
   {
    "duration": -149,
    "start_time": "2021-08-14T12:38:21.385Z"
   },
   {
    "duration": -150,
    "start_time": "2021-08-14T12:38:21.387Z"
   },
   {
    "duration": -155,
    "start_time": "2021-08-14T12:38:21.393Z"
   },
   {
    "duration": -161,
    "start_time": "2021-08-14T12:38:21.399Z"
   },
   {
    "duration": -162,
    "start_time": "2021-08-14T12:38:21.401Z"
   },
   {
    "duration": -162,
    "start_time": "2021-08-14T12:38:21.402Z"
   },
   {
    "duration": -163,
    "start_time": "2021-08-14T12:38:21.404Z"
   },
   {
    "duration": 1501,
    "start_time": "2021-08-14T12:40:11.041Z"
   },
   {
    "duration": 87,
    "start_time": "2021-08-14T12:40:12.544Z"
   },
   {
    "duration": 68,
    "start_time": "2021-08-14T12:40:12.633Z"
   },
   {
    "duration": 66,
    "start_time": "2021-08-14T12:40:12.703Z"
   },
   {
    "duration": 7,
    "start_time": "2021-08-14T12:40:12.771Z"
   },
   {
    "duration": 15,
    "start_time": "2021-08-14T12:40:12.779Z"
   },
   {
    "duration": 33,
    "start_time": "2021-08-14T12:40:12.795Z"
   },
   {
    "duration": 7,
    "start_time": "2021-08-14T12:40:12.842Z"
   },
   {
    "duration": 9,
    "start_time": "2021-08-14T12:40:12.851Z"
   },
   {
    "duration": 333,
    "start_time": "2021-08-14T12:40:12.861Z"
   },
   {
    "duration": -82,
    "start_time": "2021-08-14T12:40:13.278Z"
   },
   {
    "duration": -83,
    "start_time": "2021-08-14T12:40:13.279Z"
   },
   {
    "duration": -84,
    "start_time": "2021-08-14T12:40:13.281Z"
   },
   {
    "duration": -89,
    "start_time": "2021-08-14T12:40:13.287Z"
   },
   {
    "duration": -94,
    "start_time": "2021-08-14T12:40:13.293Z"
   },
   {
    "duration": -94,
    "start_time": "2021-08-14T12:40:13.294Z"
   },
   {
    "duration": -95,
    "start_time": "2021-08-14T12:40:13.296Z"
   },
   {
    "duration": -95,
    "start_time": "2021-08-14T12:40:13.297Z"
   },
   {
    "duration": -100,
    "start_time": "2021-08-14T12:40:13.302Z"
   },
   {
    "duration": -105,
    "start_time": "2021-08-14T12:40:13.308Z"
   },
   {
    "duration": -171,
    "start_time": "2021-08-14T12:40:13.375Z"
   },
   {
    "duration": -172,
    "start_time": "2021-08-14T12:40:13.377Z"
   },
   {
    "duration": -173,
    "start_time": "2021-08-14T12:40:13.378Z"
   },
   {
    "duration": -173,
    "start_time": "2021-08-14T12:40:13.380Z"
   },
   {
    "duration": -177,
    "start_time": "2021-08-14T12:40:13.384Z"
   },
   {
    "duration": 1435,
    "start_time": "2021-08-14T12:41:34.895Z"
   },
   {
    "duration": 87,
    "start_time": "2021-08-14T12:41:36.332Z"
   },
   {
    "duration": 65,
    "start_time": "2021-08-14T12:41:36.420Z"
   },
   {
    "duration": 58,
    "start_time": "2021-08-14T12:41:36.487Z"
   },
   {
    "duration": 7,
    "start_time": "2021-08-14T12:41:36.547Z"
   },
   {
    "duration": 19,
    "start_time": "2021-08-14T12:41:36.556Z"
   },
   {
    "duration": 38,
    "start_time": "2021-08-14T12:41:36.576Z"
   },
   {
    "duration": 8,
    "start_time": "2021-08-14T12:41:36.616Z"
   },
   {
    "duration": 18,
    "start_time": "2021-08-14T12:41:36.626Z"
   },
   {
    "duration": 361,
    "start_time": "2021-08-14T12:41:36.646Z"
   },
   {
    "duration": -136,
    "start_time": "2021-08-14T12:41:37.145Z"
   },
   {
    "duration": -140,
    "start_time": "2021-08-14T12:41:37.150Z"
   },
   {
    "duration": -146,
    "start_time": "2021-08-14T12:41:37.157Z"
   },
   {
    "duration": -148,
    "start_time": "2021-08-14T12:41:37.159Z"
   },
   {
    "duration": -148,
    "start_time": "2021-08-14T12:41:37.160Z"
   },
   {
    "duration": -149,
    "start_time": "2021-08-14T12:41:37.162Z"
   },
   {
    "duration": -153,
    "start_time": "2021-08-14T12:41:37.167Z"
   },
   {
    "duration": -158,
    "start_time": "2021-08-14T12:41:37.173Z"
   },
   {
    "duration": -159,
    "start_time": "2021-08-14T12:41:37.175Z"
   },
   {
    "duration": -159,
    "start_time": "2021-08-14T12:41:37.176Z"
   },
   {
    "duration": -159,
    "start_time": "2021-08-14T12:41:37.177Z"
   },
   {
    "duration": -163,
    "start_time": "2021-08-14T12:41:37.182Z"
   },
   {
    "duration": -169,
    "start_time": "2021-08-14T12:41:37.189Z"
   },
   {
    "duration": -169,
    "start_time": "2021-08-14T12:41:37.190Z"
   },
   {
    "duration": -194,
    "start_time": "2021-08-14T12:41:37.216Z"
   },
   {
    "duration": 1453,
    "start_time": "2021-08-14T12:42:26.086Z"
   },
   {
    "duration": 87,
    "start_time": "2021-08-14T12:42:27.541Z"
   },
   {
    "duration": 75,
    "start_time": "2021-08-14T12:42:27.629Z"
   },
   {
    "duration": 55,
    "start_time": "2021-08-14T12:42:27.705Z"
   },
   {
    "duration": 9,
    "start_time": "2021-08-14T12:42:27.761Z"
   },
   {
    "duration": 21,
    "start_time": "2021-08-14T12:42:27.771Z"
   },
   {
    "duration": 51,
    "start_time": "2021-08-14T12:42:27.794Z"
   },
   {
    "duration": 9,
    "start_time": "2021-08-14T12:42:27.847Z"
   },
   {
    "duration": 8,
    "start_time": "2021-08-14T12:42:27.859Z"
   },
   {
    "duration": 332,
    "start_time": "2021-08-14T12:42:27.869Z"
   },
   {
    "duration": -61,
    "start_time": "2021-08-14T12:42:28.264Z"
   },
   {
    "duration": -64,
    "start_time": "2021-08-14T12:42:28.268Z"
   },
   {
    "duration": -66,
    "start_time": "2021-08-14T12:42:28.272Z"
   },
   {
    "duration": -82,
    "start_time": "2021-08-14T12:42:28.289Z"
   },
   {
    "duration": -84,
    "start_time": "2021-08-14T12:42:28.292Z"
   },
   {
    "duration": -85,
    "start_time": "2021-08-14T12:42:28.295Z"
   },
   {
    "duration": -86,
    "start_time": "2021-08-14T12:42:28.297Z"
   },
   {
    "duration": -86,
    "start_time": "2021-08-14T12:42:28.298Z"
   },
   {
    "duration": -116,
    "start_time": "2021-08-14T12:42:28.329Z"
   },
   {
    "duration": -115,
    "start_time": "2021-08-14T12:42:28.330Z"
   },
   {
    "duration": -116,
    "start_time": "2021-08-14T12:42:28.332Z"
   },
   {
    "duration": -119,
    "start_time": "2021-08-14T12:42:28.336Z"
   },
   {
    "duration": -120,
    "start_time": "2021-08-14T12:42:28.339Z"
   },
   {
    "duration": -120,
    "start_time": "2021-08-14T12:42:28.340Z"
   },
   {
    "duration": -121,
    "start_time": "2021-08-14T12:42:28.342Z"
   },
   {
    "duration": 1425,
    "start_time": "2021-08-14T12:48:07.678Z"
   },
   {
    "duration": 86,
    "start_time": "2021-08-14T12:48:09.105Z"
   },
   {
    "duration": 70,
    "start_time": "2021-08-14T12:48:09.194Z"
   },
   {
    "duration": 52,
    "start_time": "2021-08-14T12:48:09.266Z"
   },
   {
    "duration": 28,
    "start_time": "2021-08-14T12:48:09.320Z"
   },
   {
    "duration": 21,
    "start_time": "2021-08-14T12:48:09.349Z"
   },
   {
    "duration": 38,
    "start_time": "2021-08-14T12:48:09.371Z"
   },
   {
    "duration": 7,
    "start_time": "2021-08-14T12:48:09.411Z"
   },
   {
    "duration": 12,
    "start_time": "2021-08-14T12:48:09.420Z"
   },
   {
    "duration": 333,
    "start_time": "2021-08-14T12:48:09.440Z"
   },
   {
    "duration": -82,
    "start_time": "2021-08-14T12:48:09.857Z"
   },
   {
    "duration": -86,
    "start_time": "2021-08-14T12:48:09.862Z"
   },
   {
    "duration": -88,
    "start_time": "2021-08-14T12:48:09.865Z"
   },
   {
    "duration": -93,
    "start_time": "2021-08-14T12:48:09.871Z"
   },
   {
    "duration": -96,
    "start_time": "2021-08-14T12:48:09.875Z"
   },
   {
    "duration": -98,
    "start_time": "2021-08-14T12:48:09.878Z"
   },
   {
    "duration": -105,
    "start_time": "2021-08-14T12:48:09.886Z"
   },
   {
    "duration": -106,
    "start_time": "2021-08-14T12:48:09.888Z"
   },
   {
    "duration": -107,
    "start_time": "2021-08-14T12:48:09.890Z"
   },
   {
    "duration": -108,
    "start_time": "2021-08-14T12:48:09.892Z"
   },
   {
    "duration": -109,
    "start_time": "2021-08-14T12:48:09.893Z"
   },
   {
    "duration": -109,
    "start_time": "2021-08-14T12:48:09.895Z"
   },
   {
    "duration": -111,
    "start_time": "2021-08-14T12:48:09.897Z"
   },
   {
    "duration": -117,
    "start_time": "2021-08-14T12:48:09.904Z"
   },
   {
    "duration": -117,
    "start_time": "2021-08-14T12:48:09.905Z"
   },
   {
    "duration": 1391,
    "start_time": "2021-08-14T12:50:15.451Z"
   },
   {
    "duration": 88,
    "start_time": "2021-08-14T12:50:16.844Z"
   },
   {
    "duration": 72,
    "start_time": "2021-08-14T12:50:16.934Z"
   },
   {
    "duration": 59,
    "start_time": "2021-08-14T12:50:17.007Z"
   },
   {
    "duration": 8,
    "start_time": "2021-08-14T12:50:17.067Z"
   },
   {
    "duration": 13,
    "start_time": "2021-08-14T12:50:17.077Z"
   },
   {
    "duration": 50,
    "start_time": "2021-08-14T12:50:17.091Z"
   },
   {
    "duration": 7,
    "start_time": "2021-08-14T12:50:17.143Z"
   },
   {
    "duration": 5,
    "start_time": "2021-08-14T12:50:17.153Z"
   },
   {
    "duration": 520,
    "start_time": "2021-08-14T12:50:17.160Z"
   },
   {
    "duration": -46,
    "start_time": "2021-08-14T12:50:17.727Z"
   },
   {
    "duration": -54,
    "start_time": "2021-08-14T12:50:17.736Z"
   },
   {
    "duration": -55,
    "start_time": "2021-08-14T12:50:17.738Z"
   },
   {
    "duration": -91,
    "start_time": "2021-08-14T12:50:17.775Z"
   },
   {
    "duration": -92,
    "start_time": "2021-08-14T12:50:17.777Z"
   },
   {
    "duration": -101,
    "start_time": "2021-08-14T12:50:17.787Z"
   },
   {
    "duration": -102,
    "start_time": "2021-08-14T12:50:17.789Z"
   },
   {
    "duration": -102,
    "start_time": "2021-08-14T12:50:17.790Z"
   },
   {
    "duration": -103,
    "start_time": "2021-08-14T12:50:17.792Z"
   },
   {
    "duration": -103,
    "start_time": "2021-08-14T12:50:17.793Z"
   },
   {
    "duration": -104,
    "start_time": "2021-08-14T12:50:17.795Z"
   },
   {
    "duration": -111,
    "start_time": "2021-08-14T12:50:17.802Z"
   },
   {
    "duration": -113,
    "start_time": "2021-08-14T12:50:17.805Z"
   },
   {
    "duration": -116,
    "start_time": "2021-08-14T12:50:17.809Z"
   },
   {
    "duration": -117,
    "start_time": "2021-08-14T12:50:17.811Z"
   },
   {
    "duration": 1453,
    "start_time": "2021-08-14T12:54:16.350Z"
   },
   {
    "duration": 88,
    "start_time": "2021-08-14T12:54:17.805Z"
   },
   {
    "duration": 70,
    "start_time": "2021-08-14T12:54:17.895Z"
   },
   {
    "duration": 51,
    "start_time": "2021-08-14T12:54:17.967Z"
   },
   {
    "duration": 21,
    "start_time": "2021-08-14T12:54:18.019Z"
   },
   {
    "duration": 9,
    "start_time": "2021-08-14T12:54:18.042Z"
   },
   {
    "duration": 34,
    "start_time": "2021-08-14T12:54:18.053Z"
   },
   {
    "duration": 8,
    "start_time": "2021-08-14T12:54:18.089Z"
   },
   {
    "duration": 6,
    "start_time": "2021-08-14T12:54:18.099Z"
   },
   {
    "duration": 866,
    "start_time": "2021-08-14T12:54:18.106Z"
   },
   {
    "duration": -56,
    "start_time": "2021-08-14T12:54:19.030Z"
   },
   {
    "duration": -58,
    "start_time": "2021-08-14T12:54:19.033Z"
   },
   {
    "duration": -64,
    "start_time": "2021-08-14T12:54:19.040Z"
   },
   {
    "duration": -71,
    "start_time": "2021-08-14T12:54:19.047Z"
   },
   {
    "duration": -76,
    "start_time": "2021-08-14T12:54:19.053Z"
   },
   {
    "duration": -83,
    "start_time": "2021-08-14T12:54:19.061Z"
   },
   {
    "duration": -85,
    "start_time": "2021-08-14T12:54:19.064Z"
   },
   {
    "duration": -88,
    "start_time": "2021-08-14T12:54:19.068Z"
   },
   {
    "duration": -88,
    "start_time": "2021-08-14T12:54:19.069Z"
   },
   {
    "duration": -94,
    "start_time": "2021-08-14T12:54:19.077Z"
   },
   {
    "duration": -95,
    "start_time": "2021-08-14T12:54:19.079Z"
   },
   {
    "duration": -98,
    "start_time": "2021-08-14T12:54:19.083Z"
   },
   {
    "duration": -99,
    "start_time": "2021-08-14T12:54:19.085Z"
   },
   {
    "duration": -101,
    "start_time": "2021-08-14T12:54:19.088Z"
   },
   {
    "duration": -106,
    "start_time": "2021-08-14T12:54:19.094Z"
   },
   {
    "duration": 4,
    "start_time": "2021-08-14T12:58:47.102Z"
   },
   {
    "duration": 35,
    "start_time": "2021-08-14T13:00:59.265Z"
   },
   {
    "duration": 364,
    "start_time": "2021-08-14T13:06:09.891Z"
   },
   {
    "duration": 13,
    "start_time": "2021-08-14T13:19:44.536Z"
   },
   {
    "duration": 8,
    "start_time": "2021-08-14T13:19:48.045Z"
   },
   {
    "duration": 10,
    "start_time": "2021-08-14T13:26:07.437Z"
   },
   {
    "duration": 31,
    "start_time": "2021-08-14T13:29:46.497Z"
   },
   {
    "duration": 32,
    "start_time": "2021-08-14T13:30:13.204Z"
   },
   {
    "duration": 36,
    "start_time": "2021-08-14T13:30:24.234Z"
   },
   {
    "duration": 1455,
    "start_time": "2021-08-14T13:31:26.402Z"
   },
   {
    "duration": 89,
    "start_time": "2021-08-14T13:31:27.859Z"
   },
   {
    "duration": 74,
    "start_time": "2021-08-14T13:31:27.950Z"
   },
   {
    "duration": 58,
    "start_time": "2021-08-14T13:31:28.026Z"
   },
   {
    "duration": 10,
    "start_time": "2021-08-14T13:31:28.086Z"
   },
   {
    "duration": 13,
    "start_time": "2021-08-14T13:31:28.098Z"
   },
   {
    "duration": 59,
    "start_time": "2021-08-14T13:31:28.113Z"
   },
   {
    "duration": 7,
    "start_time": "2021-08-14T13:31:28.174Z"
   },
   {
    "duration": 6,
    "start_time": "2021-08-14T13:31:28.184Z"
   },
   {
    "duration": 54,
    "start_time": "2021-08-14T13:31:28.191Z"
   },
   {
    "duration": 6,
    "start_time": "2021-08-14T13:31:28.247Z"
   },
   {
    "duration": 9,
    "start_time": "2021-08-14T13:31:28.255Z"
   },
   {
    "duration": 2,
    "start_time": "2021-08-14T13:31:28.266Z"
   },
   {
    "duration": 6679,
    "start_time": "2021-08-14T13:31:28.270Z"
   },
   {
    "duration": -116,
    "start_time": "2021-08-14T13:31:35.068Z"
   },
   {
    "duration": -161,
    "start_time": "2021-08-14T13:31:35.114Z"
   },
   {
    "duration": -163,
    "start_time": "2021-08-14T13:31:35.118Z"
   },
   {
    "duration": -163,
    "start_time": "2021-08-14T13:31:35.119Z"
   },
   {
    "duration": -164,
    "start_time": "2021-08-14T13:31:35.121Z"
   },
   {
    "duration": -163,
    "start_time": "2021-08-14T13:31:35.122Z"
   },
   {
    "duration": -165,
    "start_time": "2021-08-14T13:31:35.125Z"
   },
   {
    "duration": -169,
    "start_time": "2021-08-14T13:31:35.131Z"
   },
   {
    "duration": -170,
    "start_time": "2021-08-14T13:31:35.133Z"
   },
   {
    "duration": -173,
    "start_time": "2021-08-14T13:31:35.137Z"
   },
   {
    "duration": -174,
    "start_time": "2021-08-14T13:31:35.140Z"
   },
   {
    "duration": 1413,
    "start_time": "2021-08-14T13:32:34.750Z"
   },
   {
    "duration": 89,
    "start_time": "2021-08-14T13:32:36.164Z"
   },
   {
    "duration": 72,
    "start_time": "2021-08-14T13:32:36.256Z"
   },
   {
    "duration": 56,
    "start_time": "2021-08-14T13:32:36.329Z"
   },
   {
    "duration": 8,
    "start_time": "2021-08-14T13:32:36.387Z"
   },
   {
    "duration": 23,
    "start_time": "2021-08-14T13:32:36.396Z"
   },
   {
    "duration": 47,
    "start_time": "2021-08-14T13:32:36.421Z"
   },
   {
    "duration": 7,
    "start_time": "2021-08-14T13:32:36.470Z"
   },
   {
    "duration": 14,
    "start_time": "2021-08-14T13:32:36.479Z"
   },
   {
    "duration": 54,
    "start_time": "2021-08-14T13:32:36.494Z"
   },
   {
    "duration": 7,
    "start_time": "2021-08-14T13:32:36.549Z"
   },
   {
    "duration": 20,
    "start_time": "2021-08-14T13:32:36.557Z"
   },
   {
    "duration": 13,
    "start_time": "2021-08-14T13:32:36.579Z"
   },
   {
    "duration": 6580,
    "start_time": "2021-08-14T13:32:36.593Z"
   },
   {
    "duration": -345,
    "start_time": "2021-08-14T13:32:43.521Z"
   },
   {
    "duration": -345,
    "start_time": "2021-08-14T13:32:43.522Z"
   },
   {
    "duration": -346,
    "start_time": "2021-08-14T13:32:43.524Z"
   },
   {
    "duration": -346,
    "start_time": "2021-08-14T13:32:43.526Z"
   },
   {
    "duration": -347,
    "start_time": "2021-08-14T13:32:43.528Z"
   },
   {
    "duration": -347,
    "start_time": "2021-08-14T13:32:43.529Z"
   },
   {
    "duration": -347,
    "start_time": "2021-08-14T13:32:43.531Z"
   },
   {
    "duration": -348,
    "start_time": "2021-08-14T13:32:43.533Z"
   },
   {
    "duration": -369,
    "start_time": "2021-08-14T13:32:43.555Z"
   },
   {
    "duration": -370,
    "start_time": "2021-08-14T13:32:43.558Z"
   },
   {
    "duration": -371,
    "start_time": "2021-08-14T13:32:43.560Z"
   },
   {
    "duration": 6415,
    "start_time": "2021-08-14T13:33:49.767Z"
   },
   {
    "duration": 1371,
    "start_time": "2021-08-14T13:34:43.776Z"
   },
   {
    "duration": 99,
    "start_time": "2021-08-14T13:34:45.149Z"
   },
   {
    "duration": 69,
    "start_time": "2021-08-14T13:34:45.250Z"
   },
   {
    "duration": 59,
    "start_time": "2021-08-14T13:34:45.321Z"
   },
   {
    "duration": 11,
    "start_time": "2021-08-14T13:34:45.381Z"
   },
   {
    "duration": 11,
    "start_time": "2021-08-14T13:34:45.393Z"
   },
   {
    "duration": 6630,
    "start_time": "2021-08-14T13:34:45.406Z"
   },
   {
    "duration": -323,
    "start_time": "2021-08-14T13:34:52.362Z"
   },
   {
    "duration": -328,
    "start_time": "2021-08-14T13:34:52.367Z"
   },
   {
    "duration": -332,
    "start_time": "2021-08-14T13:34:52.372Z"
   },
   {
    "duration": -334,
    "start_time": "2021-08-14T13:34:52.375Z"
   },
   {
    "duration": -334,
    "start_time": "2021-08-14T13:34:52.376Z"
   },
   {
    "duration": -335,
    "start_time": "2021-08-14T13:34:52.378Z"
   },
   {
    "duration": -335,
    "start_time": "2021-08-14T13:34:52.379Z"
   },
   {
    "duration": -335,
    "start_time": "2021-08-14T13:34:52.380Z"
   },
   {
    "duration": -341,
    "start_time": "2021-08-14T13:34:52.387Z"
   },
   {
    "duration": -381,
    "start_time": "2021-08-14T13:34:52.428Z"
   },
   {
    "duration": -385,
    "start_time": "2021-08-14T13:34:52.433Z"
   },
   {
    "duration": -386,
    "start_time": "2021-08-14T13:34:52.436Z"
   },
   {
    "duration": -386,
    "start_time": "2021-08-14T13:34:52.437Z"
   },
   {
    "duration": -400,
    "start_time": "2021-08-14T13:34:52.452Z"
   },
   {
    "duration": -404,
    "start_time": "2021-08-14T13:34:52.457Z"
   },
   {
    "duration": -404,
    "start_time": "2021-08-14T13:34:52.458Z"
   },
   {
    "duration": -404,
    "start_time": "2021-08-14T13:34:52.460Z"
   },
   {
    "duration": -404,
    "start_time": "2021-08-14T13:34:52.461Z"
   },
   {
    "duration": 1414,
    "start_time": "2021-08-14T13:37:27.921Z"
   },
   {
    "duration": 86,
    "start_time": "2021-08-14T13:37:29.337Z"
   },
   {
    "duration": 69,
    "start_time": "2021-08-14T13:37:29.425Z"
   },
   {
    "duration": 65,
    "start_time": "2021-08-14T13:37:29.496Z"
   },
   {
    "duration": 8,
    "start_time": "2021-08-14T13:37:29.563Z"
   },
   {
    "duration": 25,
    "start_time": "2021-08-14T13:37:29.572Z"
   },
   {
    "duration": 26,
    "start_time": "2021-08-14T13:37:29.599Z"
   },
   {
    "duration": 13,
    "start_time": "2021-08-14T13:37:29.628Z"
   },
   {
    "duration": 5,
    "start_time": "2021-08-14T13:37:29.643Z"
   },
   {
    "duration": 45,
    "start_time": "2021-08-14T13:37:29.650Z"
   },
   {
    "duration": 6,
    "start_time": "2021-08-14T13:37:29.697Z"
   },
   {
    "duration": 10,
    "start_time": "2021-08-14T13:37:29.705Z"
   },
   {
    "duration": 25,
    "start_time": "2021-08-14T13:37:29.716Z"
   },
   {
    "duration": 6161,
    "start_time": "2021-08-14T13:37:29.743Z"
   },
   {
    "duration": -182,
    "start_time": "2021-08-14T13:37:36.089Z"
   },
   {
    "duration": -185,
    "start_time": "2021-08-14T13:37:36.093Z"
   },
   {
    "duration": -187,
    "start_time": "2021-08-14T13:37:36.096Z"
   },
   {
    "duration": -188,
    "start_time": "2021-08-14T13:37:36.098Z"
   },
   {
    "duration": -188,
    "start_time": "2021-08-14T13:37:36.099Z"
   },
   {
    "duration": -189,
    "start_time": "2021-08-14T13:37:36.101Z"
   },
   {
    "duration": -190,
    "start_time": "2021-08-14T13:37:36.103Z"
   },
   {
    "duration": -190,
    "start_time": "2021-08-14T13:37:36.104Z"
   },
   {
    "duration": -191,
    "start_time": "2021-08-14T13:37:36.106Z"
   },
   {
    "duration": -191,
    "start_time": "2021-08-14T13:37:36.107Z"
   },
   {
    "duration": -192,
    "start_time": "2021-08-14T13:37:36.109Z"
   },
   {
    "duration": 31,
    "start_time": "2021-08-14T13:38:01.303Z"
   },
   {
    "duration": 1434,
    "start_time": "2021-08-14T13:39:31.205Z"
   },
   {
    "duration": 86,
    "start_time": "2021-08-14T13:39:32.641Z"
   },
   {
    "duration": 77,
    "start_time": "2021-08-14T13:39:32.729Z"
   },
   {
    "duration": 57,
    "start_time": "2021-08-14T13:39:32.808Z"
   },
   {
    "duration": 8,
    "start_time": "2021-08-14T13:39:32.866Z"
   },
   {
    "duration": 11,
    "start_time": "2021-08-14T13:39:32.876Z"
   },
   {
    "duration": 31,
    "start_time": "2021-08-14T13:39:32.888Z"
   },
   {
    "duration": 25,
    "start_time": "2021-08-14T13:39:32.922Z"
   },
   {
    "duration": 6,
    "start_time": "2021-08-14T13:39:32.949Z"
   },
   {
    "duration": 40,
    "start_time": "2021-08-14T13:39:32.957Z"
   },
   {
    "duration": 7,
    "start_time": "2021-08-14T13:39:32.998Z"
   },
   {
    "duration": 41,
    "start_time": "2021-08-14T13:39:33.007Z"
   },
   {
    "duration": 2,
    "start_time": "2021-08-14T13:39:33.049Z"
   },
   {
    "duration": 6300,
    "start_time": "2021-08-14T13:39:33.053Z"
   },
   {
    "duration": -365,
    "start_time": "2021-08-14T13:39:39.721Z"
   },
   {
    "duration": -364,
    "start_time": "2021-08-14T13:39:39.722Z"
   },
   {
    "duration": -365,
    "start_time": "2021-08-14T13:39:39.724Z"
   },
   {
    "duration": -373,
    "start_time": "2021-08-14T13:39:39.733Z"
   },
   {
    "duration": -373,
    "start_time": "2021-08-14T13:39:39.735Z"
   },
   {
    "duration": -374,
    "start_time": "2021-08-14T13:39:39.737Z"
   },
   {
    "duration": -374,
    "start_time": "2021-08-14T13:39:39.738Z"
   },
   {
    "duration": -375,
    "start_time": "2021-08-14T13:39:39.740Z"
   },
   {
    "duration": -396,
    "start_time": "2021-08-14T13:39:39.763Z"
   },
   {
    "duration": -401,
    "start_time": "2021-08-14T13:39:39.769Z"
   },
   {
    "duration": -403,
    "start_time": "2021-08-14T13:39:39.772Z"
   },
   {
    "duration": 3,
    "start_time": "2021-08-14T13:48:01.887Z"
   },
   {
    "duration": 4789,
    "start_time": "2021-08-14T13:48:25.207Z"
   },
   {
    "duration": -131,
    "start_time": "2021-08-14T13:48:30.129Z"
   },
   {
    "duration": 1450,
    "start_time": "2021-08-14T13:48:44.469Z"
   },
   {
    "duration": 86,
    "start_time": "2021-08-14T13:48:45.921Z"
   },
   {
    "duration": 73,
    "start_time": "2021-08-14T13:48:46.009Z"
   },
   {
    "duration": 51,
    "start_time": "2021-08-14T13:48:46.084Z"
   },
   {
    "duration": 8,
    "start_time": "2021-08-14T13:48:46.141Z"
   },
   {
    "duration": 11,
    "start_time": "2021-08-14T13:48:46.150Z"
   },
   {
    "duration": 30,
    "start_time": "2021-08-14T13:48:46.162Z"
   },
   {
    "duration": 7,
    "start_time": "2021-08-14T13:48:46.195Z"
   },
   {
    "duration": 5,
    "start_time": "2021-08-14T13:48:46.204Z"
   },
   {
    "duration": 3348,
    "start_time": "2021-08-14T13:48:46.210Z"
   },
   {
    "duration": -330,
    "start_time": "2021-08-14T13:48:49.890Z"
   },
   {
    "duration": -332,
    "start_time": "2021-08-14T13:48:49.893Z"
   },
   {
    "duration": -333,
    "start_time": "2021-08-14T13:48:49.894Z"
   },
   {
    "duration": -334,
    "start_time": "2021-08-14T13:48:49.896Z"
   },
   {
    "duration": -334,
    "start_time": "2021-08-14T13:48:49.897Z"
   },
   {
    "duration": -336,
    "start_time": "2021-08-14T13:48:49.900Z"
   },
   {
    "duration": -339,
    "start_time": "2021-08-14T13:48:49.904Z"
   },
   {
    "duration": -342,
    "start_time": "2021-08-14T13:48:49.907Z"
   },
   {
    "duration": -342,
    "start_time": "2021-08-14T13:48:49.908Z"
   },
   {
    "duration": -343,
    "start_time": "2021-08-14T13:48:49.910Z"
   },
   {
    "duration": -390,
    "start_time": "2021-08-14T13:48:49.958Z"
   },
   {
    "duration": -393,
    "start_time": "2021-08-14T13:48:49.962Z"
   },
   {
    "duration": -393,
    "start_time": "2021-08-14T13:48:49.963Z"
   },
   {
    "duration": -432,
    "start_time": "2021-08-14T13:48:50.003Z"
   },
   {
    "duration": -436,
    "start_time": "2021-08-14T13:48:50.008Z"
   },
   {
    "duration": -437,
    "start_time": "2021-08-14T13:48:50.010Z"
   },
   {
    "duration": -438,
    "start_time": "2021-08-14T13:48:50.012Z"
   },
   {
    "duration": 1434,
    "start_time": "2021-08-14T13:50:42.106Z"
   },
   {
    "duration": 86,
    "start_time": "2021-08-14T13:50:43.543Z"
   },
   {
    "duration": 74,
    "start_time": "2021-08-14T13:50:43.631Z"
   },
   {
    "duration": 64,
    "start_time": "2021-08-14T13:50:43.707Z"
   },
   {
    "duration": 8,
    "start_time": "2021-08-14T13:50:43.772Z"
   },
   {
    "duration": 17,
    "start_time": "2021-08-14T13:50:43.782Z"
   },
   {
    "duration": 37,
    "start_time": "2021-08-14T13:50:43.800Z"
   },
   {
    "duration": 14,
    "start_time": "2021-08-14T13:50:43.840Z"
   },
   {
    "duration": 4,
    "start_time": "2021-08-14T13:50:43.856Z"
   },
   {
    "duration": 23,
    "start_time": "2021-08-14T13:50:43.861Z"
   },
   {
    "duration": 54,
    "start_time": "2021-08-14T13:50:43.885Z"
   },
   {
    "duration": 7,
    "start_time": "2021-08-14T13:50:43.941Z"
   },
   {
    "duration": 19,
    "start_time": "2021-08-14T13:50:43.950Z"
   },
   {
    "duration": 4,
    "start_time": "2021-08-14T13:50:43.970Z"
   },
   {
    "duration": 6107,
    "start_time": "2021-08-14T13:50:43.976Z"
   },
   {
    "duration": -197,
    "start_time": "2021-08-14T13:50:50.282Z"
   },
   {
    "duration": -207,
    "start_time": "2021-08-14T13:50:50.293Z"
   },
   {
    "duration": -208,
    "start_time": "2021-08-14T13:50:50.295Z"
   },
   {
    "duration": -208,
    "start_time": "2021-08-14T13:50:50.296Z"
   },
   {
    "duration": -218,
    "start_time": "2021-08-14T13:50:50.306Z"
   },
   {
    "duration": -219,
    "start_time": "2021-08-14T13:50:50.308Z"
   },
   {
    "duration": -219,
    "start_time": "2021-08-14T13:50:50.309Z"
   },
   {
    "duration": -220,
    "start_time": "2021-08-14T13:50:50.311Z"
   },
   {
    "duration": -221,
    "start_time": "2021-08-14T13:50:50.313Z"
   },
   {
    "duration": -224,
    "start_time": "2021-08-14T13:50:50.317Z"
   },
   {
    "duration": -230,
    "start_time": "2021-08-14T13:50:50.324Z"
   },
   {
    "duration": 16,
    "start_time": "2021-08-14T13:52:09.885Z"
   },
   {
    "duration": 63,
    "start_time": "2021-08-14T13:52:37.760Z"
   },
   {
    "duration": 20,
    "start_time": "2021-08-14T13:55:39.921Z"
   },
   {
    "duration": 29,
    "start_time": "2021-08-14T13:56:34.222Z"
   },
   {
    "duration": 594,
    "start_time": "2021-08-14T13:57:48.112Z"
   },
   {
    "duration": 523,
    "start_time": "2021-08-14T13:58:46.919Z"
   },
   {
    "duration": 358,
    "start_time": "2021-08-14T13:58:56.211Z"
   },
   {
    "duration": 594,
    "start_time": "2021-08-14T13:59:24.189Z"
   },
   {
    "duration": 7581,
    "start_time": "2021-08-14T13:59:57.038Z"
   },
   {
    "duration": 361,
    "start_time": "2021-08-14T14:03:58.084Z"
   },
   {
    "duration": 662,
    "start_time": "2021-08-14T14:04:30.657Z"
   },
   {
    "duration": 11,
    "start_time": "2021-08-14T14:13:04.300Z"
   },
   {
    "duration": 38,
    "start_time": "2021-08-14T14:13:39.578Z"
   },
   {
    "duration": 11,
    "start_time": "2021-08-14T14:14:25.729Z"
   },
   {
    "duration": 38,
    "start_time": "2021-08-14T14:14:28.166Z"
   },
   {
    "duration": 1452,
    "start_time": "2021-08-14T14:14:36.113Z"
   },
   {
    "duration": 90,
    "start_time": "2021-08-14T14:14:37.568Z"
   },
   {
    "duration": 72,
    "start_time": "2021-08-14T14:14:37.660Z"
   },
   {
    "duration": 61,
    "start_time": "2021-08-14T14:14:37.734Z"
   },
   {
    "duration": 8,
    "start_time": "2021-08-14T14:14:37.797Z"
   },
   {
    "duration": 11,
    "start_time": "2021-08-14T14:14:37.807Z"
   },
   {
    "duration": 49,
    "start_time": "2021-08-14T14:14:37.819Z"
   },
   {
    "duration": 7,
    "start_time": "2021-08-14T14:14:37.871Z"
   },
   {
    "duration": 12,
    "start_time": "2021-08-14T14:14:37.880Z"
   },
   {
    "duration": 17,
    "start_time": "2021-08-14T14:14:37.893Z"
   },
   {
    "duration": 50,
    "start_time": "2021-08-14T14:14:37.912Z"
   },
   {
    "duration": 7,
    "start_time": "2021-08-14T14:14:37.964Z"
   },
   {
    "duration": 12,
    "start_time": "2021-08-14T14:14:37.973Z"
   },
   {
    "duration": 11,
    "start_time": "2021-08-14T14:14:37.987Z"
   },
   {
    "duration": 58,
    "start_time": "2021-08-14T14:14:38.000Z"
   },
   {
    "duration": 590,
    "start_time": "2021-08-14T14:14:38.059Z"
   },
   {
    "duration": 12,
    "start_time": "2021-08-14T14:14:38.650Z"
   },
   {
    "duration": 49,
    "start_time": "2021-08-14T14:14:38.663Z"
   },
   {
    "duration": 3,
    "start_time": "2021-08-14T14:14:38.714Z"
   },
   {
    "duration": 6754,
    "start_time": "2021-08-14T14:14:38.719Z"
   },
   {
    "duration": -306,
    "start_time": "2021-08-14T14:14:45.782Z"
   },
   {
    "duration": -308,
    "start_time": "2021-08-14T14:14:45.785Z"
   },
   {
    "duration": -309,
    "start_time": "2021-08-14T14:14:45.787Z"
   },
   {
    "duration": -309,
    "start_time": "2021-08-14T14:14:45.788Z"
   },
   {
    "duration": -310,
    "start_time": "2021-08-14T14:14:45.790Z"
   },
   {
    "duration": -320,
    "start_time": "2021-08-14T14:14:45.801Z"
   },
   {
    "duration": -323,
    "start_time": "2021-08-14T14:14:45.805Z"
   },
   {
    "duration": -324,
    "start_time": "2021-08-14T14:14:45.807Z"
   },
   {
    "duration": -324,
    "start_time": "2021-08-14T14:14:45.808Z"
   },
   {
    "duration": -325,
    "start_time": "2021-08-14T14:14:45.810Z"
   },
   {
    "duration": 4,
    "start_time": "2021-08-14T14:15:57.043Z"
   },
   {
    "duration": 4,
    "start_time": "2021-08-14T14:16:11.870Z"
   },
   {
    "duration": 4,
    "start_time": "2021-08-14T14:16:37.057Z"
   },
   {
    "duration": 8,
    "start_time": "2021-08-14T14:22:14.020Z"
   },
   {
    "duration": 752,
    "start_time": "2021-08-14T14:23:15.317Z"
   },
   {
    "duration": 93,
    "start_time": "2021-08-14T14:23:43.617Z"
   },
   {
    "duration": 12,
    "start_time": "2021-08-14T14:23:50.996Z"
   },
   {
    "duration": 11,
    "start_time": "2021-08-14T14:25:04.885Z"
   },
   {
    "duration": 9,
    "start_time": "2021-08-14T14:27:04.849Z"
   },
   {
    "duration": 24,
    "start_time": "2021-08-14T14:27:11.959Z"
   },
   {
    "duration": 7,
    "start_time": "2021-08-14T14:27:58.791Z"
   },
   {
    "duration": 17,
    "start_time": "2021-08-14T14:28:04.348Z"
   },
   {
    "duration": 11,
    "start_time": "2021-08-14T14:28:50.806Z"
   },
   {
    "duration": 1429,
    "start_time": "2021-08-14T14:29:13.279Z"
   },
   {
    "duration": 95,
    "start_time": "2021-08-14T14:29:14.710Z"
   },
   {
    "duration": 69,
    "start_time": "2021-08-14T14:29:14.807Z"
   },
   {
    "duration": 53,
    "start_time": "2021-08-14T14:29:14.877Z"
   },
   {
    "duration": 16,
    "start_time": "2021-08-14T14:29:14.931Z"
   },
   {
    "duration": 10,
    "start_time": "2021-08-14T14:29:14.949Z"
   },
   {
    "duration": 32,
    "start_time": "2021-08-14T14:29:14.961Z"
   },
   {
    "duration": 6,
    "start_time": "2021-08-14T14:29:14.995Z"
   },
   {
    "duration": 5,
    "start_time": "2021-08-14T14:29:15.004Z"
   },
   {
    "duration": 35,
    "start_time": "2021-08-14T14:29:15.011Z"
   },
   {
    "duration": 45,
    "start_time": "2021-08-14T14:29:15.047Z"
   },
   {
    "duration": 7,
    "start_time": "2021-08-14T14:29:15.094Z"
   },
   {
    "duration": 11,
    "start_time": "2021-08-14T14:29:15.103Z"
   },
   {
    "duration": 32,
    "start_time": "2021-08-14T14:29:15.116Z"
   },
   {
    "duration": 12,
    "start_time": "2021-08-14T14:29:15.149Z"
   },
   {
    "duration": 40,
    "start_time": "2021-08-14T14:29:15.163Z"
   },
   {
    "duration": 632,
    "start_time": "2021-08-14T14:29:15.205Z"
   },
   {
    "duration": 12,
    "start_time": "2021-08-14T14:29:15.839Z"
   },
   {
    "duration": 39,
    "start_time": "2021-08-14T14:29:15.852Z"
   },
   {
    "duration": 6,
    "start_time": "2021-08-14T14:29:15.893Z"
   },
   {
    "duration": 7719,
    "start_time": "2021-08-14T14:29:15.901Z"
   },
   {
    "duration": -190,
    "start_time": "2021-08-14T14:29:23.811Z"
   },
   {
    "duration": -195,
    "start_time": "2021-08-14T14:29:23.817Z"
   },
   {
    "duration": -197,
    "start_time": "2021-08-14T14:29:23.820Z"
   },
   {
    "duration": -198,
    "start_time": "2021-08-14T14:29:23.822Z"
   },
   {
    "duration": -201,
    "start_time": "2021-08-14T14:29:23.825Z"
   },
   {
    "duration": -202,
    "start_time": "2021-08-14T14:29:23.827Z"
   },
   {
    "duration": -214,
    "start_time": "2021-08-14T14:29:23.840Z"
   },
   {
    "duration": -216,
    "start_time": "2021-08-14T14:29:23.842Z"
   },
   {
    "duration": -217,
    "start_time": "2021-08-14T14:29:23.844Z"
   },
   {
    "duration": -217,
    "start_time": "2021-08-14T14:29:23.845Z"
   },
   {
    "duration": 41,
    "start_time": "2021-08-14T14:31:17.637Z"
   },
   {
    "duration": 1468,
    "start_time": "2021-08-14T14:31:35.093Z"
   },
   {
    "duration": 93,
    "start_time": "2021-08-14T14:31:36.563Z"
   },
   {
    "duration": 67,
    "start_time": "2021-08-14T14:31:36.658Z"
   },
   {
    "duration": 57,
    "start_time": "2021-08-14T14:31:36.727Z"
   },
   {
    "duration": 8,
    "start_time": "2021-08-14T14:31:36.785Z"
   },
   {
    "duration": 12,
    "start_time": "2021-08-14T14:31:36.794Z"
   },
   {
    "duration": 47,
    "start_time": "2021-08-14T14:31:36.807Z"
   },
   {
    "duration": 6,
    "start_time": "2021-08-14T14:31:36.856Z"
   },
   {
    "duration": 4,
    "start_time": "2021-08-14T14:31:36.864Z"
   },
   {
    "duration": 12,
    "start_time": "2021-08-14T14:31:36.869Z"
   },
   {
    "duration": 36,
    "start_time": "2021-08-14T14:31:36.883Z"
   },
   {
    "duration": 25,
    "start_time": "2021-08-14T14:31:36.921Z"
   },
   {
    "duration": 10,
    "start_time": "2021-08-14T14:31:36.947Z"
   },
   {
    "duration": 9,
    "start_time": "2021-08-14T14:31:36.959Z"
   },
   {
    "duration": 11,
    "start_time": "2021-08-14T14:31:36.970Z"
   },
   {
    "duration": 70,
    "start_time": "2021-08-14T14:31:36.982Z"
   },
   {
    "duration": 601,
    "start_time": "2021-08-14T14:31:37.053Z"
   },
   {
    "duration": 12,
    "start_time": "2021-08-14T14:31:37.655Z"
   },
   {
    "duration": 39,
    "start_time": "2021-08-14T14:31:37.669Z"
   },
   {
    "duration": 31,
    "start_time": "2021-08-14T14:31:37.710Z"
   },
   {
    "duration": 6857,
    "start_time": "2021-08-14T14:31:37.742Z"
   },
   {
    "duration": -170,
    "start_time": "2021-08-14T14:31:44.771Z"
   },
   {
    "duration": -175,
    "start_time": "2021-08-14T14:31:44.777Z"
   },
   {
    "duration": -178,
    "start_time": "2021-08-14T14:31:44.781Z"
   },
   {
    "duration": -182,
    "start_time": "2021-08-14T14:31:44.786Z"
   },
   {
    "duration": -189,
    "start_time": "2021-08-14T14:31:44.794Z"
   },
   {
    "duration": -191,
    "start_time": "2021-08-14T14:31:44.797Z"
   },
   {
    "duration": -192,
    "start_time": "2021-08-14T14:31:44.799Z"
   },
   {
    "duration": -197,
    "start_time": "2021-08-14T14:31:44.805Z"
   },
   {
    "duration": -203,
    "start_time": "2021-08-14T14:31:44.812Z"
   },
   {
    "duration": -205,
    "start_time": "2021-08-14T14:31:44.815Z"
   },
   {
    "duration": 2001,
    "start_time": "2021-08-15T08:48:51.194Z"
   },
   {
    "duration": 137,
    "start_time": "2021-08-15T08:48:53.199Z"
   },
   {
    "duration": 120,
    "start_time": "2021-08-15T08:48:53.340Z"
   },
   {
    "duration": 87,
    "start_time": "2021-08-15T08:48:53.463Z"
   },
   {
    "duration": 13,
    "start_time": "2021-08-15T08:48:53.553Z"
   },
   {
    "duration": 22,
    "start_time": "2021-08-15T08:48:53.589Z"
   },
   {
    "duration": 93,
    "start_time": "2021-08-15T08:48:53.615Z"
   },
   {
    "duration": 12,
    "start_time": "2021-08-15T08:48:53.712Z"
   },
   {
    "duration": 7,
    "start_time": "2021-08-15T08:48:53.727Z"
   },
   {
    "duration": 19,
    "start_time": "2021-08-15T08:48:53.737Z"
   },
   {
    "duration": 82,
    "start_time": "2021-08-15T08:48:53.787Z"
   },
   {
    "duration": 16,
    "start_time": "2021-08-15T08:48:53.883Z"
   },
   {
    "duration": 17,
    "start_time": "2021-08-15T08:48:53.901Z"
   },
   {
    "duration": 16,
    "start_time": "2021-08-15T08:48:53.920Z"
   },
   {
    "duration": 65,
    "start_time": "2021-08-15T08:48:53.938Z"
   },
   {
    "duration": 84,
    "start_time": "2021-08-15T08:48:54.007Z"
   },
   {
    "duration": 1174,
    "start_time": "2021-08-15T08:48:54.095Z"
   },
   {
    "duration": 26,
    "start_time": "2021-08-15T08:48:55.273Z"
   },
   {
    "duration": 102,
    "start_time": "2021-08-15T08:48:55.302Z"
   },
   {
    "duration": 15,
    "start_time": "2021-08-15T08:48:55.407Z"
   },
   {
    "duration": 89,
    "start_time": "2021-08-15T08:48:55.425Z"
   },
   {
    "duration": 6881,
    "start_time": "2021-08-15T08:48:55.517Z"
   },
   {
    "duration": -852,
    "start_time": "2021-08-15T08:49:03.253Z"
   },
   {
    "duration": -850,
    "start_time": "2021-08-15T08:49:03.254Z"
   },
   {
    "duration": 320,
    "start_time": "2021-08-15T08:49:07.252Z"
   },
   {
    "duration": 35,
    "start_time": "2021-08-15T08:49:14.444Z"
   },
   {
    "duration": 10,
    "start_time": "2021-08-15T08:52:14.777Z"
   },
   {
    "duration": 6,
    "start_time": "2021-08-15T08:53:09.660Z"
   },
   {
    "duration": 1884,
    "start_time": "2021-08-15T08:57:02.248Z"
   },
   {
    "duration": 1965,
    "start_time": "2021-08-15T08:57:43.371Z"
   },
   {
    "duration": 92,
    "start_time": "2021-08-15T08:57:45.339Z"
   },
   {
    "duration": 122,
    "start_time": "2021-08-15T08:57:45.435Z"
   },
   {
    "duration": 92,
    "start_time": "2021-08-15T08:57:45.560Z"
   },
   {
    "duration": 16,
    "start_time": "2021-08-15T08:57:45.655Z"
   },
   {
    "duration": 24,
    "start_time": "2021-08-15T08:57:45.683Z"
   },
   {
    "duration": 297,
    "start_time": "2021-08-15T08:57:45.710Z"
   },
   {
    "duration": 166,
    "start_time": "2021-08-15T08:57:46.010Z"
   },
   {
    "duration": 15,
    "start_time": "2021-08-15T08:57:46.179Z"
   },
   {
    "duration": 92,
    "start_time": "2021-08-15T08:57:46.197Z"
   },
   {
    "duration": 145,
    "start_time": "2021-08-15T08:57:46.293Z"
   },
   {
    "duration": 92,
    "start_time": "2021-08-15T08:57:46.440Z"
   },
   {
    "duration": 404,
    "start_time": "2021-08-15T08:57:46.534Z"
   },
   {
    "duration": -827,
    "start_time": "2021-08-15T08:57:47.768Z"
   },
   {
    "duration": -831,
    "start_time": "2021-08-15T08:57:47.773Z"
   },
   {
    "duration": -833,
    "start_time": "2021-08-15T08:57:47.776Z"
   },
   {
    "duration": -834,
    "start_time": "2021-08-15T08:57:47.778Z"
   },
   {
    "duration": -833,
    "start_time": "2021-08-15T08:57:47.779Z"
   },
   {
    "duration": -836,
    "start_time": "2021-08-15T08:57:47.782Z"
   },
   {
    "duration": -836,
    "start_time": "2021-08-15T08:57:47.783Z"
   },
   {
    "duration": -837,
    "start_time": "2021-08-15T08:57:47.785Z"
   },
   {
    "duration": -837,
    "start_time": "2021-08-15T08:57:47.786Z"
   },
   {
    "duration": -836,
    "start_time": "2021-08-15T08:57:47.787Z"
   },
   {
    "duration": -837,
    "start_time": "2021-08-15T08:57:47.789Z"
   },
   {
    "duration": -837,
    "start_time": "2021-08-15T08:57:47.790Z"
   },
   {
    "duration": 53,
    "start_time": "2021-08-15T08:58:24.962Z"
   },
   {
    "duration": 124,
    "start_time": "2021-08-15T08:59:11.987Z"
   },
   {
    "duration": 6747,
    "start_time": "2021-08-15T08:59:16.581Z"
   },
   {
    "duration": 2209,
    "start_time": "2021-08-15T08:59:46.971Z"
   },
   {
    "duration": 164,
    "start_time": "2021-08-15T08:59:49.183Z"
   },
   {
    "duration": 120,
    "start_time": "2021-08-15T08:59:49.351Z"
   },
   {
    "duration": 93,
    "start_time": "2021-08-15T08:59:49.474Z"
   },
   {
    "duration": 26,
    "start_time": "2021-08-15T08:59:49.569Z"
   },
   {
    "duration": 21,
    "start_time": "2021-08-15T08:59:49.598Z"
   },
   {
    "duration": 88,
    "start_time": "2021-08-15T08:59:49.622Z"
   },
   {
    "duration": 11,
    "start_time": "2021-08-15T08:59:49.715Z"
   },
   {
    "duration": 6,
    "start_time": "2021-08-15T08:59:49.729Z"
   },
   {
    "duration": 11,
    "start_time": "2021-08-15T08:59:49.738Z"
   },
   {
    "duration": 84,
    "start_time": "2021-08-15T08:59:49.783Z"
   },
   {
    "duration": 28,
    "start_time": "2021-08-15T08:59:49.869Z"
   },
   {
    "duration": 19,
    "start_time": "2021-08-15T08:59:49.906Z"
   },
   {
    "duration": 15,
    "start_time": "2021-08-15T08:59:49.928Z"
   },
   {
    "duration": 37,
    "start_time": "2021-08-15T08:59:49.946Z"
   },
   {
    "duration": 116,
    "start_time": "2021-08-15T08:59:49.987Z"
   },
   {
    "duration": 1213,
    "start_time": "2021-08-15T08:59:50.107Z"
   },
   {
    "duration": 20,
    "start_time": "2021-08-15T08:59:51.324Z"
   },
   {
    "duration": 96,
    "start_time": "2021-08-15T08:59:51.346Z"
   },
   {
    "duration": 12,
    "start_time": "2021-08-15T08:59:51.444Z"
   },
   {
    "duration": 74,
    "start_time": "2021-08-15T08:59:51.458Z"
   },
   {
    "duration": 7,
    "start_time": "2021-08-15T08:59:51.535Z"
   },
   {
    "duration": 8,
    "start_time": "2021-08-15T08:59:51.546Z"
   },
   {
    "duration": 4,
    "start_time": "2021-08-15T08:59:51.557Z"
   },
   {
    "duration": 19,
    "start_time": "2021-08-15T08:59:51.564Z"
   },
   {
    "duration": 2322,
    "start_time": "2021-08-15T09:00:17.271Z"
   },
   {
    "duration": 185,
    "start_time": "2021-08-15T09:00:19.602Z"
   },
   {
    "duration": 153,
    "start_time": "2021-08-15T09:00:19.790Z"
   },
   {
    "duration": 104,
    "start_time": "2021-08-15T09:00:19.946Z"
   },
   {
    "duration": 13,
    "start_time": "2021-08-15T09:00:20.053Z"
   },
   {
    "duration": 28,
    "start_time": "2021-08-15T09:00:20.071Z"
   },
   {
    "duration": 82,
    "start_time": "2021-08-15T09:00:20.102Z"
   },
   {
    "duration": 12,
    "start_time": "2021-08-15T09:00:20.186Z"
   },
   {
    "duration": 7,
    "start_time": "2021-08-15T09:00:20.201Z"
   },
   {
    "duration": 32,
    "start_time": "2021-08-15T09:00:20.211Z"
   },
   {
    "duration": 108,
    "start_time": "2021-08-15T09:00:20.246Z"
   },
   {
    "duration": 11,
    "start_time": "2021-08-15T09:00:20.357Z"
   },
   {
    "duration": 22,
    "start_time": "2021-08-15T09:00:20.389Z"
   },
   {
    "duration": 22,
    "start_time": "2021-08-15T09:00:20.414Z"
   },
   {
    "duration": 25,
    "start_time": "2021-08-15T09:00:20.438Z"
   },
   {
    "duration": 101,
    "start_time": "2021-08-15T09:00:20.483Z"
   },
   {
    "duration": 1457,
    "start_time": "2021-08-15T09:00:20.587Z"
   },
   {
    "duration": 19,
    "start_time": "2021-08-15T09:00:22.049Z"
   },
   {
    "duration": 112,
    "start_time": "2021-08-15T09:00:22.070Z"
   },
   {
    "duration": 16,
    "start_time": "2021-08-15T09:00:22.184Z"
   },
   {
    "duration": 45,
    "start_time": "2021-08-15T09:00:22.203Z"
   },
   {
    "duration": 15,
    "start_time": "2021-08-15T09:00:22.289Z"
   },
   {
    "duration": 8,
    "start_time": "2021-08-15T09:00:22.307Z"
   },
   {
    "duration": 4,
    "start_time": "2021-08-15T09:00:22.318Z"
   },
   {
    "duration": 4,
    "start_time": "2021-08-15T09:00:22.327Z"
   },
   {
    "duration": 2417,
    "start_time": "2021-08-15T09:01:43.613Z"
   },
   {
    "duration": 190,
    "start_time": "2021-08-15T09:01:46.032Z"
   },
   {
    "duration": 125,
    "start_time": "2021-08-15T09:01:46.226Z"
   },
   {
    "duration": 94,
    "start_time": "2021-08-15T09:01:46.355Z"
   },
   {
    "duration": 13,
    "start_time": "2021-08-15T09:01:46.452Z"
   },
   {
    "duration": 28,
    "start_time": "2021-08-15T09:01:46.486Z"
   },
   {
    "duration": 94,
    "start_time": "2021-08-15T09:01:46.517Z"
   },
   {
    "duration": 21,
    "start_time": "2021-08-15T09:01:46.615Z"
   },
   {
    "duration": 7111,
    "start_time": "2021-08-15T09:01:46.641Z"
   },
   {
    "duration": -821,
    "start_time": "2021-08-15T09:01:54.576Z"
   },
   {
    "duration": -822,
    "start_time": "2021-08-15T09:01:54.579Z"
   },
   {
    "duration": -821,
    "start_time": "2021-08-15T09:01:54.580Z"
   },
   {
    "duration": -821,
    "start_time": "2021-08-15T09:01:54.582Z"
   },
   {
    "duration": -821,
    "start_time": "2021-08-15T09:01:54.584Z"
   },
   {
    "duration": -820,
    "start_time": "2021-08-15T09:01:54.585Z"
   },
   {
    "duration": -821,
    "start_time": "2021-08-15T09:01:54.587Z"
   },
   {
    "duration": -820,
    "start_time": "2021-08-15T09:01:54.588Z"
   },
   {
    "duration": -821,
    "start_time": "2021-08-15T09:01:54.591Z"
   },
   {
    "duration": -823,
    "start_time": "2021-08-15T09:01:54.594Z"
   },
   {
    "duration": -823,
    "start_time": "2021-08-15T09:01:54.596Z"
   },
   {
    "duration": -823,
    "start_time": "2021-08-15T09:01:54.597Z"
   },
   {
    "duration": -823,
    "start_time": "2021-08-15T09:01:54.599Z"
   },
   {
    "duration": -822,
    "start_time": "2021-08-15T09:01:54.600Z"
   },
   {
    "duration": -889,
    "start_time": "2021-08-15T09:01:54.669Z"
   },
   {
    "duration": -885,
    "start_time": "2021-08-15T09:01:54.672Z"
   },
   {
    "duration": 7120,
    "start_time": "2021-08-15T09:02:51.992Z"
   },
   {
    "duration": 2323,
    "start_time": "2021-08-15T09:03:11.472Z"
   },
   {
    "duration": 203,
    "start_time": "2021-08-15T09:03:13.799Z"
   },
   {
    "duration": 140,
    "start_time": "2021-08-15T09:03:14.008Z"
   },
   {
    "duration": 107,
    "start_time": "2021-08-15T09:03:14.152Z"
   },
   {
    "duration": 15,
    "start_time": "2021-08-15T09:03:14.261Z"
   },
   {
    "duration": 28,
    "start_time": "2021-08-15T09:03:14.279Z"
   },
   {
    "duration": 77,
    "start_time": "2021-08-15T09:03:14.309Z"
   },
   {
    "duration": 13,
    "start_time": "2021-08-15T09:03:14.391Z"
   },
   {
    "duration": 7331,
    "start_time": "2021-08-15T09:03:14.408Z"
   },
   {
    "duration": -893,
    "start_time": "2021-08-15T09:03:22.634Z"
   },
   {
    "duration": -896,
    "start_time": "2021-08-15T09:03:22.639Z"
   },
   {
    "duration": -898,
    "start_time": "2021-08-15T09:03:22.642Z"
   },
   {
    "duration": -899,
    "start_time": "2021-08-15T09:03:22.644Z"
   },
   {
    "duration": -898,
    "start_time": "2021-08-15T09:03:22.645Z"
   },
   {
    "duration": -899,
    "start_time": "2021-08-15T09:03:22.647Z"
   },
   {
    "duration": -899,
    "start_time": "2021-08-15T09:03:22.648Z"
   },
   {
    "duration": -900,
    "start_time": "2021-08-15T09:03:22.650Z"
   },
   {
    "duration": -900,
    "start_time": "2021-08-15T09:03:22.652Z"
   },
   {
    "duration": -900,
    "start_time": "2021-08-15T09:03:22.653Z"
   },
   {
    "duration": -900,
    "start_time": "2021-08-15T09:03:22.655Z"
   },
   {
    "duration": -907,
    "start_time": "2021-08-15T09:03:22.663Z"
   },
   {
    "duration": -908,
    "start_time": "2021-08-15T09:03:22.665Z"
   },
   {
    "duration": -907,
    "start_time": "2021-08-15T09:03:22.666Z"
   },
   {
    "duration": -908,
    "start_time": "2021-08-15T09:03:22.668Z"
   },
   {
    "duration": -908,
    "start_time": "2021-08-15T09:03:22.669Z"
   },
   {
    "duration": 2188,
    "start_time": "2021-08-15T09:05:42.404Z"
   },
   {
    "duration": 222,
    "start_time": "2021-08-15T09:05:44.596Z"
   },
   {
    "duration": 116,
    "start_time": "2021-08-15T09:05:44.822Z"
   },
   {
    "duration": 104,
    "start_time": "2021-08-15T09:05:44.941Z"
   },
   {
    "duration": 13,
    "start_time": "2021-08-15T09:05:45.047Z"
   },
   {
    "duration": 46,
    "start_time": "2021-08-15T09:05:45.062Z"
   },
   {
    "duration": 60,
    "start_time": "2021-08-15T09:05:45.111Z"
   },
   {
    "duration": 16,
    "start_time": "2021-08-15T09:05:45.175Z"
   },
   {
    "duration": 6479,
    "start_time": "2021-08-15T09:05:45.194Z"
   },
   {
    "duration": -873,
    "start_time": "2021-08-15T09:05:52.549Z"
   },
   {
    "duration": -877,
    "start_time": "2021-08-15T09:05:52.554Z"
   },
   {
    "duration": -879,
    "start_time": "2021-08-15T09:05:52.557Z"
   },
   {
    "duration": -879,
    "start_time": "2021-08-15T09:05:52.558Z"
   },
   {
    "duration": -879,
    "start_time": "2021-08-15T09:05:52.560Z"
   },
   {
    "duration": -878,
    "start_time": "2021-08-15T09:05:52.561Z"
   },
   {
    "duration": -878,
    "start_time": "2021-08-15T09:05:52.563Z"
   },
   {
    "duration": -874,
    "start_time": "2021-08-15T09:05:52.564Z"
   },
   {
    "duration": -873,
    "start_time": "2021-08-15T09:05:52.566Z"
   },
   {
    "duration": -879,
    "start_time": "2021-08-15T09:05:52.574Z"
   },
   {
    "duration": -879,
    "start_time": "2021-08-15T09:05:52.576Z"
   },
   {
    "duration": -878,
    "start_time": "2021-08-15T09:05:52.577Z"
   },
   {
    "duration": -878,
    "start_time": "2021-08-15T09:05:52.579Z"
   },
   {
    "duration": -876,
    "start_time": "2021-08-15T09:05:52.580Z"
   },
   {
    "duration": -877,
    "start_time": "2021-08-15T09:05:52.583Z"
   },
   {
    "duration": -878,
    "start_time": "2021-08-15T09:05:52.585Z"
   },
   {
    "duration": 1978,
    "start_time": "2021-08-15T09:06:37.225Z"
   },
   {
    "duration": 724,
    "start_time": "2021-08-15T09:06:39.206Z"
   },
   {
    "duration": -744,
    "start_time": "2021-08-15T09:06:40.679Z"
   },
   {
    "duration": -745,
    "start_time": "2021-08-15T09:06:40.682Z"
   },
   {
    "duration": -757,
    "start_time": "2021-08-15T09:06:40.696Z"
   },
   {
    "duration": -757,
    "start_time": "2021-08-15T09:06:40.698Z"
   },
   {
    "duration": -781,
    "start_time": "2021-08-15T09:06:40.724Z"
   },
   {
    "duration": -783,
    "start_time": "2021-08-15T09:06:40.728Z"
   },
   {
    "duration": -782,
    "start_time": "2021-08-15T09:06:40.729Z"
   },
   {
    "duration": -782,
    "start_time": "2021-08-15T09:06:40.731Z"
   },
   {
    "duration": -785,
    "start_time": "2021-08-15T09:06:40.736Z"
   },
   {
    "duration": -791,
    "start_time": "2021-08-15T09:06:40.744Z"
   },
   {
    "duration": -797,
    "start_time": "2021-08-15T09:06:40.752Z"
   },
   {
    "duration": -803,
    "start_time": "2021-08-15T09:06:40.760Z"
   },
   {
    "duration": -804,
    "start_time": "2021-08-15T09:06:40.763Z"
   },
   {
    "duration": -804,
    "start_time": "2021-08-15T09:06:40.765Z"
   },
   {
    "duration": -803,
    "start_time": "2021-08-15T09:06:40.766Z"
   },
   {
    "duration": -812,
    "start_time": "2021-08-15T09:06:40.776Z"
   },
   {
    "duration": -811,
    "start_time": "2021-08-15T09:06:40.777Z"
   },
   {
    "duration": -811,
    "start_time": "2021-08-15T09:06:40.779Z"
   },
   {
    "duration": -810,
    "start_time": "2021-08-15T09:06:40.780Z"
   },
   {
    "duration": -810,
    "start_time": "2021-08-15T09:06:40.782Z"
   },
   {
    "duration": -811,
    "start_time": "2021-08-15T09:06:40.785Z"
   },
   {
    "duration": -807,
    "start_time": "2021-08-15T09:06:40.792Z"
   },
   {
    "duration": -809,
    "start_time": "2021-08-15T09:06:40.796Z"
   },
   {
    "duration": 2064,
    "start_time": "2021-08-15T09:09:03.335Z"
   },
   {
    "duration": 177,
    "start_time": "2021-08-15T09:09:05.402Z"
   },
   {
    "duration": 133,
    "start_time": "2021-08-15T09:09:05.583Z"
   },
   {
    "duration": 87,
    "start_time": "2021-08-15T09:09:05.719Z"
   },
   {
    "duration": 13,
    "start_time": "2021-08-15T09:09:05.811Z"
   },
   {
    "duration": 23,
    "start_time": "2021-08-15T09:09:05.826Z"
   },
   {
    "duration": 78,
    "start_time": "2021-08-15T09:09:05.852Z"
   },
   {
    "duration": 9,
    "start_time": "2021-08-15T09:09:05.933Z"
   },
   {
    "duration": 6968,
    "start_time": "2021-08-15T09:09:05.945Z"
   },
   {
    "duration": -847,
    "start_time": "2021-08-15T09:09:13.764Z"
   },
   {
    "duration": -847,
    "start_time": "2021-08-15T09:09:13.766Z"
   },
   {
    "duration": -847,
    "start_time": "2021-08-15T09:09:13.768Z"
   },
   {
    "duration": -846,
    "start_time": "2021-08-15T09:09:13.769Z"
   },
   {
    "duration": -846,
    "start_time": "2021-08-15T09:09:13.771Z"
   },
   {
    "duration": -845,
    "start_time": "2021-08-15T09:09:13.773Z"
   },
   {
    "duration": -844,
    "start_time": "2021-08-15T09:09:13.774Z"
   },
   {
    "duration": -844,
    "start_time": "2021-08-15T09:09:13.776Z"
   },
   {
    "duration": -843,
    "start_time": "2021-08-15T09:09:13.777Z"
   },
   {
    "duration": -851,
    "start_time": "2021-08-15T09:09:13.788Z"
   },
   {
    "duration": -851,
    "start_time": "2021-08-15T09:09:13.789Z"
   },
   {
    "duration": -851,
    "start_time": "2021-08-15T09:09:13.791Z"
   },
   {
    "duration": -853,
    "start_time": "2021-08-15T09:09:13.794Z"
   },
   {
    "duration": -853,
    "start_time": "2021-08-15T09:09:13.795Z"
   },
   {
    "duration": -853,
    "start_time": "2021-08-15T09:09:13.797Z"
   },
   {
    "duration": -853,
    "start_time": "2021-08-15T09:09:13.798Z"
   },
   {
    "duration": 1960,
    "start_time": "2021-08-15T09:12:09.234Z"
   },
   {
    "duration": 171,
    "start_time": "2021-08-15T09:12:11.196Z"
   },
   {
    "duration": 118,
    "start_time": "2021-08-15T09:12:11.370Z"
   },
   {
    "duration": 77,
    "start_time": "2021-08-15T09:12:11.491Z"
   },
   {
    "duration": 23,
    "start_time": "2021-08-15T09:12:11.570Z"
   },
   {
    "duration": 30,
    "start_time": "2021-08-15T09:12:11.596Z"
   },
   {
    "duration": 83,
    "start_time": "2021-08-15T09:12:11.628Z"
   },
   {
    "duration": 8,
    "start_time": "2021-08-15T09:12:11.715Z"
   },
   {
    "duration": 7549,
    "start_time": "2021-08-15T09:12:11.727Z"
   },
   {
    "duration": -861,
    "start_time": "2021-08-15T09:12:20.141Z"
   },
   {
    "duration": -861,
    "start_time": "2021-08-15T09:12:20.143Z"
   },
   {
    "duration": -860,
    "start_time": "2021-08-15T09:12:20.144Z"
   },
   {
    "duration": -860,
    "start_time": "2021-08-15T09:12:20.146Z"
   },
   {
    "duration": -860,
    "start_time": "2021-08-15T09:12:20.148Z"
   },
   {
    "duration": -858,
    "start_time": "2021-08-15T09:12:20.149Z"
   },
   {
    "duration": -858,
    "start_time": "2021-08-15T09:12:20.151Z"
   },
   {
    "duration": -858,
    "start_time": "2021-08-15T09:12:20.153Z"
   },
   {
    "duration": -868,
    "start_time": "2021-08-15T09:12:20.165Z"
   },
   {
    "duration": -871,
    "start_time": "2021-08-15T09:12:20.170Z"
   },
   {
    "duration": -870,
    "start_time": "2021-08-15T09:12:20.171Z"
   },
   {
    "duration": -870,
    "start_time": "2021-08-15T09:12:20.173Z"
   },
   {
    "duration": -868,
    "start_time": "2021-08-15T09:12:20.174Z"
   },
   {
    "duration": -868,
    "start_time": "2021-08-15T09:12:20.176Z"
   },
   {
    "duration": -867,
    "start_time": "2021-08-15T09:12:20.177Z"
   },
   {
    "duration": -917,
    "start_time": "2021-08-15T09:12:20.230Z"
   },
   {
    "duration": 1979,
    "start_time": "2021-08-15T09:12:30.784Z"
   },
   {
    "duration": 173,
    "start_time": "2021-08-15T09:12:32.766Z"
   },
   {
    "duration": 108,
    "start_time": "2021-08-15T09:12:32.942Z"
   },
   {
    "duration": 85,
    "start_time": "2021-08-15T09:12:33.053Z"
   },
   {
    "duration": 12,
    "start_time": "2021-08-15T09:12:33.141Z"
   },
   {
    "duration": 30,
    "start_time": "2021-08-15T09:12:33.155Z"
   },
   {
    "duration": 58,
    "start_time": "2021-08-15T09:12:33.188Z"
   },
   {
    "duration": 9,
    "start_time": "2021-08-15T09:12:33.249Z"
   },
   {
    "duration": 6351,
    "start_time": "2021-08-15T09:12:33.283Z"
   },
   {
    "duration": -908,
    "start_time": "2021-08-15T09:12:40.544Z"
   },
   {
    "duration": -907,
    "start_time": "2021-08-15T09:12:40.545Z"
   },
   {
    "duration": -907,
    "start_time": "2021-08-15T09:12:40.546Z"
   },
   {
    "duration": -907,
    "start_time": "2021-08-15T09:12:40.547Z"
   },
   {
    "duration": -908,
    "start_time": "2021-08-15T09:12:40.549Z"
   },
   {
    "duration": -908,
    "start_time": "2021-08-15T09:12:40.550Z"
   },
   {
    "duration": -908,
    "start_time": "2021-08-15T09:12:40.551Z"
   },
   {
    "duration": -909,
    "start_time": "2021-08-15T09:12:40.553Z"
   },
   {
    "duration": -909,
    "start_time": "2021-08-15T09:12:40.554Z"
   },
   {
    "duration": -915,
    "start_time": "2021-08-15T09:12:40.561Z"
   },
   {
    "duration": -917,
    "start_time": "2021-08-15T09:12:40.564Z"
   },
   {
    "duration": -1061,
    "start_time": "2021-08-15T09:12:40.710Z"
   },
   {
    "duration": -1065,
    "start_time": "2021-08-15T09:12:40.716Z"
   },
   {
    "duration": -1094,
    "start_time": "2021-08-15T09:12:40.746Z"
   },
   {
    "duration": -1099,
    "start_time": "2021-08-15T09:12:40.752Z"
   },
   {
    "duration": -1100,
    "start_time": "2021-08-15T09:12:40.754Z"
   },
   {
    "duration": 1907,
    "start_time": "2021-08-15T09:21:26.537Z"
   },
   {
    "duration": 158,
    "start_time": "2021-08-15T09:21:28.447Z"
   },
   {
    "duration": 112,
    "start_time": "2021-08-15T09:21:28.607Z"
   },
   {
    "duration": 83,
    "start_time": "2021-08-15T09:21:28.722Z"
   },
   {
    "duration": 12,
    "start_time": "2021-08-15T09:21:28.808Z"
   },
   {
    "duration": 18,
    "start_time": "2021-08-15T09:21:28.822Z"
   },
   {
    "duration": 82,
    "start_time": "2021-08-15T09:21:28.842Z"
   },
   {
    "duration": 9,
    "start_time": "2021-08-15T09:21:28.928Z"
   },
   {
    "duration": 7,
    "start_time": "2021-08-15T09:21:28.940Z"
   },
   {
    "duration": 37,
    "start_time": "2021-08-15T09:21:28.949Z"
   },
   {
    "duration": 67,
    "start_time": "2021-08-15T09:21:28.988Z"
   },
   {
    "duration": 27,
    "start_time": "2021-08-15T09:21:29.058Z"
   },
   {
    "duration": 7643,
    "start_time": "2021-08-15T09:21:29.088Z"
   },
   {
    "duration": -981,
    "start_time": "2021-08-15T09:21:37.715Z"
   },
   {
    "duration": -982,
    "start_time": "2021-08-15T09:21:37.717Z"
   },
   {
    "duration": -982,
    "start_time": "2021-08-15T09:21:37.719Z"
   },
   {
    "duration": -987,
    "start_time": "2021-08-15T09:21:37.725Z"
   },
   {
    "duration": -987,
    "start_time": "2021-08-15T09:21:37.727Z"
   },
   {
    "duration": -987,
    "start_time": "2021-08-15T09:21:37.729Z"
   },
   {
    "duration": -990,
    "start_time": "2021-08-15T09:21:37.733Z"
   },
   {
    "duration": -992,
    "start_time": "2021-08-15T09:21:37.737Z"
   },
   {
    "duration": -998,
    "start_time": "2021-08-15T09:21:37.744Z"
   },
   {
    "duration": -1001,
    "start_time": "2021-08-15T09:21:37.749Z"
   },
   {
    "duration": -1004,
    "start_time": "2021-08-15T09:21:37.753Z"
   },
   {
    "duration": -1007,
    "start_time": "2021-08-15T09:21:37.758Z"
   },
   {
    "duration": 2529,
    "start_time": "2021-08-15T09:23:15.330Z"
   },
   {
    "duration": 174,
    "start_time": "2021-08-15T09:23:17.862Z"
   },
   {
    "duration": 163,
    "start_time": "2021-08-15T09:23:18.040Z"
   },
   {
    "duration": 99,
    "start_time": "2021-08-15T09:23:18.207Z"
   },
   {
    "duration": 13,
    "start_time": "2021-08-15T09:23:18.309Z"
   },
   {
    "duration": 20,
    "start_time": "2021-08-15T09:23:18.325Z"
   },
   {
    "duration": 72,
    "start_time": "2021-08-15T09:23:18.348Z"
   },
   {
    "duration": 9,
    "start_time": "2021-08-15T09:23:18.424Z"
   },
   {
    "duration": 8,
    "start_time": "2021-08-15T09:23:18.436Z"
   },
   {
    "duration": 40,
    "start_time": "2021-08-15T09:23:18.447Z"
   },
   {
    "duration": 94,
    "start_time": "2021-08-15T09:23:18.490Z"
   },
   {
    "duration": 11,
    "start_time": "2021-08-15T09:23:18.587Z"
   },
   {
    "duration": 17,
    "start_time": "2021-08-15T09:23:18.601Z"
   },
   {
    "duration": 17,
    "start_time": "2021-08-15T09:23:18.620Z"
   },
   {
    "duration": 61,
    "start_time": "2021-08-15T09:23:18.639Z"
   },
   {
    "duration": 94,
    "start_time": "2021-08-15T09:23:18.702Z"
   },
   {
    "duration": 1902,
    "start_time": "2021-08-15T09:23:18.798Z"
   },
   {
    "duration": 21,
    "start_time": "2021-08-15T09:23:20.703Z"
   },
   {
    "duration": 101,
    "start_time": "2021-08-15T09:23:20.726Z"
   },
   {
    "duration": 12,
    "start_time": "2021-08-15T09:23:20.830Z"
   },
   {
    "duration": 54,
    "start_time": "2021-08-15T09:23:20.844Z"
   },
   {
    "duration": 6,
    "start_time": "2021-08-15T09:23:20.901Z"
   },
   {
    "duration": 9,
    "start_time": "2021-08-15T09:23:20.913Z"
   },
   {
    "duration": 5,
    "start_time": "2021-08-15T09:23:20.925Z"
   },
   {
    "duration": 9,
    "start_time": "2021-08-15T09:23:20.934Z"
   },
   {
    "duration": 2446,
    "start_time": "2021-08-15T09:25:39.662Z"
   },
   {
    "duration": 174,
    "start_time": "2021-08-15T09:25:42.111Z"
   },
   {
    "duration": 145,
    "start_time": "2021-08-15T09:25:42.289Z"
   },
   {
    "duration": 124,
    "start_time": "2021-08-15T09:25:42.438Z"
   },
   {
    "duration": 19,
    "start_time": "2021-08-15T09:25:42.565Z"
   },
   {
    "duration": 27,
    "start_time": "2021-08-15T09:25:42.587Z"
   },
   {
    "duration": 72,
    "start_time": "2021-08-15T09:25:42.616Z"
   },
   {
    "duration": 19,
    "start_time": "2021-08-15T09:25:42.694Z"
   },
   {
    "duration": 9,
    "start_time": "2021-08-15T09:25:42.717Z"
   },
   {
    "duration": 30,
    "start_time": "2021-08-15T09:25:42.729Z"
   },
   {
    "duration": 100,
    "start_time": "2021-08-15T09:25:42.762Z"
   },
   {
    "duration": 23,
    "start_time": "2021-08-15T09:25:42.864Z"
   },
   {
    "duration": 20,
    "start_time": "2021-08-15T09:25:42.890Z"
   },
   {
    "duration": 18,
    "start_time": "2021-08-15T09:25:42.912Z"
   },
   {
    "duration": 65,
    "start_time": "2021-08-15T09:25:42.933Z"
   },
   {
    "duration": 86,
    "start_time": "2021-08-15T09:25:43.000Z"
   },
   {
    "duration": 1457,
    "start_time": "2021-08-15T09:25:43.088Z"
   },
   {
    "duration": 42,
    "start_time": "2021-08-15T09:25:44.547Z"
   },
   {
    "duration": 78,
    "start_time": "2021-08-15T09:25:44.591Z"
   },
   {
    "duration": 21,
    "start_time": "2021-08-15T09:25:44.683Z"
   },
   {
    "duration": 37,
    "start_time": "2021-08-15T09:25:44.707Z"
   },
   {
    "duration": 35,
    "start_time": "2021-08-15T09:25:44.747Z"
   },
   {
    "duration": 12,
    "start_time": "2021-08-15T09:25:44.791Z"
   },
   {
    "duration": 4,
    "start_time": "2021-08-15T09:25:44.807Z"
   },
   {
    "duration": 11,
    "start_time": "2021-08-15T09:25:44.813Z"
   },
   {
    "duration": 5,
    "start_time": "2021-08-15T09:27:15.115Z"
   },
   {
    "duration": 5,
    "start_time": "2021-08-15T09:27:35.146Z"
   },
   {
    "duration": 5,
    "start_time": "2021-08-15T09:27:41.332Z"
   },
   {
    "duration": 6,
    "start_time": "2021-08-15T09:27:43.864Z"
   },
   {
    "duration": 5,
    "start_time": "2021-08-15T09:28:11.052Z"
   },
   {
    "duration": -958,
    "start_time": "2021-08-15T09:29:49.437Z"
   },
   {
    "duration": 1950,
    "start_time": "2021-08-15T09:29:51.111Z"
   },
   {
    "duration": 231,
    "start_time": "2021-08-15T09:29:53.065Z"
   },
   {
    "duration": 117,
    "start_time": "2021-08-15T09:29:53.300Z"
   },
   {
    "duration": 89,
    "start_time": "2021-08-15T09:29:53.419Z"
   },
   {
    "duration": 12,
    "start_time": "2021-08-15T09:29:53.511Z"
   },
   {
    "duration": 16,
    "start_time": "2021-08-15T09:29:53.525Z"
   },
   {
    "duration": 80,
    "start_time": "2021-08-15T09:29:53.544Z"
   },
   {
    "duration": 8,
    "start_time": "2021-08-15T09:29:53.628Z"
   },
   {
    "duration": 7,
    "start_time": "2021-08-15T09:29:53.639Z"
   },
   {
    "duration": 45,
    "start_time": "2021-08-15T09:29:53.649Z"
   },
   {
    "duration": 70,
    "start_time": "2021-08-15T09:29:53.697Z"
   },
   {
    "duration": 27,
    "start_time": "2021-08-15T09:29:53.770Z"
   },
   {
    "duration": 16,
    "start_time": "2021-08-15T09:29:53.800Z"
   },
   {
    "duration": 16,
    "start_time": "2021-08-15T09:29:53.818Z"
   },
   {
    "duration": 46,
    "start_time": "2021-08-15T09:29:53.837Z"
   },
   {
    "duration": 76,
    "start_time": "2021-08-15T09:29:53.891Z"
   },
   {
    "duration": 1430,
    "start_time": "2021-08-15T09:29:53.970Z"
   },
   {
    "duration": 33,
    "start_time": "2021-08-15T09:29:55.404Z"
   },
   {
    "duration": 109,
    "start_time": "2021-08-15T09:29:55.440Z"
   },
   {
    "duration": 11,
    "start_time": "2021-08-15T09:29:55.551Z"
   },
   {
    "duration": 23,
    "start_time": "2021-08-15T09:29:55.565Z"
   },
   {
    "duration": 7234,
    "start_time": "2021-08-15T09:29:55.591Z"
   },
   {
    "duration": -955,
    "start_time": "2021-08-15T09:30:03.783Z"
   },
   {
    "duration": -961,
    "start_time": "2021-08-15T09:30:03.790Z"
   },
   {
    "duration": -962,
    "start_time": "2021-08-15T09:30:03.793Z"
   },
   {
    "duration": -968,
    "start_time": "2021-08-15T09:30:03.800Z"
   },
   {
    "duration": 13,
    "start_time": "2021-08-15T09:30:34.047Z"
   },
   {
    "duration": 7,
    "start_time": "2021-08-15T09:30:53.445Z"
   },
   {
    "duration": 9,
    "start_time": "2021-08-15T09:31:02.887Z"
   },
   {
    "duration": 34,
    "start_time": "2021-08-15T10:33:05.329Z"
   },
   {
    "duration": 28,
    "start_time": "2021-08-15T10:33:11.759Z"
   },
   {
    "duration": 35,
    "start_time": "2021-08-15T10:33:18.279Z"
   },
   {
    "duration": 1875,
    "start_time": "2021-08-15T10:37:49.736Z"
   },
   {
    "duration": 171,
    "start_time": "2021-08-15T10:37:51.614Z"
   },
   {
    "duration": 109,
    "start_time": "2021-08-15T10:37:51.789Z"
   },
   {
    "duration": 88,
    "start_time": "2021-08-15T10:37:51.900Z"
   },
   {
    "duration": 14,
    "start_time": "2021-08-15T10:37:51.991Z"
   },
   {
    "duration": 15,
    "start_time": "2021-08-15T10:37:52.007Z"
   },
   {
    "duration": 86,
    "start_time": "2021-08-15T10:37:52.025Z"
   },
   {
    "duration": 9,
    "start_time": "2021-08-15T10:37:52.114Z"
   },
   {
    "duration": 6701,
    "start_time": "2021-08-15T10:37:52.126Z"
   },
   {
    "duration": -1028,
    "start_time": "2021-08-15T10:37:59.859Z"
   },
   {
    "duration": -1027,
    "start_time": "2021-08-15T10:37:59.861Z"
   },
   {
    "duration": -1027,
    "start_time": "2021-08-15T10:37:59.863Z"
   },
   {
    "duration": -1025,
    "start_time": "2021-08-15T10:37:59.864Z"
   },
   {
    "duration": -1026,
    "start_time": "2021-08-15T10:37:59.867Z"
   },
   {
    "duration": -1026,
    "start_time": "2021-08-15T10:37:59.869Z"
   },
   {
    "duration": -1025,
    "start_time": "2021-08-15T10:37:59.871Z"
   },
   {
    "duration": -1024,
    "start_time": "2021-08-15T10:37:59.873Z"
   },
   {
    "duration": -1024,
    "start_time": "2021-08-15T10:37:59.875Z"
   },
   {
    "duration": -1028,
    "start_time": "2021-08-15T10:37:59.881Z"
   },
   {
    "duration": -1029,
    "start_time": "2021-08-15T10:37:59.884Z"
   },
   {
    "duration": -1028,
    "start_time": "2021-08-15T10:37:59.885Z"
   },
   {
    "duration": -1028,
    "start_time": "2021-08-15T10:37:59.887Z"
   },
   {
    "duration": -1026,
    "start_time": "2021-08-15T10:37:59.888Z"
   },
   {
    "duration": -1026,
    "start_time": "2021-08-15T10:37:59.890Z"
   },
   {
    "duration": -1256,
    "start_time": "2021-08-15T10:38:00.140Z"
   },
   {
    "duration": -1257,
    "start_time": "2021-08-15T10:38:00.142Z"
   },
   {
    "duration": -1263,
    "start_time": "2021-08-15T10:38:00.150Z"
   },
   {
    "duration": -1268,
    "start_time": "2021-08-15T10:38:00.156Z"
   },
   {
    "duration": -1271,
    "start_time": "2021-08-15T10:38:00.161Z"
   },
   {
    "duration": 10,
    "start_time": "2021-08-15T10:38:59.864Z"
   },
   {
    "duration": 2608,
    "start_time": "2021-08-15T10:39:29.287Z"
   },
   {
    "duration": 246,
    "start_time": "2021-08-15T10:39:31.898Z"
   },
   {
    "duration": 155,
    "start_time": "2021-08-15T10:39:32.148Z"
   },
   {
    "duration": 132,
    "start_time": "2021-08-15T10:39:32.306Z"
   },
   {
    "duration": 17,
    "start_time": "2021-08-15T10:39:32.441Z"
   },
   {
    "duration": 32,
    "start_time": "2021-08-15T10:39:32.461Z"
   },
   {
    "duration": 62,
    "start_time": "2021-08-15T10:39:32.497Z"
   },
   {
    "duration": 32,
    "start_time": "2021-08-15T10:39:32.563Z"
   },
   {
    "duration": 7,
    "start_time": "2021-08-15T10:39:32.598Z"
   },
   {
    "duration": 11,
    "start_time": "2021-08-15T10:39:32.610Z"
   },
   {
    "duration": 126,
    "start_time": "2021-08-15T10:39:32.624Z"
   },
   {
    "duration": 15,
    "start_time": "2021-08-15T10:39:32.754Z"
   },
   {
    "duration": 603,
    "start_time": "2021-08-15T10:39:32.785Z"
   },
   {
    "duration": -807,
    "start_time": "2021-08-15T10:39:34.199Z"
   },
   {
    "duration": -810,
    "start_time": "2021-08-15T10:39:34.203Z"
   },
   {
    "duration": -810,
    "start_time": "2021-08-15T10:39:34.205Z"
   },
   {
    "duration": -809,
    "start_time": "2021-08-15T10:39:34.208Z"
   },
   {
    "duration": -808,
    "start_time": "2021-08-15T10:39:34.209Z"
   },
   {
    "duration": -809,
    "start_time": "2021-08-15T10:39:34.211Z"
   },
   {
    "duration": -812,
    "start_time": "2021-08-15T10:39:34.216Z"
   },
   {
    "duration": -816,
    "start_time": "2021-08-15T10:39:34.221Z"
   },
   {
    "duration": -815,
    "start_time": "2021-08-15T10:39:34.223Z"
   },
   {
    "duration": -815,
    "start_time": "2021-08-15T10:39:34.225Z"
   },
   {
    "duration": -815,
    "start_time": "2021-08-15T10:39:34.227Z"
   },
   {
    "duration": -816,
    "start_time": "2021-08-15T10:39:34.229Z"
   },
   {
    "duration": -817,
    "start_time": "2021-08-15T10:39:34.231Z"
   },
   {
    "duration": -817,
    "start_time": "2021-08-15T10:39:34.233Z"
   },
   {
    "duration": -821,
    "start_time": "2021-08-15T10:39:34.238Z"
   },
   {
    "duration": -818,
    "start_time": "2021-08-15T10:39:34.245Z"
   },
   {
    "duration": 1938,
    "start_time": "2021-08-15T10:41:28.271Z"
   },
   {
    "duration": 177,
    "start_time": "2021-08-15T10:41:30.215Z"
   },
   {
    "duration": 117,
    "start_time": "2021-08-15T10:41:30.395Z"
   },
   {
    "duration": 116,
    "start_time": "2021-08-15T10:41:30.516Z"
   },
   {
    "duration": 13,
    "start_time": "2021-08-15T10:41:30.634Z"
   },
   {
    "duration": 44,
    "start_time": "2021-08-15T10:41:30.649Z"
   },
   {
    "duration": 59,
    "start_time": "2021-08-15T10:41:30.696Z"
   },
   {
    "duration": 27,
    "start_time": "2021-08-15T10:41:30.759Z"
   },
   {
    "duration": 11,
    "start_time": "2021-08-15T10:41:30.793Z"
   },
   {
    "duration": 34,
    "start_time": "2021-08-15T10:41:30.807Z"
   },
   {
    "duration": 87,
    "start_time": "2021-08-15T10:41:30.843Z"
   },
   {
    "duration": 11,
    "start_time": "2021-08-15T10:41:30.933Z"
   },
   {
    "duration": 40,
    "start_time": "2021-08-15T10:41:30.947Z"
   },
   {
    "duration": 29,
    "start_time": "2021-08-15T10:41:30.990Z"
   },
   {
    "duration": 21,
    "start_time": "2021-08-15T10:41:31.022Z"
   },
   {
    "duration": 115,
    "start_time": "2021-08-15T10:41:31.046Z"
   },
   {
    "duration": 1515,
    "start_time": "2021-08-15T10:41:31.164Z"
   },
   {
    "duration": 36,
    "start_time": "2021-08-15T10:41:32.686Z"
   },
   {
    "duration": 93,
    "start_time": "2021-08-15T10:41:32.725Z"
   },
   {
    "duration": 17,
    "start_time": "2021-08-15T10:41:32.821Z"
   },
   {
    "duration": 24,
    "start_time": "2021-08-15T10:41:32.841Z"
   },
   {
    "duration": 42,
    "start_time": "2021-08-15T10:41:32.867Z"
   },
   {
    "duration": 8,
    "start_time": "2021-08-15T10:41:32.915Z"
   },
   {
    "duration": 6811,
    "start_time": "2021-08-15T10:41:32.926Z"
   },
   {
    "duration": -872,
    "start_time": "2021-08-15T10:41:40.612Z"
   },
   {
    "duration": -873,
    "start_time": "2021-08-15T10:41:40.614Z"
   },
   {
    "duration": -878,
    "start_time": "2021-08-15T10:41:40.620Z"
   },
   {
    "duration": -882,
    "start_time": "2021-08-15T10:41:40.626Z"
   },
   {
    "duration": -884,
    "start_time": "2021-08-15T10:41:40.629Z"
   },
   {
    "duration": 25,
    "start_time": "2021-08-15T10:43:35.441Z"
   },
   {
    "duration": 2476,
    "start_time": "2021-08-15T10:43:45.415Z"
   },
   {
    "duration": 278,
    "start_time": "2021-08-15T10:43:47.894Z"
   },
   {
    "duration": 110,
    "start_time": "2021-08-15T10:43:48.175Z"
   },
   {
    "duration": 101,
    "start_time": "2021-08-15T10:43:48.288Z"
   },
   {
    "duration": 17,
    "start_time": "2021-08-15T10:43:48.392Z"
   },
   {
    "duration": 14,
    "start_time": "2021-08-15T10:43:48.414Z"
   },
   {
    "duration": 86,
    "start_time": "2021-08-15T10:43:48.431Z"
   },
   {
    "duration": 12,
    "start_time": "2021-08-15T10:43:48.522Z"
   },
   {
    "duration": 9,
    "start_time": "2021-08-15T10:43:48.538Z"
   },
   {
    "duration": 46,
    "start_time": "2021-08-15T10:43:48.550Z"
   },
   {
    "duration": 86,
    "start_time": "2021-08-15T10:43:48.599Z"
   },
   {
    "duration": 16,
    "start_time": "2021-08-15T10:43:48.687Z"
   },
   {
    "duration": 21,
    "start_time": "2021-08-15T10:43:48.707Z"
   },
   {
    "duration": 52,
    "start_time": "2021-08-15T10:43:48.730Z"
   },
   {
    "duration": 23,
    "start_time": "2021-08-15T10:43:48.784Z"
   },
   {
    "duration": 95,
    "start_time": "2021-08-15T10:43:48.810Z"
   },
   {
    "duration": 1503,
    "start_time": "2021-08-15T10:43:48.908Z"
   },
   {
    "duration": 30,
    "start_time": "2021-08-15T10:43:50.413Z"
   },
   {
    "duration": 90,
    "start_time": "2021-08-15T10:43:50.446Z"
   },
   {
    "duration": 12,
    "start_time": "2021-08-15T10:43:50.538Z"
   },
   {
    "duration": 5,
    "start_time": "2021-08-15T10:43:50.553Z"
   },
   {
    "duration": 31,
    "start_time": "2021-08-15T10:43:50.561Z"
   },
   {
    "duration": 8,
    "start_time": "2021-08-15T10:43:50.597Z"
   },
   {
    "duration": 6988,
    "start_time": "2021-08-15T10:43:50.608Z"
   },
   {
    "duration": -845,
    "start_time": "2021-08-15T10:43:58.444Z"
   },
   {
    "duration": -845,
    "start_time": "2021-08-15T10:43:58.446Z"
   },
   {
    "duration": -845,
    "start_time": "2021-08-15T10:43:58.447Z"
   },
   {
    "duration": -845,
    "start_time": "2021-08-15T10:43:58.449Z"
   },
   {
    "duration": -844,
    "start_time": "2021-08-15T10:43:58.450Z"
   },
   {
    "duration": 7,
    "start_time": "2021-08-15T10:44:27.636Z"
   },
   {
    "duration": 7,
    "start_time": "2021-08-15T10:44:40.803Z"
   },
   {
    "duration": 7,
    "start_time": "2021-08-15T10:44:49.715Z"
   },
   {
    "duration": 2071,
    "start_time": "2021-08-15T10:45:33.843Z"
   },
   {
    "duration": 170,
    "start_time": "2021-08-15T10:45:35.917Z"
   },
   {
    "duration": 109,
    "start_time": "2021-08-15T10:45:36.091Z"
   },
   {
    "duration": 96,
    "start_time": "2021-08-15T10:45:36.203Z"
   },
   {
    "duration": 15,
    "start_time": "2021-08-15T10:45:36.302Z"
   },
   {
    "duration": 15,
    "start_time": "2021-08-15T10:45:36.320Z"
   },
   {
    "duration": 119,
    "start_time": "2021-08-15T10:45:36.338Z"
   },
   {
    "duration": 11,
    "start_time": "2021-08-15T10:45:36.461Z"
   },
   {
    "duration": 10,
    "start_time": "2021-08-15T10:45:36.487Z"
   },
   {
    "duration": 10,
    "start_time": "2021-08-15T10:45:36.500Z"
   },
   {
    "duration": 100,
    "start_time": "2021-08-15T10:45:36.513Z"
   },
   {
    "duration": 16,
    "start_time": "2021-08-15T10:45:36.617Z"
   },
   {
    "duration": 57,
    "start_time": "2021-08-15T10:45:36.636Z"
   },
   {
    "duration": 20,
    "start_time": "2021-08-15T10:45:36.695Z"
   },
   {
    "duration": 23,
    "start_time": "2021-08-15T10:45:36.720Z"
   },
   {
    "duration": 103,
    "start_time": "2021-08-15T10:45:36.746Z"
   },
   {
    "duration": 1590,
    "start_time": "2021-08-15T10:45:36.852Z"
   },
   {
    "duration": 38,
    "start_time": "2021-08-15T10:45:38.446Z"
   },
   {
    "duration": 83,
    "start_time": "2021-08-15T10:45:38.486Z"
   },
   {
    "duration": 18,
    "start_time": "2021-08-15T10:45:38.585Z"
   },
   {
    "duration": 6,
    "start_time": "2021-08-15T10:45:38.607Z"
   },
   {
    "duration": 14,
    "start_time": "2021-08-15T10:45:38.616Z"
   },
   {
    "duration": 6,
    "start_time": "2021-08-15T10:45:38.635Z"
   },
   {
    "duration": 10,
    "start_time": "2021-08-15T10:45:38.684Z"
   },
   {
    "duration": 30,
    "start_time": "2021-08-15T10:45:38.698Z"
   },
   {
    "duration": 5,
    "start_time": "2021-08-15T10:45:38.731Z"
   },
   {
    "duration": 10,
    "start_time": "2021-08-15T10:45:38.738Z"
   },
   {
    "duration": 45,
    "start_time": "2021-08-15T10:45:38.750Z"
   },
   {
    "duration": 10,
    "start_time": "2021-08-15T10:45:38.798Z"
   },
   {
    "duration": 66,
    "start_time": "2021-08-15T10:46:19.694Z"
   },
   {
    "duration": 12,
    "start_time": "2021-08-15T10:49:32.991Z"
   },
   {
    "duration": 54,
    "start_time": "2021-08-15T10:49:38.044Z"
   },
   {
    "duration": 6,
    "start_time": "2021-08-15T10:54:29.967Z"
   },
   {
    "duration": 74,
    "start_time": "2021-08-15T11:01:32.934Z"
   },
   {
    "duration": 54,
    "start_time": "2021-08-15T11:02:56.764Z"
   },
   {
    "duration": 134,
    "start_time": "2021-08-15T11:08:28.161Z"
   },
   {
    "duration": 262,
    "start_time": "2021-08-15T11:08:36.283Z"
   },
   {
    "duration": 435,
    "start_time": "2021-08-15T11:08:46.934Z"
   },
   {
    "duration": 2091,
    "start_time": "2021-08-15T11:11:21.692Z"
   },
   {
    "duration": 244,
    "start_time": "2021-08-15T11:11:23.786Z"
   },
   {
    "duration": 153,
    "start_time": "2021-08-15T11:11:24.034Z"
   },
   {
    "duration": 123,
    "start_time": "2021-08-15T11:11:24.191Z"
   },
   {
    "duration": 16,
    "start_time": "2021-08-15T11:11:24.317Z"
   },
   {
    "duration": 47,
    "start_time": "2021-08-15T11:11:24.336Z"
   },
   {
    "duration": 74,
    "start_time": "2021-08-15T11:11:24.387Z"
   },
   {
    "duration": 13,
    "start_time": "2021-08-15T11:11:24.483Z"
   },
   {
    "duration": 10,
    "start_time": "2021-08-15T11:11:24.500Z"
   },
   {
    "duration": 10,
    "start_time": "2021-08-15T11:11:24.514Z"
   },
   {
    "duration": 143,
    "start_time": "2021-08-15T11:11:24.527Z"
   },
   {
    "duration": 19,
    "start_time": "2021-08-15T11:11:24.682Z"
   },
   {
    "duration": 23,
    "start_time": "2021-08-15T11:11:24.705Z"
   },
   {
    "duration": 54,
    "start_time": "2021-08-15T11:11:24.731Z"
   },
   {
    "duration": 33,
    "start_time": "2021-08-15T11:11:24.787Z"
   },
   {
    "duration": 108,
    "start_time": "2021-08-15T11:11:24.823Z"
   },
   {
    "duration": 1470,
    "start_time": "2021-08-15T11:11:24.934Z"
   },
   {
    "duration": 31,
    "start_time": "2021-08-15T11:11:26.407Z"
   },
   {
    "duration": 104,
    "start_time": "2021-08-15T11:11:26.440Z"
   },
   {
    "duration": 13,
    "start_time": "2021-08-15T11:11:26.547Z"
   },
   {
    "duration": 23,
    "start_time": "2021-08-15T11:11:26.563Z"
   },
   {
    "duration": 21,
    "start_time": "2021-08-15T11:11:26.589Z"
   },
   {
    "duration": 10,
    "start_time": "2021-08-15T11:11:26.617Z"
   },
   {
    "duration": 9,
    "start_time": "2021-08-15T11:11:26.631Z"
   },
   {
    "duration": 35,
    "start_time": "2021-08-15T11:11:26.685Z"
   },
   {
    "duration": 84,
    "start_time": "2021-08-15T11:11:26.723Z"
   },
   {
    "duration": 296,
    "start_time": "2021-08-15T11:11:26.810Z"
   },
   {
    "duration": 3,
    "start_time": "2021-08-15T11:11:27.110Z"
   },
   {
    "duration": 9,
    "start_time": "2021-08-15T11:11:27.116Z"
   },
   {
    "duration": 431,
    "start_time": "2021-08-15T11:17:50.422Z"
   },
   {
    "duration": 46,
    "start_time": "2021-08-15T11:25:58.434Z"
   },
   {
    "duration": 55,
    "start_time": "2021-08-15T11:26:37.789Z"
   },
   {
    "duration": 112,
    "start_time": "2021-08-15T11:30:59.263Z"
   },
   {
    "duration": 109,
    "start_time": "2021-08-15T11:31:10.147Z"
   },
   {
    "duration": 124,
    "start_time": "2021-08-15T11:44:47.167Z"
   },
   {
    "duration": 85,
    "start_time": "2021-08-15T11:45:04.268Z"
   },
   {
    "duration": 261,
    "start_time": "2021-08-15T11:45:19.641Z"
   },
   {
    "duration": 885,
    "start_time": "2021-08-15T11:45:39.086Z"
   },
   {
    "duration": 1685,
    "start_time": "2021-08-15T11:46:39.717Z"
   },
   {
    "duration": 448,
    "start_time": "2021-08-15T11:47:10.948Z"
   },
   {
    "duration": 407,
    "start_time": "2021-08-15T11:47:23.518Z"
   },
   {
    "duration": 523,
    "start_time": "2021-08-15T11:53:58.442Z"
   },
   {
    "duration": 246,
    "start_time": "2021-08-15T11:55:59.769Z"
   },
   {
    "duration": 524,
    "start_time": "2021-08-15T11:56:11.851Z"
   },
   {
    "duration": 292,
    "start_time": "2021-08-15T11:56:27.129Z"
   },
   {
    "duration": 516,
    "start_time": "2021-08-15T11:56:56.771Z"
   },
   {
    "duration": 423,
    "start_time": "2021-08-15T11:57:13.571Z"
   },
   {
    "duration": 482,
    "start_time": "2021-08-15T11:57:28.619Z"
   },
   {
    "duration": 537,
    "start_time": "2021-08-15T11:58:09.909Z"
   },
   {
    "duration": 626,
    "start_time": "2021-08-15T11:58:16.829Z"
   },
   {
    "duration": 6463,
    "start_time": "2021-08-15T12:00:21.367Z"
   },
   {
    "duration": 1898,
    "start_time": "2021-08-15T12:00:49.719Z"
   },
   {
    "duration": 915,
    "start_time": "2021-08-15T12:02:23.711Z"
   },
   {
    "duration": 970,
    "start_time": "2021-08-15T12:02:39.600Z"
   },
   {
    "duration": 2217,
    "start_time": "2021-08-15T12:03:02.032Z"
   },
   {
    "duration": 1907,
    "start_time": "2021-08-15T12:03:41.825Z"
   },
   {
    "duration": 2158,
    "start_time": "2021-08-15T12:06:54.572Z"
   },
   {
    "duration": 2175,
    "start_time": "2021-08-15T12:07:03.272Z"
   },
   {
    "duration": 1944,
    "start_time": "2021-08-15T12:07:47.332Z"
   },
   {
    "duration": 102,
    "start_time": "2021-08-15T12:12:36.932Z"
   },
   {
    "duration": 81,
    "start_time": "2021-08-15T12:12:58.583Z"
   },
   {
    "duration": 2089,
    "start_time": "2021-08-15T12:38:35.736Z"
   },
   {
    "duration": 2978,
    "start_time": "2021-08-15T12:38:56.718Z"
   },
   {
    "duration": 3023,
    "start_time": "2021-08-15T12:39:15.463Z"
   },
   {
    "duration": 249,
    "start_time": "2021-08-15T13:00:31.937Z"
   },
   {
    "duration": 689,
    "start_time": "2021-08-15T13:01:26.324Z"
   },
   {
    "duration": 1934,
    "start_time": "2021-08-15T13:01:33.002Z"
   },
   {
    "duration": 176,
    "start_time": "2021-08-15T13:01:34.938Z"
   },
   {
    "duration": 106,
    "start_time": "2021-08-15T13:01:35.117Z"
   },
   {
    "duration": 94,
    "start_time": "2021-08-15T13:01:35.226Z"
   },
   {
    "duration": 15,
    "start_time": "2021-08-15T13:01:35.322Z"
   },
   {
    "duration": 25,
    "start_time": "2021-08-15T13:01:35.339Z"
   },
   {
    "duration": 64,
    "start_time": "2021-08-15T13:01:35.367Z"
   },
   {
    "duration": 9,
    "start_time": "2021-08-15T13:01:35.435Z"
   },
   {
    "duration": 35,
    "start_time": "2021-08-15T13:01:35.447Z"
   },
   {
    "duration": 9,
    "start_time": "2021-08-15T13:01:35.485Z"
   },
   {
    "duration": 91,
    "start_time": "2021-08-15T13:01:35.497Z"
   },
   {
    "duration": 12,
    "start_time": "2021-08-15T13:01:35.590Z"
   },
   {
    "duration": 30,
    "start_time": "2021-08-15T13:01:35.604Z"
   },
   {
    "duration": 19,
    "start_time": "2021-08-15T13:01:35.637Z"
   },
   {
    "duration": 40,
    "start_time": "2021-08-15T13:01:35.659Z"
   },
   {
    "duration": 96,
    "start_time": "2021-08-15T13:01:35.701Z"
   },
   {
    "duration": 1392,
    "start_time": "2021-08-15T13:01:35.800Z"
   },
   {
    "duration": 35,
    "start_time": "2021-08-15T13:01:37.195Z"
   },
   {
    "duration": 93,
    "start_time": "2021-08-15T13:01:37.232Z"
   },
   {
    "duration": 12,
    "start_time": "2021-08-15T13:01:37.328Z"
   },
   {
    "duration": 6,
    "start_time": "2021-08-15T13:01:37.342Z"
   },
   {
    "duration": 40,
    "start_time": "2021-08-15T13:01:37.351Z"
   },
   {
    "duration": 7,
    "start_time": "2021-08-15T13:01:37.396Z"
   },
   {
    "duration": 16,
    "start_time": "2021-08-15T13:01:37.405Z"
   },
   {
    "duration": 35,
    "start_time": "2021-08-15T13:01:37.424Z"
   },
   {
    "duration": 67,
    "start_time": "2021-08-15T13:01:37.462Z"
   },
   {
    "duration": 273,
    "start_time": "2021-08-15T13:01:37.532Z"
   },
   {
    "duration": 45,
    "start_time": "2021-08-15T13:01:37.808Z"
   },
   {
    "duration": 66,
    "start_time": "2021-08-15T13:01:37.856Z"
   },
   {
    "duration": 109,
    "start_time": "2021-08-15T13:01:37.925Z"
   },
   {
    "duration": 2181,
    "start_time": "2021-08-15T13:01:38.036Z"
   },
   {
    "duration": 7,
    "start_time": "2021-08-15T13:01:40.220Z"
   },
   {
    "duration": 18,
    "start_time": "2021-08-15T13:07:48.948Z"
   },
   {
    "duration": 17,
    "start_time": "2021-08-15T13:08:29.028Z"
   },
   {
    "duration": 18,
    "start_time": "2021-08-15T13:08:47.778Z"
   },
   {
    "duration": 24,
    "start_time": "2021-08-15T13:08:55.752Z"
   },
   {
    "duration": 23,
    "start_time": "2021-08-15T13:11:05.989Z"
   },
   {
    "duration": 9,
    "start_time": "2021-08-15T13:11:43.696Z"
   },
   {
    "duration": 7,
    "start_time": "2021-08-15T13:17:00.491Z"
   },
   {
    "duration": 16,
    "start_time": "2021-08-15T13:17:08.437Z"
   },
   {
    "duration": 8,
    "start_time": "2021-08-15T13:18:18.375Z"
   },
   {
    "duration": 17,
    "start_time": "2021-08-15T13:19:16.783Z"
   },
   {
    "duration": 27,
    "start_time": "2021-08-15T13:19:29.601Z"
   },
   {
    "duration": 8,
    "start_time": "2021-08-15T13:19:51.140Z"
   },
   {
    "duration": 2337,
    "start_time": "2021-08-15T13:35:42.032Z"
   },
   {
    "duration": 173,
    "start_time": "2021-08-15T13:35:44.372Z"
   },
   {
    "duration": 106,
    "start_time": "2021-08-15T13:35:44.548Z"
   },
   {
    "duration": 85,
    "start_time": "2021-08-15T13:35:44.657Z"
   },
   {
    "duration": 12,
    "start_time": "2021-08-15T13:35:44.745Z"
   },
   {
    "duration": 33,
    "start_time": "2021-08-15T13:35:44.760Z"
   },
   {
    "duration": 52,
    "start_time": "2021-08-15T13:35:44.795Z"
   },
   {
    "duration": 36,
    "start_time": "2021-08-15T13:35:44.851Z"
   },
   {
    "duration": 7,
    "start_time": "2021-08-15T13:35:44.889Z"
   },
   {
    "duration": 18,
    "start_time": "2021-08-15T13:35:44.899Z"
   },
   {
    "duration": 92,
    "start_time": "2021-08-15T13:35:44.919Z"
   },
   {
    "duration": 12,
    "start_time": "2021-08-15T13:35:45.014Z"
   },
   {
    "duration": 24,
    "start_time": "2021-08-15T13:35:45.028Z"
   },
   {
    "duration": 39,
    "start_time": "2021-08-15T13:35:45.055Z"
   },
   {
    "duration": 18,
    "start_time": "2021-08-15T13:35:45.096Z"
   },
   {
    "duration": 94,
    "start_time": "2021-08-15T13:35:45.116Z"
   },
   {
    "duration": 1352,
    "start_time": "2021-08-15T13:35:45.510Z"
   },
   {
    "duration": 33,
    "start_time": "2021-08-15T13:35:46.864Z"
   },
   {
    "duration": 87,
    "start_time": "2021-08-15T13:35:46.900Z"
   },
   {
    "duration": 12,
    "start_time": "2021-08-15T13:35:46.989Z"
   },
   {
    "duration": 5,
    "start_time": "2021-08-15T13:35:47.003Z"
   },
   {
    "duration": 13,
    "start_time": "2021-08-15T13:35:47.316Z"
   },
   {
    "duration": 9,
    "start_time": "2021-08-15T13:35:47.332Z"
   },
   {
    "duration": 7,
    "start_time": "2021-08-15T13:35:47.344Z"
   },
   {
    "duration": 30,
    "start_time": "2021-08-15T13:35:47.354Z"
   },
   {
    "duration": 49,
    "start_time": "2021-08-15T13:35:47.386Z"
   },
   {
    "duration": 244,
    "start_time": "2021-08-15T13:35:47.698Z"
   },
   {
    "duration": 57,
    "start_time": "2021-08-15T13:35:47.945Z"
   },
   {
    "duration": 47,
    "start_time": "2021-08-15T13:35:48.005Z"
   },
   {
    "duration": 96,
    "start_time": "2021-08-15T13:35:48.055Z"
   },
   {
    "duration": 1976,
    "start_time": "2021-08-15T13:35:48.153Z"
   },
   {
    "duration": 7,
    "start_time": "2021-08-15T13:35:50.132Z"
   },
   {
    "duration": 17,
    "start_time": "2021-08-15T13:35:50.142Z"
   },
   {
    "duration": 2003,
    "start_time": "2021-08-15T14:01:03.484Z"
   },
   {
    "duration": 191,
    "start_time": "2021-08-15T14:01:05.491Z"
   },
   {
    "duration": 112,
    "start_time": "2021-08-15T14:01:05.685Z"
   },
   {
    "duration": 99,
    "start_time": "2021-08-15T14:01:05.800Z"
   },
   {
    "duration": 15,
    "start_time": "2021-08-15T14:01:05.902Z"
   },
   {
    "duration": 31,
    "start_time": "2021-08-15T14:01:05.920Z"
   },
   {
    "duration": 82,
    "start_time": "2021-08-15T14:01:05.954Z"
   },
   {
    "duration": 10,
    "start_time": "2021-08-15T14:01:06.039Z"
   },
   {
    "duration": 9,
    "start_time": "2021-08-15T14:01:06.052Z"
   },
   {
    "duration": 30,
    "start_time": "2021-08-15T14:01:06.063Z"
   },
   {
    "duration": 89,
    "start_time": "2021-08-15T14:01:06.095Z"
   },
   {
    "duration": 12,
    "start_time": "2021-08-15T14:01:06.186Z"
   },
   {
    "duration": 26,
    "start_time": "2021-08-15T14:01:06.201Z"
   },
   {
    "duration": 28,
    "start_time": "2021-08-15T14:01:06.230Z"
   },
   {
    "duration": 45,
    "start_time": "2021-08-15T14:01:06.261Z"
   },
   {
    "duration": 102,
    "start_time": "2021-08-15T14:01:06.309Z"
   },
   {
    "duration": 1416,
    "start_time": "2021-08-15T14:01:06.414Z"
   },
   {
    "duration": 28,
    "start_time": "2021-08-15T14:01:07.833Z"
   },
   {
    "duration": 89,
    "start_time": "2021-08-15T14:01:07.863Z"
   },
   {
    "duration": 12,
    "start_time": "2021-08-15T14:01:07.954Z"
   },
   {
    "duration": 18,
    "start_time": "2021-08-15T14:01:07.968Z"
   },
   {
    "duration": 16,
    "start_time": "2021-08-15T14:01:07.989Z"
   },
   {
    "duration": 8,
    "start_time": "2021-08-15T14:01:08.011Z"
   },
   {
    "duration": 13,
    "start_time": "2021-08-15T14:01:08.023Z"
   },
   {
    "duration": 68,
    "start_time": "2021-08-15T14:01:08.039Z"
   },
   {
    "duration": 48,
    "start_time": "2021-08-15T14:01:08.110Z"
   },
   {
    "duration": 447,
    "start_time": "2021-08-15T14:01:08.160Z"
   },
   {
    "duration": 52,
    "start_time": "2021-08-15T14:01:08.610Z"
   },
   {
    "duration": 69,
    "start_time": "2021-08-15T14:01:08.665Z"
   },
   {
    "duration": 104,
    "start_time": "2021-08-15T14:01:08.737Z"
   },
   {
    "duration": 2113,
    "start_time": "2021-08-15T14:01:08.843Z"
   },
   {
    "duration": 25,
    "start_time": "2021-08-15T14:01:10.959Z"
   },
   {
    "duration": 23,
    "start_time": "2021-08-15T14:01:10.987Z"
   },
   {
    "duration": 2054,
    "start_time": "2021-08-15T14:22:16.973Z"
   },
   {
    "duration": 169,
    "start_time": "2021-08-15T14:22:19.030Z"
   },
   {
    "duration": 107,
    "start_time": "2021-08-15T14:22:19.202Z"
   },
   {
    "duration": 96,
    "start_time": "2021-08-15T14:22:19.313Z"
   },
   {
    "duration": 14,
    "start_time": "2021-08-15T14:22:19.412Z"
   },
   {
    "duration": 17,
    "start_time": "2021-08-15T14:22:19.428Z"
   },
   {
    "duration": 93,
    "start_time": "2021-08-15T14:22:19.447Z"
   },
   {
    "duration": 8,
    "start_time": "2021-08-15T14:22:19.544Z"
   },
   {
    "duration": 7,
    "start_time": "2021-08-15T14:22:19.556Z"
   },
   {
    "duration": 37,
    "start_time": "2021-08-15T14:22:19.565Z"
   },
   {
    "duration": 72,
    "start_time": "2021-08-15T14:22:19.605Z"
   },
   {
    "duration": 30,
    "start_time": "2021-08-15T14:22:19.680Z"
   },
   {
    "duration": 20,
    "start_time": "2021-08-15T14:22:19.713Z"
   },
   {
    "duration": 18,
    "start_time": "2021-08-15T14:22:19.736Z"
   },
   {
    "duration": 59,
    "start_time": "2021-08-15T14:22:19.756Z"
   },
   {
    "duration": 92,
    "start_time": "2021-08-15T14:22:19.817Z"
   },
   {
    "duration": 1453,
    "start_time": "2021-08-15T14:22:19.911Z"
   },
   {
    "duration": 45,
    "start_time": "2021-08-15T14:22:21.366Z"
   },
   {
    "duration": 96,
    "start_time": "2021-08-15T14:22:21.414Z"
   },
   {
    "duration": 13,
    "start_time": "2021-08-15T14:22:21.513Z"
   },
   {
    "duration": 9,
    "start_time": "2021-08-15T14:22:21.529Z"
   },
   {
    "duration": 15,
    "start_time": "2021-08-15T14:22:21.540Z"
   },
   {
    "duration": 42,
    "start_time": "2021-08-15T14:22:21.560Z"
   },
   {
    "duration": 10,
    "start_time": "2021-08-15T14:22:21.606Z"
   },
   {
    "duration": 32,
    "start_time": "2021-08-15T14:22:21.620Z"
   },
   {
    "duration": 82,
    "start_time": "2021-08-15T14:22:21.655Z"
   },
   {
    "duration": 283,
    "start_time": "2021-08-15T14:22:21.741Z"
   },
   {
    "duration": 47,
    "start_time": "2021-08-15T14:22:22.026Z"
   },
   {
    "duration": 74,
    "start_time": "2021-08-15T14:22:22.075Z"
   },
   {
    "duration": 104,
    "start_time": "2021-08-15T14:22:22.152Z"
   },
   {
    "duration": 2205,
    "start_time": "2021-08-15T14:22:22.259Z"
   },
   {
    "duration": 7,
    "start_time": "2021-08-15T14:22:24.466Z"
   },
   {
    "duration": 39,
    "start_time": "2021-08-15T14:22:24.475Z"
   },
   {
    "duration": 35,
    "start_time": "2021-08-15T15:49:17.838Z"
   },
   {
    "duration": 5,
    "start_time": "2021-08-15T15:51:38.658Z"
   },
   {
    "duration": 32,
    "start_time": "2021-08-15T15:51:40.514Z"
   },
   {
    "duration": 804,
    "start_time": "2021-08-16T07:32:58.048Z"
   },
   {
    "duration": 1995,
    "start_time": "2021-08-16T07:33:07.171Z"
   },
   {
    "duration": 180,
    "start_time": "2021-08-16T07:33:09.169Z"
   },
   {
    "duration": 103,
    "start_time": "2021-08-16T07:33:09.352Z"
   },
   {
    "duration": 112,
    "start_time": "2021-08-16T07:33:09.467Z"
   },
   {
    "duration": 13,
    "start_time": "2021-08-16T07:33:09.581Z"
   },
   {
    "duration": 19,
    "start_time": "2021-08-16T07:33:09.597Z"
   },
   {
    "duration": 6,
    "start_time": "2021-08-16T07:33:09.618Z"
   },
   {
    "duration": 610,
    "start_time": "2021-08-16T07:33:09.627Z"
   },
   {
    "duration": -44,
    "start_time": "2021-08-16T07:33:10.285Z"
   },
   {
    "duration": -45,
    "start_time": "2021-08-16T07:33:10.288Z"
   },
   {
    "duration": -47,
    "start_time": "2021-08-16T07:33:10.291Z"
   },
   {
    "duration": -48,
    "start_time": "2021-08-16T07:33:10.294Z"
   },
   {
    "duration": -51,
    "start_time": "2021-08-16T07:33:10.298Z"
   },
   {
    "duration": -53,
    "start_time": "2021-08-16T07:33:10.302Z"
   },
   {
    "duration": -62,
    "start_time": "2021-08-16T07:33:10.312Z"
   },
   {
    "duration": -72,
    "start_time": "2021-08-16T07:33:10.324Z"
   },
   {
    "duration": -73,
    "start_time": "2021-08-16T07:33:10.327Z"
   },
   {
    "duration": -74,
    "start_time": "2021-08-16T07:33:10.329Z"
   },
   {
    "duration": -76,
    "start_time": "2021-08-16T07:33:10.332Z"
   },
   {
    "duration": -79,
    "start_time": "2021-08-16T07:33:10.337Z"
   },
   {
    "duration": -87,
    "start_time": "2021-08-16T07:33:10.346Z"
   },
   {
    "duration": -87,
    "start_time": "2021-08-16T07:33:10.348Z"
   },
   {
    "duration": -91,
    "start_time": "2021-08-16T07:33:10.353Z"
   },
   {
    "duration": -95,
    "start_time": "2021-08-16T07:33:10.359Z"
   },
   {
    "duration": -97,
    "start_time": "2021-08-16T07:33:10.362Z"
   },
   {
    "duration": -97,
    "start_time": "2021-08-16T07:33:10.364Z"
   },
   {
    "duration": -100,
    "start_time": "2021-08-16T07:33:10.368Z"
   },
   {
    "duration": -108,
    "start_time": "2021-08-16T07:33:10.378Z"
   },
   {
    "duration": -109,
    "start_time": "2021-08-16T07:33:10.380Z"
   },
   {
    "duration": -110,
    "start_time": "2021-08-16T07:33:10.382Z"
   },
   {
    "duration": -113,
    "start_time": "2021-08-16T07:33:10.387Z"
   },
   {
    "duration": -122,
    "start_time": "2021-08-16T07:33:10.397Z"
   },
   {
    "duration": -124,
    "start_time": "2021-08-16T07:33:10.401Z"
   },
   {
    "duration": -135,
    "start_time": "2021-08-16T07:33:10.413Z"
   },
   {
    "duration": 21,
    "start_time": "2021-08-16T07:33:51.672Z"
   },
   {
    "duration": 21,
    "start_time": "2021-08-16T07:37:33.948Z"
   },
   {
    "duration": 3,
    "start_time": "2021-08-16T07:41:01.197Z"
   },
   {
    "duration": 2014,
    "start_time": "2021-08-16T07:41:09.279Z"
   },
   {
    "duration": 176,
    "start_time": "2021-08-16T07:41:11.295Z"
   },
   {
    "duration": 108,
    "start_time": "2021-08-16T07:41:11.476Z"
   },
   {
    "duration": 93,
    "start_time": "2021-08-16T07:41:11.587Z"
   },
   {
    "duration": 13,
    "start_time": "2021-08-16T07:41:11.682Z"
   },
   {
    "duration": 18,
    "start_time": "2021-08-16T07:41:11.697Z"
   },
   {
    "duration": 5,
    "start_time": "2021-08-16T07:41:11.717Z"
   },
   {
    "duration": 86,
    "start_time": "2021-08-16T07:41:11.726Z"
   },
   {
    "duration": 9,
    "start_time": "2021-08-16T07:41:11.816Z"
   },
   {
    "duration": 19,
    "start_time": "2021-08-16T07:41:11.828Z"
   },
   {
    "duration": 23,
    "start_time": "2021-08-16T07:41:11.849Z"
   },
   {
    "duration": 93,
    "start_time": "2021-08-16T07:41:11.874Z"
   },
   {
    "duration": 12,
    "start_time": "2021-08-16T07:41:11.970Z"
   },
   {
    "duration": 17,
    "start_time": "2021-08-16T07:41:11.985Z"
   },
   {
    "duration": 17,
    "start_time": "2021-08-16T07:41:12.005Z"
   },
   {
    "duration": 55,
    "start_time": "2021-08-16T07:41:12.025Z"
   },
   {
    "duration": 93,
    "start_time": "2021-08-16T07:41:12.083Z"
   },
   {
    "duration": 1428,
    "start_time": "2021-08-16T07:41:12.178Z"
   },
   {
    "duration": 28,
    "start_time": "2021-08-16T07:41:13.609Z"
   },
   {
    "duration": 91,
    "start_time": "2021-08-16T07:41:13.639Z"
   },
   {
    "duration": 12,
    "start_time": "2021-08-16T07:41:13.732Z"
   },
   {
    "duration": 21,
    "start_time": "2021-08-16T07:41:13.747Z"
   },
   {
    "duration": 12,
    "start_time": "2021-08-16T07:41:13.773Z"
   },
   {
    "duration": 9,
    "start_time": "2021-08-16T07:41:13.788Z"
   },
   {
    "duration": 9,
    "start_time": "2021-08-16T07:41:13.799Z"
   },
   {
    "duration": 62,
    "start_time": "2021-08-16T07:41:13.810Z"
   },
   {
    "duration": 49,
    "start_time": "2021-08-16T07:41:13.874Z"
   },
   {
    "duration": 282,
    "start_time": "2021-08-16T07:41:13.926Z"
   },
   {
    "duration": 61,
    "start_time": "2021-08-16T07:41:14.211Z"
   },
   {
    "duration": 49,
    "start_time": "2021-08-16T07:41:14.274Z"
   },
   {
    "duration": 104,
    "start_time": "2021-08-16T07:41:14.325Z"
   },
   {
    "duration": 2141,
    "start_time": "2021-08-16T07:41:14.431Z"
   },
   {
    "duration": 9,
    "start_time": "2021-08-16T07:41:16.575Z"
   },
   {
    "duration": 25,
    "start_time": "2021-08-16T07:41:16.586Z"
   },
   {
    "duration": 54,
    "start_time": "2021-08-16T07:42:49.051Z"
   },
   {
    "duration": 101,
    "start_time": "2021-08-16T08:03:22.635Z"
   },
   {
    "duration": 2005,
    "start_time": "2021-08-16T08:03:38.392Z"
   },
   {
    "duration": 190,
    "start_time": "2021-08-16T08:03:40.401Z"
   },
   {
    "duration": 128,
    "start_time": "2021-08-16T08:03:40.594Z"
   },
   {
    "duration": 101,
    "start_time": "2021-08-16T08:03:40.725Z"
   },
   {
    "duration": 13,
    "start_time": "2021-08-16T08:03:40.828Z"
   },
   {
    "duration": 37,
    "start_time": "2021-08-16T08:03:40.843Z"
   },
   {
    "duration": 10,
    "start_time": "2021-08-16T08:03:40.882Z"
   },
   {
    "duration": 73,
    "start_time": "2021-08-16T08:03:40.897Z"
   },
   {
    "duration": 11,
    "start_time": "2021-08-16T08:03:40.975Z"
   },
   {
    "duration": 9,
    "start_time": "2021-08-16T08:03:40.989Z"
   },
   {
    "duration": 13,
    "start_time": "2021-08-16T08:03:41.000Z"
   },
   {
    "duration": 110,
    "start_time": "2021-08-16T08:03:41.016Z"
   },
   {
    "duration": 12,
    "start_time": "2021-08-16T08:03:41.128Z"
   },
   {
    "duration": 38,
    "start_time": "2021-08-16T08:03:41.142Z"
   },
   {
    "duration": 36,
    "start_time": "2021-08-16T08:03:41.182Z"
   },
   {
    "duration": 7092,
    "start_time": "2021-08-16T08:03:41.221Z"
   },
   {
    "duration": -47,
    "start_time": "2021-08-16T08:03:48.363Z"
   },
   {
    "duration": -62,
    "start_time": "2021-08-16T08:03:48.379Z"
   },
   {
    "duration": -62,
    "start_time": "2021-08-16T08:03:48.381Z"
   },
   {
    "duration": -63,
    "start_time": "2021-08-16T08:03:48.383Z"
   },
   {
    "duration": -69,
    "start_time": "2021-08-16T08:03:48.390Z"
   },
   {
    "duration": -71,
    "start_time": "2021-08-16T08:03:48.393Z"
   },
   {
    "duration": -71,
    "start_time": "2021-08-16T08:03:48.395Z"
   },
   {
    "duration": -72,
    "start_time": "2021-08-16T08:03:48.397Z"
   },
   {
    "duration": -73,
    "start_time": "2021-08-16T08:03:48.399Z"
   },
   {
    "duration": -76,
    "start_time": "2021-08-16T08:03:48.404Z"
   },
   {
    "duration": -78,
    "start_time": "2021-08-16T08:03:48.407Z"
   },
   {
    "duration": -79,
    "start_time": "2021-08-16T08:03:48.409Z"
   },
   {
    "duration": -79,
    "start_time": "2021-08-16T08:03:48.411Z"
   },
   {
    "duration": -80,
    "start_time": "2021-08-16T08:03:48.413Z"
   },
   {
    "duration": -81,
    "start_time": "2021-08-16T08:03:48.415Z"
   },
   {
    "duration": -81,
    "start_time": "2021-08-16T08:03:48.417Z"
   },
   {
    "duration": -85,
    "start_time": "2021-08-16T08:03:48.422Z"
   },
   {
    "duration": -86,
    "start_time": "2021-08-16T08:03:48.424Z"
   },
   {
    "duration": -88,
    "start_time": "2021-08-16T08:03:48.427Z"
   },
   {
    "duration": 448,
    "start_time": "2021-08-16T08:06:12.801Z"
   },
   {
    "duration": 417,
    "start_time": "2021-08-16T08:06:28.882Z"
   },
   {
    "duration": 2839,
    "start_time": "2021-08-16T08:06:35.319Z"
   },
   {
    "duration": 406,
    "start_time": "2021-08-16T08:06:58.937Z"
   },
   {
    "duration": 2910,
    "start_time": "2021-08-16T08:07:12.505Z"
   },
   {
    "duration": 8,
    "start_time": "2021-08-16T08:08:54.322Z"
   },
   {
    "duration": 543,
    "start_time": "2021-08-16T08:10:05.271Z"
   },
   {
    "duration": 445,
    "start_time": "2021-08-16T08:10:24.639Z"
   },
   {
    "duration": 686,
    "start_time": "2021-08-16T08:11:26.929Z"
   },
   {
    "duration": 734,
    "start_time": "2021-08-16T08:13:14.179Z"
   },
   {
    "duration": 673,
    "start_time": "2021-08-16T08:13:24.219Z"
   },
   {
    "duration": 2065,
    "start_time": "2021-08-16T08:17:54.667Z"
   },
   {
    "duration": 2001,
    "start_time": "2021-08-16T08:18:15.058Z"
   },
   {
    "duration": 2168,
    "start_time": "2021-08-16T08:18:50.971Z"
   },
   {
    "duration": 1951,
    "start_time": "2021-08-16T08:19:28.025Z"
   },
   {
    "duration": 292,
    "start_time": "2021-08-16T08:22:09.542Z"
   },
   {
    "duration": 2691,
    "start_time": "2021-08-16T08:22:20.441Z"
   },
   {
    "duration": 293,
    "start_time": "2021-08-16T08:22:50.999Z"
   },
   {
    "duration": 329,
    "start_time": "2021-08-16T08:23:11.143Z"
   },
   {
    "duration": 301,
    "start_time": "2021-08-16T08:23:27.297Z"
   },
   {
    "duration": 11,
    "start_time": "2021-08-16T08:32:18.943Z"
   },
   {
    "duration": 2006,
    "start_time": "2021-08-16T08:33:04.287Z"
   },
   {
    "duration": 2194,
    "start_time": "2021-08-16T08:34:37.766Z"
   },
   {
    "duration": 189,
    "start_time": "2021-08-16T08:34:39.963Z"
   },
   {
    "duration": 109,
    "start_time": "2021-08-16T08:34:40.168Z"
   },
   {
    "duration": 95,
    "start_time": "2021-08-16T08:34:40.279Z"
   },
   {
    "duration": 12,
    "start_time": "2021-08-16T08:34:40.376Z"
   },
   {
    "duration": 15,
    "start_time": "2021-08-16T08:34:40.390Z"
   },
   {
    "duration": 5,
    "start_time": "2021-08-16T08:34:40.409Z"
   },
   {
    "duration": 83,
    "start_time": "2021-08-16T08:34:40.416Z"
   },
   {
    "duration": 9,
    "start_time": "2021-08-16T08:34:40.501Z"
   },
   {
    "duration": 8,
    "start_time": "2021-08-16T08:34:40.512Z"
   },
   {
    "duration": 12,
    "start_time": "2021-08-16T08:34:40.523Z"
   },
   {
    "duration": 97,
    "start_time": "2021-08-16T08:34:40.538Z"
   },
   {
    "duration": 33,
    "start_time": "2021-08-16T08:34:40.637Z"
   },
   {
    "duration": 17,
    "start_time": "2021-08-16T08:34:40.673Z"
   },
   {
    "duration": 17,
    "start_time": "2021-08-16T08:34:40.693Z"
   },
   {
    "duration": 2064,
    "start_time": "2021-08-16T08:34:40.712Z"
   },
   {
    "duration": 2092,
    "start_time": "2021-08-16T08:34:42.779Z"
   },
   {
    "duration": 17,
    "start_time": "2021-08-16T08:34:44.874Z"
   },
   {
    "duration": 93,
    "start_time": "2021-08-16T08:34:44.893Z"
   },
   {
    "duration": 1413,
    "start_time": "2021-08-16T08:34:44.989Z"
   },
   {
    "duration": 25,
    "start_time": "2021-08-16T08:34:46.405Z"
   },
   {
    "duration": 93,
    "start_time": "2021-08-16T08:34:46.435Z"
   },
   {
    "duration": 12,
    "start_time": "2021-08-16T08:34:46.530Z"
   },
   {
    "duration": 12,
    "start_time": "2021-08-16T08:34:46.567Z"
   },
   {
    "duration": 24,
    "start_time": "2021-08-16T08:34:46.581Z"
   },
   {
    "duration": 13,
    "start_time": "2021-08-16T08:34:46.608Z"
   },
   {
    "duration": 12,
    "start_time": "2021-08-16T08:34:46.624Z"
   },
   {
    "duration": 48,
    "start_time": "2021-08-16T08:34:46.638Z"
   },
   {
    "duration": 58,
    "start_time": "2021-08-16T08:34:46.688Z"
   },
   {
    "duration": 245,
    "start_time": "2021-08-16T08:34:46.748Z"
   },
   {
    "duration": 56,
    "start_time": "2021-08-16T08:34:46.995Z"
   },
   {
    "duration": 50,
    "start_time": "2021-08-16T08:34:47.068Z"
   },
   {
    "duration": 104,
    "start_time": "2021-08-16T08:34:47.120Z"
   },
   {
    "duration": 2176,
    "start_time": "2021-08-16T08:34:47.226Z"
   },
   {
    "duration": 8,
    "start_time": "2021-08-16T08:34:49.405Z"
   },
   {
    "duration": 17,
    "start_time": "2021-08-16T08:34:49.415Z"
   },
   {
    "duration": 124,
    "start_time": "2021-08-16T08:39:02.695Z"
   },
   {
    "duration": 2150,
    "start_time": "2021-08-16T08:39:20.821Z"
   },
   {
    "duration": 194,
    "start_time": "2021-08-16T08:39:22.974Z"
   },
   {
    "duration": 116,
    "start_time": "2021-08-16T08:39:23.172Z"
   },
   {
    "duration": 97,
    "start_time": "2021-08-16T08:39:23.291Z"
   },
   {
    "duration": 15,
    "start_time": "2021-08-16T08:39:23.392Z"
   },
   {
    "duration": 19,
    "start_time": "2021-08-16T08:39:23.410Z"
   },
   {
    "duration": 35,
    "start_time": "2021-08-16T08:39:23.432Z"
   },
   {
    "duration": 55,
    "start_time": "2021-08-16T08:39:23.472Z"
   },
   {
    "duration": 40,
    "start_time": "2021-08-16T08:39:23.532Z"
   },
   {
    "duration": 8,
    "start_time": "2021-08-16T08:39:23.575Z"
   },
   {
    "duration": 11,
    "start_time": "2021-08-16T08:39:23.586Z"
   },
   {
    "duration": 106,
    "start_time": "2021-08-16T08:39:23.600Z"
   },
   {
    "duration": 13,
    "start_time": "2021-08-16T08:39:23.709Z"
   },
   {
    "duration": 45,
    "start_time": "2021-08-16T08:39:23.724Z"
   },
   {
    "duration": 19,
    "start_time": "2021-08-16T08:39:23.772Z"
   },
   {
    "duration": 2063,
    "start_time": "2021-08-16T08:39:23.794Z"
   },
   {
    "duration": 2128,
    "start_time": "2021-08-16T08:39:25.867Z"
   },
   {
    "duration": 20,
    "start_time": "2021-08-16T08:39:27.998Z"
   },
   {
    "duration": 103,
    "start_time": "2021-08-16T08:39:28.021Z"
   },
   {
    "duration": 1480,
    "start_time": "2021-08-16T08:39:28.127Z"
   },
   {
    "duration": 26,
    "start_time": "2021-08-16T08:39:29.610Z"
   },
   {
    "duration": 94,
    "start_time": "2021-08-16T08:39:29.638Z"
   },
   {
    "duration": 12,
    "start_time": "2021-08-16T08:39:29.737Z"
   },
   {
    "duration": 6,
    "start_time": "2021-08-16T08:39:29.768Z"
   },
   {
    "duration": 18,
    "start_time": "2021-08-16T08:39:29.776Z"
   },
   {
    "duration": 11,
    "start_time": "2021-08-16T08:39:29.797Z"
   },
   {
    "duration": 12,
    "start_time": "2021-08-16T08:39:29.811Z"
   },
   {
    "duration": 64,
    "start_time": "2021-08-16T08:39:29.825Z"
   },
   {
    "duration": 52,
    "start_time": "2021-08-16T08:39:29.891Z"
   },
   {
    "duration": 254,
    "start_time": "2021-08-16T08:39:29.946Z"
   },
   {
    "duration": 67,
    "start_time": "2021-08-16T08:39:30.202Z"
   },
   {
    "duration": 52,
    "start_time": "2021-08-16T08:39:30.271Z"
   },
   {
    "duration": 103,
    "start_time": "2021-08-16T08:39:30.326Z"
   },
   {
    "duration": 2224,
    "start_time": "2021-08-16T08:39:30.432Z"
   },
   {
    "duration": 16,
    "start_time": "2021-08-16T08:39:32.658Z"
   },
   {
    "duration": 25,
    "start_time": "2021-08-16T08:39:32.677Z"
   },
   {
    "duration": 433,
    "start_time": "2021-08-16T08:44:41.010Z"
   },
   {
    "duration": 1999,
    "start_time": "2021-08-16T08:53:56.170Z"
   },
   {
    "duration": 185,
    "start_time": "2021-08-16T08:53:58.172Z"
   },
   {
    "duration": 112,
    "start_time": "2021-08-16T08:53:58.360Z"
   },
   {
    "duration": 94,
    "start_time": "2021-08-16T08:53:58.475Z"
   },
   {
    "duration": 13,
    "start_time": "2021-08-16T08:53:58.572Z"
   },
   {
    "duration": 21,
    "start_time": "2021-08-16T08:53:58.587Z"
   },
   {
    "duration": 6,
    "start_time": "2021-08-16T08:53:58.611Z"
   },
   {
    "duration": 88,
    "start_time": "2021-08-16T08:53:58.621Z"
   },
   {
    "duration": 9,
    "start_time": "2021-08-16T08:53:58.712Z"
   },
   {
    "duration": 7,
    "start_time": "2021-08-16T08:53:58.723Z"
   },
   {
    "duration": 37,
    "start_time": "2021-08-16T08:53:58.732Z"
   },
   {
    "duration": 78,
    "start_time": "2021-08-16T08:53:58.772Z"
   },
   {
    "duration": 12,
    "start_time": "2021-08-16T08:53:58.866Z"
   },
   {
    "duration": 18,
    "start_time": "2021-08-16T08:53:58.880Z"
   },
   {
    "duration": 18,
    "start_time": "2021-08-16T08:53:58.900Z"
   },
   {
    "duration": 2199,
    "start_time": "2021-08-16T08:53:58.921Z"
   },
   {
    "duration": 2240,
    "start_time": "2021-08-16T08:54:01.122Z"
   },
   {
    "duration": 20,
    "start_time": "2021-08-16T08:54:03.368Z"
   },
   {
    "duration": 94,
    "start_time": "2021-08-16T08:54:03.391Z"
   },
   {
    "duration": 1456,
    "start_time": "2021-08-16T08:54:03.488Z"
   },
   {
    "duration": 4,
    "start_time": "2021-08-16T08:54:04.947Z"
   },
   {
    "duration": 1573,
    "start_time": "2021-08-16T08:54:04.953Z"
   },
   {
    "duration": 92,
    "start_time": "2021-08-16T08:54:06.533Z"
   },
   {
    "duration": 15,
    "start_time": "2021-08-16T08:54:06.629Z"
   },
   {
    "duration": 6,
    "start_time": "2021-08-16T08:54:06.667Z"
   },
   {
    "duration": 23,
    "start_time": "2021-08-16T08:54:06.675Z"
   },
   {
    "duration": 14,
    "start_time": "2021-08-16T08:54:06.701Z"
   },
   {
    "duration": 15,
    "start_time": "2021-08-16T08:54:06.717Z"
   },
   {
    "duration": 47,
    "start_time": "2021-08-16T08:54:06.734Z"
   },
   {
    "duration": 53,
    "start_time": "2021-08-16T08:54:06.785Z"
   },
   {
    "duration": 167,
    "start_time": "2021-08-16T08:54:06.841Z"
   },
   {
    "duration": 64,
    "start_time": "2021-08-16T08:54:07.011Z"
   },
   {
    "duration": 49,
    "start_time": "2021-08-16T08:54:07.078Z"
   },
   {
    "duration": 100,
    "start_time": "2021-08-16T08:54:07.129Z"
   },
   {
    "duration": 2096,
    "start_time": "2021-08-16T08:54:07.231Z"
   },
   {
    "duration": 9,
    "start_time": "2021-08-16T08:54:09.330Z"
   },
   {
    "duration": 42,
    "start_time": "2021-08-16T08:54:09.342Z"
   },
   {
    "duration": 87,
    "start_time": "2021-08-16T08:56:01.683Z"
   },
   {
    "duration": 137,
    "start_time": "2021-08-16T08:56:19.658Z"
   },
   {
    "duration": 120,
    "start_time": "2021-08-16T08:56:37.078Z"
   },
   {
    "duration": 123,
    "start_time": "2021-08-16T08:56:45.132Z"
   },
   {
    "duration": 93,
    "start_time": "2021-08-16T08:57:52.033Z"
   },
   {
    "duration": 1957,
    "start_time": "2021-08-16T09:01:22.187Z"
   },
   {
    "duration": 177,
    "start_time": "2021-08-16T09:01:24.147Z"
   },
   {
    "duration": 115,
    "start_time": "2021-08-16T09:01:24.331Z"
   },
   {
    "duration": 91,
    "start_time": "2021-08-16T09:01:24.448Z"
   },
   {
    "duration": 24,
    "start_time": "2021-08-16T09:01:24.542Z"
   },
   {
    "duration": 14,
    "start_time": "2021-08-16T09:01:24.569Z"
   },
   {
    "duration": 4,
    "start_time": "2021-08-16T09:01:24.587Z"
   },
   {
    "duration": 82,
    "start_time": "2021-08-16T09:01:24.594Z"
   },
   {
    "duration": 12,
    "start_time": "2021-08-16T09:01:24.679Z"
   },
   {
    "duration": 8,
    "start_time": "2021-08-16T09:01:24.694Z"
   },
   {
    "duration": 13,
    "start_time": "2021-08-16T09:01:24.705Z"
   },
   {
    "duration": 109,
    "start_time": "2021-08-16T09:01:24.721Z"
   },
   {
    "duration": 35,
    "start_time": "2021-08-16T09:01:24.833Z"
   },
   {
    "duration": 17,
    "start_time": "2021-08-16T09:01:24.871Z"
   },
   {
    "duration": 21,
    "start_time": "2021-08-16T09:01:24.890Z"
   },
   {
    "duration": 2154,
    "start_time": "2021-08-16T09:01:24.913Z"
   },
   {
    "duration": 2122,
    "start_time": "2021-08-16T09:01:27.069Z"
   },
   {
    "duration": 20,
    "start_time": "2021-08-16T09:01:29.194Z"
   },
   {
    "duration": 102,
    "start_time": "2021-08-16T09:01:29.217Z"
   },
   {
    "duration": 1447,
    "start_time": "2021-08-16T09:01:29.322Z"
   },
   {
    "duration": 4,
    "start_time": "2021-08-16T09:01:30.773Z"
   },
   {
    "duration": 1609,
    "start_time": "2021-08-16T09:01:30.784Z"
   },
   {
    "duration": 82,
    "start_time": "2021-08-16T09:01:32.396Z"
   },
   {
    "duration": 11,
    "start_time": "2021-08-16T09:01:32.480Z"
   },
   {
    "duration": 17,
    "start_time": "2021-08-16T09:01:32.494Z"
   },
   {
    "duration": 16,
    "start_time": "2021-08-16T09:01:32.514Z"
   },
   {
    "duration": 11,
    "start_time": "2021-08-16T09:01:32.533Z"
   },
   {
    "duration": 36,
    "start_time": "2021-08-16T09:01:32.547Z"
   },
   {
    "duration": 31,
    "start_time": "2021-08-16T09:01:32.585Z"
   },
   {
    "duration": 63,
    "start_time": "2021-08-16T09:01:32.618Z"
   },
   {
    "duration": 133,
    "start_time": "2021-08-16T09:01:32.685Z"
   },
   {
    "duration": 65,
    "start_time": "2021-08-16T09:01:32.821Z"
   },
   {
    "duration": 47,
    "start_time": "2021-08-16T09:01:32.888Z"
   },
   {
    "duration": 101,
    "start_time": "2021-08-16T09:01:32.938Z"
   },
   {
    "duration": 2104,
    "start_time": "2021-08-16T09:01:33.041Z"
   },
   {
    "duration": 21,
    "start_time": "2021-08-16T09:01:35.147Z"
   },
   {
    "duration": 27,
    "start_time": "2021-08-16T09:01:35.170Z"
   },
   {
    "duration": 2040,
    "start_time": "2021-08-16T09:05:50.928Z"
   },
   {
    "duration": 196,
    "start_time": "2021-08-16T09:05:52.971Z"
   },
   {
    "duration": 114,
    "start_time": "2021-08-16T09:05:53.170Z"
   },
   {
    "duration": 93,
    "start_time": "2021-08-16T09:05:53.287Z"
   },
   {
    "duration": 13,
    "start_time": "2021-08-16T09:05:53.382Z"
   },
   {
    "duration": 17,
    "start_time": "2021-08-16T09:05:53.398Z"
   },
   {
    "duration": 7,
    "start_time": "2021-08-16T09:05:53.417Z"
   },
   {
    "duration": 82,
    "start_time": "2021-08-16T09:05:53.427Z"
   },
   {
    "duration": 9,
    "start_time": "2021-08-16T09:05:53.512Z"
   },
   {
    "duration": 8,
    "start_time": "2021-08-16T09:05:53.524Z"
   },
   {
    "duration": 34,
    "start_time": "2021-08-16T09:05:53.535Z"
   },
   {
    "duration": 77,
    "start_time": "2021-08-16T09:05:53.572Z"
   },
   {
    "duration": 12,
    "start_time": "2021-08-16T09:05:53.668Z"
   },
   {
    "duration": 15,
    "start_time": "2021-08-16T09:05:53.683Z"
   },
   {
    "duration": 19,
    "start_time": "2021-08-16T09:05:53.701Z"
   },
   {
    "duration": 2096,
    "start_time": "2021-08-16T09:05:53.722Z"
   },
   {
    "duration": 2135,
    "start_time": "2021-08-16T09:05:55.820Z"
   },
   {
    "duration": 19,
    "start_time": "2021-08-16T09:05:57.966Z"
   },
   {
    "duration": 88,
    "start_time": "2021-08-16T09:05:57.988Z"
   },
   {
    "duration": 1446,
    "start_time": "2021-08-16T09:05:58.079Z"
   },
   {
    "duration": 40,
    "start_time": "2021-08-16T09:05:59.527Z"
   },
   {
    "duration": 4,
    "start_time": "2021-08-16T09:05:59.569Z"
   },
   {
    "duration": 95,
    "start_time": "2021-08-16T09:05:59.579Z"
   },
   {
    "duration": 11,
    "start_time": "2021-08-16T09:05:59.677Z"
   },
   {
    "duration": 6,
    "start_time": "2021-08-16T09:05:59.691Z"
   },
   {
    "duration": 17,
    "start_time": "2021-08-16T09:05:59.699Z"
   },
   {
    "duration": 7,
    "start_time": "2021-08-16T09:05:59.719Z"
   },
   {
    "duration": 44,
    "start_time": "2021-08-16T09:05:59.728Z"
   },
   {
    "duration": 44,
    "start_time": "2021-08-16T09:05:59.774Z"
   },
   {
    "duration": 64,
    "start_time": "2021-08-16T09:05:59.820Z"
   },
   {
    "duration": 243,
    "start_time": "2021-08-16T09:05:59.887Z"
   },
   {
    "duration": 62,
    "start_time": "2021-08-16T09:06:00.132Z"
   },
   {
    "duration": 87,
    "start_time": "2021-08-16T09:06:00.197Z"
   },
   {
    "duration": 93,
    "start_time": "2021-08-16T09:06:00.287Z"
   },
   {
    "duration": 2312,
    "start_time": "2021-08-16T09:06:00.382Z"
   },
   {
    "duration": 9,
    "start_time": "2021-08-16T09:06:02.697Z"
   },
   {
    "duration": 21,
    "start_time": "2021-08-16T09:06:02.708Z"
   },
   {
    "duration": 1988,
    "start_time": "2021-08-16T09:08:42.256Z"
   },
   {
    "duration": 174,
    "start_time": "2021-08-16T09:08:44.247Z"
   },
   {
    "duration": 117,
    "start_time": "2021-08-16T09:08:44.425Z"
   },
   {
    "duration": 93,
    "start_time": "2021-08-16T09:08:44.545Z"
   },
   {
    "duration": 28,
    "start_time": "2021-08-16T09:08:44.641Z"
   },
   {
    "duration": 16,
    "start_time": "2021-08-16T09:08:44.674Z"
   },
   {
    "duration": 4,
    "start_time": "2021-08-16T09:08:44.694Z"
   },
   {
    "duration": 91,
    "start_time": "2021-08-16T09:08:44.701Z"
   },
   {
    "duration": 8,
    "start_time": "2021-08-16T09:08:44.795Z"
   },
   {
    "duration": 7,
    "start_time": "2021-08-16T09:08:44.806Z"
   },
   {
    "duration": 9,
    "start_time": "2021-08-16T09:08:44.816Z"
   },
   {
    "duration": 102,
    "start_time": "2021-08-16T09:08:44.827Z"
   },
   {
    "duration": 12,
    "start_time": "2021-08-16T09:08:44.932Z"
   },
   {
    "duration": 32,
    "start_time": "2021-08-16T09:08:44.946Z"
   },
   {
    "duration": 18,
    "start_time": "2021-08-16T09:08:44.981Z"
   },
   {
    "duration": 2018,
    "start_time": "2021-08-16T09:08:45.002Z"
   },
   {
    "duration": 2084,
    "start_time": "2021-08-16T09:08:47.022Z"
   },
   {
    "duration": 17,
    "start_time": "2021-08-16T09:08:49.111Z"
   },
   {
    "duration": 93,
    "start_time": "2021-08-16T09:08:49.131Z"
   },
   {
    "duration": 1431,
    "start_time": "2021-08-16T09:08:49.227Z"
   },
   {
    "duration": 24,
    "start_time": "2021-08-16T09:08:50.660Z"
   },
   {
    "duration": 3,
    "start_time": "2021-08-16T09:08:50.686Z"
   },
   {
    "duration": 103,
    "start_time": "2021-08-16T09:08:50.692Z"
   },
   {
    "duration": 15,
    "start_time": "2021-08-16T09:08:50.797Z"
   },
   {
    "duration": 9,
    "start_time": "2021-08-16T09:08:50.815Z"
   },
   {
    "duration": 13,
    "start_time": "2021-08-16T09:08:50.826Z"
   },
   {
    "duration": 31,
    "start_time": "2021-08-16T09:08:50.842Z"
   },
   {
    "duration": 15,
    "start_time": "2021-08-16T09:08:50.876Z"
   },
   {
    "duration": 28,
    "start_time": "2021-08-16T09:08:50.893Z"
   },
   {
    "duration": 81,
    "start_time": "2021-08-16T09:08:50.924Z"
   },
   {
    "duration": 224,
    "start_time": "2021-08-16T09:08:51.008Z"
   },
   {
    "duration": 59,
    "start_time": "2021-08-16T09:08:51.234Z"
   },
   {
    "duration": 48,
    "start_time": "2021-08-16T09:08:51.296Z"
   },
   {
    "duration": 97,
    "start_time": "2021-08-16T09:08:51.346Z"
   },
   {
    "duration": 2155,
    "start_time": "2021-08-16T09:08:51.446Z"
   },
   {
    "duration": 8,
    "start_time": "2021-08-16T09:08:53.603Z"
   },
   {
    "duration": 23,
    "start_time": "2021-08-16T09:08:53.614Z"
   },
   {
    "duration": 5,
    "start_time": "2021-08-16T09:09:59.733Z"
   },
   {
    "duration": 7,
    "start_time": "2021-08-16T09:29:05.042Z"
   },
   {
    "duration": 5,
    "start_time": "2021-08-16T09:29:55.732Z"
   },
   {
    "duration": 6,
    "start_time": "2021-08-16T09:30:28.637Z"
   },
   {
    "duration": 2174,
    "start_time": "2021-08-16T09:41:14.034Z"
   },
   {
    "duration": 4309,
    "start_time": "2021-08-16T09:42:24.041Z"
   },
   {
    "duration": 3647,
    "start_time": "2021-08-16T09:42:47.851Z"
   },
   {
    "duration": 2967,
    "start_time": "2021-08-16T09:44:14.219Z"
   },
   {
    "duration": 2365,
    "start_time": "2021-08-16T09:44:30.404Z"
   },
   {
    "duration": 3096,
    "start_time": "2021-08-16T09:45:14.715Z"
   },
   {
    "duration": 2210,
    "start_time": "2021-08-16T09:45:39.052Z"
   },
   {
    "duration": 2249,
    "start_time": "2021-08-16T09:45:56.176Z"
   },
   {
    "duration": 2994,
    "start_time": "2021-08-16T09:46:32.829Z"
   },
   {
    "duration": 3276,
    "start_time": "2021-08-16T09:47:01.260Z"
   },
   {
    "duration": 2101,
    "start_time": "2021-08-16T09:47:09.787Z"
   },
   {
    "duration": 3448,
    "start_time": "2021-08-16T09:47:17.942Z"
   },
   {
    "duration": 3000,
    "start_time": "2021-08-16T09:47:27.818Z"
   },
   {
    "duration": 1967,
    "start_time": "2021-08-16T09:50:59.120Z"
   },
   {
    "duration": 186,
    "start_time": "2021-08-16T09:51:01.089Z"
   },
   {
    "duration": 120,
    "start_time": "2021-08-16T09:51:01.279Z"
   },
   {
    "duration": 94,
    "start_time": "2021-08-16T09:51:01.401Z"
   },
   {
    "duration": 13,
    "start_time": "2021-08-16T09:51:01.497Z"
   },
   {
    "duration": 36,
    "start_time": "2021-08-16T09:51:01.513Z"
   },
   {
    "duration": 38,
    "start_time": "2021-08-16T09:51:01.551Z"
   },
   {
    "duration": 82,
    "start_time": "2021-08-16T09:51:01.593Z"
   },
   {
    "duration": 18,
    "start_time": "2021-08-16T09:51:01.678Z"
   },
   {
    "duration": 28,
    "start_time": "2021-08-16T09:51:01.699Z"
   },
   {
    "duration": 31,
    "start_time": "2021-08-16T09:51:01.729Z"
   },
   {
    "duration": 84,
    "start_time": "2021-08-16T09:51:01.763Z"
   },
   {
    "duration": 26,
    "start_time": "2021-08-16T09:51:01.850Z"
   },
   {
    "duration": 73,
    "start_time": "2021-08-16T09:51:01.879Z"
   },
   {
    "duration": 48,
    "start_time": "2021-08-16T09:51:01.955Z"
   },
   {
    "duration": 2460,
    "start_time": "2021-08-16T09:51:02.006Z"
   },
   {
    "duration": 2230,
    "start_time": "2021-08-16T09:51:04.469Z"
   },
   {
    "duration": 18,
    "start_time": "2021-08-16T09:51:06.701Z"
   },
   {
    "duration": 95,
    "start_time": "2021-08-16T09:51:06.722Z"
   },
   {
    "duration": 1451,
    "start_time": "2021-08-16T09:51:06.819Z"
   },
   {
    "duration": 24,
    "start_time": "2021-08-16T09:51:08.272Z"
   },
   {
    "duration": 17,
    "start_time": "2021-08-16T09:51:08.299Z"
   },
   {
    "duration": 91,
    "start_time": "2021-08-16T09:51:08.321Z"
   },
   {
    "duration": 11,
    "start_time": "2021-08-16T09:51:08.415Z"
   },
   {
    "duration": 21,
    "start_time": "2021-08-16T09:51:08.428Z"
   },
   {
    "duration": 34,
    "start_time": "2021-08-16T09:51:08.452Z"
   },
   {
    "duration": 35,
    "start_time": "2021-08-16T09:51:08.489Z"
   },
   {
    "duration": 48,
    "start_time": "2021-08-16T09:51:08.527Z"
   },
   {
    "duration": 39,
    "start_time": "2021-08-16T09:51:08.577Z"
   },
   {
    "duration": 76,
    "start_time": "2021-08-16T09:51:08.619Z"
   },
   {
    "duration": 208,
    "start_time": "2021-08-16T09:51:08.697Z"
   },
   {
    "duration": 3,
    "start_time": "2021-08-16T09:51:08.907Z"
   },
   {
    "duration": 67,
    "start_time": "2021-08-16T09:51:08.912Z"
   },
   {
    "duration": 47,
    "start_time": "2021-08-16T09:51:08.981Z"
   },
   {
    "duration": 102,
    "start_time": "2021-08-16T09:51:09.031Z"
   },
   {
    "duration": 2176,
    "start_time": "2021-08-16T09:51:09.135Z"
   },
   {
    "duration": 2882,
    "start_time": "2021-08-16T09:51:11.314Z"
   },
   {
    "duration": 8,
    "start_time": "2021-08-16T09:51:14.200Z"
   },
   {
    "duration": 24,
    "start_time": "2021-08-16T09:51:14.212Z"
   },
   {
    "duration": 1249,
    "start_time": "2021-08-16T09:54:20.088Z"
   },
   {
    "duration": 1959,
    "start_time": "2021-08-16T09:55:49.204Z"
   },
   {
    "duration": 196,
    "start_time": "2021-08-16T09:55:51.166Z"
   },
   {
    "duration": 116,
    "start_time": "2021-08-16T09:55:51.368Z"
   },
   {
    "duration": 101,
    "start_time": "2021-08-16T09:55:51.488Z"
   },
   {
    "duration": 16,
    "start_time": "2021-08-16T09:55:51.592Z"
   },
   {
    "duration": 25,
    "start_time": "2021-08-16T09:55:51.611Z"
   },
   {
    "duration": 28,
    "start_time": "2021-08-16T09:55:51.639Z"
   },
   {
    "duration": 61,
    "start_time": "2021-08-16T09:55:51.673Z"
   },
   {
    "duration": 36,
    "start_time": "2021-08-16T09:55:51.739Z"
   },
   {
    "duration": 9,
    "start_time": "2021-08-16T09:55:51.778Z"
   },
   {
    "duration": 16,
    "start_time": "2021-08-16T09:55:51.790Z"
   },
   {
    "duration": 101,
    "start_time": "2021-08-16T09:55:51.808Z"
   },
   {
    "duration": 12,
    "start_time": "2021-08-16T09:55:51.912Z"
   },
   {
    "duration": 25,
    "start_time": "2021-08-16T09:55:51.926Z"
   },
   {
    "duration": 18,
    "start_time": "2021-08-16T09:55:51.968Z"
   },
   {
    "duration": 2079,
    "start_time": "2021-08-16T09:55:51.988Z"
   },
   {
    "duration": 2108,
    "start_time": "2021-08-16T09:55:54.069Z"
   },
   {
    "duration": 18,
    "start_time": "2021-08-16T09:55:56.180Z"
   },
   {
    "duration": 99,
    "start_time": "2021-08-16T09:55:56.201Z"
   },
   {
    "duration": 1447,
    "start_time": "2021-08-16T09:55:56.303Z"
   },
   {
    "duration": 35,
    "start_time": "2021-08-16T09:55:57.753Z"
   },
   {
    "duration": 4,
    "start_time": "2021-08-16T09:55:57.791Z"
   },
   {
    "duration": 104,
    "start_time": "2021-08-16T09:55:57.802Z"
   },
   {
    "duration": 11,
    "start_time": "2021-08-16T09:55:57.910Z"
   },
   {
    "duration": 5,
    "start_time": "2021-08-16T09:55:57.924Z"
   },
   {
    "duration": 41,
    "start_time": "2021-08-16T09:55:57.931Z"
   },
   {
    "duration": 10,
    "start_time": "2021-08-16T09:55:57.975Z"
   },
   {
    "duration": 16,
    "start_time": "2021-08-16T09:55:57.987Z"
   },
   {
    "duration": 30,
    "start_time": "2021-08-16T09:55:58.006Z"
   },
   {
    "duration": 72,
    "start_time": "2021-08-16T09:55:58.039Z"
   },
   {
    "duration": 223,
    "start_time": "2021-08-16T09:55:58.113Z"
   },
   {
    "duration": 3,
    "start_time": "2021-08-16T09:55:58.339Z"
   },
   {
    "duration": 63,
    "start_time": "2021-08-16T09:55:58.344Z"
   },
   {
    "duration": 59,
    "start_time": "2021-08-16T09:55:58.409Z"
   },
   {
    "duration": 96,
    "start_time": "2021-08-16T09:55:58.471Z"
   },
   {
    "duration": 2191,
    "start_time": "2021-08-16T09:55:58.569Z"
   },
   {
    "duration": 1956,
    "start_time": "2021-08-16T09:59:20.809Z"
   },
   {
    "duration": 185,
    "start_time": "2021-08-16T09:59:22.768Z"
   },
   {
    "duration": 111,
    "start_time": "2021-08-16T09:59:22.957Z"
   },
   {
    "duration": 81,
    "start_time": "2021-08-16T09:59:23.071Z"
   },
   {
    "duration": 13,
    "start_time": "2021-08-16T09:59:23.168Z"
   },
   {
    "duration": 18,
    "start_time": "2021-08-16T09:59:23.184Z"
   },
   {
    "duration": 6,
    "start_time": "2021-08-16T09:59:23.204Z"
   },
   {
    "duration": 88,
    "start_time": "2021-08-16T09:59:23.214Z"
   },
   {
    "duration": 9,
    "start_time": "2021-08-16T09:59:23.305Z"
   },
   {
    "duration": 7,
    "start_time": "2021-08-16T09:59:23.316Z"
   },
   {
    "duration": 10,
    "start_time": "2021-08-16T09:59:23.326Z"
   },
   {
    "duration": 70,
    "start_time": "2021-08-16T09:59:23.367Z"
   },
   {
    "duration": 28,
    "start_time": "2021-08-16T09:59:23.439Z"
   },
   {
    "duration": 17,
    "start_time": "2021-08-16T09:59:23.469Z"
   },
   {
    "duration": 17,
    "start_time": "2021-08-16T09:59:23.488Z"
   },
   {
    "duration": 2174,
    "start_time": "2021-08-16T09:59:23.507Z"
   },
   {
    "duration": 2269,
    "start_time": "2021-08-16T09:59:25.684Z"
   },
   {
    "duration": 22,
    "start_time": "2021-08-16T09:59:27.955Z"
   },
   {
    "duration": 89,
    "start_time": "2021-08-16T09:59:27.980Z"
   },
   {
    "duration": 1453,
    "start_time": "2021-08-16T09:59:28.071Z"
   },
   {
    "duration": 23,
    "start_time": "2021-08-16T09:59:29.527Z"
   },
   {
    "duration": 16,
    "start_time": "2021-08-16T09:59:29.552Z"
   },
   {
    "duration": 77,
    "start_time": "2021-08-16T09:59:29.573Z"
   },
   {
    "duration": 11,
    "start_time": "2021-08-16T09:59:29.667Z"
   },
   {
    "duration": 5,
    "start_time": "2021-08-16T09:59:29.680Z"
   },
   {
    "duration": 14,
    "start_time": "2021-08-16T09:59:29.687Z"
   },
   {
    "duration": 8,
    "start_time": "2021-08-16T09:59:29.704Z"
   },
   {
    "duration": 10,
    "start_time": "2021-08-16T09:59:29.714Z"
   },
   {
    "duration": 25,
    "start_time": "2021-08-16T09:59:29.767Z"
   },
   {
    "duration": 48,
    "start_time": "2021-08-16T09:59:29.795Z"
   },
   {
    "duration": 329,
    "start_time": "2021-08-16T09:59:29.868Z"
   },
   {
    "duration": 3,
    "start_time": "2021-08-16T09:59:30.199Z"
   },
   {
    "duration": 67,
    "start_time": "2021-08-16T09:59:30.204Z"
   },
   {
    "duration": 47,
    "start_time": "2021-08-16T09:59:30.273Z"
   },
   {
    "duration": 107,
    "start_time": "2021-08-16T09:59:30.322Z"
   },
   {
    "duration": 2238,
    "start_time": "2021-08-16T09:59:30.431Z"
   },
   {
    "duration": 3,
    "start_time": "2021-08-16T09:59:32.672Z"
   },
   {
    "duration": 16,
    "start_time": "2021-08-16T09:59:32.677Z"
   },
   {
    "duration": 23,
    "start_time": "2021-08-16T09:59:32.695Z"
   },
   {
    "duration": 18,
    "start_time": "2021-08-16T10:00:55.108Z"
   },
   {
    "duration": 55,
    "start_time": "2021-08-16T10:42:15.116Z"
   },
   {
    "duration": 44,
    "start_time": "2021-08-16T10:45:42.289Z"
   },
   {
    "duration": 90,
    "start_time": "2021-08-16T10:59:02.690Z"
   },
   {
    "duration": 1973,
    "start_time": "2021-08-16T10:59:26.914Z"
   },
   {
    "duration": 178,
    "start_time": "2021-08-16T10:59:28.889Z"
   },
   {
    "duration": 109,
    "start_time": "2021-08-16T10:59:29.070Z"
   },
   {
    "duration": 93,
    "start_time": "2021-08-16T10:59:29.182Z"
   },
   {
    "duration": 15,
    "start_time": "2021-08-16T10:59:29.277Z"
   },
   {
    "duration": 17,
    "start_time": "2021-08-16T10:59:29.294Z"
   },
   {
    "duration": 9,
    "start_time": "2021-08-16T10:59:29.314Z"
   },
   {
    "duration": 84,
    "start_time": "2021-08-16T10:59:29.327Z"
   },
   {
    "duration": 9,
    "start_time": "2021-08-16T10:59:29.414Z"
   },
   {
    "duration": 6,
    "start_time": "2021-08-16T10:59:29.426Z"
   },
   {
    "duration": 35,
    "start_time": "2021-08-16T10:59:29.435Z"
   },
   {
    "duration": 73,
    "start_time": "2021-08-16T10:59:29.472Z"
   },
   {
    "duration": 30,
    "start_time": "2021-08-16T10:59:29.547Z"
   },
   {
    "duration": 18,
    "start_time": "2021-08-16T10:59:29.580Z"
   },
   {
    "duration": 18,
    "start_time": "2021-08-16T10:59:29.601Z"
   },
   {
    "duration": 2206,
    "start_time": "2021-08-16T10:59:29.621Z"
   },
   {
    "duration": 2116,
    "start_time": "2021-08-16T10:59:31.829Z"
   },
   {
    "duration": 25,
    "start_time": "2021-08-16T10:59:33.948Z"
   },
   {
    "duration": 91,
    "start_time": "2021-08-16T10:59:33.975Z"
   },
   {
    "duration": 1462,
    "start_time": "2021-08-16T10:59:34.069Z"
   },
   {
    "duration": 38,
    "start_time": "2021-08-16T10:59:35.534Z"
   },
   {
    "duration": 7,
    "start_time": "2021-08-16T10:59:35.575Z"
   },
   {
    "duration": 90,
    "start_time": "2021-08-16T10:59:35.587Z"
   },
   {
    "duration": 12,
    "start_time": "2021-08-16T10:59:35.680Z"
   },
   {
    "duration": 17,
    "start_time": "2021-08-16T10:59:35.694Z"
   },
   {
    "duration": 28,
    "start_time": "2021-08-16T10:59:35.713Z"
   },
   {
    "duration": 24,
    "start_time": "2021-08-16T10:59:35.744Z"
   },
   {
    "duration": 15,
    "start_time": "2021-08-16T10:59:35.771Z"
   },
   {
    "duration": 39,
    "start_time": "2021-08-16T10:59:35.788Z"
   },
   {
    "duration": 59,
    "start_time": "2021-08-16T10:59:35.830Z"
   },
   {
    "duration": 220,
    "start_time": "2021-08-16T10:59:35.891Z"
   },
   {
    "duration": 3,
    "start_time": "2021-08-16T10:59:36.113Z"
   },
   {
    "duration": 65,
    "start_time": "2021-08-16T10:59:36.118Z"
   },
   {
    "duration": 46,
    "start_time": "2021-08-16T10:59:36.186Z"
   },
   {
    "duration": 101,
    "start_time": "2021-08-16T10:59:36.235Z"
   },
   {
    "duration": 2183,
    "start_time": "2021-08-16T10:59:36.338Z"
   },
   {
    "duration": 3,
    "start_time": "2021-08-16T10:59:38.524Z"
   },
   {
    "duration": 15,
    "start_time": "2021-08-16T10:59:38.530Z"
   },
   {
    "duration": 35,
    "start_time": "2021-08-16T10:59:38.548Z"
   },
   {
    "duration": 45,
    "start_time": "2021-08-16T10:59:38.585Z"
   },
   {
    "duration": 68,
    "start_time": "2021-08-16T10:59:38.632Z"
   },
   {
    "duration": 2002,
    "start_time": "2021-08-16T15:37:09.117Z"
   },
   {
    "duration": 168,
    "start_time": "2021-08-16T15:37:11.126Z"
   },
   {
    "duration": 107,
    "start_time": "2021-08-16T15:37:11.298Z"
   },
   {
    "duration": 96,
    "start_time": "2021-08-16T15:37:11.408Z"
   },
   {
    "duration": 13,
    "start_time": "2021-08-16T15:37:11.507Z"
   },
   {
    "duration": 38,
    "start_time": "2021-08-16T15:37:11.523Z"
   },
   {
    "duration": 3,
    "start_time": "2021-08-16T15:37:11.567Z"
   },
   {
    "duration": 54,
    "start_time": "2021-08-16T15:37:11.573Z"
   },
   {
    "duration": 10,
    "start_time": "2021-08-16T15:37:11.655Z"
   },
   {
    "duration": 10,
    "start_time": "2021-08-16T15:37:11.668Z"
   },
   {
    "duration": 11,
    "start_time": "2021-08-16T15:37:11.681Z"
   },
   {
    "duration": 141,
    "start_time": "2021-08-16T15:37:11.695Z"
   },
   {
    "duration": 23,
    "start_time": "2021-08-16T15:37:11.839Z"
   },
   {
    "duration": 19,
    "start_time": "2021-08-16T15:37:11.865Z"
   },
   {
    "duration": 19,
    "start_time": "2021-08-16T15:37:11.886Z"
   },
   {
    "duration": 2169,
    "start_time": "2021-08-16T15:37:11.908Z"
   },
   {
    "duration": 2104,
    "start_time": "2021-08-16T15:37:14.079Z"
   },
   {
    "duration": 17,
    "start_time": "2021-08-16T15:37:16.185Z"
   },
   {
    "duration": 97,
    "start_time": "2021-08-16T15:37:16.204Z"
   },
   {
    "duration": 1515,
    "start_time": "2021-08-16T15:37:16.303Z"
   },
   {
    "duration": 41,
    "start_time": "2021-08-16T15:37:17.822Z"
   },
   {
    "duration": 3,
    "start_time": "2021-08-16T15:37:17.868Z"
   },
   {
    "duration": 86,
    "start_time": "2021-08-16T15:37:17.874Z"
   },
   {
    "duration": 13,
    "start_time": "2021-08-16T15:37:17.963Z"
   },
   {
    "duration": 5,
    "start_time": "2021-08-16T15:37:17.978Z"
   },
   {
    "duration": 24,
    "start_time": "2021-08-16T15:37:17.985Z"
   },
   {
    "duration": 10,
    "start_time": "2021-08-16T15:37:18.012Z"
   },
   {
    "duration": 34,
    "start_time": "2021-08-16T15:37:18.024Z"
   },
   {
    "duration": 37,
    "start_time": "2021-08-16T15:37:18.060Z"
   },
   {
    "duration": 64,
    "start_time": "2021-08-16T15:37:18.099Z"
   },
   {
    "duration": 214,
    "start_time": "2021-08-16T15:37:18.165Z"
   },
   {
    "duration": 3,
    "start_time": "2021-08-16T15:37:18.382Z"
   },
   {
    "duration": 51,
    "start_time": "2021-08-16T15:37:18.387Z"
   },
   {
    "duration": 49,
    "start_time": "2021-08-16T15:37:18.456Z"
   },
   {
    "duration": 100,
    "start_time": "2021-08-16T15:37:18.507Z"
   },
   {
    "duration": 2065,
    "start_time": "2021-08-16T15:37:18.609Z"
   },
   {
    "duration": 3,
    "start_time": "2021-08-16T15:37:20.676Z"
   },
   {
    "duration": 10,
    "start_time": "2021-08-16T15:37:20.681Z"
   },
   {
    "duration": 27,
    "start_time": "2021-08-16T15:37:20.693Z"
   },
   {
    "duration": 65,
    "start_time": "2021-08-16T15:37:20.723Z"
   },
   {
    "duration": 42,
    "start_time": "2021-08-16T15:37:20.790Z"
   },
   {
    "duration": 1976,
    "start_time": "2021-08-16T18:35:29.292Z"
   },
   {
    "duration": 179,
    "start_time": "2021-08-16T18:35:31.271Z"
   },
   {
    "duration": 114,
    "start_time": "2021-08-16T18:35:31.454Z"
   },
   {
    "duration": 96,
    "start_time": "2021-08-16T18:35:31.572Z"
   },
   {
    "duration": 33,
    "start_time": "2021-08-16T18:35:31.671Z"
   },
   {
    "duration": 20,
    "start_time": "2021-08-16T18:35:31.706Z"
   },
   {
    "duration": 132,
    "start_time": "2021-08-16T18:35:31.729Z"
   },
   {
    "duration": 2733,
    "start_time": "2021-08-16T18:35:29.134Z"
   },
   {
    "duration": 2729,
    "start_time": "2021-08-16T18:35:29.140Z"
   },
   {
    "duration": 2726,
    "start_time": "2021-08-16T18:35:29.145Z"
   },
   {
    "duration": 2723,
    "start_time": "2021-08-16T18:35:29.150Z"
   },
   {
    "duration": 2720,
    "start_time": "2021-08-16T18:35:29.156Z"
   },
   {
    "duration": 2716,
    "start_time": "2021-08-16T18:35:29.162Z"
   },
   {
    "duration": 2709,
    "start_time": "2021-08-16T18:35:29.171Z"
   },
   {
    "duration": 2705,
    "start_time": "2021-08-16T18:35:29.177Z"
   },
   {
    "duration": 2702,
    "start_time": "2021-08-16T18:35:29.182Z"
   },
   {
    "duration": 2700,
    "start_time": "2021-08-16T18:35:29.187Z"
   },
   {
    "duration": 2697,
    "start_time": "2021-08-16T18:35:29.192Z"
   },
   {
    "duration": 2693,
    "start_time": "2021-08-16T18:35:29.198Z"
   },
   {
    "duration": 2689,
    "start_time": "2021-08-16T18:35:29.204Z"
   },
   {
    "duration": 2686,
    "start_time": "2021-08-16T18:35:29.209Z"
   },
   {
    "duration": 2683,
    "start_time": "2021-08-16T18:35:29.215Z"
   },
   {
    "duration": 2681,
    "start_time": "2021-08-16T18:35:29.219Z"
   },
   {
    "duration": 2677,
    "start_time": "2021-08-16T18:35:29.225Z"
   },
   {
    "duration": 2674,
    "start_time": "2021-08-16T18:35:29.230Z"
   },
   {
    "duration": 2663,
    "start_time": "2021-08-16T18:35:29.243Z"
   },
   {
    "duration": 2659,
    "start_time": "2021-08-16T18:35:29.249Z"
   },
   {
    "duration": 2655,
    "start_time": "2021-08-16T18:35:29.255Z"
   },
   {
    "duration": 2652,
    "start_time": "2021-08-16T18:35:29.260Z"
   },
   {
    "duration": 2648,
    "start_time": "2021-08-16T18:35:29.266Z"
   },
   {
    "duration": 2637,
    "start_time": "2021-08-16T18:35:29.280Z"
   },
   {
    "duration": 2633,
    "start_time": "2021-08-16T18:35:29.286Z"
   },
   {
    "duration": 2630,
    "start_time": "2021-08-16T18:35:29.291Z"
   },
   {
    "duration": 2627,
    "start_time": "2021-08-16T18:35:29.296Z"
   },
   {
    "duration": 2625,
    "start_time": "2021-08-16T18:35:29.300Z"
   },
   {
    "duration": 2623,
    "start_time": "2021-08-16T18:35:29.305Z"
   },
   {
    "duration": 2620,
    "start_time": "2021-08-16T18:35:29.310Z"
   },
   {
    "duration": 2618,
    "start_time": "2021-08-16T18:35:29.314Z"
   },
   {
    "duration": 2615,
    "start_time": "2021-08-16T18:35:29.319Z"
   },
   {
    "duration": 2614,
    "start_time": "2021-08-16T18:35:29.324Z"
   },
   {
    "duration": 2611,
    "start_time": "2021-08-16T18:35:29.329Z"
   },
   {
    "duration": 2609,
    "start_time": "2021-08-16T18:35:29.333Z"
   },
   {
    "duration": 1966,
    "start_time": "2021-08-16T18:41:01.101Z"
   },
   {
    "duration": 174,
    "start_time": "2021-08-16T18:41:03.070Z"
   },
   {
    "duration": 109,
    "start_time": "2021-08-16T18:41:03.247Z"
   },
   {
    "duration": 91,
    "start_time": "2021-08-16T18:41:03.359Z"
   },
   {
    "duration": 12,
    "start_time": "2021-08-16T18:41:03.453Z"
   },
   {
    "duration": 36,
    "start_time": "2021-08-16T18:41:03.468Z"
   },
   {
    "duration": 90,
    "start_time": "2021-08-16T18:41:03.507Z"
   },
   {
    "duration": 2754,
    "start_time": "2021-08-16T18:41:00.847Z"
   },
   {
    "duration": 2750,
    "start_time": "2021-08-16T18:41:00.852Z"
   },
   {
    "duration": 2746,
    "start_time": "2021-08-16T18:41:00.857Z"
   },
   {
    "duration": 2741,
    "start_time": "2021-08-16T18:41:00.864Z"
   },
   {
    "duration": 2737,
    "start_time": "2021-08-16T18:41:00.869Z"
   },
   {
    "duration": 2732,
    "start_time": "2021-08-16T18:41:00.875Z"
   },
   {
    "duration": 2714,
    "start_time": "2021-08-16T18:41:00.895Z"
   },
   {
    "duration": 2712,
    "start_time": "2021-08-16T18:41:00.898Z"
   },
   {
    "duration": 2710,
    "start_time": "2021-08-16T18:41:00.901Z"
   },
   {
    "duration": 2709,
    "start_time": "2021-08-16T18:41:00.904Z"
   },
   {
    "duration": 2708,
    "start_time": "2021-08-16T18:41:00.906Z"
   },
   {
    "duration": 2706,
    "start_time": "2021-08-16T18:41:00.910Z"
   },
   {
    "duration": 2704,
    "start_time": "2021-08-16T18:41:00.913Z"
   },
   {
    "duration": 2702,
    "start_time": "2021-08-16T18:41:00.916Z"
   },
   {
    "duration": 2701,
    "start_time": "2021-08-16T18:41:00.919Z"
   },
   {
    "duration": 2700,
    "start_time": "2021-08-16T18:41:00.921Z"
   },
   {
    "duration": 2699,
    "start_time": "2021-08-16T18:41:00.924Z"
   },
   {
    "duration": 2687,
    "start_time": "2021-08-16T18:41:00.937Z"
   },
   {
    "duration": 2687,
    "start_time": "2021-08-16T18:41:00.939Z"
   },
   {
    "duration": 2685,
    "start_time": "2021-08-16T18:41:00.942Z"
   },
   {
    "duration": 2684,
    "start_time": "2021-08-16T18:41:00.945Z"
   },
   {
    "duration": 2683,
    "start_time": "2021-08-16T18:41:00.947Z"
   },
   {
    "duration": 2681,
    "start_time": "2021-08-16T18:41:00.950Z"
   },
   {
    "duration": 2681,
    "start_time": "2021-08-16T18:41:00.952Z"
   },
   {
    "duration": 2676,
    "start_time": "2021-08-16T18:41:00.958Z"
   },
   {
    "duration": 2676,
    "start_time": "2021-08-16T18:41:00.960Z"
   },
   {
    "duration": 2674,
    "start_time": "2021-08-16T18:41:00.963Z"
   },
   {
    "duration": 2672,
    "start_time": "2021-08-16T18:41:00.966Z"
   },
   {
    "duration": 2672,
    "start_time": "2021-08-16T18:41:00.968Z"
   },
   {
    "duration": 2667,
    "start_time": "2021-08-16T18:41:00.974Z"
   },
   {
    "duration": 2667,
    "start_time": "2021-08-16T18:41:00.976Z"
   },
   {
    "duration": 2722,
    "start_time": "2021-08-16T18:41:00.978Z"
   },
   {
    "duration": 2722,
    "start_time": "2021-08-16T18:41:00.980Z"
   },
   {
    "duration": 2720,
    "start_time": "2021-08-16T18:41:00.983Z"
   },
   {
    "duration": 2720,
    "start_time": "2021-08-16T18:41:00.985Z"
   },
   {
    "duration": 1937,
    "start_time": "2021-08-16T18:48:09.445Z"
   },
   {
    "duration": 178,
    "start_time": "2021-08-16T18:48:11.385Z"
   },
   {
    "duration": 107,
    "start_time": "2021-08-16T18:48:11.566Z"
   },
   {
    "duration": 90,
    "start_time": "2021-08-16T18:48:11.676Z"
   },
   {
    "duration": 32,
    "start_time": "2021-08-16T18:48:11.768Z"
   },
   {
    "duration": 16,
    "start_time": "2021-08-16T18:48:11.802Z"
   },
   {
    "duration": 4,
    "start_time": "2021-08-16T18:48:11.821Z"
   },
   {
    "duration": 75,
    "start_time": "2021-08-16T18:48:11.829Z"
   },
   {
    "duration": 10,
    "start_time": "2021-08-16T18:48:11.907Z"
   },
   {
    "duration": 7,
    "start_time": "2021-08-16T18:48:11.920Z"
   },
   {
    "duration": 14,
    "start_time": "2021-08-16T18:48:11.930Z"
   },
   {
    "duration": 104,
    "start_time": "2021-08-16T18:48:11.948Z"
   },
   {
    "duration": 12,
    "start_time": "2021-08-16T18:48:12.054Z"
   },
   {
    "duration": 42,
    "start_time": "2021-08-16T18:48:12.069Z"
   },
   {
    "duration": 18,
    "start_time": "2021-08-16T18:48:12.113Z"
   },
   {
    "duration": 1976,
    "start_time": "2021-08-16T18:48:12.133Z"
   },
   {
    "duration": 2231,
    "start_time": "2021-08-16T18:48:14.112Z"
   },
   {
    "duration": 18,
    "start_time": "2021-08-16T18:48:16.345Z"
   },
   {
    "duration": 95,
    "start_time": "2021-08-16T18:48:16.366Z"
   },
   {
    "duration": 1395,
    "start_time": "2021-08-16T18:48:16.464Z"
   },
   {
    "duration": 39,
    "start_time": "2021-08-16T18:48:17.861Z"
   },
   {
    "duration": 3,
    "start_time": "2021-08-16T18:48:17.903Z"
   },
   {
    "duration": 89,
    "start_time": "2021-08-16T18:48:17.911Z"
   },
   {
    "duration": 12,
    "start_time": "2021-08-16T18:48:18.004Z"
   },
   {
    "duration": 5,
    "start_time": "2021-08-16T18:48:18.018Z"
   },
   {
    "duration": 12,
    "start_time": "2021-08-16T18:48:18.026Z"
   },
   {
    "duration": 7,
    "start_time": "2021-08-16T18:48:18.041Z"
   },
   {
    "duration": 52,
    "start_time": "2021-08-16T18:48:18.050Z"
   },
   {
    "duration": 26,
    "start_time": "2021-08-16T18:48:18.104Z"
   },
   {
    "duration": 71,
    "start_time": "2021-08-16T18:48:18.133Z"
   },
   {
    "duration": 212,
    "start_time": "2021-08-16T18:48:18.206Z"
   },
   {
    "duration": 4,
    "start_time": "2021-08-16T18:48:18.420Z"
   },
   {
    "duration": 48,
    "start_time": "2021-08-16T18:48:18.426Z"
   },
   {
    "duration": 47,
    "start_time": "2021-08-16T18:48:18.500Z"
   },
   {
    "duration": 100,
    "start_time": "2021-08-16T18:48:18.550Z"
   },
   {
    "duration": 2090,
    "start_time": "2021-08-16T18:48:18.652Z"
   },
   {
    "duration": 3,
    "start_time": "2021-08-16T18:48:20.744Z"
   },
   {
    "duration": 9,
    "start_time": "2021-08-16T18:48:20.752Z"
   },
   {
    "duration": 43,
    "start_time": "2021-08-16T18:48:20.763Z"
   },
   {
    "duration": 52,
    "start_time": "2021-08-16T18:48:20.808Z"
   },
   {
    "duration": 67,
    "start_time": "2021-08-16T18:48:20.863Z"
   },
   {
    "duration": 7,
    "start_time": "2021-08-16T20:32:21.446Z"
   },
   {
    "duration": 5,
    "start_time": "2021-08-16T20:32:27.869Z"
   },
   {
    "duration": 8,
    "start_time": "2021-08-16T20:35:50.553Z"
   },
   {
    "duration": 7,
    "start_time": "2021-08-16T20:36:34.870Z"
   },
   {
    "duration": 6,
    "start_time": "2021-08-16T20:36:43.479Z"
   },
   {
    "duration": 7,
    "start_time": "2021-08-16T20:36:48.791Z"
   },
   {
    "duration": 698,
    "start_time": "2021-08-16T20:39:37.030Z"
   },
   {
    "duration": 708,
    "start_time": "2021-08-16T20:39:58.504Z"
   }
  ],
  "kernelspec": {
   "display_name": "Python 3",
   "language": "python",
   "name": "python3"
  },
  "language_info": {
   "codemirror_mode": {
    "name": "ipython",
    "version": 3
   },
   "file_extension": ".py",
   "mimetype": "text/x-python",
   "name": "python",
   "nbconvert_exporter": "python",
   "pygments_lexer": "ipython3",
   "version": "3.7.6"
  },
  "toc": {
   "base_numbering": 1,
   "nav_menu": {},
   "number_sections": true,
   "sideBar": true,
   "skip_h1_title": true,
   "title_cell": "Table of Contents",
   "title_sidebar": "Contents",
   "toc_cell": false,
   "toc_position": {},
   "toc_section_display": true,
   "toc_window_display": false
  }
 },
 "nbformat": 4,
 "nbformat_minor": 2
}
