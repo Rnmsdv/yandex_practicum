{
 "cells": [
  {
   "cell_type": "markdown",
   "metadata": {},
   "source": [
    "# Анализ спроса на билеты для авиакомпании"
   ]
  },
  {
   "cell_type": "markdown",
   "metadata": {},
   "source": [
    "# Описание проекта\n",
    "\n",
    "- Заказчик проекта — российская авиакомпания «F9», основной деятельностью которой являются пассажирские перевозки внутри страны.\n",
    "- Задача проекта — изучить предоставленную базу данных и провести анализ спроса пассажиров на билеты в города, где проходят наиболее массовые фестивали."
   ]
  },
  {
   "cell_type": "markdown",
   "metadata": {},
   "source": [
    "# Описание данных\n",
    "\n",
    "Исследование основано на внутренних данных авиакомпании, предоставленных в виде двух csv-файлов.\n",
    "\n",
    "- /datasets/6_airlines_query_1.csv, где:\n",
    "    - model — модели самолета\n",
    "    - flights_amount — количество рейсов для каждой модели самолетов model в сентябре 2018 года\n",
    "- /datasets/6_airlines_query_3.csv, где:\n",
    "    - city — города\n",
    "    - average_flights — среднее количество рейсов, прибывающих в город city за день в августе 2018 года"
   ]
  },
  {
   "cell_type": "markdown",
   "metadata": {},
   "source": [
    "# Содержание"
   ]
  },
  {
   "cell_type": "markdown",
   "metadata": {},
   "source": [
    "1. [Шаг 1. Загрузка датасета и подготовка его к анализу](#start)\n",
    "    * [Вывод](#start_total)\n",
    "2. [Шаг 2. Предобработка данных](#preprocessing)\n",
    "    * [Вывод](#preprocessing_total)\n",
    "3. [Шаг 3. Топ-10 городов по количеству рейсов](#top_10)\n",
    "    * [Вывод](#top_10_total)\n",
    "4. [Шаг 4. Построение графиков](#graphs)\n",
    "    * [График: модели самолетов и количество рейсов](#graphs_1)\n",
    "    * [График: города и количество рейсов](#graphs_3)\n",
    "    * [График: топ-10 городов и количество рейсов](#graphs_top_10)\n",
    "    * [Вывод](#graphs_total) \n",
    "5. [Итоговый вывод](#total)"
   ]
  },
  {
   "cell_type": "markdown",
   "metadata": {},
   "source": [
    "## Шаг 1. Загрузка датасетов и подготовка их к анализу<a id=\"start\"></a>"
   ]
  },
  {
   "cell_type": "code",
   "execution_count": 1,
   "metadata": {},
   "outputs": [],
   "source": [
    "import pandas as pd\n",
    "import matplotlib.pyplot as plt\n",
    "import seaborn as sns\n",
    "\n",
    "\n",
    "data_1 = pd.read_csv('.../6_airlines_query_1.csv', sep = ',')\n",
    "data_3 = pd.read_csv('.../6_airlines_query_3.csv', sep = ',')"
   ]
  },
  {
   "cell_type": "code",
   "execution_count": 2,
   "metadata": {},
   "outputs": [
    {
     "data": {
      "text/html": [
       "<div>\n",
       "<style scoped>\n",
       "    .dataframe tbody tr th:only-of-type {\n",
       "        vertical-align: middle;\n",
       "    }\n",
       "\n",
       "    .dataframe tbody tr th {\n",
       "        vertical-align: top;\n",
       "    }\n",
       "\n",
       "    .dataframe thead th {\n",
       "        text-align: right;\n",
       "    }\n",
       "</style>\n",
       "<table border=\"1\" class=\"dataframe\">\n",
       "  <thead>\n",
       "    <tr style=\"text-align: right;\">\n",
       "      <th></th>\n",
       "      <th>model</th>\n",
       "      <th>flights_amount</th>\n",
       "    </tr>\n",
       "  </thead>\n",
       "  <tbody>\n",
       "    <tr>\n",
       "      <th>0</th>\n",
       "      <td>Airbus A319-100</td>\n",
       "      <td>607</td>\n",
       "    </tr>\n",
       "    <tr>\n",
       "      <th>1</th>\n",
       "      <td>Airbus A321-200</td>\n",
       "      <td>960</td>\n",
       "    </tr>\n",
       "    <tr>\n",
       "      <th>2</th>\n",
       "      <td>Boeing 737-300</td>\n",
       "      <td>630</td>\n",
       "    </tr>\n",
       "    <tr>\n",
       "      <th>3</th>\n",
       "      <td>Boeing 767-300</td>\n",
       "      <td>600</td>\n",
       "    </tr>\n",
       "    <tr>\n",
       "      <th>4</th>\n",
       "      <td>Boeing 777-300</td>\n",
       "      <td>300</td>\n",
       "    </tr>\n",
       "    <tr>\n",
       "      <th>5</th>\n",
       "      <td>Bombardier CRJ-200</td>\n",
       "      <td>4446</td>\n",
       "    </tr>\n",
       "    <tr>\n",
       "      <th>6</th>\n",
       "      <td>Cessna 208 Caravan</td>\n",
       "      <td>4557</td>\n",
       "    </tr>\n",
       "    <tr>\n",
       "      <th>7</th>\n",
       "      <td>Sukhoi SuperJet-100</td>\n",
       "      <td>4185</td>\n",
       "    </tr>\n",
       "  </tbody>\n",
       "</table>\n",
       "</div>"
      ],
      "text/plain": [
       "                 model  flights_amount\n",
       "0      Airbus A319-100             607\n",
       "1      Airbus A321-200             960\n",
       "2       Boeing 737-300             630\n",
       "3       Boeing 767-300             600\n",
       "4       Boeing 777-300             300\n",
       "5   Bombardier CRJ-200            4446\n",
       "6   Cessna 208 Caravan            4557\n",
       "7  Sukhoi SuperJet-100            4185"
      ]
     },
     "execution_count": 2,
     "metadata": {},
     "output_type": "execute_result"
    }
   ],
   "source": [
    "data_1"
   ]
  },
  {
   "cell_type": "code",
   "execution_count": 3,
   "metadata": {},
   "outputs": [
    {
     "data": {
      "text/plain": [
       "model             0\n",
       "flights_amount    0\n",
       "dtype: int64"
      ]
     },
     "execution_count": 3,
     "metadata": {},
     "output_type": "execute_result"
    }
   ],
   "source": [
    "data_1.isnull().sum()"
   ]
  },
  {
   "cell_type": "code",
   "execution_count": 4,
   "metadata": {},
   "outputs": [
    {
     "name": "stdout",
     "output_type": "stream",
     "text": [
      "<class 'pandas.core.frame.DataFrame'>\n",
      "RangeIndex: 8 entries, 0 to 7\n",
      "Data columns (total 2 columns):\n",
      " #   Column          Non-Null Count  Dtype \n",
      "---  ------          --------------  ----- \n",
      " 0   model           8 non-null      object\n",
      " 1   flights_amount  8 non-null      int64 \n",
      "dtypes: int64(1), object(1)\n",
      "memory usage: 256.0+ bytes\n"
     ]
    }
   ],
   "source": [
    "data_1.info()"
   ]
  },
  {
   "cell_type": "code",
   "execution_count": 5,
   "metadata": {},
   "outputs": [
    {
     "data": {
      "text/html": [
       "<div>\n",
       "<style scoped>\n",
       "    .dataframe tbody tr th:only-of-type {\n",
       "        vertical-align: middle;\n",
       "    }\n",
       "\n",
       "    .dataframe tbody tr th {\n",
       "        vertical-align: top;\n",
       "    }\n",
       "\n",
       "    .dataframe thead th {\n",
       "        text-align: right;\n",
       "    }\n",
       "</style>\n",
       "<table border=\"1\" class=\"dataframe\">\n",
       "  <thead>\n",
       "    <tr style=\"text-align: right;\">\n",
       "      <th></th>\n",
       "      <th>city</th>\n",
       "      <th>average_flights</th>\n",
       "    </tr>\n",
       "  </thead>\n",
       "  <tbody>\n",
       "    <tr>\n",
       "      <th>0</th>\n",
       "      <td>Абакан</td>\n",
       "      <td>3.870968</td>\n",
       "    </tr>\n",
       "    <tr>\n",
       "      <th>1</th>\n",
       "      <td>Анадырь</td>\n",
       "      <td>1.000000</td>\n",
       "    </tr>\n",
       "    <tr>\n",
       "      <th>2</th>\n",
       "      <td>Анапа</td>\n",
       "      <td>2.161290</td>\n",
       "    </tr>\n",
       "    <tr>\n",
       "      <th>3</th>\n",
       "      <td>Архангельск</td>\n",
       "      <td>5.354839</td>\n",
       "    </tr>\n",
       "    <tr>\n",
       "      <th>4</th>\n",
       "      <td>Астрахань</td>\n",
       "      <td>2.451613</td>\n",
       "    </tr>\n",
       "    <tr>\n",
       "      <th>...</th>\n",
       "      <td>...</td>\n",
       "      <td>...</td>\n",
       "    </tr>\n",
       "    <tr>\n",
       "      <th>96</th>\n",
       "      <td>Чита</td>\n",
       "      <td>1.580645</td>\n",
       "    </tr>\n",
       "    <tr>\n",
       "      <th>97</th>\n",
       "      <td>Элиста</td>\n",
       "      <td>4.870968</td>\n",
       "    </tr>\n",
       "    <tr>\n",
       "      <th>98</th>\n",
       "      <td>Южно-Сахалинск</td>\n",
       "      <td>4.290323</td>\n",
       "    </tr>\n",
       "    <tr>\n",
       "      <th>99</th>\n",
       "      <td>Якутск</td>\n",
       "      <td>2.741935</td>\n",
       "    </tr>\n",
       "    <tr>\n",
       "      <th>100</th>\n",
       "      <td>Ярославль</td>\n",
       "      <td>1.322581</td>\n",
       "    </tr>\n",
       "  </tbody>\n",
       "</table>\n",
       "<p>101 rows × 2 columns</p>\n",
       "</div>"
      ],
      "text/plain": [
       "               city  average_flights\n",
       "0            Абакан         3.870968\n",
       "1           Анадырь         1.000000\n",
       "2             Анапа         2.161290\n",
       "3       Архангельск         5.354839\n",
       "4         Астрахань         2.451613\n",
       "..              ...              ...\n",
       "96             Чита         1.580645\n",
       "97           Элиста         4.870968\n",
       "98   Южно-Сахалинск         4.290323\n",
       "99           Якутск         2.741935\n",
       "100       Ярославль         1.322581\n",
       "\n",
       "[101 rows x 2 columns]"
      ]
     },
     "execution_count": 5,
     "metadata": {},
     "output_type": "execute_result"
    }
   ],
   "source": [
    "data_3"
   ]
  },
  {
   "cell_type": "code",
   "execution_count": 6,
   "metadata": {},
   "outputs": [
    {
     "data": {
      "text/plain": [
       "city               0\n",
       "average_flights    0\n",
       "dtype: int64"
      ]
     },
     "execution_count": 6,
     "metadata": {},
     "output_type": "execute_result"
    }
   ],
   "source": [
    "data_3.isnull().sum()"
   ]
  },
  {
   "cell_type": "code",
   "execution_count": 7,
   "metadata": {},
   "outputs": [
    {
     "name": "stdout",
     "output_type": "stream",
     "text": [
      "<class 'pandas.core.frame.DataFrame'>\n",
      "RangeIndex: 101 entries, 0 to 100\n",
      "Data columns (total 2 columns):\n",
      " #   Column           Non-Null Count  Dtype  \n",
      "---  ------           --------------  -----  \n",
      " 0   city             101 non-null    object \n",
      " 1   average_flights  101 non-null    float64\n",
      "dtypes: float64(1), object(1)\n",
      "memory usage: 1.7+ KB\n"
     ]
    }
   ],
   "source": [
    "data_3.info()"
   ]
  },
  {
   "cell_type": "markdown",
   "metadata": {},
   "source": [
    "### Вывод<a id=\"start_total\"></a>"
   ]
  },
  {
   "cell_type": "markdown",
   "metadata": {},
   "source": [
    "Изучили два датафрейма: \n",
    "- data_1 (8 строк),\n",
    "- data_3 (101 строка).\n",
    "\n",
    "Ни один из датафреймов не имеет пропусков."
   ]
  },
  {
   "cell_type": "markdown",
   "metadata": {},
   "source": [
    "## Шаг 2. Предобработка данных<a id=\"preprocessing\"></a>"
   ]
  },
  {
   "cell_type": "code",
   "execution_count": 8,
   "metadata": {},
   "outputs": [
    {
     "data": {
      "text/plain": [
       "0"
      ]
     },
     "execution_count": 8,
     "metadata": {},
     "output_type": "execute_result"
    }
   ],
   "source": [
    "# <получение суммарного количества дубликатов в таблице >\n",
    "data_1.duplicated(keep = False).sum()\n",
    "\n",
    "# <Автоматическая обработка дубликатов не выявила>"
   ]
  },
  {
   "cell_type": "code",
   "execution_count": 9,
   "metadata": {},
   "outputs": [
    {
     "data": {
      "text/plain": [
       "0"
      ]
     },
     "execution_count": 9,
     "metadata": {},
     "output_type": "execute_result"
    }
   ],
   "source": [
    "# <получение суммарного количества дубликатов в таблице >\n",
    "data_3.duplicated(keep = False).sum()\n",
    "\n",
    "# <Автоматическая обработка дубликатов не выявила>"
   ]
  },
  {
   "cell_type": "code",
   "execution_count": 10,
   "metadata": {},
   "outputs": [],
   "source": [
    "# <Приводим к нижнему регистру столбец city>\n",
    "\n",
    "data_3['city'] = data_3['city'].str.lower()\n",
    "data_3['city'] = data_3['city'].replace(regex= 'ё', value='е')"
   ]
  },
  {
   "cell_type": "code",
   "execution_count": 11,
   "metadata": {},
   "outputs": [
    {
     "data": {
      "text/html": [
       "<div>\n",
       "<style scoped>\n",
       "    .dataframe tbody tr th:only-of-type {\n",
       "        vertical-align: middle;\n",
       "    }\n",
       "\n",
       "    .dataframe tbody tr th {\n",
       "        vertical-align: top;\n",
       "    }\n",
       "\n",
       "    .dataframe thead th {\n",
       "        text-align: right;\n",
       "    }\n",
       "</style>\n",
       "<table border=\"1\" class=\"dataframe\">\n",
       "  <thead>\n",
       "    <tr style=\"text-align: right;\">\n",
       "      <th></th>\n",
       "      <th>city</th>\n",
       "      <th>average_flights</th>\n",
       "    </tr>\n",
       "  </thead>\n",
       "  <tbody>\n",
       "    <tr>\n",
       "      <th>0</th>\n",
       "      <td>абакан</td>\n",
       "      <td>3.870968</td>\n",
       "    </tr>\n",
       "    <tr>\n",
       "      <th>1</th>\n",
       "      <td>анадырь</td>\n",
       "      <td>1.000000</td>\n",
       "    </tr>\n",
       "    <tr>\n",
       "      <th>2</th>\n",
       "      <td>анапа</td>\n",
       "      <td>2.161290</td>\n",
       "    </tr>\n",
       "    <tr>\n",
       "      <th>3</th>\n",
       "      <td>архангельск</td>\n",
       "      <td>5.354839</td>\n",
       "    </tr>\n",
       "    <tr>\n",
       "      <th>4</th>\n",
       "      <td>астрахань</td>\n",
       "      <td>2.451613</td>\n",
       "    </tr>\n",
       "  </tbody>\n",
       "</table>\n",
       "</div>"
      ],
      "text/plain": [
       "          city  average_flights\n",
       "0       абакан         3.870968\n",
       "1      анадырь         1.000000\n",
       "2        анапа         2.161290\n",
       "3  архангельск         5.354839\n",
       "4    астрахань         2.451613"
      ]
     },
     "execution_count": 11,
     "metadata": {},
     "output_type": "execute_result"
    }
   ],
   "source": [
    "data_3.head()"
   ]
  },
  {
   "cell_type": "code",
   "execution_count": 12,
   "metadata": {},
   "outputs": [
    {
     "data": {
      "text/plain": [
       "0"
      ]
     },
     "execution_count": 12,
     "metadata": {},
     "output_type": "execute_result"
    }
   ],
   "source": [
    "# <получение суммарного количества дубликатов в таблице >\n",
    "data_3.duplicated(keep = False).sum()\n",
    "\n",
    "# <Автоматическая обработка дубликатов не выявила>"
   ]
  },
  {
   "cell_type": "markdown",
   "metadata": {},
   "source": [
    "### Вывод<a id=\"preprocessing_total\"></a>"
   ]
  },
  {
   "cell_type": "markdown",
   "metadata": {},
   "source": [
    "Проверили типы данных на корректность с помощью метода .info()\n",
    "\n",
    "Не изменили тип данных average_flights (float64) на int, чтобы не округлить данные, необходимые для анализа\n",
    "\n",
    "Привели названия городов к нижнему регистру и заменили все буквы ё на е.\n",
    "Провели автоматическую обработку дубликатов, которая не выявила дубликатов в таблице."
   ]
  },
  {
   "cell_type": "markdown",
   "metadata": {},
   "source": [
    "## Шаг 3. Топ-10 городов по количеству рейсов <a id=\"top_10\"></a>"
   ]
  },
  {
   "cell_type": "code",
   "execution_count": 13,
   "metadata": {},
   "outputs": [
    {
     "data": {
      "text/html": [
       "<div>\n",
       "<style scoped>\n",
       "    .dataframe tbody tr th:only-of-type {\n",
       "        vertical-align: middle;\n",
       "    }\n",
       "\n",
       "    .dataframe tbody tr th {\n",
       "        vertical-align: top;\n",
       "    }\n",
       "\n",
       "    .dataframe thead th {\n",
       "        text-align: right;\n",
       "    }\n",
       "</style>\n",
       "<table border=\"1\" class=\"dataframe\">\n",
       "  <thead>\n",
       "    <tr style=\"text-align: right;\">\n",
       "      <th></th>\n",
       "      <th>city</th>\n",
       "      <th>average_flights</th>\n",
       "    </tr>\n",
       "  </thead>\n",
       "  <tbody>\n",
       "    <tr>\n",
       "      <th>43</th>\n",
       "      <td>москва</td>\n",
       "      <td>129.774194</td>\n",
       "    </tr>\n",
       "    <tr>\n",
       "      <th>70</th>\n",
       "      <td>санкт-петербург</td>\n",
       "      <td>31.161290</td>\n",
       "    </tr>\n",
       "    <tr>\n",
       "      <th>54</th>\n",
       "      <td>новосибирск</td>\n",
       "      <td>17.322581</td>\n",
       "    </tr>\n",
       "    <tr>\n",
       "      <th>33</th>\n",
       "      <td>красноярск</td>\n",
       "      <td>11.580645</td>\n",
       "    </tr>\n",
       "    <tr>\n",
       "      <th>20</th>\n",
       "      <td>екатеринбург</td>\n",
       "      <td>11.322581</td>\n",
       "    </tr>\n",
       "    <tr>\n",
       "      <th>67</th>\n",
       "      <td>ростов-на-дону</td>\n",
       "      <td>10.193548</td>\n",
       "    </tr>\n",
       "    <tr>\n",
       "      <th>63</th>\n",
       "      <td>пермь</td>\n",
       "      <td>10.129032</td>\n",
       "    </tr>\n",
       "    <tr>\n",
       "      <th>10</th>\n",
       "      <td>брянск</td>\n",
       "      <td>10.000000</td>\n",
       "    </tr>\n",
       "    <tr>\n",
       "      <th>74</th>\n",
       "      <td>сочи</td>\n",
       "      <td>9.612903</td>\n",
       "    </tr>\n",
       "    <tr>\n",
       "      <th>84</th>\n",
       "      <td>ульяновск</td>\n",
       "      <td>9.580645</td>\n",
       "    </tr>\n",
       "  </tbody>\n",
       "</table>\n",
       "</div>"
      ],
      "text/plain": [
       "               city  average_flights\n",
       "43           москва       129.774194\n",
       "70  санкт-петербург        31.161290\n",
       "54      новосибирск        17.322581\n",
       "33       красноярск        11.580645\n",
       "20     екатеринбург        11.322581\n",
       "67   ростов-на-дону        10.193548\n",
       "63            пермь        10.129032\n",
       "10           брянск        10.000000\n",
       "74             сочи         9.612903\n",
       "84        ульяновск         9.580645"
      ]
     },
     "execution_count": 13,
     "metadata": {},
     "output_type": "execute_result"
    }
   ],
   "source": [
    "data_top_10 = data_3.sort_values(by='average_flights', ascending = False).head(10)\n",
    "data_top_10"
   ]
  },
  {
   "cell_type": "markdown",
   "metadata": {},
   "source": [
    "### Вывод<a id=\"top_10_total\"></a>"
   ]
  },
  {
   "cell_type": "markdown",
   "metadata": {},
   "source": [
    "С помощью метода sort_values создали новый датафрейм, в котором отсортированы 10 городов с наибольшим количеством полетов. \n",
    "\n",
    "Лидирует Москва (129.774), у которой в 4 раза больше полетов в день, чем у следующего по количеству полетов Санкт-Петербурга (31.161)"
   ]
  },
  {
   "cell_type": "markdown",
   "metadata": {},
   "source": [
    "## Шаг 4. Построение графиков<a id=\"graphs\"></a>"
   ]
  },
  {
   "cell_type": "markdown",
   "metadata": {},
   "source": [
    "### График: модели самолетов и количество рейсов<a id=\"graphs_1\"></a>\n"
   ]
  },
  {
   "cell_type": "code",
   "execution_count": 14,
   "metadata": {},
   "outputs": [
    {
     "data": {
      "image/png": "[encoded data removed]",
      "text/plain": [
       "<Figure size 1440x576 with 1 Axes>"
      ]
     },
     "metadata": {
      "needs_background": "light"
     },
     "output_type": "display_data"
    }
   ],
   "source": [
    "plt.figure(figsize=(20, 8))\n",
    "data_1_sort = data_1.sort_values(by='flights_amount',ascending=False)\n",
    "sns.barplot(x='model', y='flights_amount', data = data_1_sort)\n",
    "plt.title('Модели самолетов и количество рейсов')\n",
    "plt.ylabel('Количество рейсов')\n",
    "plt.xlabel('Модели самолетов')\n",
    "plt.show()"
   ]
  },
  {
   "cell_type": "markdown",
   "metadata": {},
   "source": [
    "Наиболее популярны 3 модели самолетов:\n",
    "- Cessna 208 Caravan\n",
    "- Bombardier CRJ-200\n",
    "- Sukhoi SuperJet-100\n",
    "\n",
    "Наименее популярна модель самолета Boeing 777-300"
   ]
  },
  {
   "cell_type": "markdown",
   "metadata": {},
   "source": [
    "Наиболее популярны 3 модели самолетов:\n",
    "- Cessna 208 Caravan (легкий многоцелевой самолет, рассчитанный на 9-13 пассажиров, скорее всего используется для местных перевозок в труднодоступные районы, туристических экскурсий и частной аренды)\n",
    "- Bombardier CRJ-200 (50-местная модель для региональных перелетов, используется в сложных метеорологических условиях и в условиях высокогорных аэродромов)\n",
    "- Sukhoi SuperJet-100 (российский ближнемагистральный пассажирский самолёт, предназначенный для перевозки от 87 до 108 пассажиров на дальность 3050 или 4600 км.)\n",
    "    \n",
    "Популярность этих моделей скорее всего связана с их размерами (которые, среди прочего, влияют на стоимость самолета) и сниженной пассажировместимостью в сравнении с остальными моделями, которые имеют пассажировместимость на уровне 100-150 пассажиров. \n",
    "\n",
    "Наименее популярна модель самолета Boeing 777-300, фюзеляж которой удлинён на 10 метров, что позволяет разместить до 550 пассажиров."
   ]
  },
  {
   "cell_type": "markdown",
   "metadata": {},
   "source": [
    "### График: города и количество рейсов<a id=\"graphs_3\"></a>"
   ]
  },
  {
   "cell_type": "code",
   "execution_count": 15,
   "metadata": {},
   "outputs": [
    {
     "data": {
      "image/png": "[encoded data removed]",
      "text/plain": [
       "<Figure size 1440x720 with 1 Axes>"
      ]
     },
     "metadata": {
      "needs_background": "light"
     },
     "output_type": "display_data"
    }
   ],
   "source": [
    "plt.figure(figsize=(20, 10))\n",
    "data_3_sort = data_3.sort_values(by='average_flights',ascending=False)\n",
    "sns.barplot(x='city', y='average_flights', data = data_3_sort)\n",
    "plt.title('Города и количество рейсов')\n",
    "plt.ylabel('Количество рейсов')\n",
    "plt.xlabel('Города')\n",
    "plt.xticks(rotation=90)\n",
    "plt.show()"
   ]
  },
  {
   "cell_type": "code",
   "execution_count": 16,
   "metadata": {},
   "outputs": [
    {
     "data": {
      "text/html": [
       "<div>\n",
       "<style scoped>\n",
       "    .dataframe tbody tr th:only-of-type {\n",
       "        vertical-align: middle;\n",
       "    }\n",
       "\n",
       "    .dataframe tbody tr th {\n",
       "        vertical-align: top;\n",
       "    }\n",
       "\n",
       "    .dataframe thead th {\n",
       "        text-align: right;\n",
       "    }\n",
       "</style>\n",
       "<table border=\"1\" class=\"dataframe\">\n",
       "  <thead>\n",
       "    <tr style=\"text-align: right;\">\n",
       "      <th></th>\n",
       "      <th>city</th>\n",
       "      <th>average_flights</th>\n",
       "    </tr>\n",
       "  </thead>\n",
       "  <tbody>\n",
       "    <tr>\n",
       "      <th>86</th>\n",
       "      <td>усинск</td>\n",
       "      <td>1.0</td>\n",
       "    </tr>\n",
       "    <tr>\n",
       "      <th>88</th>\n",
       "      <td>усть-кут</td>\n",
       "      <td>1.0</td>\n",
       "    </tr>\n",
       "    <tr>\n",
       "      <th>76</th>\n",
       "      <td>стрежевой</td>\n",
       "      <td>1.0</td>\n",
       "    </tr>\n",
       "    <tr>\n",
       "      <th>1</th>\n",
       "      <td>анадырь</td>\n",
       "      <td>1.0</td>\n",
       "    </tr>\n",
       "    <tr>\n",
       "      <th>9</th>\n",
       "      <td>братск</td>\n",
       "      <td>1.0</td>\n",
       "    </tr>\n",
       "    <tr>\n",
       "      <th>8</th>\n",
       "      <td>благовещенск</td>\n",
       "      <td>1.0</td>\n",
       "    </tr>\n",
       "    <tr>\n",
       "      <th>21</th>\n",
       "      <td>иваново</td>\n",
       "      <td>1.0</td>\n",
       "    </tr>\n",
       "    <tr>\n",
       "      <th>22</th>\n",
       "      <td>ижевск</td>\n",
       "      <td>1.0</td>\n",
       "    </tr>\n",
       "    <tr>\n",
       "      <th>65</th>\n",
       "      <td>петропавловск-камчатский</td>\n",
       "      <td>1.0</td>\n",
       "    </tr>\n",
       "    <tr>\n",
       "      <th>31</th>\n",
       "      <td>комсомольск-на-амуре</td>\n",
       "      <td>1.0</td>\n",
       "    </tr>\n",
       "    <tr>\n",
       "      <th>58</th>\n",
       "      <td>нягань</td>\n",
       "      <td>1.0</td>\n",
       "    </tr>\n",
       "    <tr>\n",
       "      <th>49</th>\n",
       "      <td>нефтеюганск</td>\n",
       "      <td>1.0</td>\n",
       "    </tr>\n",
       "  </tbody>\n",
       "</table>\n",
       "</div>"
      ],
      "text/plain": [
       "                        city  average_flights\n",
       "86                    усинск              1.0\n",
       "88                  усть-кут              1.0\n",
       "76                 стрежевой              1.0\n",
       "1                    анадырь              1.0\n",
       "9                     братск              1.0\n",
       "8               благовещенск              1.0\n",
       "21                   иваново              1.0\n",
       "22                    ижевск              1.0\n",
       "65  петропавловск-камчатский              1.0\n",
       "31      комсомольск-на-амуре              1.0\n",
       "58                    нягань              1.0\n",
       "49               нефтеюганск              1.0"
      ]
     },
     "execution_count": 16,
     "metadata": {},
     "output_type": "execute_result"
    }
   ],
   "source": [
    "data_3_sort = data_3_sort.query('average_flights <= 1')\n",
    "data_3_sort"
   ]
  },
  {
   "cell_type": "markdown",
   "metadata": {},
   "source": [
    "Наибольшее среднее количество рейсов в день имеют следующие города:\n",
    "- Москва (129.77)\n",
    "- Санкт-петербург (31.16)\n",
    "- Новосибирск (17.32)\n",
    "\n",
    "Всего один рейс в день имеют следующие города:\n",
    "- Усинск\n",
    "- Усть-Кут\n",
    "- Стрежевой\n",
    "- Анадырь\n",
    "- Братск\n",
    "- Благовещенск\n",
    "- Иваново\n",
    "- Ижевск\n",
    "- Петропавловск-Камчатский\n",
    "- Комсомольск-на-Амуре\n",
    "- Нагань\n",
    "- Нефтеюганск"
   ]
  },
  {
   "cell_type": "markdown",
   "metadata": {},
   "source": [
    "### График: топ-10 городов и количество рейсов<a id=\"graphs_top_10\"></a>"
   ]
  },
  {
   "cell_type": "code",
   "execution_count": 17,
   "metadata": {},
   "outputs": [
    {
     "data": {
      "image/png": "[encoded data removed]",
      "text/plain": [
       "<Figure size 1440x576 with 1 Axes>"
      ]
     },
     "metadata": {
      "needs_background": "light"
     },
     "output_type": "display_data"
    }
   ],
   "source": [
    "plt.figure(figsize=(20, 8))\n",
    "sns.barplot(x='city', y='average_flights', data = data_top_10)\n",
    "plt.title('Топ-10 городов и количество рейсов')\n",
    "plt.ylabel('Количество рейсов')\n",
    "plt.xlabel('Топ-10 городов')\n",
    "plt.show()"
   ]
  },
  {
   "cell_type": "code",
   "execution_count": 18,
   "metadata": {},
   "outputs": [
    {
     "data": {
      "text/html": [
       "<div>\n",
       "<style scoped>\n",
       "    .dataframe tbody tr th:only-of-type {\n",
       "        vertical-align: middle;\n",
       "    }\n",
       "\n",
       "    .dataframe tbody tr th {\n",
       "        vertical-align: top;\n",
       "    }\n",
       "\n",
       "    .dataframe thead th {\n",
       "        text-align: right;\n",
       "    }\n",
       "</style>\n",
       "<table border=\"1\" class=\"dataframe\">\n",
       "  <thead>\n",
       "    <tr style=\"text-align: right;\">\n",
       "      <th></th>\n",
       "      <th>city</th>\n",
       "      <th>average_flights</th>\n",
       "    </tr>\n",
       "  </thead>\n",
       "  <tbody>\n",
       "    <tr>\n",
       "      <th>33</th>\n",
       "      <td>красноярск</td>\n",
       "      <td>11.580645</td>\n",
       "    </tr>\n",
       "    <tr>\n",
       "      <th>20</th>\n",
       "      <td>екатеринбург</td>\n",
       "      <td>11.322581</td>\n",
       "    </tr>\n",
       "    <tr>\n",
       "      <th>67</th>\n",
       "      <td>ростов-на-дону</td>\n",
       "      <td>10.193548</td>\n",
       "    </tr>\n",
       "    <tr>\n",
       "      <th>63</th>\n",
       "      <td>пермь</td>\n",
       "      <td>10.129032</td>\n",
       "    </tr>\n",
       "    <tr>\n",
       "      <th>10</th>\n",
       "      <td>брянск</td>\n",
       "      <td>10.000000</td>\n",
       "    </tr>\n",
       "    <tr>\n",
       "      <th>74</th>\n",
       "      <td>сочи</td>\n",
       "      <td>9.612903</td>\n",
       "    </tr>\n",
       "    <tr>\n",
       "      <th>84</th>\n",
       "      <td>ульяновск</td>\n",
       "      <td>9.580645</td>\n",
       "    </tr>\n",
       "  </tbody>\n",
       "</table>\n",
       "</div>"
      ],
      "text/plain": [
       "              city  average_flights\n",
       "33      красноярск        11.580645\n",
       "20    екатеринбург        11.322581\n",
       "67  ростов-на-дону        10.193548\n",
       "63           пермь        10.129032\n",
       "10          брянск        10.000000\n",
       "74            сочи         9.612903\n",
       "84       ульяновск         9.580645"
      ]
     },
     "execution_count": 18,
     "metadata": {},
     "output_type": "execute_result"
    }
   ],
   "source": [
    "data_top_10 = data_top_10.query('average_flights <= 15')\n",
    "data_top_10"
   ]
  },
  {
   "cell_type": "markdown",
   "metadata": {},
   "source": [
    "### Вывод<a id=\"graphs_total\"></a>"
   ]
  },
  {
   "cell_type": "markdown",
   "metadata": {},
   "source": [
    "Москва - абсолютный лидер ко количеству полетов в день (130), это связано с тем, что у Москвы больше всего аэропортов и город является пересадочным пунктом для многих направлений полетов.\n",
    "\n",
    "Санкт-Петербург - второй город федерального значения, поэтому в нем также достаточно много полетов (31).\n",
    "\n",
    "Новосибирск - третий по количеству полетов в день (17) город, вероятно он также является пересадочным пунктом для многих направлений полетов.\n",
    "\n",
    "Остальные города из топ-10 имеют +- 10-11 полетов в день."
   ]
  },
  {
   "cell_type": "markdown",
   "metadata": {},
   "source": [
    "## Итоговый вывод<a id=\"total\"></a>"
   ]
  },
  {
   "cell_type": "markdown",
   "metadata": {},
   "source": [
    "По среднему количеству полетов в день лидируют Москва(130), Санкт-Петербург(31) и Новосибирск(17).\n",
    "\n",
    "Остальные города из топ-10 по количеству рейсов имеют в среднем по 10-11 полетов в день.\n",
    "\n",
    "У 12 городов всего один рейс в день.\n",
    "\n",
    "Наиболее популярны 3 модели самолетов (Cessna 208 Caravan, Bombardier CRJ-200, Sukhoi SuperJet-100), это связано с тем, что они имеют наименьшую поссажировместимость (до 100 человек).\n",
    "\n",
    "Наименее популярна модель самолета Boeing 777-300, имеющая пассажировместимость до 550 человек."
   ]
  },
  {
   "cell_type": "code",
   "execution_count": null,
   "metadata": {},
   "outputs": [],
   "source": []
  }
 ],
 "metadata": {
  "ExecuteTimeLog": [
   {
    "duration": 1479,
    "start_time": "2021-09-20T09:32:07.272Z"
   },
   {
    "duration": 14,
    "start_time": "2021-09-20T09:32:11.741Z"
   },
   {
    "duration": 9,
    "start_time": "2021-09-20T09:32:19.414Z"
   },
   {
    "duration": 8,
    "start_time": "2021-09-20T09:33:08.450Z"
   },
   {
    "duration": 8,
    "start_time": "2021-09-20T09:37:09.260Z"
   },
   {
    "duration": 7,
    "start_time": "2021-09-20T09:37:18.546Z"
   },
   {
    "duration": 9,
    "start_time": "2021-09-20T09:37:48.300Z"
   },
   {
    "duration": 7,
    "start_time": "2021-09-20T09:37:53.066Z"
   },
   {
    "duration": 6,
    "start_time": "2021-09-20T09:38:08.191Z"
   },
   {
    "duration": 8,
    "start_time": "2021-09-20T09:38:27.362Z"
   },
   {
    "duration": 7,
    "start_time": "2021-09-20T09:38:41.276Z"
   },
   {
    "duration": 6,
    "start_time": "2021-09-20T09:42:04.613Z"
   },
   {
    "duration": 6,
    "start_time": "2021-09-20T09:42:47.417Z"
   },
   {
    "duration": 6,
    "start_time": "2021-09-20T09:42:55.513Z"
   },
   {
    "duration": -28,
    "start_time": "2021-09-20T09:44:48.397Z"
   },
   {
    "duration": 711,
    "start_time": "2021-09-20T09:44:59.409Z"
   },
   {
    "duration": 813,
    "start_time": "2021-09-20T09:45:12.515Z"
   },
   {
    "duration": 755,
    "start_time": "2021-09-20T09:45:34.880Z"
   },
   {
    "duration": 657,
    "start_time": "2021-09-20T09:45:46.357Z"
   },
   {
    "duration": 417,
    "start_time": "2021-09-20T09:46:13.288Z"
   },
   {
    "duration": 250,
    "start_time": "2021-09-20T09:48:17.641Z"
   },
   {
    "duration": 5,
    "start_time": "2021-09-20T09:48:43.764Z"
   },
   {
    "duration": 10,
    "start_time": "2021-09-20T09:48:49.302Z"
   },
   {
    "duration": 6,
    "start_time": "2021-09-20T09:49:05.399Z"
   },
   {
    "duration": 1951,
    "start_time": "2021-09-20T09:49:48.782Z"
   },
   {
    "duration": 84,
    "start_time": "2021-09-20T09:50:06.976Z"
   },
   {
    "duration": 1942,
    "start_time": "2021-09-20T09:50:12.168Z"
   },
   {
    "duration": 1986,
    "start_time": "2021-09-20T09:50:21.400Z"
   },
   {
    "duration": 410,
    "start_time": "2021-09-20T09:50:31.970Z"
   },
   {
    "duration": 339,
    "start_time": "2021-09-20T09:50:41.551Z"
   },
   {
    "duration": 319,
    "start_time": "2021-09-20T09:50:58.050Z"
   },
   {
    "duration": 7,
    "start_time": "2021-09-20T11:24:25.184Z"
   },
   {
    "duration": 275,
    "start_time": "2021-09-20T11:36:52.538Z"
   },
   {
    "duration": 86,
    "start_time": "2021-09-20T11:37:20.041Z"
   },
   {
    "duration": 86,
    "start_time": "2021-09-20T11:37:28.052Z"
   },
   {
    "duration": 7,
    "start_time": "2021-09-20T11:37:48.786Z"
   },
   {
    "duration": 7,
    "start_time": "2021-09-20T11:38:10.295Z"
   },
   {
    "duration": 93,
    "start_time": "2021-09-20T11:39:02.076Z"
   },
   {
    "duration": 80,
    "start_time": "2021-09-20T11:39:07.657Z"
   },
   {
    "duration": 268,
    "start_time": "2021-09-20T11:39:12.015Z"
   },
   {
    "duration": 78,
    "start_time": "2021-09-20T11:39:40.304Z"
   },
   {
    "duration": 246,
    "start_time": "2021-09-20T11:39:48.625Z"
   },
   {
    "duration": 87,
    "start_time": "2021-09-20T11:39:55.608Z"
   },
   {
    "duration": 15,
    "start_time": "2021-09-20T11:41:25.670Z"
   },
   {
    "duration": 4,
    "start_time": "2021-09-20T11:42:21.485Z"
   },
   {
    "duration": 11,
    "start_time": "2021-09-20T11:42:29.746Z"
   },
   {
    "duration": 97,
    "start_time": "2021-09-20T11:49:18.041Z"
   },
   {
    "duration": 10,
    "start_time": "2021-09-20T12:05:20.151Z"
   },
   {
    "duration": 487,
    "start_time": "2021-09-20T12:05:31.253Z"
   },
   {
    "duration": 474,
    "start_time": "2021-09-20T12:05:44.708Z"
   },
   {
    "duration": 531,
    "start_time": "2021-09-20T12:05:56.582Z"
   },
   {
    "duration": 104,
    "start_time": "2021-09-20T12:06:33.465Z"
   },
   {
    "duration": 507,
    "start_time": "2021-09-20T12:06:42.309Z"
   },
   {
    "duration": 451,
    "start_time": "2021-09-20T12:07:15.837Z"
   },
   {
    "duration": 689,
    "start_time": "2021-09-20T12:07:51.152Z"
   },
   {
    "duration": 446,
    "start_time": "2021-09-20T12:07:57.225Z"
   },
   {
    "duration": 472,
    "start_time": "2021-09-20T12:10:18.063Z"
   },
   {
    "duration": 180,
    "start_time": "2021-09-20T12:11:57.000Z"
   },
   {
    "duration": 273,
    "start_time": "2021-09-20T12:13:07.924Z"
   },
   {
    "duration": 199,
    "start_time": "2021-09-20T12:13:14.541Z"
   },
   {
    "duration": 548,
    "start_time": "2021-09-20T12:14:58.845Z"
   },
   {
    "duration": 198,
    "start_time": "2021-09-20T12:15:20.375Z"
   },
   {
    "duration": 210,
    "start_time": "2021-09-20T12:15:55.322Z"
   },
   {
    "duration": 14,
    "start_time": "2021-09-20T12:16:23.360Z"
   },
   {
    "duration": 1409,
    "start_time": "2021-09-20T12:16:56.974Z"
   },
   {
    "duration": 302,
    "start_time": "2021-09-20T12:17:36.671Z"
   },
   {
    "duration": 223,
    "start_time": "2021-09-20T12:17:43.000Z"
   },
   {
    "duration": 213,
    "start_time": "2021-09-20T12:17:47.550Z"
   },
   {
    "duration": 1492,
    "start_time": "2021-09-20T12:17:58.632Z"
   },
   {
    "duration": 1481,
    "start_time": "2021-09-20T12:18:05.983Z"
   },
   {
    "duration": 1549,
    "start_time": "2021-09-20T12:18:15.080Z"
   },
   {
    "duration": 1437,
    "start_time": "2021-09-20T12:18:32.585Z"
   },
   {
    "duration": 1455,
    "start_time": "2021-09-20T12:18:40.081Z"
   },
   {
    "duration": 209,
    "start_time": "2021-09-20T12:19:10.666Z"
   },
   {
    "duration": 201,
    "start_time": "2021-09-20T12:19:25.225Z"
   },
   {
    "duration": 214,
    "start_time": "2021-09-20T12:21:24.977Z"
   },
   {
    "duration": 276,
    "start_time": "2021-09-20T12:21:35.472Z"
   },
   {
    "duration": 319,
    "start_time": "2021-09-20T12:21:58.470Z"
   },
   {
    "duration": 1613,
    "start_time": "2021-09-20T12:22:47.977Z"
   },
   {
    "duration": 1448,
    "start_time": "2021-09-20T12:23:01.557Z"
   },
   {
    "duration": 587,
    "start_time": "2021-09-20T12:23:56.019Z"
   },
   {
    "duration": 1663,
    "start_time": "2021-09-20T12:24:33.561Z"
   },
   {
    "duration": 1588,
    "start_time": "2021-09-20T12:25:22.607Z"
   },
   {
    "duration": 1609,
    "start_time": "2021-09-20T12:25:33.699Z"
   },
   {
    "duration": 272,
    "start_time": "2021-09-20T12:31:14.025Z"
   },
   {
    "duration": 226,
    "start_time": "2021-09-20T12:31:27.890Z"
   },
   {
    "duration": 385,
    "start_time": "2021-09-20T12:31:34.121Z"
   },
   {
    "duration": 597,
    "start_time": "2021-09-20T12:31:42.336Z"
   },
   {
    "duration": 332,
    "start_time": "2021-09-20T12:31:52.565Z"
   },
   {
    "duration": 1450,
    "start_time": "2021-09-20T12:33:39.948Z"
   },
   {
    "duration": 1436,
    "start_time": "2021-09-20T12:33:48.136Z"
   },
   {
    "duration": 7,
    "start_time": "2021-09-20T12:34:20.539Z"
   },
   {
    "duration": 278,
    "start_time": "2021-09-20T12:34:44.408Z"
   },
   {
    "duration": 269,
    "start_time": "2021-09-20T12:34:47.849Z"
   },
   {
    "duration": 604,
    "start_time": "2021-09-20T12:34:54.977Z"
   },
   {
    "duration": 330,
    "start_time": "2021-09-20T12:36:08.680Z"
   },
   {
    "duration": 1695,
    "start_time": "2021-09-20T12:36:31.320Z"
   },
   {
    "duration": 2284,
    "start_time": "2021-09-20T12:37:31.602Z"
   },
   {
    "duration": 1866,
    "start_time": "2021-09-20T12:45:06.608Z"
   },
   {
    "duration": 1679,
    "start_time": "2021-09-20T12:45:16.202Z"
   },
   {
    "duration": 1775,
    "start_time": "2021-09-20T12:45:29.703Z"
   },
   {
    "duration": 1890,
    "start_time": "2021-09-20T12:45:40.579Z"
   },
   {
    "duration": 12,
    "start_time": "2021-09-20T12:53:25.348Z"
   },
   {
    "duration": 103,
    "start_time": "2021-09-20T12:54:16.252Z"
   },
   {
    "duration": 8,
    "start_time": "2021-09-20T12:55:55.634Z"
   },
   {
    "duration": 98,
    "start_time": "2021-09-20T12:56:54.699Z"
   },
   {
    "duration": 2695,
    "start_time": "2021-09-20T12:57:35.046Z"
   },
   {
    "duration": 2243,
    "start_time": "2021-09-20T12:57:48.906Z"
   },
   {
    "duration": 2050,
    "start_time": "2021-09-20T12:58:30.032Z"
   },
   {
    "duration": 2595,
    "start_time": "2021-09-20T12:58:42.049Z"
   },
   {
    "duration": 1909,
    "start_time": "2021-09-20T12:58:54.656Z"
   },
   {
    "duration": 1752,
    "start_time": "2021-09-20T12:59:04.790Z"
   },
   {
    "duration": 1811,
    "start_time": "2021-09-20T12:59:27.291Z"
   },
   {
    "duration": 2492,
    "start_time": "2021-09-20T12:59:32.766Z"
   },
   {
    "duration": 284,
    "start_time": "2021-09-20T13:02:31.025Z"
   },
   {
    "duration": 269,
    "start_time": "2021-09-20T13:02:40.378Z"
   },
   {
    "duration": 266,
    "start_time": "2021-09-20T13:02:49.806Z"
   },
   {
    "duration": 254,
    "start_time": "2021-09-20T13:03:12.459Z"
   },
   {
    "duration": 262,
    "start_time": "2021-09-20T13:03:57.100Z"
   },
   {
    "duration": 6,
    "start_time": "2021-09-20T13:04:42.657Z"
   },
   {
    "duration": 12,
    "start_time": "2021-09-20T13:04:52.142Z"
   },
   {
    "duration": 262,
    "start_time": "2021-09-20T13:05:03.295Z"
   },
   {
    "duration": 9,
    "start_time": "2021-09-20T13:05:13.232Z"
   },
   {
    "duration": 12,
    "start_time": "2021-09-20T13:06:57.203Z"
   },
   {
    "duration": 9,
    "start_time": "2021-09-20T13:07:12.677Z"
   },
   {
    "duration": 10,
    "start_time": "2021-09-20T13:07:24.322Z"
   },
   {
    "duration": 9,
    "start_time": "2021-09-20T13:07:59.695Z"
   },
   {
    "duration": 13,
    "start_time": "2021-09-20T13:08:14.141Z"
   },
   {
    "duration": 10,
    "start_time": "2021-09-20T13:08:26.217Z"
   },
   {
    "duration": 9,
    "start_time": "2021-09-20T13:08:47.382Z"
   },
   {
    "duration": 1139,
    "start_time": "2021-09-20T13:09:02.187Z"
   },
   {
    "duration": 9,
    "start_time": "2021-09-20T13:09:03.328Z"
   },
   {
    "duration": 6,
    "start_time": "2021-09-20T13:09:03.339Z"
   },
   {
    "duration": 13,
    "start_time": "2021-09-20T13:09:03.347Z"
   },
   {
    "duration": 14,
    "start_time": "2021-09-20T13:09:03.362Z"
   },
   {
    "duration": 7,
    "start_time": "2021-09-20T13:09:03.377Z"
   },
   {
    "duration": 13,
    "start_time": "2021-09-20T13:09:03.385Z"
   },
   {
    "duration": 10,
    "start_time": "2021-09-20T13:09:03.400Z"
   },
   {
    "duration": 14,
    "start_time": "2021-09-20T13:09:03.413Z"
   },
   {
    "duration": 9,
    "start_time": "2021-09-20T13:09:03.430Z"
   },
   {
    "duration": 23,
    "start_time": "2021-09-20T13:09:03.441Z"
   },
   {
    "duration": 8,
    "start_time": "2021-09-20T13:09:03.467Z"
   },
   {
    "duration": 11,
    "start_time": "2021-09-20T13:09:03.477Z"
   },
   {
    "duration": 333,
    "start_time": "2021-09-20T13:09:03.490Z"
   },
   {
    "duration": 1720,
    "start_time": "2021-09-20T13:09:03.825Z"
   },
   {
    "duration": 16,
    "start_time": "2021-09-20T13:09:05.549Z"
   },
   {
    "duration": 9,
    "start_time": "2021-09-20T13:09:05.566Z"
   },
   {
    "duration": 347,
    "start_time": "2021-09-20T13:09:05.576Z"
   },
   {
    "duration": 11,
    "start_time": "2021-09-20T13:09:05.925Z"
   },
   {
    "duration": 10,
    "start_time": "2021-09-20T13:11:14.154Z"
   },
   {
    "duration": 1130,
    "start_time": "2021-09-20T13:16:20.502Z"
   },
   {
    "duration": 9,
    "start_time": "2021-09-20T13:16:21.634Z"
   },
   {
    "duration": 8,
    "start_time": "2021-09-20T13:16:21.647Z"
   },
   {
    "duration": 11,
    "start_time": "2021-09-20T13:16:21.656Z"
   },
   {
    "duration": 11,
    "start_time": "2021-09-20T13:16:21.668Z"
   },
   {
    "duration": 7,
    "start_time": "2021-09-20T13:16:21.680Z"
   },
   {
    "duration": 9,
    "start_time": "2021-09-20T13:16:21.689Z"
   },
   {
    "duration": 7,
    "start_time": "2021-09-20T13:16:21.701Z"
   },
   {
    "duration": 7,
    "start_time": "2021-09-20T13:16:21.710Z"
   },
   {
    "duration": 43,
    "start_time": "2021-09-20T13:16:21.719Z"
   },
   {
    "duration": 13,
    "start_time": "2021-09-20T13:16:21.769Z"
   },
   {
    "duration": 6,
    "start_time": "2021-09-20T13:16:21.783Z"
   },
   {
    "duration": 10,
    "start_time": "2021-09-20T13:16:21.791Z"
   },
   {
    "duration": 317,
    "start_time": "2021-09-20T13:16:21.803Z"
   },
   {
    "duration": 1682,
    "start_time": "2021-09-20T13:16:22.121Z"
   },
   {
    "duration": 14,
    "start_time": "2021-09-20T13:16:23.805Z"
   },
   {
    "duration": 347,
    "start_time": "2021-09-20T13:16:23.820Z"
   },
   {
    "duration": 9,
    "start_time": "2021-09-20T13:16:24.169Z"
   },
   {
    "duration": 1175,
    "start_time": "2021-09-20T13:20:06.656Z"
   },
   {
    "duration": 9,
    "start_time": "2021-09-20T13:20:07.833Z"
   },
   {
    "duration": 19,
    "start_time": "2021-09-20T13:20:07.847Z"
   },
   {
    "duration": 28,
    "start_time": "2021-09-20T13:20:07.868Z"
   },
   {
    "duration": 18,
    "start_time": "2021-09-20T13:20:07.898Z"
   },
   {
    "duration": 28,
    "start_time": "2021-09-20T13:20:07.917Z"
   },
   {
    "duration": 38,
    "start_time": "2021-09-20T13:20:07.947Z"
   },
   {
    "duration": 25,
    "start_time": "2021-09-20T13:20:07.987Z"
   },
   {
    "duration": 24,
    "start_time": "2021-09-20T13:20:08.014Z"
   },
   {
    "duration": 31,
    "start_time": "2021-09-20T13:20:08.039Z"
   },
   {
    "duration": 30,
    "start_time": "2021-09-20T13:20:08.071Z"
   },
   {
    "duration": 18,
    "start_time": "2021-09-20T13:20:08.102Z"
   },
   {
    "duration": 37,
    "start_time": "2021-09-20T13:20:08.121Z"
   },
   {
    "duration": 330,
    "start_time": "2021-09-20T13:20:08.160Z"
   },
   {
    "duration": 1836,
    "start_time": "2021-09-20T13:20:08.492Z"
   },
   {
    "duration": 26,
    "start_time": "2021-09-20T13:20:10.330Z"
   },
   {
    "duration": 449,
    "start_time": "2021-09-20T13:20:10.358Z"
   },
   {
    "duration": 9,
    "start_time": "2021-09-20T13:20:10.809Z"
   },
   {
    "duration": 9,
    "start_time": "2021-09-20T13:22:26.452Z"
   },
   {
    "duration": 1181,
    "start_time": "2021-09-20T13:42:17.150Z"
   },
   {
    "duration": 9,
    "start_time": "2021-09-20T13:42:18.332Z"
   },
   {
    "duration": 11,
    "start_time": "2021-09-20T13:42:18.343Z"
   },
   {
    "duration": 10,
    "start_time": "2021-09-20T13:42:18.355Z"
   },
   {
    "duration": 10,
    "start_time": "2021-09-20T13:42:18.367Z"
   },
   {
    "duration": 6,
    "start_time": "2021-09-20T13:42:18.379Z"
   },
   {
    "duration": 11,
    "start_time": "2021-09-20T13:42:18.387Z"
   },
   {
    "duration": 7,
    "start_time": "2021-09-20T13:42:18.400Z"
   },
   {
    "duration": 7,
    "start_time": "2021-09-20T13:42:18.410Z"
   },
   {
    "duration": 33,
    "start_time": "2021-09-20T13:42:18.419Z"
   },
   {
    "duration": 15,
    "start_time": "2021-09-20T13:42:18.454Z"
   },
   {
    "duration": 16,
    "start_time": "2021-09-20T13:42:18.470Z"
   },
   {
    "duration": 10,
    "start_time": "2021-09-20T13:42:18.488Z"
   },
   {
    "duration": 329,
    "start_time": "2021-09-20T13:42:18.500Z"
   },
   {
    "duration": 1679,
    "start_time": "2021-09-20T13:42:18.831Z"
   },
   {
    "duration": 13,
    "start_time": "2021-09-20T13:42:20.512Z"
   },
   {
    "duration": 340,
    "start_time": "2021-09-20T13:42:20.527Z"
   },
   {
    "duration": 8,
    "start_time": "2021-09-20T13:42:20.869Z"
   },
   {
    "duration": 1199,
    "start_time": "2021-09-20T13:50:27.144Z"
   },
   {
    "duration": 12,
    "start_time": "2021-09-20T13:50:28.346Z"
   },
   {
    "duration": 6,
    "start_time": "2021-09-20T13:50:28.364Z"
   },
   {
    "duration": 7,
    "start_time": "2021-09-20T13:50:28.372Z"
   },
   {
    "duration": 12,
    "start_time": "2021-09-20T13:50:28.381Z"
   },
   {
    "duration": 7,
    "start_time": "2021-09-20T13:50:28.395Z"
   },
   {
    "duration": 46,
    "start_time": "2021-09-20T13:50:28.405Z"
   },
   {
    "duration": 8,
    "start_time": "2021-09-20T13:50:28.453Z"
   },
   {
    "duration": 6,
    "start_time": "2021-09-20T13:50:28.462Z"
   },
   {
    "duration": 14,
    "start_time": "2021-09-20T13:50:28.470Z"
   },
   {
    "duration": 14,
    "start_time": "2021-09-20T13:50:28.485Z"
   },
   {
    "duration": 18,
    "start_time": "2021-09-20T13:50:28.501Z"
   },
   {
    "duration": 21,
    "start_time": "2021-09-20T13:50:28.521Z"
   },
   {
    "duration": 319,
    "start_time": "2021-09-20T13:50:28.544Z"
   },
   {
    "duration": 1709,
    "start_time": "2021-09-20T13:50:28.864Z"
   },
   {
    "duration": 17,
    "start_time": "2021-09-20T13:50:30.575Z"
   },
   {
    "duration": 350,
    "start_time": "2021-09-20T13:50:30.593Z"
   },
   {
    "duration": 9,
    "start_time": "2021-09-20T13:50:30.945Z"
   },
   {
    "duration": 1456,
    "start_time": "2021-09-21T09:18:27.861Z"
   },
   {
    "duration": 14,
    "start_time": "2021-09-21T09:18:29.320Z"
   },
   {
    "duration": 18,
    "start_time": "2021-09-21T09:18:29.341Z"
   },
   {
    "duration": 15,
    "start_time": "2021-09-21T09:18:29.362Z"
   },
   {
    "duration": 44,
    "start_time": "2021-09-21T09:18:29.380Z"
   },
   {
    "duration": 15,
    "start_time": "2021-09-21T09:18:29.427Z"
   },
   {
    "duration": 14,
    "start_time": "2021-09-21T09:18:29.446Z"
   },
   {
    "duration": 13,
    "start_time": "2021-09-21T09:18:29.462Z"
   },
   {
    "duration": 20,
    "start_time": "2021-09-21T09:18:29.477Z"
   },
   {
    "duration": 8,
    "start_time": "2021-09-21T09:18:29.518Z"
   },
   {
    "duration": 30,
    "start_time": "2021-09-21T09:18:29.528Z"
   },
   {
    "duration": 28,
    "start_time": "2021-09-21T09:18:29.561Z"
   },
   {
    "duration": 29,
    "start_time": "2021-09-21T09:18:29.592Z"
   },
   {
    "duration": 601,
    "start_time": "2021-09-21T09:18:29.624Z"
   },
   {
    "duration": 3096,
    "start_time": "2021-09-21T09:18:30.228Z"
   },
   {
    "duration": 20,
    "start_time": "2021-09-21T09:18:33.326Z"
   },
   {
    "duration": 574,
    "start_time": "2021-09-21T09:18:33.348Z"
   },
   {
    "duration": 12,
    "start_time": "2021-09-21T09:18:33.925Z"
   },
   {
    "duration": 96,
    "start_time": "2021-09-21T10:32:42.470Z"
   },
   {
    "duration": 1549,
    "start_time": "2021-09-21T10:33:15.294Z"
   },
   {
    "duration": 13,
    "start_time": "2021-09-21T10:33:16.845Z"
   },
   {
    "duration": 9,
    "start_time": "2021-09-21T10:33:16.861Z"
   },
   {
    "duration": 25,
    "start_time": "2021-09-21T10:33:16.873Z"
   },
   {
    "duration": 25,
    "start_time": "2021-09-21T10:33:16.900Z"
   },
   {
    "duration": 22,
    "start_time": "2021-09-21T10:33:16.928Z"
   },
   {
    "duration": 21,
    "start_time": "2021-09-21T10:33:16.952Z"
   },
   {
    "duration": 15,
    "start_time": "2021-09-21T10:33:16.977Z"
   },
   {
    "duration": 17,
    "start_time": "2021-09-21T10:33:16.995Z"
   },
   {
    "duration": 12,
    "start_time": "2021-09-21T10:33:17.015Z"
   },
   {
    "duration": 21,
    "start_time": "2021-09-21T10:33:17.030Z"
   },
   {
    "duration": 19,
    "start_time": "2021-09-21T10:33:17.053Z"
   },
   {
    "duration": 31,
    "start_time": "2021-09-21T10:33:17.075Z"
   },
   {
    "duration": 554,
    "start_time": "2021-09-21T10:33:17.109Z"
   },
   {
    "duration": 2868,
    "start_time": "2021-09-21T10:33:17.668Z"
   },
   {
    "duration": 18,
    "start_time": "2021-09-21T10:33:20.538Z"
   },
   {
    "duration": 575,
    "start_time": "2021-09-21T10:33:20.568Z"
   },
   {
    "duration": 22,
    "start_time": "2021-09-21T10:33:21.145Z"
   }
  ],
  "kernelspec": {
   "display_name": "Python 3",
   "language": "python",
   "name": "python3"
  },
  "language_info": {
   "codemirror_mode": {
    "name": "ipython",
    "version": 3
   },
   "file_extension": ".py",
   "mimetype": "text/x-python",
   "name": "python",
   "nbconvert_exporter": "python",
   "pygments_lexer": "ipython3",
   "version": "3.7.6"
  },
  "toc": {
   "base_numbering": 1,
   "nav_menu": {},
   "number_sections": true,
   "sideBar": true,
   "skip_h1_title": true,
   "title_cell": "Table of Contents",
   "title_sidebar": "Contents",
   "toc_cell": false,
   "toc_position": {
    "height": "calc(100% - 180px)",
    "left": "10px",
    "top": "150px",
    "width": "455px"
   },
   "toc_section_display": true,
   "toc_window_display": false
  }
 },
 "nbformat": 4,
 "nbformat_minor": 2
}
