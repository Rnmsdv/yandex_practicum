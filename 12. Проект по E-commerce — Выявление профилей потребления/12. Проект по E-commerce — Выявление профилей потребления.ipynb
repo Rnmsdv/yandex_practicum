{
 "cells": [
  {
   "cell_type": "markdown",
   "metadata": {
    "id": "2EEix8d0fqP8"
   },
   "source": [
    "# Проект по E-commerce — Выявление профилей потребления"
   ]
  },
  {
   "cell_type": "markdown",
   "metadata": {
    "id": "37krZFcafqQN"
   },
   "source": [
    "## Материалы:\n",
    "\n",
    "Презентация: <https://drive.google.com/file/d/118nZOY50UDnbSASwVPEpcz8gCTh6hD6b/view?usp=sharing>\n",
    "\n",
    "Дашборд: \n",
    "<https://public.tableau.com/views/Final_ecommerce_project/Dashboard1?:language=en-US&publish=yes&:display_count=n&:origin=viz_share_link>"
   ]
  },
  {
   "cell_type": "markdown",
   "metadata": {},
   "source": [
    "## Задача исследования:\n",
    "\n",
    "Разделить покупателей по профилю потребления для дальнейшего создания персонализированных предложений для покупателей (таргетинга)"
   ]
  },
  {
   "cell_type": "markdown",
   "metadata": {},
   "source": [
    "## Описание данных\n",
    "\n",
    "Исследование основано на внутренних данных интернет-магазина товаров для дома и быта «Пока все ещё тут».\n",
    "\n",
    "Таблица ecommerce включает следующие поля:\n",
    "- `date` — дата заказа;\n",
    "- `customer_id` — идентификатор покупателя;\n",
    "- `order_id` — идентификатор заказа;\n",
    "- `product` — наименование товара;\n",
    "- `quantity` — количество товара в заказе;\n",
    "- `price` — цена товара.\n",
    "\n",
    "Данные предоставлены в формате csv. "
   ]
  },
  {
   "cell_type": "markdown",
   "metadata": {
    "id": "zHC3jC-6fqQC"
   },
   "source": [
    "# Содержание проекта"
   ]
  },
  {
   "cell_type": "markdown",
   "metadata": {
    "id": "0v774X0Y2r5Q"
   },
   "source": [
    "1. [Загрузка и изучение данных](#start)\n",
    "2. [Предобработка данных:](#preprocessing)\n",
    "    - [Предобработка данных: выводы](#preprocessing_end)\n",
    "3. [Исследовательский анализ данных](#analysis) \n",
    "    - [Исследовательский анализ данных: выводы](#analysis_end)\n",
    "4. [Сегментация пользователей и проверка гипотез](#segmentation)\n",
    "    - [Сегментация пользователей и проверка гипотез: выводы](#segmentation_end)"
   ]
  },
  {
   "cell_type": "markdown",
   "metadata": {
    "id": "RP0xgFjOfqQD"
   },
   "source": [
    "# 1. Загрузка и изучение данных<a id=\"start\"></a>"
   ]
  },
  {
   "cell_type": "code",
   "execution_count": 1,
   "metadata": {
    "colab": {
     "base_uri": "https://localhost:8080/"
    },
    "id": "pPc6JQRTrVKS",
    "outputId": "a191c072-3d33-4feb-cdbf-4373d8cfffe2"
   },
   "outputs": [],
   "source": [
    "import pandas as pd\n",
    "import numpy as np\n",
    "import seaborn as sns\n",
    "import matplotlib.pyplot as plt\n",
    "import re\n",
    "\n",
    "from sklearn.preprocessing import StandardScaler\n",
    "from sklearn.cluster import KMeans\n",
    "from scipy.cluster.hierarchy import dendrogram, linkage \n",
    "\n",
    "from scipy.stats import shapiro\n",
    "from scipy.stats import mannwhitneyu\n",
    "from scipy.stats import kruskal\n",
    "\n",
    "\n",
    "# <Убираем предупреждения>\n",
    "import sys\n",
    "import warnings\n",
    "if not sys.warnoptions:\n",
    "    warnings.simplefilter(\"ignore\")"
   ]
  },
  {
   "cell_type": "code",
   "execution_count": 2,
   "metadata": {},
   "outputs": [
    {
     "data": {
      "text/html": [
       "<div>\n",
       "<style scoped>\n",
       "    .dataframe tbody tr th:only-of-type {\n",
       "        vertical-align: middle;\n",
       "    }\n",
       "\n",
       "    .dataframe tbody tr th {\n",
       "        vertical-align: top;\n",
       "    }\n",
       "\n",
       "    .dataframe thead th {\n",
       "        text-align: right;\n",
       "    }\n",
       "</style>\n",
       "<table border=\"1\" class=\"dataframe\">\n",
       "  <thead>\n",
       "    <tr style=\"text-align: right;\">\n",
       "      <th></th>\n",
       "      <th>date</th>\n",
       "      <th>customer_id</th>\n",
       "      <th>order_id</th>\n",
       "      <th>product</th>\n",
       "      <th>quantity</th>\n",
       "      <th>price</th>\n",
       "    </tr>\n",
       "  </thead>\n",
       "  <tbody>\n",
       "    <tr>\n",
       "      <th>0</th>\n",
       "      <td>2018100100</td>\n",
       "      <td>ee47d746-6d2f-4d3c-9622-c31412542920</td>\n",
       "      <td>68477</td>\n",
       "      <td>Комнатное растение в горшке Алое Вера, d12, h30</td>\n",
       "      <td>1</td>\n",
       "      <td>142.0</td>\n",
       "    </tr>\n",
       "    <tr>\n",
       "      <th>1</th>\n",
       "      <td>2018100100</td>\n",
       "      <td>ee47d746-6d2f-4d3c-9622-c31412542920</td>\n",
       "      <td>68477</td>\n",
       "      <td>Комнатное растение в горшке Кофе Арабика, d12,...</td>\n",
       "      <td>1</td>\n",
       "      <td>194.0</td>\n",
       "    </tr>\n",
       "    <tr>\n",
       "      <th>2</th>\n",
       "      <td>2018100100</td>\n",
       "      <td>ee47d746-6d2f-4d3c-9622-c31412542920</td>\n",
       "      <td>68477</td>\n",
       "      <td>Радермахера d-12 см h-20 см</td>\n",
       "      <td>1</td>\n",
       "      <td>112.0</td>\n",
       "    </tr>\n",
       "    <tr>\n",
       "      <th>3</th>\n",
       "      <td>2018100100</td>\n",
       "      <td>ee47d746-6d2f-4d3c-9622-c31412542920</td>\n",
       "      <td>68477</td>\n",
       "      <td>Хризолидокарпус Лутесценс d-9 см</td>\n",
       "      <td>1</td>\n",
       "      <td>179.0</td>\n",
       "    </tr>\n",
       "    <tr>\n",
       "      <th>4</th>\n",
       "      <td>2018100100</td>\n",
       "      <td>ee47d746-6d2f-4d3c-9622-c31412542920</td>\n",
       "      <td>68477</td>\n",
       "      <td>Циперус Зумула d-12 см h-25 см</td>\n",
       "      <td>1</td>\n",
       "      <td>112.0</td>\n",
       "    </tr>\n",
       "  </tbody>\n",
       "</table>\n",
       "</div>"
      ],
      "text/plain": [
       "         date                           customer_id  order_id  \\\n",
       "0  2018100100  ee47d746-6d2f-4d3c-9622-c31412542920     68477   \n",
       "1  2018100100  ee47d746-6d2f-4d3c-9622-c31412542920     68477   \n",
       "2  2018100100  ee47d746-6d2f-4d3c-9622-c31412542920     68477   \n",
       "3  2018100100  ee47d746-6d2f-4d3c-9622-c31412542920     68477   \n",
       "4  2018100100  ee47d746-6d2f-4d3c-9622-c31412542920     68477   \n",
       "\n",
       "                                             product  quantity  price  \n",
       "0    Комнатное растение в горшке Алое Вера, d12, h30         1  142.0  \n",
       "1  Комнатное растение в горшке Кофе Арабика, d12,...         1  194.0  \n",
       "2                        Радермахера d-12 см h-20 см         1  112.0  \n",
       "3                   Хризолидокарпус Лутесценс d-9 см         1  179.0  \n",
       "4                     Циперус Зумула d-12 см h-25 см         1  112.0  "
      ]
     },
     "execution_count": 2,
     "metadata": {},
     "output_type": "execute_result"
    }
   ],
   "source": [
    "# импортируем данные\n",
    "from io import BytesIO\n",
    "import requests\n",
    "spreadsheet_id = '...'\n",
    "file_name = 'https://docs.google.com/spreadsheets/d/{}/export?format=csv'.format(spreadsheet_id)\n",
    "r = requests.get(file_name)\n",
    "\n",
    "df = pd.read_csv(BytesIO(r.content))\n",
    "df.head()"
   ]
  },
  {
   "cell_type": "code",
   "execution_count": 3,
   "metadata": {
    "colab": {
     "base_uri": "https://localhost:8080/"
    },
    "id": "bK1EUAZ6fqQH",
    "outputId": "853fc868-861a-47d8-f96b-47e9e2d45748"
   },
   "outputs": [
    {
     "name": "stdout",
     "output_type": "stream",
     "text": [
      "<class 'pandas.core.frame.DataFrame'>\n",
      "RangeIndex: 6737 entries, 0 to 6736\n",
      "Data columns (total 6 columns):\n",
      " #   Column       Non-Null Count  Dtype  \n",
      "---  ------       --------------  -----  \n",
      " 0   date         6737 non-null   int64  \n",
      " 1   customer_id  6737 non-null   object \n",
      " 2   order_id     6737 non-null   int64  \n",
      " 3   product      6737 non-null   object \n",
      " 4   quantity     6737 non-null   int64  \n",
      " 5   price        6737 non-null   float64\n",
      "dtypes: float64(1), int64(3), object(2)\n",
      "memory usage: 315.9+ KB\n"
     ]
    }
   ],
   "source": [
    "df.info()"
   ]
  },
  {
   "cell_type": "code",
   "execution_count": 4,
   "metadata": {
    "colab": {
     "base_uri": "https://localhost:8080/",
     "height": 300
    },
    "id": "3dEJkh8MfqQL",
    "outputId": "b9bdeae7-193c-4a00-8db8-effd869dc15a"
   },
   "outputs": [
    {
     "data": {
      "text/html": [
       "<div>\n",
       "<style scoped>\n",
       "    .dataframe tbody tr th:only-of-type {\n",
       "        vertical-align: middle;\n",
       "    }\n",
       "\n",
       "    .dataframe tbody tr th {\n",
       "        vertical-align: top;\n",
       "    }\n",
       "\n",
       "    .dataframe thead th {\n",
       "        text-align: right;\n",
       "    }\n",
       "</style>\n",
       "<table border=\"1\" class=\"dataframe\">\n",
       "  <thead>\n",
       "    <tr style=\"text-align: right;\">\n",
       "      <th></th>\n",
       "      <th>date</th>\n",
       "      <th>order_id</th>\n",
       "      <th>quantity</th>\n",
       "      <th>price</th>\n",
       "    </tr>\n",
       "  </thead>\n",
       "  <tbody>\n",
       "    <tr>\n",
       "      <th>count</th>\n",
       "      <td>6.737000e+03</td>\n",
       "      <td>6737.000000</td>\n",
       "      <td>6737.000000</td>\n",
       "      <td>6737.000000</td>\n",
       "    </tr>\n",
       "    <tr>\n",
       "      <th>mean</th>\n",
       "      <td>2.018855e+09</td>\n",
       "      <td>43128.948345</td>\n",
       "      <td>2.501559</td>\n",
       "      <td>462.028499</td>\n",
       "    </tr>\n",
       "    <tr>\n",
       "      <th>std</th>\n",
       "      <td>3.855185e+05</td>\n",
       "      <td>27899.414662</td>\n",
       "      <td>15.266478</td>\n",
       "      <td>871.296064</td>\n",
       "    </tr>\n",
       "    <tr>\n",
       "      <th>min</th>\n",
       "      <td>2.018100e+09</td>\n",
       "      <td>12624.000000</td>\n",
       "      <td>1.000000</td>\n",
       "      <td>9.000000</td>\n",
       "    </tr>\n",
       "    <tr>\n",
       "      <th>25%</th>\n",
       "      <td>2.019020e+09</td>\n",
       "      <td>14827.000000</td>\n",
       "      <td>1.000000</td>\n",
       "      <td>101.000000</td>\n",
       "    </tr>\n",
       "    <tr>\n",
       "      <th>50%</th>\n",
       "      <td>2.019050e+09</td>\n",
       "      <td>68503.000000</td>\n",
       "      <td>1.000000</td>\n",
       "      <td>135.000000</td>\n",
       "    </tr>\n",
       "    <tr>\n",
       "      <th>75%</th>\n",
       "      <td>2.019061e+09</td>\n",
       "      <td>70504.000000</td>\n",
       "      <td>1.000000</td>\n",
       "      <td>398.000000</td>\n",
       "    </tr>\n",
       "    <tr>\n",
       "      <th>max</th>\n",
       "      <td>2.019103e+09</td>\n",
       "      <td>73164.000000</td>\n",
       "      <td>1000.000000</td>\n",
       "      <td>14917.000000</td>\n",
       "    </tr>\n",
       "  </tbody>\n",
       "</table>\n",
       "</div>"
      ],
      "text/plain": [
       "               date      order_id     quantity         price\n",
       "count  6.737000e+03   6737.000000  6737.000000   6737.000000\n",
       "mean   2.018855e+09  43128.948345     2.501559    462.028499\n",
       "std    3.855185e+05  27899.414662    15.266478    871.296064\n",
       "min    2.018100e+09  12624.000000     1.000000      9.000000\n",
       "25%    2.019020e+09  14827.000000     1.000000    101.000000\n",
       "50%    2.019050e+09  68503.000000     1.000000    135.000000\n",
       "75%    2.019061e+09  70504.000000     1.000000    398.000000\n",
       "max    2.019103e+09  73164.000000  1000.000000  14917.000000"
      ]
     },
     "execution_count": 4,
     "metadata": {},
     "output_type": "execute_result"
    }
   ],
   "source": [
    "df.describe()"
   ]
  },
  {
   "cell_type": "code",
   "execution_count": 5,
   "metadata": {},
   "outputs": [
    {
     "data": {
      "text/html": [
       "<div>\n",
       "<style scoped>\n",
       "    .dataframe tbody tr th:only-of-type {\n",
       "        vertical-align: middle;\n",
       "    }\n",
       "\n",
       "    .dataframe tbody tr th {\n",
       "        vertical-align: top;\n",
       "    }\n",
       "\n",
       "    .dataframe thead th {\n",
       "        text-align: right;\n",
       "    }\n",
       "</style>\n",
       "<table border=\"1\" class=\"dataframe\">\n",
       "  <thead>\n",
       "    <tr style=\"text-align: right;\">\n",
       "      <th></th>\n",
       "      <th>date</th>\n",
       "      <th>order_id</th>\n",
       "      <th>quantity</th>\n",
       "      <th>price</th>\n",
       "    </tr>\n",
       "  </thead>\n",
       "  <tbody>\n",
       "    <tr>\n",
       "      <th>date</th>\n",
       "      <td>1.000000</td>\n",
       "      <td>-0.349686</td>\n",
       "      <td>-0.024452</td>\n",
       "      <td>-0.087099</td>\n",
       "    </tr>\n",
       "    <tr>\n",
       "      <th>order_id</th>\n",
       "      <td>-0.349686</td>\n",
       "      <td>1.000000</td>\n",
       "      <td>0.078812</td>\n",
       "      <td>0.384966</td>\n",
       "    </tr>\n",
       "    <tr>\n",
       "      <th>quantity</th>\n",
       "      <td>-0.024452</td>\n",
       "      <td>0.078812</td>\n",
       "      <td>1.000000</td>\n",
       "      <td>-0.032760</td>\n",
       "    </tr>\n",
       "    <tr>\n",
       "      <th>price</th>\n",
       "      <td>-0.087099</td>\n",
       "      <td>0.384966</td>\n",
       "      <td>-0.032760</td>\n",
       "      <td>1.000000</td>\n",
       "    </tr>\n",
       "  </tbody>\n",
       "</table>\n",
       "</div>"
      ],
      "text/plain": [
       "              date  order_id  quantity     price\n",
       "date      1.000000 -0.349686 -0.024452 -0.087099\n",
       "order_id -0.349686  1.000000  0.078812  0.384966\n",
       "quantity -0.024452  0.078812  1.000000 -0.032760\n",
       "price    -0.087099  0.384966 -0.032760  1.000000"
      ]
     },
     "execution_count": 5,
     "metadata": {},
     "output_type": "execute_result"
    }
   ],
   "source": [
    "df.corr()"
   ]
  },
  {
   "cell_type": "markdown",
   "metadata": {
    "id": "hiQPIPW9fqQL"
   },
   "source": [
    "\n",
    "# 2. Предобработка данных:<a id=\"preprocessing\"></a>"
   ]
  },
  {
   "cell_type": "markdown",
   "metadata": {
    "id": "JMhvlmvmrYQz"
   },
   "source": [
    "**Приведение данных к нижнему регистру**"
   ]
  },
  {
   "cell_type": "code",
   "execution_count": 6,
   "metadata": {
    "colab": {
     "base_uri": "https://localhost:8080/"
    },
    "id": "N6P1zaq-ra5V",
    "outputId": "2a8e92ce-4d44-4d23-e5c0-4fad8907b5d4"
   },
   "outputs": [
    {
     "data": {
      "text/plain": [
       "0         комнатное растение в горшке алое вера, d12, h30\n",
       "1       комнатное растение в горшке кофе арабика, d12,...\n",
       "2                             радермахера d-12 см h-20 см\n",
       "3                        хризолидокарпус лутесценс d-9 см\n",
       "4                          циперус зумула d-12 см h-25 см\n",
       "                              ...                        \n",
       "6732    таз пластмассовый 40,0 л пищевой овальный (иж)...\n",
       "6733           сумка-тележка 2-х колесная gimi argo синяя\n",
       "6734    герань домашняя (пеларгония зональная) цветуща...\n",
       "6735    таз пластмассовый со стиральной доской (иж), 1...\n",
       "6736           сумка-тележка 2-х колесная gimi argo синяя\n",
       "Name: product, Length: 6737, dtype: object"
      ]
     },
     "execution_count": 6,
     "metadata": {},
     "output_type": "execute_result"
    }
   ],
   "source": [
    "df['product'] = df['product'].str.lower()\n",
    "df['product']"
   ]
  },
  {
   "cell_type": "markdown",
   "metadata": {
    "id": "dZp6raYCs9ZT"
   },
   "source": [
    "**Поиск пропущенных значений**"
   ]
  },
  {
   "cell_type": "code",
   "execution_count": 7,
   "metadata": {
    "colab": {
     "base_uri": "https://localhost:8080/"
    },
    "id": "HXwVIDtKs_w6",
    "outputId": "681de7b5-92a1-44c5-e541-f0fd995c1c06"
   },
   "outputs": [
    {
     "data": {
      "text/plain": [
       "date           0\n",
       "customer_id    0\n",
       "order_id       0\n",
       "product        0\n",
       "quantity       0\n",
       "price          0\n",
       "dtype: int64"
      ]
     },
     "execution_count": 7,
     "metadata": {},
     "output_type": "execute_result"
    }
   ],
   "source": [
    "df.isnull().sum()"
   ]
  },
  {
   "cell_type": "markdown",
   "metadata": {
    "id": "lFh_VLgDtQ5S"
   },
   "source": [
    "Пропущенных значений не обнаружено"
   ]
  },
  {
   "cell_type": "markdown",
   "metadata": {
    "id": "jvIPnhJttXO7"
   },
   "source": [
    "**Обработка значений в столбцах с аномалиями**"
   ]
  },
  {
   "cell_type": "markdown",
   "metadata": {
    "id": "lV20KY9GxTyi"
   },
   "source": [
    "- Замена типов данных"
   ]
  },
  {
   "cell_type": "code",
   "execution_count": 8,
   "metadata": {
    "colab": {
     "base_uri": "https://localhost:8080/"
    },
    "id": "wa4Civwi3GXN",
    "outputId": "327d2bde-75a6-44a0-c18c-87f71ef88170"
   },
   "outputs": [
    {
     "data": {
      "text/plain": [
       "0.0    6737\n",
       "Name: decimal, dtype: int64"
      ]
     },
     "execution_count": 8,
     "metadata": {},
     "output_type": "execute_result"
    }
   ],
   "source": [
    "# Проверяем, что в датасете нет цен с точностью до копеек\n",
    "df['decimal'] = df['price'] - df['price'].astype('int')\n",
    "df.decimal.value_counts()"
   ]
  },
  {
   "cell_type": "markdown",
   "metadata": {
    "id": "PD3FMdAm5kHG"
   },
   "source": [
    "Поскольку десятичная часть цены во всем датасете равна 0, заменяем вещественный тип данных на целочисленный"
   ]
  },
  {
   "cell_type": "code",
   "execution_count": 9,
   "metadata": {
    "id": "YK2Pqpsz5j3Y"
   },
   "outputs": [],
   "source": [
    "df = df.drop(columns = ['decimal'])"
   ]
  },
  {
   "cell_type": "code",
   "execution_count": 10,
   "metadata": {
    "colab": {
     "base_uri": "https://localhost:8080/"
    },
    "id": "MC9sqCID7Nq5",
    "outputId": "1f9d2122-c790-48ec-e7a9-1382731faab2"
   },
   "outputs": [
    {
     "name": "stdout",
     "output_type": "stream",
     "text": [
      "<class 'pandas.core.frame.DataFrame'>\n",
      "RangeIndex: 6737 entries, 0 to 6736\n",
      "Data columns (total 6 columns):\n",
      " #   Column       Non-Null Count  Dtype \n",
      "---  ------       --------------  ----- \n",
      " 0   date         6737 non-null   int64 \n",
      " 1   customer_id  6737 non-null   object\n",
      " 2   order_id     6737 non-null   int64 \n",
      " 3   product      6737 non-null   object\n",
      " 4   quantity     6737 non-null   int64 \n",
      " 5   price        6737 non-null   int64 \n",
      "dtypes: int64(4), object(2)\n",
      "memory usage: 315.9+ KB\n"
     ]
    }
   ],
   "source": [
    "df['price'] = df['price'].astype('int64')\n",
    "df.info()"
   ]
  },
  {
   "cell_type": "code",
   "execution_count": 11,
   "metadata": {
    "colab": {
     "base_uri": "https://localhost:8080/"
    },
    "id": "OrFgF-1DtYzi",
    "outputId": "8c9c7cdc-1025-4c37-efa0-821e4234038d"
   },
   "outputs": [
    {
     "data": {
      "text/plain": [
       "0      2018-10-01 00:00:00\n",
       "1      2018-10-01 00:00:00\n",
       "2      2018-10-01 00:00:00\n",
       "3      2018-10-01 00:00:00\n",
       "4      2018-10-01 00:00:00\n",
       "               ...        \n",
       "6732   2019-10-31 11:00:00\n",
       "6733   2019-10-31 12:00:00\n",
       "6734   2019-10-31 13:00:00\n",
       "6735   2019-10-31 14:00:00\n",
       "6736   2019-10-31 16:00:00\n",
       "Name: date, Length: 6737, dtype: datetime64[ns]"
      ]
     },
     "execution_count": 11,
     "metadata": {},
     "output_type": "execute_result"
    }
   ],
   "source": [
    "# Приводим к формату даты с детализацией до часов\n",
    "df['date'] = pd.to_datetime(df['date'], format='%Y%m%d%H')\n",
    "df['date']"
   ]
  },
  {
   "cell_type": "markdown",
   "metadata": {
    "id": "3dLaIrFK1Kba"
   },
   "source": [
    "**Добавление столбцов с годом, месяцем и днем покупки**"
   ]
  },
  {
   "cell_type": "code",
   "execution_count": 12,
   "metadata": {
    "colab": {
     "base_uri": "https://localhost:8080/",
     "height": 423
    },
    "id": "7QDRSLB31H34",
    "outputId": "1a2dc0ee-f584-423c-ce95-e9a2fa22e11b"
   },
   "outputs": [
    {
     "data": {
      "text/html": [
       "<div>\n",
       "<style scoped>\n",
       "    .dataframe tbody tr th:only-of-type {\n",
       "        vertical-align: middle;\n",
       "    }\n",
       "\n",
       "    .dataframe tbody tr th {\n",
       "        vertical-align: top;\n",
       "    }\n",
       "\n",
       "    .dataframe thead th {\n",
       "        text-align: right;\n",
       "    }\n",
       "</style>\n",
       "<table border=\"1\" class=\"dataframe\">\n",
       "  <thead>\n",
       "    <tr style=\"text-align: right;\">\n",
       "      <th></th>\n",
       "      <th>date</th>\n",
       "      <th>customer_id</th>\n",
       "      <th>order_id</th>\n",
       "      <th>product</th>\n",
       "      <th>quantity</th>\n",
       "      <th>price</th>\n",
       "      <th>year</th>\n",
       "      <th>month</th>\n",
       "      <th>day</th>\n",
       "    </tr>\n",
       "  </thead>\n",
       "  <tbody>\n",
       "    <tr>\n",
       "      <th>0</th>\n",
       "      <td>2018-10-01 00:00:00</td>\n",
       "      <td>ee47d746-6d2f-4d3c-9622-c31412542920</td>\n",
       "      <td>68477</td>\n",
       "      <td>комнатное растение в горшке алое вера, d12, h30</td>\n",
       "      <td>1</td>\n",
       "      <td>142</td>\n",
       "      <td>2018</td>\n",
       "      <td>10</td>\n",
       "      <td>1</td>\n",
       "    </tr>\n",
       "    <tr>\n",
       "      <th>1</th>\n",
       "      <td>2018-10-01 00:00:00</td>\n",
       "      <td>ee47d746-6d2f-4d3c-9622-c31412542920</td>\n",
       "      <td>68477</td>\n",
       "      <td>комнатное растение в горшке кофе арабика, d12,...</td>\n",
       "      <td>1</td>\n",
       "      <td>194</td>\n",
       "      <td>2018</td>\n",
       "      <td>10</td>\n",
       "      <td>1</td>\n",
       "    </tr>\n",
       "    <tr>\n",
       "      <th>2</th>\n",
       "      <td>2018-10-01 00:00:00</td>\n",
       "      <td>ee47d746-6d2f-4d3c-9622-c31412542920</td>\n",
       "      <td>68477</td>\n",
       "      <td>радермахера d-12 см h-20 см</td>\n",
       "      <td>1</td>\n",
       "      <td>112</td>\n",
       "      <td>2018</td>\n",
       "      <td>10</td>\n",
       "      <td>1</td>\n",
       "    </tr>\n",
       "    <tr>\n",
       "      <th>3</th>\n",
       "      <td>2018-10-01 00:00:00</td>\n",
       "      <td>ee47d746-6d2f-4d3c-9622-c31412542920</td>\n",
       "      <td>68477</td>\n",
       "      <td>хризолидокарпус лутесценс d-9 см</td>\n",
       "      <td>1</td>\n",
       "      <td>179</td>\n",
       "      <td>2018</td>\n",
       "      <td>10</td>\n",
       "      <td>1</td>\n",
       "    </tr>\n",
       "    <tr>\n",
       "      <th>4</th>\n",
       "      <td>2018-10-01 00:00:00</td>\n",
       "      <td>ee47d746-6d2f-4d3c-9622-c31412542920</td>\n",
       "      <td>68477</td>\n",
       "      <td>циперус зумула d-12 см h-25 см</td>\n",
       "      <td>1</td>\n",
       "      <td>112</td>\n",
       "      <td>2018</td>\n",
       "      <td>10</td>\n",
       "      <td>1</td>\n",
       "    </tr>\n",
       "    <tr>\n",
       "      <th>...</th>\n",
       "      <td>...</td>\n",
       "      <td>...</td>\n",
       "      <td>...</td>\n",
       "      <td>...</td>\n",
       "      <td>...</td>\n",
       "      <td>...</td>\n",
       "      <td>...</td>\n",
       "      <td>...</td>\n",
       "      <td>...</td>\n",
       "    </tr>\n",
       "    <tr>\n",
       "      <th>6732</th>\n",
       "      <td>2019-10-31 11:00:00</td>\n",
       "      <td>73d1cd35-5e5f-4629-8cf2-3fda829d4e58</td>\n",
       "      <td>73156</td>\n",
       "      <td>таз пластмассовый 40,0 л пищевой овальный (иж)...</td>\n",
       "      <td>1</td>\n",
       "      <td>404</td>\n",
       "      <td>2019</td>\n",
       "      <td>10</td>\n",
       "      <td>31</td>\n",
       "    </tr>\n",
       "    <tr>\n",
       "      <th>6733</th>\n",
       "      <td>2019-10-31 12:00:00</td>\n",
       "      <td>1f0a7f35-7459-4f23-b468-5e45bf481dd1</td>\n",
       "      <td>73158</td>\n",
       "      <td>сумка-тележка 2-х колесная gimi argo синяя</td>\n",
       "      <td>1</td>\n",
       "      <td>1087</td>\n",
       "      <td>2019</td>\n",
       "      <td>10</td>\n",
       "      <td>31</td>\n",
       "    </tr>\n",
       "    <tr>\n",
       "      <th>6734</th>\n",
       "      <td>2019-10-31 13:00:00</td>\n",
       "      <td>25df96a7-c453-4708-9cea-a3dfc7c342ea</td>\n",
       "      <td>73162</td>\n",
       "      <td>герань домашняя (пеларгония зональная) цветуща...</td>\n",
       "      <td>1</td>\n",
       "      <td>157</td>\n",
       "      <td>2019</td>\n",
       "      <td>10</td>\n",
       "      <td>31</td>\n",
       "    </tr>\n",
       "    <tr>\n",
       "      <th>6735</th>\n",
       "      <td>2019-10-31 14:00:00</td>\n",
       "      <td>73d1cd35-5e5f-4629-8cf2-3fda829d4e58</td>\n",
       "      <td>73164</td>\n",
       "      <td>таз пластмассовый со стиральной доской (иж), 1...</td>\n",
       "      <td>1</td>\n",
       "      <td>397</td>\n",
       "      <td>2019</td>\n",
       "      <td>10</td>\n",
       "      <td>31</td>\n",
       "    </tr>\n",
       "    <tr>\n",
       "      <th>6736</th>\n",
       "      <td>2019-10-31 16:00:00</td>\n",
       "      <td>344aa778-e436-419e-a9c6-9b8f37b7c1df</td>\n",
       "      <td>73137</td>\n",
       "      <td>сумка-тележка 2-х колесная gimi argo синяя</td>\n",
       "      <td>1</td>\n",
       "      <td>1087</td>\n",
       "      <td>2019</td>\n",
       "      <td>10</td>\n",
       "      <td>31</td>\n",
       "    </tr>\n",
       "  </tbody>\n",
       "</table>\n",
       "<p>6737 rows × 9 columns</p>\n",
       "</div>"
      ],
      "text/plain": [
       "                    date                           customer_id  order_id  \\\n",
       "0    2018-10-01 00:00:00  ee47d746-6d2f-4d3c-9622-c31412542920     68477   \n",
       "1    2018-10-01 00:00:00  ee47d746-6d2f-4d3c-9622-c31412542920     68477   \n",
       "2    2018-10-01 00:00:00  ee47d746-6d2f-4d3c-9622-c31412542920     68477   \n",
       "3    2018-10-01 00:00:00  ee47d746-6d2f-4d3c-9622-c31412542920     68477   \n",
       "4    2018-10-01 00:00:00  ee47d746-6d2f-4d3c-9622-c31412542920     68477   \n",
       "...                  ...                                   ...       ...   \n",
       "6732 2019-10-31 11:00:00  73d1cd35-5e5f-4629-8cf2-3fda829d4e58     73156   \n",
       "6733 2019-10-31 12:00:00  1f0a7f35-7459-4f23-b468-5e45bf481dd1     73158   \n",
       "6734 2019-10-31 13:00:00  25df96a7-c453-4708-9cea-a3dfc7c342ea     73162   \n",
       "6735 2019-10-31 14:00:00  73d1cd35-5e5f-4629-8cf2-3fda829d4e58     73164   \n",
       "6736 2019-10-31 16:00:00  344aa778-e436-419e-a9c6-9b8f37b7c1df     73137   \n",
       "\n",
       "                                                product  quantity  price  \\\n",
       "0       комнатное растение в горшке алое вера, d12, h30         1    142   \n",
       "1     комнатное растение в горшке кофе арабика, d12,...         1    194   \n",
       "2                           радермахера d-12 см h-20 см         1    112   \n",
       "3                      хризолидокарпус лутесценс d-9 см         1    179   \n",
       "4                        циперус зумула d-12 см h-25 см         1    112   \n",
       "...                                                 ...       ...    ...   \n",
       "6732  таз пластмассовый 40,0 л пищевой овальный (иж)...         1    404   \n",
       "6733         сумка-тележка 2-х колесная gimi argo синяя         1   1087   \n",
       "6734  герань домашняя (пеларгония зональная) цветуща...         1    157   \n",
       "6735  таз пластмассовый со стиральной доской (иж), 1...         1    397   \n",
       "6736         сумка-тележка 2-х колесная gimi argo синяя         1   1087   \n",
       "\n",
       "      year  month  day  \n",
       "0     2018     10    1  \n",
       "1     2018     10    1  \n",
       "2     2018     10    1  \n",
       "3     2018     10    1  \n",
       "4     2018     10    1  \n",
       "...    ...    ...  ...  \n",
       "6732  2019     10   31  \n",
       "6733  2019     10   31  \n",
       "6734  2019     10   31  \n",
       "6735  2019     10   31  \n",
       "6736  2019     10   31  \n",
       "\n",
       "[6737 rows x 9 columns]"
      ]
     },
     "execution_count": 12,
     "metadata": {},
     "output_type": "execute_result"
    }
   ],
   "source": [
    "df['year'] = pd.DatetimeIndex(df['date']).year\n",
    "df['month'] = pd.DatetimeIndex(df['date']).month\n",
    "df['day'] = pd.DatetimeIndex(df['date']).day\n",
    "df"
   ]
  },
  {
   "cell_type": "markdown",
   "metadata": {
    "id": "-8VN8KUIxeLV"
   },
   "source": [
    "**Удаление редких и выбивающиеся значений**"
   ]
  },
  {
   "cell_type": "code",
   "execution_count": 13,
   "metadata": {},
   "outputs": [
    {
     "data": {
      "text/plain": [
       "array([ 26.64,  50.  , 150.  ])"
      ]
     },
     "execution_count": 13,
     "metadata": {},
     "output_type": "execute_result"
    }
   ],
   "source": [
    "# Посмотрим, сколько выбивающихся значений  в столбце quantity\n",
    "np.percentile(df.quantity, [99, 99.5, 99.9])"
   ]
  },
  {
   "cell_type": "code",
   "execution_count": 14,
   "metadata": {},
   "outputs": [
    {
     "data": {
      "text/plain": [
       "<matplotlib.axes._subplots.AxesSubplot at 0x1593be1a088>"
      ]
     },
     "execution_count": 14,
     "metadata": {},
     "output_type": "execute_result"
    },
    {
     "data": {
      "image/png": "[encoded data removed]",
      "text/plain": [
       "<Figure size 432x288 with 1 Axes>"
      ]
     },
     "metadata": {
      "needs_background": "light"
     },
     "output_type": "display_data"
    }
   ],
   "source": [
    "sns.boxplot(df['quantity'], data = df)"
   ]
  },
  {
   "cell_type": "markdown",
   "metadata": {},
   "source": [
    "Считаем выбросами транзакции с количеством товаров в заказе больше 150"
   ]
  },
  {
   "cell_type": "code",
   "execution_count": 15,
   "metadata": {},
   "outputs": [],
   "source": [
    "# Удаляем полностью заказы с количеством покупок в одной транзакции больше 150\n",
    "df_2 = df.query('quantity > 150')\n",
    "orders_to_keep = df_2['order_id']\n",
    "\n",
    "df = df.query('order_id not in @orders_to_keep')"
   ]
  },
  {
   "cell_type": "markdown",
   "metadata": {},
   "source": [
    "**Проверка данных на правило правилу \"1 заказ = 1 клиент\"**\n",
    "\n",
    "В реальной жизни не должно случаться такого, чтобы 1 заказ соответствовал сразу нескольким клиентам."
   ]
  },
  {
   "cell_type": "code",
   "execution_count": 16,
   "metadata": {},
   "outputs": [
    {
     "data": {
      "text/plain": [
       "1    2750\n",
       "2      26\n",
       "3       2\n",
       "4       1\n",
       "Name: customer_id, dtype: int64"
      ]
     },
     "execution_count": 16,
     "metadata": {},
     "output_type": "execute_result"
    }
   ],
   "source": [
    "# Делаем группировку по заказам для проверки: есть ли у одного заказа несколько клиентов\n",
    "\n",
    "orders_groupby_customer_id = df.groupby('order_id').agg({'customer_id': 'count', 'customer_id': 'nunique'}).reset_index()\n",
    "orders_groupby_customer_id.customer_id.value_counts()"
   ]
  },
  {
   "cell_type": "code",
   "execution_count": 17,
   "metadata": {},
   "outputs": [
    {
     "data": {
      "text/plain": [
       "array([1., 1., 2.])"
      ]
     },
     "execution_count": 17,
     "metadata": {},
     "output_type": "execute_result"
    }
   ],
   "source": [
    "# Посмотрим, сколько данных относится к заказам, которые не соответствуют правилу 1 заказ = 1 клиент\n",
    "np.percentile(orders_groupby_customer_id.customer_id, [98, 98.5, 99])"
   ]
  },
  {
   "cell_type": "markdown",
   "metadata": {},
   "source": [
    "Заказы, которые не соответствуют правилу 1 заказ = 1 клиент занимают менее 1,5% всех заказов\n",
    "\n",
    "Посмотрим, сколько места они занимают среди всего датасета"
   ]
  },
  {
   "cell_type": "code",
   "execution_count": 18,
   "metadata": {},
   "outputs": [
    {
     "data": {
      "text/plain": [
       "0.43077837195484253"
      ]
     },
     "execution_count": 18,
     "metadata": {},
     "output_type": "execute_result"
    }
   ],
   "source": [
    "delete_orders = orders_groupby_customer_id.query('customer_id != 1')\n",
    "delete_orders['order_id'].count()/df['order_id'].count()*100"
   ]
  },
  {
   "cell_type": "code",
   "execution_count": 19,
   "metadata": {},
   "outputs": [],
   "source": [
    "# удаляем выбросы\n",
    "df = df.query('order_id not in @delete_orders.order_id')"
   ]
  },
  {
   "cell_type": "markdown",
   "metadata": {},
   "source": [
    "**Проверка данных на правило правилу \"1 заказ = 1 дата\"**\n",
    "\n",
    "В реальной жизни не должно случаться такого, чтобы 1 заказ соответствовал сразу нескольким датам."
   ]
  },
  {
   "cell_type": "code",
   "execution_count": 20,
   "metadata": {},
   "outputs": [
    {
     "data": {
      "text/plain": [
       "1     2494\n",
       "2      172\n",
       "3       47\n",
       "4       14\n",
       "5        7\n",
       "7        4\n",
       "6        4\n",
       "9        2\n",
       "23       1\n",
       "74       1\n",
       "60       1\n",
       "16       1\n",
       "10       1\n",
       "8        1\n",
       "Name: date, dtype: int64"
      ]
     },
     "execution_count": 20,
     "metadata": {},
     "output_type": "execute_result"
    }
   ],
   "source": [
    "# Делаем группировку по заказам для проверки: есть ли у одного заказа несколько дат\n",
    "\n",
    "orders_groupby_date = df.groupby('order_id').agg({'date': 'count', 'date': 'nunique'}).reset_index()\n",
    "orders_groupby_date.date.value_counts()"
   ]
  },
  {
   "cell_type": "code",
   "execution_count": 21,
   "metadata": {},
   "outputs": [
    {
     "data": {
      "text/plain": [
       "array([2., 2., 4.])"
      ]
     },
     "execution_count": 21,
     "metadata": {},
     "output_type": "execute_result"
    }
   ],
   "source": [
    "# Посмотрим, сколько данных относится к заказам, которые не соответствуют правилу 1 заказ = 1 клиент\n",
    "np.percentile(orders_groupby_date.date, [91, 95, 99])"
   ]
  },
  {
   "cell_type": "markdown",
   "metadata": {},
   "source": [
    "Заказы, которые не соответствуют правилу 1 заказ = 1 дата занимают более 9 % всех заказов, что много, поэтому с этим вопросом следует обратиться к сотруднику, который выгружал данные\n",
    "\n",
    "Данные в связи с этим не удаляем."
   ]
  },
  {
   "cell_type": "markdown",
   "metadata": {
    "id": "nR6722Zn2_1Y"
   },
   "source": [
    "**Поиск и удаление дубликатов**"
   ]
  },
  {
   "cell_type": "code",
   "execution_count": 24,
   "metadata": {
    "colab": {
     "base_uri": "https://localhost:8080/"
    },
    "id": "yKCt1Quv2-vk",
    "outputId": "67535cfb-4d07-4663-9acd-d97bbb342d24"
   },
   "outputs": [
    {
     "name": "stdout",
     "output_type": "stream",
     "text": [
      "Количество дубликатов в таблице df: 0\n"
     ]
    }
   ],
   "source": [
    "# Меняем русское ё на е\n",
    "df['product'] = df['product'].replace(regex= 'ё', value='е')\n",
    "\n",
    "# <Ищем дубликаты по всем строкам таблицы>\n",
    "print('Количество дубликатов в таблице df:', \n",
    "      df.duplicated(\n",
    "          subset = df.columns,\n",
    "          keep = 'first'\n",
    "      ).sum()\n",
    "     )"
   ]
  },
  {
   "cell_type": "markdown",
   "metadata": {},
   "source": [
    "### 2.2 Предобработка данных: выводы<a id=\"preprocessing_end\"></a>"
   ]
  },
  {
   "cell_type": "markdown",
   "metadata": {},
   "source": [
    "1. Привели данные к нижнему регистру\n",
    "2. Не обнаружили пропущенных значений\n",
    "3. Заменили вещественный тип данных столбца 'price' на целочисленный\n",
    "4. Привели столбец 'date' к формату даты с детализацией до часов\n",
    "5. Добавили столбцы с годом, месяцем и днем транзакции\n",
    "6. Удалили выбивающиеся значения в столбце 'quantity'\n",
    "7. Заменили русское ё на е в столбце 'product'\n",
    "8. Не нашли дубликатов в таблице"
   ]
  },
  {
   "cell_type": "markdown",
   "metadata": {
    "id": "e_bqecUyfqQL"
   },
   "source": [
    "# 3. Исследовательский анализ данных<a id=\"analysis\"></a>\n",
    "\n"
   ]
  },
  {
   "cell_type": "markdown",
   "metadata": {
    "id": "Oq2nQCEpxp5V"
   },
   "source": [
    "**Сколько всего транзакций, заказов, уникальных пользователей?**\n"
   ]
  },
  {
   "cell_type": "code",
   "execution_count": 25,
   "metadata": {
    "colab": {
     "base_uri": "https://localhost:8080/"
    },
    "id": "guEUh96b_4o0",
    "outputId": "eb7139f9-ee91-4f31-ad05-ddb921d277b8"
   },
   "outputs": [
    {
     "name": "stdout",
     "output_type": "stream",
     "text": [
      "Количество транзакций: 6643\n",
      "Количество заказов: 2750\n",
      "Количество уникальных пользователей: 2389\n"
     ]
    }
   ],
   "source": [
    "print('Количество транзакций:', df['date'].count())\n",
    "print('Количество заказов:', df['order_id'].nunique())\n",
    "print('Количество уникальных пользователей:', df['customer_id'].nunique())"
   ]
  },
  {
   "cell_type": "markdown",
   "metadata": {
    "id": "m4Ols-6PxtId"
   },
   "source": [
    "\n",
    "**Данными за какой период мы располагаем?**"
   ]
  },
  {
   "cell_type": "code",
   "execution_count": 26,
   "metadata": {
    "colab": {
     "base_uri": "https://localhost:8080/"
    },
    "id": "rQy_jK67AtgW",
    "outputId": "16f62cce-39a9-4df5-ff07-93c5825e5dca"
   },
   "outputs": [
    {
     "name": "stdout",
     "output_type": "stream",
     "text": [
      "Располагаем данными за период с 2018-10-01 00:00:00 по 2019-10-31 16:00:00\n"
     ]
    }
   ],
   "source": [
    "print('Располагаем данными за период с', df['date'].min(), 'по', df['date'].max())"
   ]
  },
  {
   "cell_type": "markdown",
   "metadata": {
    "id": "HDA5Qbs3xxqE"
   },
   "source": [
    "**Посчитать выручку по каждой транзакции**"
   ]
  },
  {
   "cell_type": "code",
   "execution_count": 27,
   "metadata": {
    "id": "GWphSvJcBGq-"
   },
   "outputs": [
    {
     "data": {
      "text/html": [
       "<div>\n",
       "<style scoped>\n",
       "    .dataframe tbody tr th:only-of-type {\n",
       "        vertical-align: middle;\n",
       "    }\n",
       "\n",
       "    .dataframe tbody tr th {\n",
       "        vertical-align: top;\n",
       "    }\n",
       "\n",
       "    .dataframe thead th {\n",
       "        text-align: right;\n",
       "    }\n",
       "</style>\n",
       "<table border=\"1\" class=\"dataframe\">\n",
       "  <thead>\n",
       "    <tr style=\"text-align: right;\">\n",
       "      <th></th>\n",
       "      <th>date</th>\n",
       "      <th>customer_id</th>\n",
       "      <th>order_id</th>\n",
       "      <th>product</th>\n",
       "      <th>quantity</th>\n",
       "      <th>price</th>\n",
       "      <th>year</th>\n",
       "      <th>month</th>\n",
       "      <th>day</th>\n",
       "      <th>revenue</th>\n",
       "    </tr>\n",
       "  </thead>\n",
       "  <tbody>\n",
       "    <tr>\n",
       "      <th>0</th>\n",
       "      <td>2018-10-01</td>\n",
       "      <td>ee47d746-6d2f-4d3c-9622-c31412542920</td>\n",
       "      <td>68477</td>\n",
       "      <td>комнатное растение в горшке алое вера, d12, h30</td>\n",
       "      <td>1</td>\n",
       "      <td>142</td>\n",
       "      <td>2018</td>\n",
       "      <td>10</td>\n",
       "      <td>1</td>\n",
       "      <td>142</td>\n",
       "    </tr>\n",
       "    <tr>\n",
       "      <th>1</th>\n",
       "      <td>2018-10-01</td>\n",
       "      <td>ee47d746-6d2f-4d3c-9622-c31412542920</td>\n",
       "      <td>68477</td>\n",
       "      <td>комнатное растение в горшке кофе арабика, d12,...</td>\n",
       "      <td>1</td>\n",
       "      <td>194</td>\n",
       "      <td>2018</td>\n",
       "      <td>10</td>\n",
       "      <td>1</td>\n",
       "      <td>194</td>\n",
       "    </tr>\n",
       "    <tr>\n",
       "      <th>2</th>\n",
       "      <td>2018-10-01</td>\n",
       "      <td>ee47d746-6d2f-4d3c-9622-c31412542920</td>\n",
       "      <td>68477</td>\n",
       "      <td>радермахера d-12 см h-20 см</td>\n",
       "      <td>1</td>\n",
       "      <td>112</td>\n",
       "      <td>2018</td>\n",
       "      <td>10</td>\n",
       "      <td>1</td>\n",
       "      <td>112</td>\n",
       "    </tr>\n",
       "    <tr>\n",
       "      <th>3</th>\n",
       "      <td>2018-10-01</td>\n",
       "      <td>ee47d746-6d2f-4d3c-9622-c31412542920</td>\n",
       "      <td>68477</td>\n",
       "      <td>хризолидокарпус лутесценс d-9 см</td>\n",
       "      <td>1</td>\n",
       "      <td>179</td>\n",
       "      <td>2018</td>\n",
       "      <td>10</td>\n",
       "      <td>1</td>\n",
       "      <td>179</td>\n",
       "    </tr>\n",
       "    <tr>\n",
       "      <th>4</th>\n",
       "      <td>2018-10-01</td>\n",
       "      <td>ee47d746-6d2f-4d3c-9622-c31412542920</td>\n",
       "      <td>68477</td>\n",
       "      <td>циперус зумула d-12 см h-25 см</td>\n",
       "      <td>1</td>\n",
       "      <td>112</td>\n",
       "      <td>2018</td>\n",
       "      <td>10</td>\n",
       "      <td>1</td>\n",
       "      <td>112</td>\n",
       "    </tr>\n",
       "  </tbody>\n",
       "</table>\n",
       "</div>"
      ],
      "text/plain": [
       "        date                           customer_id  order_id  \\\n",
       "0 2018-10-01  ee47d746-6d2f-4d3c-9622-c31412542920     68477   \n",
       "1 2018-10-01  ee47d746-6d2f-4d3c-9622-c31412542920     68477   \n",
       "2 2018-10-01  ee47d746-6d2f-4d3c-9622-c31412542920     68477   \n",
       "3 2018-10-01  ee47d746-6d2f-4d3c-9622-c31412542920     68477   \n",
       "4 2018-10-01  ee47d746-6d2f-4d3c-9622-c31412542920     68477   \n",
       "\n",
       "                                             product  quantity  price  year  \\\n",
       "0    комнатное растение в горшке алое вера, d12, h30         1    142  2018   \n",
       "1  комнатное растение в горшке кофе арабика, d12,...         1    194  2018   \n",
       "2                        радермахера d-12 см h-20 см         1    112  2018   \n",
       "3                   хризолидокарпус лутесценс d-9 см         1    179  2018   \n",
       "4                     циперус зумула d-12 см h-25 см         1    112  2018   \n",
       "\n",
       "   month  day  revenue  \n",
       "0     10    1      142  \n",
       "1     10    1      194  \n",
       "2     10    1      112  \n",
       "3     10    1      179  \n",
       "4     10    1      112  "
      ]
     },
     "execution_count": 27,
     "metadata": {},
     "output_type": "execute_result"
    }
   ],
   "source": [
    "# Считаем выручку по каждой транзакции\n",
    "df['revenue'] = df['quantity'] * df['price']\n",
    "\n",
    "df.head()"
   ]
  },
  {
   "cell_type": "markdown",
   "metadata": {
    "id": "4WYZItshxzaj"
   },
   "source": [
    "**Изучить числовые параметры, построить гистограммы для каждого параметра**"
   ]
  },
  {
   "cell_type": "code",
   "execution_count": 28,
   "metadata": {
    "colab": {
     "base_uri": "https://localhost:8080/",
     "height": 1000
    },
    "id": "c8_Ybu13BtHK",
    "outputId": "98ff2605-0dc8-47f8-987f-677d90ce2925"
   },
   "outputs": [
    {
     "data": {
      "image/png": "[encoded data removed]",
      "text/plain": [
       "<Figure size 504x360 with 1 Axes>"
      ]
     },
     "metadata": {
      "needs_background": "light"
     },
     "output_type": "display_data"
    },
    {
     "data": {
      "image/png": "[encoded data removed]",
      "text/plain": [
       "<Figure size 504x360 with 1 Axes>"
      ]
     },
     "metadata": {
      "needs_background": "light"
     },
     "output_type": "display_data"
    },
    {
     "data": {
      "image/png": "[encoded data removed]",
      "text/plain": [
       "<Figure size 504x360 with 1 Axes>"
      ]
     },
     "metadata": {
      "needs_background": "light"
     },
     "output_type": "display_data"
    }
   ],
   "source": [
    "list_of_columns = ['quantity', 'price', 'revenue']\n",
    "for column in list_of_columns:\n",
    "    df[column].hist(figsize=(7,5), bins = 50)\n",
    "    plt.title('Гистограмма {}'.format(column))\n",
    "    plt.xlabel(column)\n",
    "    plt.ylabel(\"Частота\")\n",
    "    plt.show()"
   ]
  },
  {
   "cell_type": "markdown",
   "metadata": {},
   "source": [
    "Распределения параметров 'quantity', 'price' и 'revenue' не являются нормальными, следственно, для расчета среднего необходимо воспользоваться медианой"
   ]
  },
  {
   "cell_type": "markdown",
   "metadata": {
    "id": "lwYexhtzx2sM"
   },
   "source": [
    "**Изучить средние, максимальные и минимальные значения и стандартные отклонения**"
   ]
  },
  {
   "cell_type": "code",
   "execution_count": 29,
   "metadata": {
    "colab": {
     "base_uri": "https://localhost:8080/",
     "height": 300
    },
    "id": "tNOZwIJfByLJ",
    "outputId": "2432fe14-6413-40fe-e55e-82843728ef99"
   },
   "outputs": [
    {
     "data": {
      "text/html": [
       "<div>\n",
       "<style scoped>\n",
       "    .dataframe tbody tr th:only-of-type {\n",
       "        vertical-align: middle;\n",
       "    }\n",
       "\n",
       "    .dataframe tbody tr th {\n",
       "        vertical-align: top;\n",
       "    }\n",
       "\n",
       "    .dataframe thead th {\n",
       "        text-align: right;\n",
       "    }\n",
       "</style>\n",
       "<table border=\"1\" class=\"dataframe\">\n",
       "  <thead>\n",
       "    <tr style=\"text-align: right;\">\n",
       "      <th></th>\n",
       "      <th>order_id</th>\n",
       "      <th>quantity</th>\n",
       "      <th>price</th>\n",
       "      <th>year</th>\n",
       "      <th>month</th>\n",
       "      <th>day</th>\n",
       "      <th>revenue</th>\n",
       "    </tr>\n",
       "  </thead>\n",
       "  <tbody>\n",
       "    <tr>\n",
       "      <th>count</th>\n",
       "      <td>6643.000000</td>\n",
       "      <td>6643.000000</td>\n",
       "      <td>6643.000000</td>\n",
       "      <td>6643.000000</td>\n",
       "      <td>6643.000000</td>\n",
       "      <td>6643.000000</td>\n",
       "      <td>6643.000000</td>\n",
       "    </tr>\n",
       "    <tr>\n",
       "      <th>mean</th>\n",
       "      <td>42813.646997</td>\n",
       "      <td>2.177480</td>\n",
       "      <td>456.760951</td>\n",
       "      <td>2018.788800</td>\n",
       "      <td>6.414572</td>\n",
       "      <td>14.538160</td>\n",
       "      <td>602.649405</td>\n",
       "    </tr>\n",
       "    <tr>\n",
       "      <th>std</th>\n",
       "      <td>27900.192241</td>\n",
       "      <td>6.733224</td>\n",
       "      <td>861.917880</td>\n",
       "      <td>0.408191</td>\n",
       "      <td>3.028129</td>\n",
       "      <td>8.745241</td>\n",
       "      <td>1360.708985</td>\n",
       "    </tr>\n",
       "    <tr>\n",
       "      <th>min</th>\n",
       "      <td>12624.000000</td>\n",
       "      <td>1.000000</td>\n",
       "      <td>9.000000</td>\n",
       "      <td>2018.000000</td>\n",
       "      <td>1.000000</td>\n",
       "      <td>1.000000</td>\n",
       "      <td>9.000000</td>\n",
       "    </tr>\n",
       "    <tr>\n",
       "      <th>25%</th>\n",
       "      <td>14822.000000</td>\n",
       "      <td>1.000000</td>\n",
       "      <td>104.000000</td>\n",
       "      <td>2019.000000</td>\n",
       "      <td>4.000000</td>\n",
       "      <td>7.000000</td>\n",
       "      <td>120.000000</td>\n",
       "    </tr>\n",
       "    <tr>\n",
       "      <th>50%</th>\n",
       "      <td>68477.000000</td>\n",
       "      <td>1.000000</td>\n",
       "      <td>135.000000</td>\n",
       "      <td>2019.000000</td>\n",
       "      <td>6.000000</td>\n",
       "      <td>13.000000</td>\n",
       "      <td>157.000000</td>\n",
       "    </tr>\n",
       "    <tr>\n",
       "      <th>75%</th>\n",
       "      <td>70463.000000</td>\n",
       "      <td>1.000000</td>\n",
       "      <td>397.000000</td>\n",
       "      <td>2019.000000</td>\n",
       "      <td>9.000000</td>\n",
       "      <td>22.000000</td>\n",
       "      <td>599.000000</td>\n",
       "    </tr>\n",
       "    <tr>\n",
       "      <th>max</th>\n",
       "      <td>73164.000000</td>\n",
       "      <td>150.000000</td>\n",
       "      <td>14917.000000</td>\n",
       "      <td>2019.000000</td>\n",
       "      <td>12.000000</td>\n",
       "      <td>31.000000</td>\n",
       "      <td>47385.000000</td>\n",
       "    </tr>\n",
       "  </tbody>\n",
       "</table>\n",
       "</div>"
      ],
      "text/plain": [
       "           order_id     quantity         price         year        month  \\\n",
       "count   6643.000000  6643.000000   6643.000000  6643.000000  6643.000000   \n",
       "mean   42813.646997     2.177480    456.760951  2018.788800     6.414572   \n",
       "std    27900.192241     6.733224    861.917880     0.408191     3.028129   \n",
       "min    12624.000000     1.000000      9.000000  2018.000000     1.000000   \n",
       "25%    14822.000000     1.000000    104.000000  2019.000000     4.000000   \n",
       "50%    68477.000000     1.000000    135.000000  2019.000000     6.000000   \n",
       "75%    70463.000000     1.000000    397.000000  2019.000000     9.000000   \n",
       "max    73164.000000   150.000000  14917.000000  2019.000000    12.000000   \n",
       "\n",
       "               day       revenue  \n",
       "count  6643.000000   6643.000000  \n",
       "mean     14.538160    602.649405  \n",
       "std       8.745241   1360.708985  \n",
       "min       1.000000      9.000000  \n",
       "25%       7.000000    120.000000  \n",
       "50%      13.000000    157.000000  \n",
       "75%      22.000000    599.000000  \n",
       "max      31.000000  47385.000000  "
      ]
     },
     "execution_count": 29,
     "metadata": {},
     "output_type": "execute_result"
    }
   ],
   "source": [
    "df.describe()"
   ]
  },
  {
   "cell_type": "markdown",
   "metadata": {},
   "source": [
    "**quantity:**\n",
    "\n",
    "- 75% транзакций состоят из одного товара\n",
    "- С учетом удаления выбросов, наибольшее количество товаров в транзакции - 150\n",
    "\n",
    "**price:**\n",
    "\n",
    "- Минимальная цена товара - 9 у.е.\n",
    "- Максимальная цена товара - 14917 у.е.\n",
    "- Средняя цена в магазине - 135 у.е.\n",
    "\n",
    "\n",
    "**revenue:**\n",
    "\n",
    "- Минимальная выручка - 9 у.е.\n",
    "- Максимальная выручка - 47385 у.е.\n",
    "- Средняя выручка - 157 у.е."
   ]
  },
  {
   "cell_type": "markdown",
   "metadata": {
    "id": "WwPo44Gzx4hK"
   },
   "source": [
    "**Категоризировать покупки пользователей на основании столбца product: с помощью регулярных выражений**"
   ]
  },
  {
   "cell_type": "code",
   "execution_count": 30,
   "metadata": {
    "colab": {
     "base_uri": "https://localhost:8080/",
     "height": 530
    },
    "id": "phzCen8PfqQJ",
    "outputId": "c5a8d210-fd5e-42fb-8e30-a7fbae6041ee"
   },
   "outputs": [
    {
     "data": {
      "text/html": [
       "<div>\n",
       "<style scoped>\n",
       "    .dataframe tbody tr th:only-of-type {\n",
       "        vertical-align: middle;\n",
       "    }\n",
       "\n",
       "    .dataframe tbody tr th {\n",
       "        vertical-align: top;\n",
       "    }\n",
       "\n",
       "    .dataframe thead th {\n",
       "        text-align: right;\n",
       "    }\n",
       "</style>\n",
       "<table border=\"1\" class=\"dataframe\">\n",
       "  <thead>\n",
       "    <tr style=\"text-align: right;\">\n",
       "      <th></th>\n",
       "      <th>date</th>\n",
       "      <th>customer_id</th>\n",
       "      <th>order_id</th>\n",
       "      <th>product</th>\n",
       "      <th>quantity</th>\n",
       "      <th>price</th>\n",
       "      <th>year</th>\n",
       "      <th>month</th>\n",
       "      <th>day</th>\n",
       "      <th>revenue</th>\n",
       "      <th>product_1_word</th>\n",
       "      <th>product_2_word</th>\n",
       "    </tr>\n",
       "  </thead>\n",
       "  <tbody>\n",
       "    <tr>\n",
       "      <th>0</th>\n",
       "      <td>2018-10-01</td>\n",
       "      <td>ee47d746-6d2f-4d3c-9622-c31412542920</td>\n",
       "      <td>68477</td>\n",
       "      <td>комнатное растение в горшке алое вера, d12, h30</td>\n",
       "      <td>1</td>\n",
       "      <td>142</td>\n",
       "      <td>2018</td>\n",
       "      <td>10</td>\n",
       "      <td>1</td>\n",
       "      <td>142</td>\n",
       "      <td>комнатное</td>\n",
       "      <td>растение</td>\n",
       "    </tr>\n",
       "    <tr>\n",
       "      <th>1</th>\n",
       "      <td>2018-10-01</td>\n",
       "      <td>ee47d746-6d2f-4d3c-9622-c31412542920</td>\n",
       "      <td>68477</td>\n",
       "      <td>комнатное растение в горшке кофе арабика, d12,...</td>\n",
       "      <td>1</td>\n",
       "      <td>194</td>\n",
       "      <td>2018</td>\n",
       "      <td>10</td>\n",
       "      <td>1</td>\n",
       "      <td>194</td>\n",
       "      <td>комнатное</td>\n",
       "      <td>растение</td>\n",
       "    </tr>\n",
       "    <tr>\n",
       "      <th>2</th>\n",
       "      <td>2018-10-01</td>\n",
       "      <td>ee47d746-6d2f-4d3c-9622-c31412542920</td>\n",
       "      <td>68477</td>\n",
       "      <td>радермахера d-12 см h-20 см</td>\n",
       "      <td>1</td>\n",
       "      <td>112</td>\n",
       "      <td>2018</td>\n",
       "      <td>10</td>\n",
       "      <td>1</td>\n",
       "      <td>112</td>\n",
       "      <td>радермахера</td>\n",
       "      <td>d-12</td>\n",
       "    </tr>\n",
       "    <tr>\n",
       "      <th>3</th>\n",
       "      <td>2018-10-01</td>\n",
       "      <td>ee47d746-6d2f-4d3c-9622-c31412542920</td>\n",
       "      <td>68477</td>\n",
       "      <td>хризолидокарпус лутесценс d-9 см</td>\n",
       "      <td>1</td>\n",
       "      <td>179</td>\n",
       "      <td>2018</td>\n",
       "      <td>10</td>\n",
       "      <td>1</td>\n",
       "      <td>179</td>\n",
       "      <td>хризолидокарпус</td>\n",
       "      <td>лутесценс</td>\n",
       "    </tr>\n",
       "    <tr>\n",
       "      <th>4</th>\n",
       "      <td>2018-10-01</td>\n",
       "      <td>ee47d746-6d2f-4d3c-9622-c31412542920</td>\n",
       "      <td>68477</td>\n",
       "      <td>циперус зумула d-12 см h-25 см</td>\n",
       "      <td>1</td>\n",
       "      <td>112</td>\n",
       "      <td>2018</td>\n",
       "      <td>10</td>\n",
       "      <td>1</td>\n",
       "      <td>112</td>\n",
       "      <td>циперус</td>\n",
       "      <td>зумула</td>\n",
       "    </tr>\n",
       "  </tbody>\n",
       "</table>\n",
       "</div>"
      ],
      "text/plain": [
       "        date                           customer_id  order_id  \\\n",
       "0 2018-10-01  ee47d746-6d2f-4d3c-9622-c31412542920     68477   \n",
       "1 2018-10-01  ee47d746-6d2f-4d3c-9622-c31412542920     68477   \n",
       "2 2018-10-01  ee47d746-6d2f-4d3c-9622-c31412542920     68477   \n",
       "3 2018-10-01  ee47d746-6d2f-4d3c-9622-c31412542920     68477   \n",
       "4 2018-10-01  ee47d746-6d2f-4d3c-9622-c31412542920     68477   \n",
       "\n",
       "                                             product  quantity  price  year  \\\n",
       "0    комнатное растение в горшке алое вера, d12, h30         1    142  2018   \n",
       "1  комнатное растение в горшке кофе арабика, d12,...         1    194  2018   \n",
       "2                        радермахера d-12 см h-20 см         1    112  2018   \n",
       "3                   хризолидокарпус лутесценс d-9 см         1    179  2018   \n",
       "4                     циперус зумула d-12 см h-25 см         1    112  2018   \n",
       "\n",
       "   month  day  revenue   product_1_word product_2_word  \n",
       "0     10    1      142        комнатное       растение  \n",
       "1     10    1      194        комнатное       растение  \n",
       "2     10    1      112      радермахера           d-12  \n",
       "3     10    1      179  хризолидокарпус      лутесценс  \n",
       "4     10    1      112          циперус         зумула  "
      ]
     },
     "execution_count": 30,
     "metadata": {},
     "output_type": "execute_result"
    }
   ],
   "source": [
    "df['product_1_word'] = df['product'].str.split(' ', expand=True)[0]\n",
    "df['product_2_word'] = df['product'].str.split(' ', expand=True)[1]\n",
    "df.head()"
   ]
  },
  {
   "cell_type": "code",
   "execution_count": 31,
   "metadata": {
    "id": "bM1XCKddB_Fg"
   },
   "outputs": [],
   "source": [
    "category_dict = {\n",
    "    'plants': ['комнатное', 'радермахера', 'хризолидокарпус', 'циперус', 'шеффлера', 'юкка',  'многолетнее', 'герань', \n",
    "                    'пеларгония', 'суккулент', 'эхеверия', 'эвкалипт', 'цветок', 'адиантум','кампанула', 'калатея', 'нолина', \n",
    "                    'хлорофитум', 'цикламен', 'глоксиния', 'азалия', 'гортензия', 'хризантема', 'мирт', 'цветущее', 'кориандр',\n",
    "                    'иссоп', 'сантолина', 'аспарагус', 'афеляндра', 'антуриум', 'молодило', 'фиалка', 'гербера', 'душица', \n",
    "                    'мелисса', 'роза', 'бегония', 'розмарин', 'альбука', 'бальзамин', 'крассула', 'артемизия', 'лаванда', \n",
    "                    'мята', 'каланхое', 'примула', 'дендробиум', 'калоцефалус', 'каллуна', 'капсикум', 'мимоза', 'соланум', \n",
    "                    'бархатцы', 'космея', 'морковь', 'настурция', 'огурец', 'петуния', 'алиссум', 'гвоздика', 'годеция', \n",
    "                    'календула', 'капуста', 'кореопсис', 'лапчатка', 'львиный', 'флокс', 'цинерария', 'эшшольция', \n",
    "                    'диффенбахия', 'фаленопсис', 'подсолнечник', 'пуансетия', 'гиностемма','ель', 'кипарисовик', 'аптения', \n",
    "                    'пуансеттия', 'скиммия', 'фиттония', 'тимьян', 'алоэ', 'спатифиллум', 'фикус',  'кодонанта', 'цикламен,', \n",
    "                    'гимнокалициум','эхинокактус', 'крокусы',  'гипсофила', 'калибрахоа', 'эпипремнум',  'аквилегия', \n",
    "                    'базилик', 'горох', 'земляника', 'незабудка', 'седум', 'томат', 'укроп', 'нефролепис', 'калла', 'декабрист',\n",
    "                    'тюльпан', 'гиацинт', 'вербена', 'однолетнее', 'чабер', 'бакопа', 'ранункулус', 'газания', 'овсянница', \n",
    "                    'георгина', 'смолевка', 'цинния', 'лавр', 'вербейник', 'виола', 'колокольчик', 'котовник', 'эхинацея', \n",
    "                    'ясколка',  'лилейник', 'папоротник', 'платикодон', 'энотера', 'фуксия', 'цитрофортунелла','пеперомия', \n",
    "                    'дыня', 'циния', 'синнингия', 'гардения', 'томата', 'лобелия', 'девичий', 'мускари', 'пиретрум', \n",
    "                    'агератум', 'колеус', 'тагетис', 'цинерания', 'муррайя', 'портулак', 'астра', 'аргирантерум', 'левкой', \n",
    "                    'вероника', 'целозия', 'арбуз', 'баклажан', 'клубника', 'патиссон', 'маттиола', 'сальвия', 'лук', 'джункус', \n",
    "                    'драцена', 'фатсия', 'хоста', 'гайлардия', 'монарда', 'нивянник', 'рудбекия', 'барвинок',  'осина', \n",
    "                    'сциндапсус', 'бузульник', 'солидаго','физостегия', 'бадан', 'лен', 'лантана',  'лаватера', 'анемона', \n",
    "                    'буддлея', 'валериана', 'змееголовник', 'любисток','петрушка', 'сельдерей', 'шалфей',  'вигна','кабачок', \n",
    "                    'тыква', 'хамедорея', 'зверобой', 'мединилла', 'импатиенс', 'клен',  'замиокулькас', 'амариллис', 'салат', \n",
    "                    'пахира','литопс', 'рассада', 'подарочный', 'подвесное', 'муляж', 'искусственный', 'декоративная', \n",
    "                    'искусственная', 'новогоднее', 'кофе', 'табак'],\n",
    "    \n",
    "    'kitchen': ['мини-сковорода', 'сковорода', 'стеклянная', 'тарелка', 'вилка', 'ложка', 'нож', 'скатерть', \n",
    "                'кувшин', 'толкушка', 'готовая', 'чайник', 'противень', 'вкладыши', 'миксер', 'салфетка', 'tepмокружка',\n",
    "                'ножеточка', 'масленка', 'сервировочная', 'салатник', 'чайный', 'рыбочистка', 'овощеварка', 'терка', \n",
    "                'кружка', 'лопатка', 'салфетница', 'стакан', 'столовая', 'чайная', 'овощечистка', 'пробка', 'измельчитель', \n",
    "                'губка',  'мантоварка', 'кухонные', 'картофелемялка', 'миска', 'кисточка',\n",
    "                'ковш', 'термостакан', 'термокружка', 'термос', 'фарфоровая', 'электроштопор', 'столовый', \n",
    "                'блюдце',  'бульонница',  'разделочная', 'мантоварка-пароварка', 'просеиватель', 'кастрюля', 'хлебница', \n",
    "                'форма', 'орехоколка', 'кухонное', 'пряные', 'антинакипин',  'сотейник', 'крышка', 'сахарница',\n",
    "                'соковарка', 'пьезозажигалка', 'соковыжималка', 'половник', 'кипятильник', 'мерный', 'скалка', 'венчик', \n",
    "                'сито', 'тортница', 'блюдо', 'защитный', 'защитная', 'нетканые', 'шприц', 'универсальный', 'основание',\n",
    "                'концентрат', 'пресс', 'банка', 'контейнер', 'лоток', 'жестяная', 'бидон', 'корзинка', 'мешок'],\n",
    "    \n",
    "    'household': ['настенная', 'чехол',  'сушилка', 'крючок', 'доска', 'сумка-тележка', 'щетка-сметка', 'котел', \n",
    "            'коврик', 'подкладка', 'плед', 'ковер',  'гладильная',  'тележка',\n",
    "            'простыня', 'штора', 'плечики', 'подушка',  'петля',\n",
    "            'щетка-утюжок',  'подрукавник',  'насадка', 'наматрасник', 'наматрицник-чехол', 'настольная',\n",
    "            'утюг',  'термометр', 'покрывало', 'весы', \n",
    "            'одеяло',  'простынь',  'сметка',\n",
    "            'фоторамка', 'пылесос', 'наволочка', 'пододеяльник',  'ваза', 'прищепки',\n",
    "            'двуспальное', 'полка', 'окномойка', 'урна-пепельница', 'наматрацник','кольца', 'складной', 'завертка',\n",
    "            'решетка', 'вакуумный', 'рукав', 'доска', 'сумка', 'кофр',  'ящик', 'ведро', 'короб', 'коробка', 'корыто',\n",
    "            'складная', 'емкость', 'модульная', 'бак'],\n",
    "    \n",
    "    'construction': ['стремянка', 'лестница-стремянка', 'стяжка', 'крепеж', 'пружина', 'стремянки', 'сверло-фреза,', 'холодная',\n",
    "                    'шнур', 'измерительный', 'линейка', 'бензин', 'паста', 'петля-стрела', 'держатель', 'ролик', 'шило', \n",
    "                    'скребок', 'рассекатель', 'сетка', 'ручка-скоба', 'стремянка-табурет', 'насадка-отжим',\n",
    "                    'камнеломка', 'шпагат', 'отделитель', 'покрытие', 'веревка', 'уголок', 'стяжки', 'шпингалет',\n",
    "                    'штангенциркуль','насадка-моп', 'сверло', 'сменный', 'многофункциональный', 'фал', 'фиксатор-шар'],\n",
    "    \n",
    "    'bathroom': ['ерш', 'дозатор',  'полотенце',  'жидкое', 'пена', 'зубная',\n",
    "                 'мыло', 'фен', 'ароматизированное', 'бальзам', 'ополаскиватель', 'мыльница',  'ванна', \n",
    "                 'отбеливатель', 'махровый', 'мыло-скраб', 'бельевые', 'карниз',   'халат', 'подголовник',\n",
    "                 'сиденье', 'универсальное', 'кондиционер', 'гипоаллергенный', 'махровое',  'штанга', 'отжим', \n",
    "                 'запасная', 'увлажняющая', 'корзина'],\n",
    "    \n",
    "    'furniture': ['ручка', 'вешалка', 'светильник', 'вешалка-плечики', 'вешалка-стойка', 'вешалки', 'комод', \n",
    "               'вешалка-сушилка', 'этажерка', 'полки', 'ключница', 'вешалка-перекладина', 'лестница', 'обувница-3',\n",
    "               'стеллаж', 'подставка'],\n",
    "    \n",
    "    'cleaning': ['мусорный', 'урна', 'антижир', 'тряпка', 'сменная', 'ткань', 'автоматическая', 'тряпкодержатель',\n",
    "               'перчатки', 'стиральный', 'чистящий', 'вантуз', 'веник', 'швабра', 'совок', 'щетка', 'средство','таз'],\n",
    "    'sets': ['набор', 'комплект']}\n"
   ]
  },
  {
   "cell_type": "code",
   "execution_count": 32,
   "metadata": {},
   "outputs": [
    {
     "data": {
      "text/html": [
       "<div>\n",
       "<style scoped>\n",
       "    .dataframe tbody tr th:only-of-type {\n",
       "        vertical-align: middle;\n",
       "    }\n",
       "\n",
       "    .dataframe tbody tr th {\n",
       "        vertical-align: top;\n",
       "    }\n",
       "\n",
       "    .dataframe thead th {\n",
       "        text-align: right;\n",
       "    }\n",
       "</style>\n",
       "<table border=\"1\" class=\"dataframe\">\n",
       "  <thead>\n",
       "    <tr style=\"text-align: right;\">\n",
       "      <th></th>\n",
       "      <th>date</th>\n",
       "      <th>customer_id</th>\n",
       "      <th>order_id</th>\n",
       "      <th>product</th>\n",
       "      <th>quantity</th>\n",
       "      <th>price</th>\n",
       "      <th>year</th>\n",
       "      <th>month</th>\n",
       "      <th>day</th>\n",
       "      <th>revenue</th>\n",
       "      <th>product_1_word</th>\n",
       "      <th>product_2_word</th>\n",
       "      <th>category</th>\n",
       "    </tr>\n",
       "  </thead>\n",
       "  <tbody>\n",
       "    <tr>\n",
       "      <th>0</th>\n",
       "      <td>2018-10-01</td>\n",
       "      <td>ee47d746-6d2f-4d3c-9622-c31412542920</td>\n",
       "      <td>68477</td>\n",
       "      <td>комнатное растение в горшке алое вера, d12, h30</td>\n",
       "      <td>1</td>\n",
       "      <td>142</td>\n",
       "      <td>2018</td>\n",
       "      <td>10</td>\n",
       "      <td>1</td>\n",
       "      <td>142</td>\n",
       "      <td>комнатное</td>\n",
       "      <td>растение</td>\n",
       "      <td>plants</td>\n",
       "    </tr>\n",
       "    <tr>\n",
       "      <th>1</th>\n",
       "      <td>2018-10-01</td>\n",
       "      <td>ee47d746-6d2f-4d3c-9622-c31412542920</td>\n",
       "      <td>68477</td>\n",
       "      <td>комнатное растение в горшке кофе арабика, d12,...</td>\n",
       "      <td>1</td>\n",
       "      <td>194</td>\n",
       "      <td>2018</td>\n",
       "      <td>10</td>\n",
       "      <td>1</td>\n",
       "      <td>194</td>\n",
       "      <td>комнатное</td>\n",
       "      <td>растение</td>\n",
       "      <td>plants</td>\n",
       "    </tr>\n",
       "    <tr>\n",
       "      <th>2</th>\n",
       "      <td>2018-10-01</td>\n",
       "      <td>ee47d746-6d2f-4d3c-9622-c31412542920</td>\n",
       "      <td>68477</td>\n",
       "      <td>радермахера d-12 см h-20 см</td>\n",
       "      <td>1</td>\n",
       "      <td>112</td>\n",
       "      <td>2018</td>\n",
       "      <td>10</td>\n",
       "      <td>1</td>\n",
       "      <td>112</td>\n",
       "      <td>радермахера</td>\n",
       "      <td>d-12</td>\n",
       "      <td>plants</td>\n",
       "    </tr>\n",
       "    <tr>\n",
       "      <th>3</th>\n",
       "      <td>2018-10-01</td>\n",
       "      <td>ee47d746-6d2f-4d3c-9622-c31412542920</td>\n",
       "      <td>68477</td>\n",
       "      <td>хризолидокарпус лутесценс d-9 см</td>\n",
       "      <td>1</td>\n",
       "      <td>179</td>\n",
       "      <td>2018</td>\n",
       "      <td>10</td>\n",
       "      <td>1</td>\n",
       "      <td>179</td>\n",
       "      <td>хризолидокарпус</td>\n",
       "      <td>лутесценс</td>\n",
       "      <td>plants</td>\n",
       "    </tr>\n",
       "    <tr>\n",
       "      <th>4</th>\n",
       "      <td>2018-10-01</td>\n",
       "      <td>ee47d746-6d2f-4d3c-9622-c31412542920</td>\n",
       "      <td>68477</td>\n",
       "      <td>циперус зумула d-12 см h-25 см</td>\n",
       "      <td>1</td>\n",
       "      <td>112</td>\n",
       "      <td>2018</td>\n",
       "      <td>10</td>\n",
       "      <td>1</td>\n",
       "      <td>112</td>\n",
       "      <td>циперус</td>\n",
       "      <td>зумула</td>\n",
       "      <td>plants</td>\n",
       "    </tr>\n",
       "  </tbody>\n",
       "</table>\n",
       "</div>"
      ],
      "text/plain": [
       "        date                           customer_id  order_id  \\\n",
       "0 2018-10-01  ee47d746-6d2f-4d3c-9622-c31412542920     68477   \n",
       "1 2018-10-01  ee47d746-6d2f-4d3c-9622-c31412542920     68477   \n",
       "2 2018-10-01  ee47d746-6d2f-4d3c-9622-c31412542920     68477   \n",
       "3 2018-10-01  ee47d746-6d2f-4d3c-9622-c31412542920     68477   \n",
       "4 2018-10-01  ee47d746-6d2f-4d3c-9622-c31412542920     68477   \n",
       "\n",
       "                                             product  quantity  price  year  \\\n",
       "0    комнатное растение в горшке алое вера, d12, h30         1    142  2018   \n",
       "1  комнатное растение в горшке кофе арабика, d12,...         1    194  2018   \n",
       "2                        радермахера d-12 см h-20 см         1    112  2018   \n",
       "3                   хризолидокарпус лутесценс d-9 см         1    179  2018   \n",
       "4                     циперус зумула d-12 см h-25 см         1    112  2018   \n",
       "\n",
       "   month  day  revenue   product_1_word product_2_word category  \n",
       "0     10    1      142        комнатное       растение   plants  \n",
       "1     10    1      194        комнатное       растение   plants  \n",
       "2     10    1      112      радермахера           d-12   plants  \n",
       "3     10    1      179  хризолидокарпус      лутесценс   plants  \n",
       "4     10    1      112          циперус         зумула   plants  "
      ]
     },
     "execution_count": 32,
     "metadata": {},
     "output_type": "execute_result"
    }
   ],
   "source": [
    "# Создаем функцию для определения категории товара\n",
    "def category(df):\n",
    "    product = df['product']\n",
    "    product1 = df['product_1_word']\n",
    "    product2 = df['product_2_word']\n",
    "    \n",
    "    for category, items in category_dict.items():\n",
    "        for item in items:\n",
    "            if item in product1:\n",
    "                if category == 'sets':\n",
    "                    if product2 in ['прищепок', 'ковров', 'постельного']:\n",
    "                        return 'household'\n",
    "                    if product2 in ['вешалок',]:\n",
    "                        return 'furniture'\n",
    "                    if product2 in ['сверел', 'vileda', 'инструментов', 'прецизионных']:\n",
    "                        return 'construction'\n",
    "                    if product2 in ['кружек', 'фужеров', 'эмалированных', 'кухонных',\n",
    "                                    'бокалов', 'стаканов', 'ножей','форм', 'столовых','посуды']:\n",
    "                        return 'kitchen'\n",
    "                    if product2 in ['махровых']:\n",
    "                        return 'bathroom'\n",
    "                    else:\n",
    "                        if 'набор для пикника' in product:\n",
    "                            return 'kitchen'\n",
    "                        if 'комплект для ванной' in product:\n",
    "                            return 'bathroom'\n",
    "                        if 'комплект для мытья' in product:\n",
    "                            return 'cleaning'\n",
    "                        \n",
    "                else:\n",
    "                    return category           \n",
    "    return category\n",
    "\n",
    "df['category'] = df.apply(category, axis=1)\n",
    "df.head()"
   ]
  },
  {
   "cell_type": "code",
   "execution_count": 33,
   "metadata": {},
   "outputs": [
    {
     "data": {
      "text/html": [
       "<div>\n",
       "<style scoped>\n",
       "    .dataframe tbody tr th:only-of-type {\n",
       "        vertical-align: middle;\n",
       "    }\n",
       "\n",
       "    .dataframe tbody tr th {\n",
       "        vertical-align: top;\n",
       "    }\n",
       "\n",
       "    .dataframe thead th {\n",
       "        text-align: right;\n",
       "    }\n",
       "</style>\n",
       "<table border=\"1\" class=\"dataframe\">\n",
       "  <thead>\n",
       "    <tr style=\"text-align: right;\">\n",
       "      <th></th>\n",
       "      <th>date</th>\n",
       "      <th>customer_id</th>\n",
       "      <th>order_id</th>\n",
       "      <th>product</th>\n",
       "      <th>quantity</th>\n",
       "      <th>price</th>\n",
       "      <th>year</th>\n",
       "      <th>month</th>\n",
       "      <th>day</th>\n",
       "      <th>revenue</th>\n",
       "      <th>category</th>\n",
       "    </tr>\n",
       "  </thead>\n",
       "  <tbody>\n",
       "    <tr>\n",
       "      <th>0</th>\n",
       "      <td>2018-10-01</td>\n",
       "      <td>ee47d746-6d2f-4d3c-9622-c31412542920</td>\n",
       "      <td>68477</td>\n",
       "      <td>комнатное растение в горшке алое вера, d12, h30</td>\n",
       "      <td>1</td>\n",
       "      <td>142</td>\n",
       "      <td>2018</td>\n",
       "      <td>10</td>\n",
       "      <td>1</td>\n",
       "      <td>142</td>\n",
       "      <td>plants</td>\n",
       "    </tr>\n",
       "    <tr>\n",
       "      <th>1</th>\n",
       "      <td>2018-10-01</td>\n",
       "      <td>ee47d746-6d2f-4d3c-9622-c31412542920</td>\n",
       "      <td>68477</td>\n",
       "      <td>комнатное растение в горшке кофе арабика, d12,...</td>\n",
       "      <td>1</td>\n",
       "      <td>194</td>\n",
       "      <td>2018</td>\n",
       "      <td>10</td>\n",
       "      <td>1</td>\n",
       "      <td>194</td>\n",
       "      <td>plants</td>\n",
       "    </tr>\n",
       "    <tr>\n",
       "      <th>2</th>\n",
       "      <td>2018-10-01</td>\n",
       "      <td>ee47d746-6d2f-4d3c-9622-c31412542920</td>\n",
       "      <td>68477</td>\n",
       "      <td>радермахера d-12 см h-20 см</td>\n",
       "      <td>1</td>\n",
       "      <td>112</td>\n",
       "      <td>2018</td>\n",
       "      <td>10</td>\n",
       "      <td>1</td>\n",
       "      <td>112</td>\n",
       "      <td>plants</td>\n",
       "    </tr>\n",
       "    <tr>\n",
       "      <th>3</th>\n",
       "      <td>2018-10-01</td>\n",
       "      <td>ee47d746-6d2f-4d3c-9622-c31412542920</td>\n",
       "      <td>68477</td>\n",
       "      <td>хризолидокарпус лутесценс d-9 см</td>\n",
       "      <td>1</td>\n",
       "      <td>179</td>\n",
       "      <td>2018</td>\n",
       "      <td>10</td>\n",
       "      <td>1</td>\n",
       "      <td>179</td>\n",
       "      <td>plants</td>\n",
       "    </tr>\n",
       "    <tr>\n",
       "      <th>4</th>\n",
       "      <td>2018-10-01</td>\n",
       "      <td>ee47d746-6d2f-4d3c-9622-c31412542920</td>\n",
       "      <td>68477</td>\n",
       "      <td>циперус зумула d-12 см h-25 см</td>\n",
       "      <td>1</td>\n",
       "      <td>112</td>\n",
       "      <td>2018</td>\n",
       "      <td>10</td>\n",
       "      <td>1</td>\n",
       "      <td>112</td>\n",
       "      <td>plants</td>\n",
       "    </tr>\n",
       "  </tbody>\n",
       "</table>\n",
       "</div>"
      ],
      "text/plain": [
       "        date                           customer_id  order_id  \\\n",
       "0 2018-10-01  ee47d746-6d2f-4d3c-9622-c31412542920     68477   \n",
       "1 2018-10-01  ee47d746-6d2f-4d3c-9622-c31412542920     68477   \n",
       "2 2018-10-01  ee47d746-6d2f-4d3c-9622-c31412542920     68477   \n",
       "3 2018-10-01  ee47d746-6d2f-4d3c-9622-c31412542920     68477   \n",
       "4 2018-10-01  ee47d746-6d2f-4d3c-9622-c31412542920     68477   \n",
       "\n",
       "                                             product  quantity  price  year  \\\n",
       "0    комнатное растение в горшке алое вера, d12, h30         1    142  2018   \n",
       "1  комнатное растение в горшке кофе арабика, d12,...         1    194  2018   \n",
       "2                        радермахера d-12 см h-20 см         1    112  2018   \n",
       "3                   хризолидокарпус лутесценс d-9 см         1    179  2018   \n",
       "4                     циперус зумула d-12 см h-25 см         1    112  2018   \n",
       "\n",
       "   month  day  revenue category  \n",
       "0     10    1      142   plants  \n",
       "1     10    1      194   plants  \n",
       "2     10    1      112   plants  \n",
       "3     10    1      179   plants  \n",
       "4     10    1      112   plants  "
      ]
     },
     "execution_count": 33,
     "metadata": {},
     "output_type": "execute_result"
    }
   ],
   "source": [
    "df = df.drop(columns = ['product_1_word', 'product_2_word'])\n",
    "df.head()"
   ]
  },
  {
   "cell_type": "markdown",
   "metadata": {},
   "source": [
    "С помощью регулярных выражений составили 7 категорий товаров: \n",
    "- 'plants' - растения, \n",
    "- 'kitchen' - товары для кухни, \n",
    "- 'household' - товары для дома, \n",
    "- 'construction' - товары для строительства и ремонта,  \n",
    "- 'bathroom' - товары для ванной,\n",
    "- 'furniture' - мебель,\n",
    "- 'cleaning' - товары для уборки"
   ]
  },
  {
   "cell_type": "code",
   "execution_count": 34,
   "metadata": {},
   "outputs": [
    {
     "data": {
      "image/png": "[encoded data removed]",
      "text/plain": [
       "<Figure size 432x288 with 2 Axes>"
      ]
     },
     "metadata": {
      "needs_background": "light"
     },
     "output_type": "display_data"
    }
   ],
   "source": [
    "# Составим сводную таблицу для проверки, не коррелируют ли выделенные категории между собой \n",
    "category_pivot = df.pivot_table(index='customer_id', columns='category', values='revenue')\n",
    "category_pivot = category_pivot.fillna(0)\n",
    "\n",
    "#Создаем тепловую карту\n",
    "category_corr_heatmap = category_pivot.corr()\n",
    "sns.heatmap(category_corr_heatmap, annot = True)\n",
    "plt.title('Тепловая карта корреляции категорий')\n",
    "plt.show()"
   ]
  },
  {
   "cell_type": "markdown",
   "metadata": {},
   "source": [
    "Среди категорий нет корреляций больше 0.11, можно считать деление на категории правильным"
   ]
  },
  {
   "cell_type": "markdown",
   "metadata": {
    "id": "_2dSs4uNx6Cr"
   },
   "source": [
    "**Добавить столбцы по каждой категории**"
   ]
  },
  {
   "cell_type": "code",
   "execution_count": 35,
   "metadata": {},
   "outputs": [
    {
     "data": {
      "text/html": [
       "<div>\n",
       "<style scoped>\n",
       "    .dataframe tbody tr th:only-of-type {\n",
       "        vertical-align: middle;\n",
       "    }\n",
       "\n",
       "    .dataframe tbody tr th {\n",
       "        vertical-align: top;\n",
       "    }\n",
       "\n",
       "    .dataframe thead th {\n",
       "        text-align: right;\n",
       "    }\n",
       "</style>\n",
       "<table border=\"1\" class=\"dataframe\">\n",
       "  <thead>\n",
       "    <tr style=\"text-align: right;\">\n",
       "      <th></th>\n",
       "      <th>date</th>\n",
       "      <th>customer_id</th>\n",
       "      <th>order_id</th>\n",
       "      <th>product</th>\n",
       "      <th>quantity</th>\n",
       "      <th>price</th>\n",
       "      <th>year</th>\n",
       "      <th>month</th>\n",
       "      <th>day</th>\n",
       "      <th>revenue</th>\n",
       "      <th>category</th>\n",
       "      <th>bathroom</th>\n",
       "      <th>cleaning</th>\n",
       "      <th>construction</th>\n",
       "      <th>furniture</th>\n",
       "      <th>household</th>\n",
       "      <th>kitchen</th>\n",
       "      <th>plants</th>\n",
       "    </tr>\n",
       "  </thead>\n",
       "  <tbody>\n",
       "    <tr>\n",
       "      <th>0</th>\n",
       "      <td>2018-10-01 00:00:00</td>\n",
       "      <td>ee47d746-6d2f-4d3c-9622-c31412542920</td>\n",
       "      <td>68477</td>\n",
       "      <td>комнатное растение в горшке алое вера, d12, h30</td>\n",
       "      <td>1</td>\n",
       "      <td>142</td>\n",
       "      <td>2018</td>\n",
       "      <td>10</td>\n",
       "      <td>1</td>\n",
       "      <td>142</td>\n",
       "      <td>plants</td>\n",
       "      <td>0</td>\n",
       "      <td>0</td>\n",
       "      <td>0</td>\n",
       "      <td>0</td>\n",
       "      <td>0</td>\n",
       "      <td>0</td>\n",
       "      <td>1</td>\n",
       "    </tr>\n",
       "    <tr>\n",
       "      <th>1</th>\n",
       "      <td>2018-10-01 00:00:00</td>\n",
       "      <td>ee47d746-6d2f-4d3c-9622-c31412542920</td>\n",
       "      <td>68477</td>\n",
       "      <td>комнатное растение в горшке кофе арабика, d12,...</td>\n",
       "      <td>1</td>\n",
       "      <td>194</td>\n",
       "      <td>2018</td>\n",
       "      <td>10</td>\n",
       "      <td>1</td>\n",
       "      <td>194</td>\n",
       "      <td>plants</td>\n",
       "      <td>0</td>\n",
       "      <td>0</td>\n",
       "      <td>0</td>\n",
       "      <td>0</td>\n",
       "      <td>0</td>\n",
       "      <td>0</td>\n",
       "      <td>1</td>\n",
       "    </tr>\n",
       "    <tr>\n",
       "      <th>2</th>\n",
       "      <td>2018-10-01 00:00:00</td>\n",
       "      <td>ee47d746-6d2f-4d3c-9622-c31412542920</td>\n",
       "      <td>68477</td>\n",
       "      <td>радермахера d-12 см h-20 см</td>\n",
       "      <td>1</td>\n",
       "      <td>112</td>\n",
       "      <td>2018</td>\n",
       "      <td>10</td>\n",
       "      <td>1</td>\n",
       "      <td>112</td>\n",
       "      <td>plants</td>\n",
       "      <td>0</td>\n",
       "      <td>0</td>\n",
       "      <td>0</td>\n",
       "      <td>0</td>\n",
       "      <td>0</td>\n",
       "      <td>0</td>\n",
       "      <td>1</td>\n",
       "    </tr>\n",
       "    <tr>\n",
       "      <th>3</th>\n",
       "      <td>2018-10-01 00:00:00</td>\n",
       "      <td>ee47d746-6d2f-4d3c-9622-c31412542920</td>\n",
       "      <td>68477</td>\n",
       "      <td>хризолидокарпус лутесценс d-9 см</td>\n",
       "      <td>1</td>\n",
       "      <td>179</td>\n",
       "      <td>2018</td>\n",
       "      <td>10</td>\n",
       "      <td>1</td>\n",
       "      <td>179</td>\n",
       "      <td>plants</td>\n",
       "      <td>0</td>\n",
       "      <td>0</td>\n",
       "      <td>0</td>\n",
       "      <td>0</td>\n",
       "      <td>0</td>\n",
       "      <td>0</td>\n",
       "      <td>1</td>\n",
       "    </tr>\n",
       "    <tr>\n",
       "      <th>4</th>\n",
       "      <td>2018-10-01 00:00:00</td>\n",
       "      <td>ee47d746-6d2f-4d3c-9622-c31412542920</td>\n",
       "      <td>68477</td>\n",
       "      <td>циперус зумула d-12 см h-25 см</td>\n",
       "      <td>1</td>\n",
       "      <td>112</td>\n",
       "      <td>2018</td>\n",
       "      <td>10</td>\n",
       "      <td>1</td>\n",
       "      <td>112</td>\n",
       "      <td>plants</td>\n",
       "      <td>0</td>\n",
       "      <td>0</td>\n",
       "      <td>0</td>\n",
       "      <td>0</td>\n",
       "      <td>0</td>\n",
       "      <td>0</td>\n",
       "      <td>1</td>\n",
       "    </tr>\n",
       "    <tr>\n",
       "      <th>...</th>\n",
       "      <td>...</td>\n",
       "      <td>...</td>\n",
       "      <td>...</td>\n",
       "      <td>...</td>\n",
       "      <td>...</td>\n",
       "      <td>...</td>\n",
       "      <td>...</td>\n",
       "      <td>...</td>\n",
       "      <td>...</td>\n",
       "      <td>...</td>\n",
       "      <td>...</td>\n",
       "      <td>...</td>\n",
       "      <td>...</td>\n",
       "      <td>...</td>\n",
       "      <td>...</td>\n",
       "      <td>...</td>\n",
       "      <td>...</td>\n",
       "      <td>...</td>\n",
       "    </tr>\n",
       "    <tr>\n",
       "      <th>6732</th>\n",
       "      <td>2019-10-31 11:00:00</td>\n",
       "      <td>73d1cd35-5e5f-4629-8cf2-3fda829d4e58</td>\n",
       "      <td>73156</td>\n",
       "      <td>таз пластмассовый 40,0 л пищевой овальный (иж)...</td>\n",
       "      <td>1</td>\n",
       "      <td>404</td>\n",
       "      <td>2019</td>\n",
       "      <td>10</td>\n",
       "      <td>31</td>\n",
       "      <td>404</td>\n",
       "      <td>cleaning</td>\n",
       "      <td>0</td>\n",
       "      <td>1</td>\n",
       "      <td>0</td>\n",
       "      <td>0</td>\n",
       "      <td>0</td>\n",
       "      <td>0</td>\n",
       "      <td>0</td>\n",
       "    </tr>\n",
       "    <tr>\n",
       "      <th>6733</th>\n",
       "      <td>2019-10-31 12:00:00</td>\n",
       "      <td>1f0a7f35-7459-4f23-b468-5e45bf481dd1</td>\n",
       "      <td>73158</td>\n",
       "      <td>сумка-тележка 2-х колесная gimi argo синяя</td>\n",
       "      <td>1</td>\n",
       "      <td>1087</td>\n",
       "      <td>2019</td>\n",
       "      <td>10</td>\n",
       "      <td>31</td>\n",
       "      <td>1087</td>\n",
       "      <td>household</td>\n",
       "      <td>0</td>\n",
       "      <td>0</td>\n",
       "      <td>0</td>\n",
       "      <td>0</td>\n",
       "      <td>1</td>\n",
       "      <td>0</td>\n",
       "      <td>0</td>\n",
       "    </tr>\n",
       "    <tr>\n",
       "      <th>6734</th>\n",
       "      <td>2019-10-31 13:00:00</td>\n",
       "      <td>25df96a7-c453-4708-9cea-a3dfc7c342ea</td>\n",
       "      <td>73162</td>\n",
       "      <td>герань домашняя (пеларгония зональная) цветуща...</td>\n",
       "      <td>1</td>\n",
       "      <td>157</td>\n",
       "      <td>2019</td>\n",
       "      <td>10</td>\n",
       "      <td>31</td>\n",
       "      <td>157</td>\n",
       "      <td>plants</td>\n",
       "      <td>0</td>\n",
       "      <td>0</td>\n",
       "      <td>0</td>\n",
       "      <td>0</td>\n",
       "      <td>0</td>\n",
       "      <td>0</td>\n",
       "      <td>1</td>\n",
       "    </tr>\n",
       "    <tr>\n",
       "      <th>6735</th>\n",
       "      <td>2019-10-31 14:00:00</td>\n",
       "      <td>73d1cd35-5e5f-4629-8cf2-3fda829d4e58</td>\n",
       "      <td>73164</td>\n",
       "      <td>таз пластмассовый со стиральной доской (иж), 1...</td>\n",
       "      <td>1</td>\n",
       "      <td>397</td>\n",
       "      <td>2019</td>\n",
       "      <td>10</td>\n",
       "      <td>31</td>\n",
       "      <td>397</td>\n",
       "      <td>cleaning</td>\n",
       "      <td>0</td>\n",
       "      <td>1</td>\n",
       "      <td>0</td>\n",
       "      <td>0</td>\n",
       "      <td>0</td>\n",
       "      <td>0</td>\n",
       "      <td>0</td>\n",
       "    </tr>\n",
       "    <tr>\n",
       "      <th>6736</th>\n",
       "      <td>2019-10-31 16:00:00</td>\n",
       "      <td>344aa778-e436-419e-a9c6-9b8f37b7c1df</td>\n",
       "      <td>73137</td>\n",
       "      <td>сумка-тележка 2-х колесная gimi argo синяя</td>\n",
       "      <td>1</td>\n",
       "      <td>1087</td>\n",
       "      <td>2019</td>\n",
       "      <td>10</td>\n",
       "      <td>31</td>\n",
       "      <td>1087</td>\n",
       "      <td>household</td>\n",
       "      <td>0</td>\n",
       "      <td>0</td>\n",
       "      <td>0</td>\n",
       "      <td>0</td>\n",
       "      <td>1</td>\n",
       "      <td>0</td>\n",
       "      <td>0</td>\n",
       "    </tr>\n",
       "  </tbody>\n",
       "</table>\n",
       "<p>6643 rows × 18 columns</p>\n",
       "</div>"
      ],
      "text/plain": [
       "                    date                           customer_id  order_id  \\\n",
       "0    2018-10-01 00:00:00  ee47d746-6d2f-4d3c-9622-c31412542920     68477   \n",
       "1    2018-10-01 00:00:00  ee47d746-6d2f-4d3c-9622-c31412542920     68477   \n",
       "2    2018-10-01 00:00:00  ee47d746-6d2f-4d3c-9622-c31412542920     68477   \n",
       "3    2018-10-01 00:00:00  ee47d746-6d2f-4d3c-9622-c31412542920     68477   \n",
       "4    2018-10-01 00:00:00  ee47d746-6d2f-4d3c-9622-c31412542920     68477   \n",
       "...                  ...                                   ...       ...   \n",
       "6732 2019-10-31 11:00:00  73d1cd35-5e5f-4629-8cf2-3fda829d4e58     73156   \n",
       "6733 2019-10-31 12:00:00  1f0a7f35-7459-4f23-b468-5e45bf481dd1     73158   \n",
       "6734 2019-10-31 13:00:00  25df96a7-c453-4708-9cea-a3dfc7c342ea     73162   \n",
       "6735 2019-10-31 14:00:00  73d1cd35-5e5f-4629-8cf2-3fda829d4e58     73164   \n",
       "6736 2019-10-31 16:00:00  344aa778-e436-419e-a9c6-9b8f37b7c1df     73137   \n",
       "\n",
       "                                                product  quantity  price  \\\n",
       "0       комнатное растение в горшке алое вера, d12, h30         1    142   \n",
       "1     комнатное растение в горшке кофе арабика, d12,...         1    194   \n",
       "2                           радермахера d-12 см h-20 см         1    112   \n",
       "3                      хризолидокарпус лутесценс d-9 см         1    179   \n",
       "4                        циперус зумула d-12 см h-25 см         1    112   \n",
       "...                                                 ...       ...    ...   \n",
       "6732  таз пластмассовый 40,0 л пищевой овальный (иж)...         1    404   \n",
       "6733         сумка-тележка 2-х колесная gimi argo синяя         1   1087   \n",
       "6734  герань домашняя (пеларгония зональная) цветуща...         1    157   \n",
       "6735  таз пластмассовый со стиральной доской (иж), 1...         1    397   \n",
       "6736         сумка-тележка 2-х колесная gimi argo синяя         1   1087   \n",
       "\n",
       "      year  month  day  revenue   category  bathroom  cleaning  construction  \\\n",
       "0     2018     10    1      142     plants         0         0             0   \n",
       "1     2018     10    1      194     plants         0         0             0   \n",
       "2     2018     10    1      112     plants         0         0             0   \n",
       "3     2018     10    1      179     plants         0         0             0   \n",
       "4     2018     10    1      112     plants         0         0             0   \n",
       "...    ...    ...  ...      ...        ...       ...       ...           ...   \n",
       "6732  2019     10   31      404   cleaning         0         1             0   \n",
       "6733  2019     10   31     1087  household         0         0             0   \n",
       "6734  2019     10   31      157     plants         0         0             0   \n",
       "6735  2019     10   31      397   cleaning         0         1             0   \n",
       "6736  2019     10   31     1087  household         0         0             0   \n",
       "\n",
       "      furniture  household  kitchen  plants  \n",
       "0             0          0        0       1  \n",
       "1             0          0        0       1  \n",
       "2             0          0        0       1  \n",
       "3             0          0        0       1  \n",
       "4             0          0        0       1  \n",
       "...         ...        ...      ...     ...  \n",
       "6732          0          0        0       0  \n",
       "6733          0          1        0       0  \n",
       "6734          0          0        0       1  \n",
       "6735          0          0        0       0  \n",
       "6736          0          1        0       0  \n",
       "\n",
       "[6643 rows x 18 columns]"
      ]
     },
     "execution_count": 35,
     "metadata": {},
     "output_type": "execute_result"
    }
   ],
   "source": [
    "df = df.join(pd.get_dummies(df.category))\n",
    "df"
   ]
  },
  {
   "cell_type": "markdown",
   "metadata": {},
   "source": [
    "## 3.1 Исследовательский анализ данных: выводы<a id=\"analysis_end\"></a>\n",
    "\n",
    "1. Количество транзакций: 6643\n",
    "2. Количество заказов: 2750\n",
    "3. Количество уникальных пользователей: 2389\n",
    "4. Располагаем данными за период с 2018-10-01 00:00:00 по 2019-10-31 16:00:00\n",
    "6. 75% транзакций состоят из одного товара\n",
    "7. Наибольшее количество товаров в транзакции - 150 (с учетом удаления выбросов)\n",
    "8. Минимальная цена товара - 9 у.е.\n",
    "9. Максимальная цена товара - 14917 у.е.\n",
    "10. Средняя цена в магазине - 135 у.е.\n",
    "11. Большинство заказов приходится на 2019 год\n",
    "12. Минимальная выручка - 9 у.е. на транзакцию\n",
    "13. Максимальная выручка - 47385 у.е. на транзакцию\n",
    "14. Средняя выручка - 157 у.е. на транзакцию\n",
    "15. Выделили 7 категорий товаров: \n",
    "    - 'plants' - растения, \n",
    "    - 'kitchen' - товары для кухни, \n",
    "    - 'household' - товары для дома, \n",
    "    - 'construction' - товары для строительства и ремонта,  \n",
    "    - 'bathroom' - товары для ванной,\n",
    "    - 'furniture' - мебель,\n",
    "    - 'cleaning' - товары для уборки"
   ]
  },
  {
   "cell_type": "markdown",
   "metadata": {
    "id": "EyHjNL6NfqQM"
   },
   "source": [
    "# 4. Сегментация пользователей и проверка гипотез<a id=\"segmentation\"></a>"
   ]
  },
  {
   "cell_type": "code",
   "execution_count": 36,
   "metadata": {},
   "outputs": [
    {
     "data": {
      "text/html": [
       "<div>\n",
       "<style scoped>\n",
       "    .dataframe tbody tr th:only-of-type {\n",
       "        vertical-align: middle;\n",
       "    }\n",
       "\n",
       "    .dataframe tbody tr th {\n",
       "        vertical-align: top;\n",
       "    }\n",
       "\n",
       "    .dataframe thead th {\n",
       "        text-align: right;\n",
       "    }\n",
       "</style>\n",
       "<table border=\"1\" class=\"dataframe\">\n",
       "  <thead>\n",
       "    <tr style=\"text-align: right;\">\n",
       "      <th></th>\n",
       "      <th>date</th>\n",
       "      <th>customer_id</th>\n",
       "      <th>order_id</th>\n",
       "      <th>product</th>\n",
       "      <th>quantity</th>\n",
       "      <th>price</th>\n",
       "      <th>year</th>\n",
       "      <th>month</th>\n",
       "      <th>day</th>\n",
       "      <th>revenue</th>\n",
       "      <th>...</th>\n",
       "      <th>cleaning</th>\n",
       "      <th>construction</th>\n",
       "      <th>furniture</th>\n",
       "      <th>household</th>\n",
       "      <th>kitchen</th>\n",
       "      <th>plants</th>\n",
       "      <th>avg_price_per_category</th>\n",
       "      <th>revenue_per_category</th>\n",
       "      <th>favorite_category</th>\n",
       "      <th>favorite_category_numeric</th>\n",
       "    </tr>\n",
       "  </thead>\n",
       "  <tbody>\n",
       "    <tr>\n",
       "      <th>0</th>\n",
       "      <td>2018-10-01</td>\n",
       "      <td>ee47d746-6d2f-4d3c-9622-c31412542920</td>\n",
       "      <td>68477</td>\n",
       "      <td>комнатное растение в горшке алое вера, d12, h30</td>\n",
       "      <td>1</td>\n",
       "      <td>142</td>\n",
       "      <td>2018</td>\n",
       "      <td>10</td>\n",
       "      <td>1</td>\n",
       "      <td>142</td>\n",
       "      <td>...</td>\n",
       "      <td>0</td>\n",
       "      <td>0</td>\n",
       "      <td>0</td>\n",
       "      <td>0</td>\n",
       "      <td>0</td>\n",
       "      <td>1</td>\n",
       "      <td>148.142857</td>\n",
       "      <td>1037</td>\n",
       "      <td>plants</td>\n",
       "      <td>1</td>\n",
       "    </tr>\n",
       "    <tr>\n",
       "      <th>1</th>\n",
       "      <td>2018-10-01</td>\n",
       "      <td>ee47d746-6d2f-4d3c-9622-c31412542920</td>\n",
       "      <td>68477</td>\n",
       "      <td>комнатное растение в горшке кофе арабика, d12,...</td>\n",
       "      <td>1</td>\n",
       "      <td>194</td>\n",
       "      <td>2018</td>\n",
       "      <td>10</td>\n",
       "      <td>1</td>\n",
       "      <td>194</td>\n",
       "      <td>...</td>\n",
       "      <td>0</td>\n",
       "      <td>0</td>\n",
       "      <td>0</td>\n",
       "      <td>0</td>\n",
       "      <td>0</td>\n",
       "      <td>1</td>\n",
       "      <td>148.142857</td>\n",
       "      <td>1037</td>\n",
       "      <td>plants</td>\n",
       "      <td>1</td>\n",
       "    </tr>\n",
       "    <tr>\n",
       "      <th>2</th>\n",
       "      <td>2018-10-01</td>\n",
       "      <td>ee47d746-6d2f-4d3c-9622-c31412542920</td>\n",
       "      <td>68477</td>\n",
       "      <td>радермахера d-12 см h-20 см</td>\n",
       "      <td>1</td>\n",
       "      <td>112</td>\n",
       "      <td>2018</td>\n",
       "      <td>10</td>\n",
       "      <td>1</td>\n",
       "      <td>112</td>\n",
       "      <td>...</td>\n",
       "      <td>0</td>\n",
       "      <td>0</td>\n",
       "      <td>0</td>\n",
       "      <td>0</td>\n",
       "      <td>0</td>\n",
       "      <td>1</td>\n",
       "      <td>148.142857</td>\n",
       "      <td>1037</td>\n",
       "      <td>plants</td>\n",
       "      <td>1</td>\n",
       "    </tr>\n",
       "    <tr>\n",
       "      <th>3</th>\n",
       "      <td>2018-10-01</td>\n",
       "      <td>ee47d746-6d2f-4d3c-9622-c31412542920</td>\n",
       "      <td>68477</td>\n",
       "      <td>хризолидокарпус лутесценс d-9 см</td>\n",
       "      <td>1</td>\n",
       "      <td>179</td>\n",
       "      <td>2018</td>\n",
       "      <td>10</td>\n",
       "      <td>1</td>\n",
       "      <td>179</td>\n",
       "      <td>...</td>\n",
       "      <td>0</td>\n",
       "      <td>0</td>\n",
       "      <td>0</td>\n",
       "      <td>0</td>\n",
       "      <td>0</td>\n",
       "      <td>1</td>\n",
       "      <td>148.142857</td>\n",
       "      <td>1037</td>\n",
       "      <td>plants</td>\n",
       "      <td>1</td>\n",
       "    </tr>\n",
       "    <tr>\n",
       "      <th>4</th>\n",
       "      <td>2018-10-01</td>\n",
       "      <td>ee47d746-6d2f-4d3c-9622-c31412542920</td>\n",
       "      <td>68477</td>\n",
       "      <td>циперус зумула d-12 см h-25 см</td>\n",
       "      <td>1</td>\n",
       "      <td>112</td>\n",
       "      <td>2018</td>\n",
       "      <td>10</td>\n",
       "      <td>1</td>\n",
       "      <td>112</td>\n",
       "      <td>...</td>\n",
       "      <td>0</td>\n",
       "      <td>0</td>\n",
       "      <td>0</td>\n",
       "      <td>0</td>\n",
       "      <td>0</td>\n",
       "      <td>1</td>\n",
       "      <td>148.142857</td>\n",
       "      <td>1037</td>\n",
       "      <td>plants</td>\n",
       "      <td>1</td>\n",
       "    </tr>\n",
       "  </tbody>\n",
       "</table>\n",
       "<p>5 rows × 22 columns</p>\n",
       "</div>"
      ],
      "text/plain": [
       "        date                           customer_id  order_id  \\\n",
       "0 2018-10-01  ee47d746-6d2f-4d3c-9622-c31412542920     68477   \n",
       "1 2018-10-01  ee47d746-6d2f-4d3c-9622-c31412542920     68477   \n",
       "2 2018-10-01  ee47d746-6d2f-4d3c-9622-c31412542920     68477   \n",
       "3 2018-10-01  ee47d746-6d2f-4d3c-9622-c31412542920     68477   \n",
       "4 2018-10-01  ee47d746-6d2f-4d3c-9622-c31412542920     68477   \n",
       "\n",
       "                                             product  quantity  price  year  \\\n",
       "0    комнатное растение в горшке алое вера, d12, h30         1    142  2018   \n",
       "1  комнатное растение в горшке кофе арабика, d12,...         1    194  2018   \n",
       "2                        радермахера d-12 см h-20 см         1    112  2018   \n",
       "3                   хризолидокарпус лутесценс d-9 см         1    179  2018   \n",
       "4                     циперус зумула d-12 см h-25 см         1    112  2018   \n",
       "\n",
       "   month  day  revenue  ... cleaning  construction  furniture  household  \\\n",
       "0     10    1      142  ...        0             0          0          0   \n",
       "1     10    1      194  ...        0             0          0          0   \n",
       "2     10    1      112  ...        0             0          0          0   \n",
       "3     10    1      179  ...        0             0          0          0   \n",
       "4     10    1      112  ...        0             0          0          0   \n",
       "\n",
       "   kitchen  plants  avg_price_per_category  revenue_per_category  \\\n",
       "0        0       1              148.142857                  1037   \n",
       "1        0       1              148.142857                  1037   \n",
       "2        0       1              148.142857                  1037   \n",
       "3        0       1              148.142857                  1037   \n",
       "4        0       1              148.142857                  1037   \n",
       "\n",
       "   favorite_category  favorite_category_numeric  \n",
       "0             plants                          1  \n",
       "1             plants                          1  \n",
       "2             plants                          1  \n",
       "3             plants                          1  \n",
       "4             plants                          1  \n",
       "\n",
       "[5 rows x 22 columns]"
      ]
     },
     "execution_count": 36,
     "metadata": {},
     "output_type": "execute_result"
    }
   ],
   "source": [
    "# Создаем столбцы avg_price_per_category, revenue_per_category и favorite_category, и присоединяем их к df\n",
    "df_category = df.groupby(['customer_id', 'category']).agg({'price': 'mean', 'revenue':'sum'}).reset_index()\n",
    "\n",
    "df_category = df_category.rename(columns={'price': 'avg_price_per_category', 'revenue':'revenue_per_category'})\n",
    "\n",
    "df_category_count = df_category.groupby('customer_id').agg({'category': 'max'}).reset_index()\n",
    "df_category_count = df_category_count.rename(columns={'category': 'favorite_category'})\n",
    "\n",
    "df = df.merge(df_category[['customer_id', 'avg_price_per_category', 'revenue_per_category']], how = 'left', on='customer_id')\n",
    "df = df.merge(df_category_count[['customer_id', 'favorite_category']], how = 'left', on='customer_id')\n",
    "\n",
    "\n",
    "def favorite_category(row):\n",
    "    if row['favorite_category'] == 'plants':\n",
    "        return 1\n",
    "    if row['favorite_category'] == 'household':\n",
    "        return 2\n",
    "    if row['favorite_category'] == 'kitchen':\n",
    "        return 3\n",
    "    if row['favorite_category'] == 'cleaning':\n",
    "        return 4\n",
    "    if row['favorite_category'] == 'bathroom':\n",
    "        return 5\n",
    "    if row['favorite_category'] == 'construction':\n",
    "        return 6\n",
    "    if row['favorite_category'] == 'furniture':\n",
    "        return 7\n",
    "\n",
    "df['favorite_category_numeric'] = df.apply(favorite_category, axis = 1)\n",
    "df.head()"
   ]
  },
  {
   "cell_type": "markdown",
   "metadata": {},
   "source": [
    "С учетом того, что необходимо провести сегментацию пользователей, создадим новый датафрейм, сгруппированный по уникальным пользователям"
   ]
  },
  {
   "cell_type": "code",
   "execution_count": 37,
   "metadata": {},
   "outputs": [
    {
     "data": {
      "text/html": [
       "<div>\n",
       "<style scoped>\n",
       "    .dataframe tbody tr th:only-of-type {\n",
       "        vertical-align: middle;\n",
       "    }\n",
       "\n",
       "    .dataframe tbody tr th {\n",
       "        vertical-align: top;\n",
       "    }\n",
       "\n",
       "    .dataframe thead th {\n",
       "        text-align: right;\n",
       "    }\n",
       "</style>\n",
       "<table border=\"1\" class=\"dataframe\">\n",
       "  <thead>\n",
       "    <tr style=\"text-align: right;\">\n",
       "      <th></th>\n",
       "      <th>customer_id</th>\n",
       "      <th>product_quantity</th>\n",
       "      <th>total_quantity</th>\n",
       "      <th>avg_price</th>\n",
       "      <th>year</th>\n",
       "      <th>month</th>\n",
       "      <th>revenue_per_customer</th>\n",
       "      <th>favorite_category_numeric</th>\n",
       "      <th>avg_price_per_category</th>\n",
       "      <th>revenue_per_category</th>\n",
       "      <th>recency</th>\n",
       "    </tr>\n",
       "  </thead>\n",
       "  <tbody>\n",
       "    <tr>\n",
       "      <th>0</th>\n",
       "      <td>000d6849-084e-4d9f-ac03-37174eaf60c4</td>\n",
       "      <td>4</td>\n",
       "      <td>4</td>\n",
       "      <td>138.75</td>\n",
       "      <td>2019.0</td>\n",
       "      <td>10.0</td>\n",
       "      <td>555</td>\n",
       "      <td>1</td>\n",
       "      <td>138.75</td>\n",
       "      <td>2220</td>\n",
       "      <td>15</td>\n",
       "    </tr>\n",
       "    <tr>\n",
       "      <th>1</th>\n",
       "      <td>001cee7f-0b29-4716-b202-0042213ab038</td>\n",
       "      <td>1</td>\n",
       "      <td>1</td>\n",
       "      <td>442.00</td>\n",
       "      <td>2019.0</td>\n",
       "      <td>2.0</td>\n",
       "      <td>442</td>\n",
       "      <td>2</td>\n",
       "      <td>442.00</td>\n",
       "      <td>442</td>\n",
       "      <td>257</td>\n",
       "    </tr>\n",
       "    <tr>\n",
       "      <th>2</th>\n",
       "      <td>00299f34-5385-4d13-9aea-c80b81658e1b</td>\n",
       "      <td>1</td>\n",
       "      <td>2</td>\n",
       "      <td>457.00</td>\n",
       "      <td>2019.0</td>\n",
       "      <td>10.0</td>\n",
       "      <td>914</td>\n",
       "      <td>4</td>\n",
       "      <td>457.00</td>\n",
       "      <td>914</td>\n",
       "      <td>16</td>\n",
       "    </tr>\n",
       "    <tr>\n",
       "      <th>3</th>\n",
       "      <td>002d4d3a-4a59-406b-86ec-c3314357e498</td>\n",
       "      <td>1</td>\n",
       "      <td>1</td>\n",
       "      <td>1649.00</td>\n",
       "      <td>2019.0</td>\n",
       "      <td>1.0</td>\n",
       "      <td>1649</td>\n",
       "      <td>2</td>\n",
       "      <td>1649.00</td>\n",
       "      <td>1649</td>\n",
       "      <td>276</td>\n",
       "    </tr>\n",
       "    <tr>\n",
       "      <th>4</th>\n",
       "      <td>003bbd39-0000-41ff-b7f9-2ddaec152037</td>\n",
       "      <td>1</td>\n",
       "      <td>2</td>\n",
       "      <td>1162.00</td>\n",
       "      <td>2019.0</td>\n",
       "      <td>9.0</td>\n",
       "      <td>2324</td>\n",
       "      <td>7</td>\n",
       "      <td>1162.00</td>\n",
       "      <td>2324</td>\n",
       "      <td>31</td>\n",
       "    </tr>\n",
       "  </tbody>\n",
       "</table>\n",
       "</div>"
      ],
      "text/plain": [
       "                            customer_id  product_quantity  total_quantity  \\\n",
       "0  000d6849-084e-4d9f-ac03-37174eaf60c4                 4               4   \n",
       "1  001cee7f-0b29-4716-b202-0042213ab038                 1               1   \n",
       "2  00299f34-5385-4d13-9aea-c80b81658e1b                 1               2   \n",
       "3  002d4d3a-4a59-406b-86ec-c3314357e498                 1               1   \n",
       "4  003bbd39-0000-41ff-b7f9-2ddaec152037                 1               2   \n",
       "\n",
       "   avg_price    year  month  revenue_per_customer  favorite_category_numeric  \\\n",
       "0     138.75  2019.0   10.0                   555                          1   \n",
       "1     442.00  2019.0    2.0                   442                          2   \n",
       "2     457.00  2019.0   10.0                   914                          4   \n",
       "3    1649.00  2019.0    1.0                  1649                          2   \n",
       "4    1162.00  2019.0    9.0                  2324                          7   \n",
       "\n",
       "   avg_price_per_category  revenue_per_category  recency  \n",
       "0                  138.75                  2220       15  \n",
       "1                  442.00                   442      257  \n",
       "2                  457.00                   914       16  \n",
       "3                 1649.00                  1649      276  \n",
       "4                 1162.00                  2324       31  "
      ]
     },
     "execution_count": 37,
     "metadata": {},
     "output_type": "execute_result"
    }
   ],
   "source": [
    "df_customer_id = df.groupby(['customer_id']).agg(\n",
    "    {'date': 'max',\n",
    "     'product': 'count',\n",
    "     'quantity': 'sum', \n",
    "     'price': 'mean',\n",
    "     'year': 'median',\n",
    "     'month': 'median',\n",
    "     'revenue': 'sum',\n",
    "     'favorite_category_numeric': 'first', \n",
    "     'avg_price_per_category': 'mean',\n",
    "     'revenue_per_category': 'sum'\n",
    "     }).reset_index()\n",
    "\n",
    "df_customer_id.columns =  ['customer_id',\n",
    "                           'max_purchase_date',\n",
    "                           'product_quantity',\n",
    "                           'total_quantity', \n",
    "                           'avg_price',\n",
    "                           'year',\n",
    "                           'month',\n",
    "                           'revenue_per_customer',\n",
    "                           'favorite_category_numeric', \n",
    "                           'avg_price_per_category',\n",
    "                           'revenue_per_category'\n",
    "                          ]\n",
    "\n",
    "df_customer_id['recency'] = (df_customer_id['max_purchase_date'].max() - df_customer_id['max_purchase_date']).dt.days\n",
    "df_customer_id = df_customer_id.drop(columns = ['max_purchase_date'])\n",
    "\n",
    "df_customer_id.head()"
   ]
  },
  {
   "cell_type": "code",
   "execution_count": 38,
   "metadata": {},
   "outputs": [
    {
     "data": {
      "image/png": "[encoded data removed]",
      "text/plain": [
       "<Figure size 1080x720 with 1 Axes>"
      ]
     },
     "metadata": {
      "needs_background": "light"
     },
     "output_type": "display_data"
    }
   ],
   "source": [
    "# создаём объект класса scaler (нормализатор)\n",
    "scaler = StandardScaler()\n",
    "\n",
    "# обучаем нормализатор и преобразуем набор данных\n",
    "X = df_customer_id.drop(['customer_id'], axis = 1)\n",
    "X_sc_customer_id = scaler.fit_transform(X)\n",
    "\n",
    "# Строим матрицу расстояний функцией linkage() \n",
    "linked = linkage(X_sc_customer_id, method = 'ward')\n",
    "\n",
    "# Рисуем дендрограмму, чтобы определить количество кластеров для алгоритма K-Means \n",
    "plt.figure(figsize=(15, 10))\n",
    "dendrogram(linked, orientation='top')\n",
    "plt.title('Дендрограмма (Иерархическая кластеризация числовых параметров пользователей)')\n",
    "plt.show()"
   ]
  },
  {
   "cell_type": "code",
   "execution_count": 39,
   "metadata": {},
   "outputs": [
    {
     "data": {
      "text/html": [
       "<div>\n",
       "<style scoped>\n",
       "    .dataframe tbody tr th:only-of-type {\n",
       "        vertical-align: middle;\n",
       "    }\n",
       "\n",
       "    .dataframe tbody tr th {\n",
       "        vertical-align: top;\n",
       "    }\n",
       "\n",
       "    .dataframe thead th {\n",
       "        text-align: right;\n",
       "    }\n",
       "</style>\n",
       "<table border=\"1\" class=\"dataframe\">\n",
       "  <thead>\n",
       "    <tr style=\"text-align: right;\">\n",
       "      <th></th>\n",
       "      <th>customer_id</th>\n",
       "      <th>product_quantity</th>\n",
       "      <th>total_quantity</th>\n",
       "      <th>avg_price</th>\n",
       "      <th>year</th>\n",
       "      <th>month</th>\n",
       "      <th>revenue_per_customer</th>\n",
       "      <th>favorite_category_numeric</th>\n",
       "      <th>avg_price_per_category</th>\n",
       "      <th>revenue_per_category</th>\n",
       "      <th>recency</th>\n",
       "      <th>cluster</th>\n",
       "    </tr>\n",
       "  </thead>\n",
       "  <tbody>\n",
       "    <tr>\n",
       "      <th>0</th>\n",
       "      <td>000d6849-084e-4d9f-ac03-37174eaf60c4</td>\n",
       "      <td>4</td>\n",
       "      <td>4</td>\n",
       "      <td>138.75</td>\n",
       "      <td>2019.0</td>\n",
       "      <td>10.0</td>\n",
       "      <td>555</td>\n",
       "      <td>1</td>\n",
       "      <td>138.75</td>\n",
       "      <td>2220</td>\n",
       "      <td>15</td>\n",
       "      <td>0</td>\n",
       "    </tr>\n",
       "    <tr>\n",
       "      <th>1</th>\n",
       "      <td>001cee7f-0b29-4716-b202-0042213ab038</td>\n",
       "      <td>1</td>\n",
       "      <td>1</td>\n",
       "      <td>442.00</td>\n",
       "      <td>2019.0</td>\n",
       "      <td>2.0</td>\n",
       "      <td>442</td>\n",
       "      <td>2</td>\n",
       "      <td>442.00</td>\n",
       "      <td>442</td>\n",
       "      <td>257</td>\n",
       "      <td>0</td>\n",
       "    </tr>\n",
       "    <tr>\n",
       "      <th>2</th>\n",
       "      <td>00299f34-5385-4d13-9aea-c80b81658e1b</td>\n",
       "      <td>1</td>\n",
       "      <td>2</td>\n",
       "      <td>457.00</td>\n",
       "      <td>2019.0</td>\n",
       "      <td>10.0</td>\n",
       "      <td>914</td>\n",
       "      <td>4</td>\n",
       "      <td>457.00</td>\n",
       "      <td>914</td>\n",
       "      <td>16</td>\n",
       "      <td>0</td>\n",
       "    </tr>\n",
       "    <tr>\n",
       "      <th>3</th>\n",
       "      <td>002d4d3a-4a59-406b-86ec-c3314357e498</td>\n",
       "      <td>1</td>\n",
       "      <td>1</td>\n",
       "      <td>1649.00</td>\n",
       "      <td>2019.0</td>\n",
       "      <td>1.0</td>\n",
       "      <td>1649</td>\n",
       "      <td>2</td>\n",
       "      <td>1649.00</td>\n",
       "      <td>1649</td>\n",
       "      <td>276</td>\n",
       "      <td>0</td>\n",
       "    </tr>\n",
       "    <tr>\n",
       "      <th>4</th>\n",
       "      <td>003bbd39-0000-41ff-b7f9-2ddaec152037</td>\n",
       "      <td>1</td>\n",
       "      <td>2</td>\n",
       "      <td>1162.00</td>\n",
       "      <td>2019.0</td>\n",
       "      <td>9.0</td>\n",
       "      <td>2324</td>\n",
       "      <td>7</td>\n",
       "      <td>1162.00</td>\n",
       "      <td>2324</td>\n",
       "      <td>31</td>\n",
       "      <td>0</td>\n",
       "    </tr>\n",
       "  </tbody>\n",
       "</table>\n",
       "</div>"
      ],
      "text/plain": [
       "                            customer_id  product_quantity  total_quantity  \\\n",
       "0  000d6849-084e-4d9f-ac03-37174eaf60c4                 4               4   \n",
       "1  001cee7f-0b29-4716-b202-0042213ab038                 1               1   \n",
       "2  00299f34-5385-4d13-9aea-c80b81658e1b                 1               2   \n",
       "3  002d4d3a-4a59-406b-86ec-c3314357e498                 1               1   \n",
       "4  003bbd39-0000-41ff-b7f9-2ddaec152037                 1               2   \n",
       "\n",
       "   avg_price    year  month  revenue_per_customer  favorite_category_numeric  \\\n",
       "0     138.75  2019.0   10.0                   555                          1   \n",
       "1     442.00  2019.0    2.0                   442                          2   \n",
       "2     457.00  2019.0   10.0                   914                          4   \n",
       "3    1649.00  2019.0    1.0                  1649                          2   \n",
       "4    1162.00  2019.0    9.0                  2324                          7   \n",
       "\n",
       "   avg_price_per_category  revenue_per_category  recency  cluster  \n",
       "0                  138.75                  2220       15        0  \n",
       "1                  442.00                   442      257        0  \n",
       "2                  457.00                   914       16        0  \n",
       "3                 1649.00                  1649      276        0  \n",
       "4                 1162.00                  2324       31        0  "
      ]
     },
     "execution_count": 39,
     "metadata": {},
     "output_type": "execute_result"
    }
   ],
   "source": [
    "# задаём число кластеров, равное 2(по количеству цветов на дендрограмме)\n",
    "km = KMeans(n_clusters = 2, random_state = 0) \n",
    "\n",
    "# применяем алгоритм к данным и формируем вектор кластеров \n",
    "labels = km.fit_predict(X_sc_customer_id) \n",
    "\n",
    "# сохраняем метки кластера в поле нашего датасета\n",
    "df_customer_id['cluster'] = labels\n",
    "\n",
    "df_customer_id.head()"
   ]
  },
  {
   "cell_type": "code",
   "execution_count": 40,
   "metadata": {},
   "outputs": [],
   "source": [
    "def st_analysis(df1, df2, title):\n",
    "    \n",
    "    plt.figure(figsize=(20, 8))\n",
    "    plt.title(title)\n",
    "    plt.ylabel('Частота')\n",
    "    sns.distplot(df1, kde = False, bins = 30)\n",
    "    sns.distplot(df2, kde = False, bins = 30)\n",
    "    plt.show()\n",
    "    \n",
    "    alpha = 0.05\n",
    "    stat, p = shapiro(df1)\n",
    "    if p > alpha:\n",
    "        print('df1 имеет распределение Гаусса')\n",
    "    else:\n",
    "        print('df1 не имеет распределения Гаусса')\n",
    "    \n",
    "    stat, p = shapiro(df2)\n",
    "    if p > alpha:\n",
    "        print('df2 имеет распределение Гаусса')\n",
    "    else:\n",
    "        print('df2 не имеет распределения Гаусса')\n",
    "        \n",
    "    results = stat, p = mannwhitneyu(df1, df2)\n",
    "    print('p-значение:', results.pvalue)\n",
    "    if results.pvalue < alpha:\n",
    "        print('Отвергаем нулевую гипотезу')\n",
    "    else:\n",
    "        print('Не получилось отвергнуть нулевую гипотезу')"
   ]
  },
  {
   "cell_type": "markdown",
   "metadata": {
    "id": "4noybPz1yS86"
   },
   "source": [
    "**Составить гипотезы по полученным кластерам**\n",
    "\n",
    "Выбрали для тестирования гипотез статистический U-критерий Манна — Уитни, который позволяет отказаться от предположения нормальности распределения и одинаковых дисперсий"
   ]
  },
  {
   "cell_type": "code",
   "execution_count": 41,
   "metadata": {
    "scrolled": true
   },
   "outputs": [
    {
     "name": "stdout",
     "output_type": "stream",
     "text": [
      "product_quantity кластеров 0 и 1 одинаков(а)\n",
      "Гипотеза H₀: \"product_quantity одной генеральной совокупности равен(на) product_quantity другой генеральной совокупности\n",
      "Гипотеза H₁: \"product_quantity одной генеральной совокупности НЕ равен(на) product_quantity другой генеральной совокупности\n",
      "\n"
     ]
    },
    {
     "data": {
      "image/png": "[encoded data removed]",
      "text/plain": [
       "<Figure size 1440x576 with 1 Axes>"
      ]
     },
     "metadata": {
      "needs_background": "light"
     },
     "output_type": "display_data"
    },
    {
     "name": "stdout",
     "output_type": "stream",
     "text": [
      "df1 не имеет распределения Гаусса\n",
      "df2 не имеет распределения Гаусса\n",
      "p-значение: 0.014336815855667016\n",
      "Отвергаем нулевую гипотезу\n",
      "\n",
      "total_quantity кластеров 0 и 1 одинаков(а)\n",
      "Гипотеза H₀: \"total_quantity одной генеральной совокупности равен(на) total_quantity другой генеральной совокупности\n",
      "Гипотеза H₁: \"total_quantity одной генеральной совокупности НЕ равен(на) total_quantity другой генеральной совокупности\n",
      "\n"
     ]
    },
    {
     "data": {
      "image/png": "[encoded data removed]",
      "text/plain": [
       "<Figure size 1440x576 with 1 Axes>"
      ]
     },
     "metadata": {
      "needs_background": "light"
     },
     "output_type": "display_data"
    },
    {
     "name": "stdout",
     "output_type": "stream",
     "text": [
      "df1 не имеет распределения Гаусса\n",
      "df2 не имеет распределения Гаусса\n",
      "p-значение: 0.17173272726809313\n",
      "Не получилось отвергнуть нулевую гипотезу\n",
      "\n",
      "avg_price кластеров 0 и 1 одинаков(а)\n",
      "Гипотеза H₀: \"avg_price одной генеральной совокупности равен(на) avg_price другой генеральной совокупности\n",
      "Гипотеза H₁: \"avg_price одной генеральной совокупности НЕ равен(на) avg_price другой генеральной совокупности\n",
      "\n"
     ]
    },
    {
     "data": {
      "image/png": "[encoded data removed]",
      "text/plain": [
       "<Figure size 1440x576 with 1 Axes>"
      ]
     },
     "metadata": {
      "needs_background": "light"
     },
     "output_type": "display_data"
    },
    {
     "name": "stdout",
     "output_type": "stream",
     "text": [
      "df1 не имеет распределения Гаусса\n",
      "df2 не имеет распределения Гаусса\n",
      "p-значение: 1.6539876769998148e-06\n",
      "Отвергаем нулевую гипотезу\n",
      "\n",
      "year кластеров 0 и 1 одинаков(а)\n",
      "Гипотеза H₀: \"year одной генеральной совокупности равен(на) year другой генеральной совокупности\n",
      "Гипотеза H₁: \"year одной генеральной совокупности НЕ равен(на) year другой генеральной совокупности\n",
      "\n"
     ]
    },
    {
     "data": {
      "image/png": "[encoded data removed]",
      "text/plain": [
       "<Figure size 1440x576 with 1 Axes>"
      ]
     },
     "metadata": {
      "needs_background": "light"
     },
     "output_type": "display_data"
    },
    {
     "name": "stdout",
     "output_type": "stream",
     "text": [
      "df1 не имеет распределения Гаусса\n",
      "df2 не имеет распределения Гаусса\n",
      "p-значение: 0.0\n",
      "Отвергаем нулевую гипотезу\n",
      "\n",
      "month кластеров 0 и 1 одинаков(а)\n",
      "Гипотеза H₀: \"month одной генеральной совокупности равен(на) month другой генеральной совокупности\n",
      "Гипотеза H₁: \"month одной генеральной совокупности НЕ равен(на) month другой генеральной совокупности\n",
      "\n"
     ]
    },
    {
     "data": {
      "image/png": "[encoded data removed]",
      "text/plain": [
       "<Figure size 1440x576 with 1 Axes>"
      ]
     },
     "metadata": {
      "needs_background": "light"
     },
     "output_type": "display_data"
    },
    {
     "name": "stdout",
     "output_type": "stream",
     "text": [
      "df1 не имеет распределения Гаусса\n",
      "df2 не имеет распределения Гаусса\n",
      "p-значение: 3.201459243348715e-274\n",
      "Отвергаем нулевую гипотезу\n",
      "\n",
      "revenue_per_customer кластеров 0 и 1 одинаков(а)\n",
      "Гипотеза H₀: \"revenue_per_customer одной генеральной совокупности равен(на) revenue_per_customer другой генеральной совокупности\n",
      "Гипотеза H₁: \"revenue_per_customer одной генеральной совокупности НЕ равен(на) revenue_per_customer другой генеральной совокупности\n",
      "\n"
     ]
    },
    {
     "data": {
      "image/png": "[encoded data removed]",
      "text/plain": [
       "<Figure size 1440x576 with 1 Axes>"
      ]
     },
     "metadata": {
      "needs_background": "light"
     },
     "output_type": "display_data"
    },
    {
     "name": "stdout",
     "output_type": "stream",
     "text": [
      "df1 не имеет распределения Гаусса\n",
      "df2 не имеет распределения Гаусса\n",
      "p-значение: 2.937548366590342e-08\n",
      "Отвергаем нулевую гипотезу\n",
      "\n",
      "revenue_per_category кластеров 0 и 1 одинаков(а)\n",
      "Гипотеза H₀: \"revenue_per_category одной генеральной совокупности равен(на) revenue_per_category другой генеральной совокупности\n",
      "Гипотеза H₁: \"revenue_per_category одной генеральной совокупности НЕ равен(на) revenue_per_category другой генеральной совокупности\n",
      "\n"
     ]
    },
    {
     "data": {
      "image/png": "[encoded data removed]",
      "text/plain": [
       "<Figure size 1440x576 with 1 Axes>"
      ]
     },
     "metadata": {
      "needs_background": "light"
     },
     "output_type": "display_data"
    },
    {
     "name": "stdout",
     "output_type": "stream",
     "text": [
      "df1 не имеет распределения Гаусса\n",
      "df2 не имеет распределения Гаусса\n",
      "p-значение: 1.6246088832362259e-06\n",
      "Отвергаем нулевую гипотезу\n",
      "\n",
      "recency кластеров 0 и 1 одинаков(а)\n",
      "Гипотеза H₀: \"recency одной генеральной совокупности равен(на) recency другой генеральной совокупности\n",
      "Гипотеза H₁: \"recency одной генеральной совокупности НЕ равен(на) recency другой генеральной совокупности\n",
      "\n"
     ]
    },
    {
     "data": {
      "image/png": "[encoded data removed]",
      "text/plain": [
       "<Figure size 1440x576 with 1 Axes>"
      ]
     },
     "metadata": {
      "needs_background": "light"
     },
     "output_type": "display_data"
    },
    {
     "name": "stdout",
     "output_type": "stream",
     "text": [
      "df1 не имеет распределения Гаусса\n",
      "df2 не имеет распределения Гаусса\n",
      "p-значение: 8.693261247634484e-286\n",
      "Отвергаем нулевую гипотезу\n",
      "\n"
     ]
    }
   ],
   "source": [
    "# С помошью статистического теста mannwhitneyu смотрим, как распределились кластеры по основным признакам\n",
    "k = 0\n",
    "j = 1\n",
    "for i in df_customer_id[['product_quantity', 'total_quantity', 'avg_price', 'year',\n",
    "                         'month', 'revenue_per_customer',\n",
    "                         'revenue_per_category', 'recency']]:\n",
    "    print('{} кластеров {} и {} одинаков(а)'.format(i,k,j))\n",
    "    print('Гипотеза H₀: \"{} одной генеральной совокупности равен(на) {} другой генеральной совокупности'.format(i, i))\n",
    "    print('Гипотеза H₁: \"{} одной генеральной совокупности НЕ равен(на) {} другой генеральной совокупности'.format(i, i))\n",
    "    print()    \n",
    "    st_analysis(df_customer_id.query('cluster == @k')[i], \n",
    "                    df_customer_id.query('cluster == @j')[i], \n",
    "                    '{} кластеров {} и {}'.format(i, k, j))\n",
    "    print()"
   ]
  },
  {
   "cell_type": "markdown",
   "metadata": {},
   "source": [
    "Поскольку большинство нулевых гипотез (7 8) было отвергнуто, в дальнейшем предполагаем, разница между полученными  кластерами статистически значима, и мы можем сегментировать клиентов на основе выделенных кластеров"
   ]
  },
  {
   "cell_type": "code",
   "execution_count": 42,
   "metadata": {},
   "outputs": [
    {
     "data": {
      "image/png": "[encoded data removed]",
      "text/plain": [
       "<Figure size 432x288 with 1 Axes>"
      ]
     },
     "metadata": {
      "needs_background": "light"
     },
     "output_type": "display_data"
    },
    {
     "data": {
      "image/png": "[encoded data removed]",
      "text/plain": [
       "<Figure size 432x288 with 1 Axes>"
      ]
     },
     "metadata": {
      "needs_background": "light"
     },
     "output_type": "display_data"
    },
    {
     "data": {
      "image/png": "[encoded data removed]",
      "text/plain": [
       "<Figure size 432x288 with 1 Axes>"
      ]
     },
     "metadata": {
      "needs_background": "light"
     },
     "output_type": "display_data"
    },
    {
     "data": {
      "image/png": "[encoded data removed]",
      "text/plain": [
       "<Figure size 432x288 with 1 Axes>"
      ]
     },
     "metadata": {
      "needs_background": "light"
     },
     "output_type": "display_data"
    },
    {
     "data": {
      "image/png": "[encoded data removed]",
      "text/plain": [
       "<Figure size 432x288 with 1 Axes>"
      ]
     },
     "metadata": {
      "needs_background": "light"
     },
     "output_type": "display_data"
    },
    {
     "data": {
      "image/png": "[encoded data removed]",
      "text/plain": [
       "<Figure size 432x288 with 1 Axes>"
      ]
     },
     "metadata": {
      "needs_background": "light"
     },
     "output_type": "display_data"
    },
    {
     "data": {
      "image/png": "[encoded data removed]",
      "text/plain": [
       "<Figure size 432x288 with 1 Axes>"
      ]
     },
     "metadata": {
      "needs_background": "light"
     },
     "output_type": "display_data"
    },
    {
     "data": {
      "image/png": "[encoded data removed]",
      "text/plain": [
       "<Figure size 432x288 with 1 Axes>"
      ]
     },
     "metadata": {
      "needs_background": "light"
     },
     "output_type": "display_data"
    },
    {
     "data": {
      "image/png": "[encoded data removed]",
      "text/plain": [
       "<Figure size 432x288 with 1 Axes>"
      ]
     },
     "metadata": {
      "needs_background": "light"
     },
     "output_type": "display_data"
    },
    {
     "data": {
      "image/png": "[encoded data removed]",
      "text/plain": [
       "<Figure size 432x288 with 1 Axes>"
      ]
     },
     "metadata": {
      "needs_background": "light"
     },
     "output_type": "display_data"
    }
   ],
   "source": [
    "columns = df_customer_id[['product_quantity', 'total_quantity', 'avg_price', 'year', 'month', 'revenue_per_customer', \n",
    "                          'favorite_category_numeric','avg_price_per_category', 'revenue_per_category', 'recency']]\n",
    "for i in columns:\n",
    "    df_customer_id[i].hist(bins = 100)\n",
    "    plt.title(i)\n",
    "    plt.show()"
   ]
  },
  {
   "cell_type": "code",
   "execution_count": null,
   "metadata": {},
   "outputs": [],
   "source": []
  },
  {
   "cell_type": "markdown",
   "metadata": {
    "id": "cneK5ATTyZ3R"
   },
   "source": [
    "**Посмотрим на средние значения признаков для кластеров, построим распределения признаков для кластеров**"
   ]
  },
  {
   "cell_type": "code",
   "execution_count": 43,
   "metadata": {},
   "outputs": [
    {
     "data": {
      "text/html": [
       "<div>\n",
       "<style scoped>\n",
       "    .dataframe tbody tr th:only-of-type {\n",
       "        vertical-align: middle;\n",
       "    }\n",
       "\n",
       "    .dataframe tbody tr th {\n",
       "        vertical-align: top;\n",
       "    }\n",
       "\n",
       "    .dataframe thead th {\n",
       "        text-align: right;\n",
       "    }\n",
       "</style>\n",
       "<table border=\"1\" class=\"dataframe\">\n",
       "  <thead>\n",
       "    <tr style=\"text-align: right;\">\n",
       "      <th>cluster</th>\n",
       "      <th>0</th>\n",
       "      <th>1</th>\n",
       "    </tr>\n",
       "  </thead>\n",
       "  <tbody>\n",
       "    <tr>\n",
       "      <th>product_quantity</th>\n",
       "      <td>2.487</td>\n",
       "      <td>6.718</td>\n",
       "    </tr>\n",
       "    <tr>\n",
       "      <th>total_quantity</th>\n",
       "      <td>5.350</td>\n",
       "      <td>17.238</td>\n",
       "    </tr>\n",
       "    <tr>\n",
       "      <th>avg_price</th>\n",
       "      <td>755.660</td>\n",
       "      <td>855.172</td>\n",
       "    </tr>\n",
       "    <tr>\n",
       "      <th>year</th>\n",
       "      <td>2018.999</td>\n",
       "      <td>2018.002</td>\n",
       "    </tr>\n",
       "    <tr>\n",
       "      <th>month</th>\n",
       "      <td>5.303</td>\n",
       "      <td>11.072</td>\n",
       "    </tr>\n",
       "    <tr>\n",
       "      <th>revenue_per_customer</th>\n",
       "      <td>1585.004</td>\n",
       "      <td>4993.668</td>\n",
       "    </tr>\n",
       "    <tr>\n",
       "      <th>favorite_category_numeric</th>\n",
       "      <td>2.196</td>\n",
       "      <td>2.307</td>\n",
       "    </tr>\n",
       "    <tr>\n",
       "      <th>avg_price_per_category</th>\n",
       "      <td>755.378</td>\n",
       "      <td>856.833</td>\n",
       "    </tr>\n",
       "    <tr>\n",
       "      <th>revenue_per_category</th>\n",
       "      <td>10039.606</td>\n",
       "      <td>231432.786</td>\n",
       "    </tr>\n",
       "    <tr>\n",
       "      <th>recency</th>\n",
       "      <td>157.722</td>\n",
       "      <td>345.706</td>\n",
       "    </tr>\n",
       "  </tbody>\n",
       "</table>\n",
       "</div>"
      ],
      "text/plain": [
       "cluster                            0           1\n",
       "product_quantity               2.487       6.718\n",
       "total_quantity                 5.350      17.238\n",
       "avg_price                    755.660     855.172\n",
       "year                        2018.999    2018.002\n",
       "month                          5.303      11.072\n",
       "revenue_per_customer        1585.004    4993.668\n",
       "favorite_category_numeric      2.196       2.307\n",
       "avg_price_per_category       755.378     856.833\n",
       "revenue_per_category       10039.606  231432.786\n",
       "recency                      157.722     345.706"
      ]
     },
     "execution_count": 43,
     "metadata": {},
     "output_type": "execute_result"
    }
   ],
   "source": [
    "df_customer_id.groupby(['cluster']).mean().round(3).T"
   ]
  },
  {
   "cell_type": "code",
   "execution_count": 44,
   "metadata": {},
   "outputs": [
    {
     "data": {
      "text/html": [
       "<div>\n",
       "<style scoped>\n",
       "    .dataframe tbody tr th:only-of-type {\n",
       "        vertical-align: middle;\n",
       "    }\n",
       "\n",
       "    .dataframe tbody tr th {\n",
       "        vertical-align: top;\n",
       "    }\n",
       "\n",
       "    .dataframe thead th {\n",
       "        text-align: right;\n",
       "    }\n",
       "</style>\n",
       "<table border=\"1\" class=\"dataframe\">\n",
       "  <thead>\n",
       "    <tr style=\"text-align: right;\">\n",
       "      <th>cluster</th>\n",
       "      <th>0</th>\n",
       "      <th>1</th>\n",
       "    </tr>\n",
       "  </thead>\n",
       "  <tbody>\n",
       "    <tr>\n",
       "      <th>product_quantity</th>\n",
       "      <td>1.0</td>\n",
       "      <td>1.0</td>\n",
       "    </tr>\n",
       "    <tr>\n",
       "      <th>total_quantity</th>\n",
       "      <td>1.0</td>\n",
       "      <td>1.0</td>\n",
       "    </tr>\n",
       "    <tr>\n",
       "      <th>avg_price</th>\n",
       "      <td>299.0</td>\n",
       "      <td>449.0</td>\n",
       "    </tr>\n",
       "    <tr>\n",
       "      <th>year</th>\n",
       "      <td>2019.0</td>\n",
       "      <td>2018.0</td>\n",
       "    </tr>\n",
       "    <tr>\n",
       "      <th>month</th>\n",
       "      <td>5.0</td>\n",
       "      <td>11.0</td>\n",
       "    </tr>\n",
       "    <tr>\n",
       "      <th>revenue_per_customer</th>\n",
       "      <td>727.0</td>\n",
       "      <td>974.0</td>\n",
       "    </tr>\n",
       "    <tr>\n",
       "      <th>favorite_category_numeric</th>\n",
       "      <td>2.0</td>\n",
       "      <td>2.0</td>\n",
       "    </tr>\n",
       "    <tr>\n",
       "      <th>avg_price_per_category</th>\n",
       "      <td>299.0</td>\n",
       "      <td>449.0</td>\n",
       "    </tr>\n",
       "    <tr>\n",
       "      <th>revenue_per_category</th>\n",
       "      <td>871.0</td>\n",
       "      <td>1162.0</td>\n",
       "    </tr>\n",
       "    <tr>\n",
       "      <th>recency</th>\n",
       "      <td>167.0</td>\n",
       "      <td>346.0</td>\n",
       "    </tr>\n",
       "  </tbody>\n",
       "</table>\n",
       "</div>"
      ],
      "text/plain": [
       "cluster                         0       1\n",
       "product_quantity              1.0     1.0\n",
       "total_quantity                1.0     1.0\n",
       "avg_price                   299.0   449.0\n",
       "year                       2019.0  2018.0\n",
       "month                         5.0    11.0\n",
       "revenue_per_customer        727.0   974.0\n",
       "favorite_category_numeric     2.0     2.0\n",
       "avg_price_per_category      299.0   449.0\n",
       "revenue_per_category        871.0  1162.0\n",
       "recency                     167.0   346.0"
      ]
     },
     "execution_count": 44,
     "metadata": {},
     "output_type": "execute_result"
    }
   ],
   "source": [
    "df_customer_id.groupby(['cluster']).median().round(3).T"
   ]
  },
  {
   "cell_type": "code",
   "execution_count": 45,
   "metadata": {
    "scrolled": false
   },
   "outputs": [
    {
     "data": {
      "image/png": "[encoded data removed]",
      "text/plain": [
       "<Figure size 1440x720 with 1 Axes>"
      ]
     },
     "metadata": {
      "needs_background": "light"
     },
     "output_type": "display_data"
    },
    {
     "data": {
      "image/png": "[encoded data removed]",
      "text/plain": [
       "<Figure size 1440x720 with 1 Axes>"
      ]
     },
     "metadata": {
      "needs_background": "light"
     },
     "output_type": "display_data"
    },
    {
     "data": {
      "image/png": "[encoded data removed]",
      "text/plain": [
       "<Figure size 1440x720 with 1 Axes>"
      ]
     },
     "metadata": {
      "needs_background": "light"
     },
     "output_type": "display_data"
    },
    {
     "data": {
      "image/png": "[encoded data removed]",
      "text/plain": [
       "<Figure size 1440x720 with 1 Axes>"
      ]
     },
     "metadata": {
      "needs_background": "light"
     },
     "output_type": "display_data"
    },
    {
     "data": {
      "image/png": "[encoded data removed]",
      "text/plain": [
       "<Figure size 1440x720 with 1 Axes>"
      ]
     },
     "metadata": {
      "needs_background": "light"
     },
     "output_type": "display_data"
    },
    {
     "data": {
      "image/png": "[encoded data removed]",
      "text/plain": [
       "<Figure size 1440x720 with 1 Axes>"
      ]
     },
     "metadata": {
      "needs_background": "light"
     },
     "output_type": "display_data"
    },
    {
     "data": {
      "image/png": "[encoded data removed]",
      "text/plain": [
       "<Figure size 1440x720 with 1 Axes>"
      ]
     },
     "metadata": {
      "needs_background": "light"
     },
     "output_type": "display_data"
    },
    {
     "data": {
      "image/png": "[encoded data removed]",
      "text/plain": [
       "<Figure size 1440x720 with 1 Axes>"
      ]
     },
     "metadata": {
      "needs_background": "light"
     },
     "output_type": "display_data"
    },
    {
     "data": {
      "image/png": "[encoded data removed]",
      "text/plain": [
       "<Figure size 1440x720 with 1 Axes>"
      ]
     },
     "metadata": {
      "needs_background": "light"
     },
     "output_type": "display_data"
    },
    {
     "data": {
      "image/png": "[encoded data removed]",
      "text/plain": [
       "<Figure size 1440x720 with 1 Axes>"
      ]
     },
     "metadata": {
      "needs_background": "light"
     },
     "output_type": "display_data"
    }
   ],
   "source": [
    "# Строим распределения для признаков\n",
    "\n",
    "columns_categorical = ['year', 'month', 'favorite_category_numeric']\n",
    "\n",
    "for column in columns_categorical:\n",
    "    plt.figure(figsize = (20,10))\n",
    "    plt.title('Распределение признака {} по кластерам'.format(column), fontsize = 15)\n",
    "    sns.countplot(data = df_customer_id, x = column, hue = 'cluster')\n",
    "    plt.show()\n",
    "\n",
    "\n",
    "columns_continuous = ['product_quantity', 'total_quantity', 'avg_price', 'revenue_per_customer', 'avg_price_per_category',\n",
    "                      'revenue_per_category', 'recency']\n",
    "\n",
    "for column in columns_continuous:\n",
    "    plt.figure(figsize = (20,10))\n",
    "    plt.title('Распределение признака {} по кластерам'.format(column), fontsize = 15)\n",
    "    sns.boxplot(x ='cluster', y = column, data = df_customer_id)\n",
    "    plt.show()"
   ]
  },
  {
   "cell_type": "markdown",
   "metadata": {
    "id": "G9C3BTb8yeDE"
   },
   "source": [
    "# 4.1. Сегментация пользователей и проверка гипотез: выводы<a id=\"segmentation_end\"></a>"
   ]
  },
  {
   "cell_type": "markdown",
   "metadata": {},
   "source": [
    "**Кластер 0:**\n",
    "- Среднее количество заказанных товаров в транзакции равно 1 \n",
    "- Среднее количество всех купленных товаров равно 1\n",
    "- Средняя цена товара равна 300 у.е.\n",
    "- Потребители данного кластера совершали покупки и в 2018, и в 2019 году\n",
    "- Потребители этого кластера совершали покупки больше всего в феврале, марте и апреле\n",
    "- Средняя выручка на пользователя равна 727 у.е.\n",
    "- Потребители из кластера 0 покупают продукты из всех категорий\n",
    "- Потребители из кластера 0 покупают больше всего товаров категории растения\n",
    "- В среднем давность последней транзакции равна 167 дням\n",
    "\n",
    "**Рекомендация для кластера 0**\n",
    "- Таргетированную рекламу лучше проводить в феврале-апреле, запускать ее на товары категории растения по цене около 300 рублей\n",
    "\n",
    "\n",
    "**Кластер 1:**\n",
    "- Среднее количество заказанных товаров в транзакции равно 1 \n",
    "- Среднее количество всех купленных товаров равно 1\n",
    "- Средняя цена товара равна 450 у.е.\n",
    "- Потребители данного кластера совершали покупки в 2018 году\n",
    "- Больше всего покупок потребители этого кластера совершали в октябре, ноябре и декабре\n",
    "- Средняя выручка на пользователя равна 974 у.е.\n",
    "- Потребители из кластера 1 покупают продукты из всех категорий\n",
    "- Потребители из кластера 1 покупают больше всего товаров для дома\n",
    "- В среднем давность последней транзакции равна 346 дням\n",
    "\n",
    "**Рекомендация для кластера 1**\n",
    "- Таргетированную рекламу лучше проводить в октябре, ноябре и декабре, запускать ее на товары для дома по цене около 450 рублей"
   ]
  },
  {
   "cell_type": "code",
   "execution_count": null,
   "metadata": {},
   "outputs": [],
   "source": []
  }
 ],
 "metadata": {
  "ExecuteTimeLog": [
   {
    "duration": 1210,
    "start_time": "2022-02-19T11:22:11.337Z"
   },
   {
    "duration": 1298,
    "start_time": "2022-02-19T11:22:12.548Z"
   },
   {
    "duration": 10,
    "start_time": "2022-02-19T11:22:13.848Z"
   },
   {
    "duration": 33,
    "start_time": "2022-02-19T11:22:13.860Z"
   },
   {
    "duration": 26,
    "start_time": "2022-02-19T11:22:13.894Z"
   },
   {
    "duration": 41,
    "start_time": "2022-02-19T11:22:13.922Z"
   },
   {
    "duration": 41,
    "start_time": "2022-02-19T11:22:13.965Z"
   },
   {
    "duration": 30,
    "start_time": "2022-02-19T11:22:14.010Z"
   },
   {
    "duration": 29,
    "start_time": "2022-02-19T11:22:14.042Z"
   },
   {
    "duration": 26,
    "start_time": "2022-02-19T11:22:14.073Z"
   },
   {
    "duration": 9,
    "start_time": "2022-02-19T11:22:14.103Z"
   },
   {
    "duration": 29,
    "start_time": "2022-02-19T11:22:14.113Z"
   },
   {
    "duration": 35,
    "start_time": "2022-02-19T11:22:14.144Z"
   },
   {
    "duration": 11,
    "start_time": "2022-02-19T11:22:14.181Z"
   },
   {
    "duration": 147,
    "start_time": "2022-02-19T11:22:14.194Z"
   },
   {
    "duration": 9,
    "start_time": "2022-02-19T11:22:14.342Z"
   },
   {
    "duration": 32,
    "start_time": "2022-02-19T11:22:14.358Z"
   },
   {
    "duration": 18,
    "start_time": "2022-02-19T11:22:14.392Z"
   },
   {
    "duration": 13,
    "start_time": "2022-02-19T11:22:14.412Z"
   },
   {
    "duration": 31,
    "start_time": "2022-02-19T11:22:14.426Z"
   },
   {
    "duration": 894,
    "start_time": "2022-02-19T11:22:14.459Z"
   },
   {
    "duration": 37,
    "start_time": "2022-02-19T11:22:15.355Z"
   },
   {
    "duration": 88,
    "start_time": "2022-02-19T11:22:15.397Z"
   },
   {
    "duration": 15,
    "start_time": "2022-02-19T11:22:15.488Z"
   },
   {
    "duration": 234,
    "start_time": "2022-02-19T11:22:15.505Z"
   },
   {
    "duration": 22,
    "start_time": "2022-02-19T11:22:15.741Z"
   },
   {
    "duration": 525,
    "start_time": "2022-02-19T11:22:15.765Z"
   },
   {
    "duration": 24,
    "start_time": "2022-02-19T11:22:16.293Z"
   },
   {
    "duration": 240,
    "start_time": "2022-02-19T11:22:16.319Z"
   },
   {
    "duration": 9,
    "start_time": "2022-02-19T11:22:16.561Z"
   },
   {
    "duration": 675,
    "start_time": "2022-02-19T11:22:16.571Z"
   },
   {
    "duration": 69,
    "start_time": "2022-02-19T11:22:17.248Z"
   },
   {
    "duration": 265,
    "start_time": "2022-02-19T11:22:17.319Z"
   },
   {
    "duration": 9,
    "start_time": "2022-02-19T11:22:17.586Z"
   },
   {
    "duration": 203,
    "start_time": "2022-02-19T11:22:17.597Z"
   },
   {
    "duration": 8,
    "start_time": "2022-02-19T11:22:17.802Z"
   },
   {
    "duration": 584,
    "start_time": "2022-02-19T11:22:17.811Z"
   },
   {
    "duration": 39,
    "start_time": "2022-02-19T11:22:18.397Z"
   },
   {
    "duration": 239,
    "start_time": "2022-02-19T11:22:18.438Z"
   },
   {
    "duration": 10,
    "start_time": "2022-02-19T11:22:18.679Z"
   },
   {
    "duration": 222,
    "start_time": "2022-02-19T11:22:18.691Z"
   },
   {
    "duration": 8,
    "start_time": "2022-02-19T11:22:18.915Z"
   },
   {
    "duration": 514,
    "start_time": "2022-02-19T11:22:18.925Z"
   },
   {
    "duration": 47,
    "start_time": "2022-02-19T11:22:19.440Z"
   },
   {
    "duration": 221,
    "start_time": "2022-02-19T11:22:19.488Z"
   },
   {
    "duration": 17,
    "start_time": "2022-02-19T11:22:19.710Z"
   },
   {
    "duration": 429,
    "start_time": "2022-02-19T11:22:19.729Z"
   },
   {
    "duration": 417,
    "start_time": "2022-02-19T11:22:20.160Z"
   },
   {
    "duration": 425,
    "start_time": "2022-02-19T11:22:20.579Z"
   },
   {
    "duration": 150331,
    "start_time": "2022-02-19T11:22:21.005Z"
   },
   {
    "duration": 432,
    "start_time": "2022-02-19T11:24:51.338Z"
   },
   {
    "duration": 32,
    "start_time": "2022-02-19T11:24:51.772Z"
   },
   {
    "duration": 4145,
    "start_time": "2022-02-19T11:24:51.860Z"
   },
   {
    "duration": 16,
    "start_time": "2022-02-19T11:24:56.007Z"
   },
   {
    "duration": 6065,
    "start_time": "2022-02-19T11:24:56.025Z"
   },
   {
    "duration": 21,
    "start_time": "2022-02-19T11:25:02.093Z"
   },
   {
    "duration": 146,
    "start_time": "2022-02-19T11:25:02.118Z"
   },
   {
    "duration": 119,
    "start_time": "2022-02-19T11:25:02.266Z"
   },
   {
    "duration": 52,
    "start_time": "2022-02-19T11:25:02.388Z"
   },
   {
    "duration": 12,
    "start_time": "2022-02-19T11:25:02.441Z"
   },
   {
    "duration": 14,
    "start_time": "2022-02-19T11:25:03.706Z"
   },
   {
    "duration": 9,
    "start_time": "2022-02-19T11:27:09.469Z"
   },
   {
    "duration": 9,
    "start_time": "2022-02-19T11:27:13.653Z"
   },
   {
    "duration": 9,
    "start_time": "2022-02-19T11:27:17.687Z"
   },
   {
    "duration": 10,
    "start_time": "2022-02-19T11:27:29.811Z"
   },
   {
    "duration": 8,
    "start_time": "2022-02-19T11:27:38.943Z"
   },
   {
    "duration": 12,
    "start_time": "2022-02-19T11:28:00.873Z"
   },
   {
    "duration": 11,
    "start_time": "2022-02-19T11:28:21.003Z"
   },
   {
    "duration": 5,
    "start_time": "2022-02-19T11:30:40.714Z"
   },
   {
    "duration": 18,
    "start_time": "2022-02-19T11:30:50.343Z"
   },
   {
    "duration": 20,
    "start_time": "2022-02-19T11:30:55.151Z"
   },
   {
    "duration": 12,
    "start_time": "2022-02-19T11:31:01.400Z"
   },
   {
    "duration": 1250,
    "start_time": "2022-02-23T09:39:43.290Z"
   },
   {
    "duration": 1489,
    "start_time": "2022-02-23T09:39:44.542Z"
   },
   {
    "duration": 9,
    "start_time": "2022-02-23T09:39:46.032Z"
   },
   {
    "duration": 54,
    "start_time": "2022-02-23T09:39:46.043Z"
   },
   {
    "duration": 9,
    "start_time": "2022-02-23T09:39:46.099Z"
   },
   {
    "duration": 17,
    "start_time": "2022-02-23T09:39:46.110Z"
   },
   {
    "duration": 24,
    "start_time": "2022-02-23T09:39:46.128Z"
   },
   {
    "duration": 32,
    "start_time": "2022-02-23T09:39:46.154Z"
   },
   {
    "duration": 24,
    "start_time": "2022-02-23T09:39:46.189Z"
   },
   {
    "duration": 24,
    "start_time": "2022-02-23T09:39:46.215Z"
   },
   {
    "duration": 16,
    "start_time": "2022-02-23T09:39:46.241Z"
   },
   {
    "duration": 45,
    "start_time": "2022-02-23T09:39:46.259Z"
   },
   {
    "duration": 5,
    "start_time": "2022-02-23T09:39:46.306Z"
   },
   {
    "duration": 172,
    "start_time": "2022-02-23T09:39:46.313Z"
   },
   {
    "duration": 10,
    "start_time": "2022-02-23T09:39:46.487Z"
   },
   {
    "duration": 22,
    "start_time": "2022-02-23T09:39:46.498Z"
   },
   {
    "duration": 16,
    "start_time": "2022-02-23T09:39:46.521Z"
   },
   {
    "duration": 30,
    "start_time": "2022-02-23T09:39:46.539Z"
   },
   {
    "duration": 16,
    "start_time": "2022-02-23T09:39:46.571Z"
   },
   {
    "duration": 12,
    "start_time": "2022-02-23T09:39:46.589Z"
   },
   {
    "duration": 8,
    "start_time": "2022-02-23T09:39:46.602Z"
   },
   {
    "duration": 10,
    "start_time": "2022-02-23T09:39:46.612Z"
   },
   {
    "duration": 12,
    "start_time": "2022-02-23T09:39:46.623Z"
   },
   {
    "duration": 28,
    "start_time": "2022-02-23T09:39:46.638Z"
   },
   {
    "duration": 6,
    "start_time": "2022-02-23T09:39:46.668Z"
   },
   {
    "duration": 12,
    "start_time": "2022-02-23T09:39:46.676Z"
   },
   {
    "duration": 17,
    "start_time": "2022-02-23T09:39:46.691Z"
   },
   {
    "duration": 943,
    "start_time": "2022-02-23T09:39:46.710Z"
   },
   {
    "duration": 31,
    "start_time": "2022-02-23T09:39:47.655Z"
   },
   {
    "duration": 91,
    "start_time": "2022-02-23T09:39:47.688Z"
   },
   {
    "duration": 15,
    "start_time": "2022-02-23T09:39:47.781Z"
   },
   {
    "duration": 242,
    "start_time": "2022-02-23T09:39:47.798Z"
   },
   {
    "duration": 23,
    "start_time": "2022-02-23T09:39:48.042Z"
   },
   {
    "duration": 558,
    "start_time": "2022-02-23T09:39:48.068Z"
   },
   {
    "duration": 33,
    "start_time": "2022-02-23T09:39:48.628Z"
   },
   {
    "duration": 443,
    "start_time": "2022-02-23T09:39:48.663Z"
   },
   {
    "duration": 32,
    "start_time": "2022-02-23T09:39:49.108Z"
   },
   {
    "duration": 58137,
    "start_time": "2022-02-23T09:39:49.142Z"
   },
   {
    "duration": 680,
    "start_time": "2022-02-23T09:40:47.281Z"
   },
   {
    "duration": 381,
    "start_time": "2022-02-23T09:40:47.964Z"
   },
   {
    "duration": 4354,
    "start_time": "2022-02-23T09:40:48.347Z"
   },
   {
    "duration": 4198,
    "start_time": "2022-02-23T09:40:52.703Z"
   },
   {
    "duration": 13,
    "start_time": "2022-02-23T09:40:56.903Z"
   },
   {
    "duration": 13,
    "start_time": "2022-02-23T09:40:56.918Z"
   },
   {
    "duration": 3867,
    "start_time": "2022-02-23T09:40:56.933Z"
   }
  ],
  "colab": {
   "collapsed_sections": [],
   "name": "Final_project.ipynb",
   "provenance": []
  },
  "kernelspec": {
   "display_name": "Python 3",
   "language": "python",
   "name": "python3"
  },
  "language_info": {
   "codemirror_mode": {
    "name": "ipython",
    "version": 3
   },
   "file_extension": ".py",
   "mimetype": "text/x-python",
   "name": "python",
   "nbconvert_exporter": "python",
   "pygments_lexer": "ipython3",
   "version": "3.7.6"
  },
  "toc": {
   "base_numbering": 1,
   "nav_menu": {},
   "number_sections": true,
   "sideBar": true,
   "skip_h1_title": true,
   "title_cell": "Table of Contents",
   "title_sidebar": "Contents",
   "toc_cell": false,
   "toc_position": {},
   "toc_section_display": true,
   "toc_window_display": false
  }
 },
 "nbformat": 4,
 "nbformat_minor": 1
}
